{
 "cells": [
  {
   "cell_type": "code",
   "execution_count": 1,
   "metadata": {
    "papermill": {
     "duration": 1.284803,
     "end_time": "2019-11-23T05:47:26.243293",
     "exception": false,
     "start_time": "2019-11-23T05:47:24.958490",
     "status": "completed"
    },
    "tags": []
   },
   "outputs": [],
   "source": [
    "%load_ext autoreload\n",
    "%autoreload 2\n",
    "%matplotlib inline  \n",
    "from IPython.display import HTML"
   ]
  },
  {
   "cell_type": "code",
   "execution_count": 2,
   "metadata": {
    "papermill": {
     "duration": 2.529715,
     "end_time": "2019-11-23T05:47:28.802477",
     "exception": false,
     "start_time": "2019-11-23T05:47:26.272762",
     "status": "completed"
    },
    "tags": []
   },
   "outputs": [],
   "source": [
    "from sklearn.metrics import f1_score, roc_auc_score, average_precision_score, precision_score, recall_score\n",
    "import pandas\n",
    "import numpy as np\n",
    "import json\n",
    "import matplotlib.pyplot as plt\n",
    "import os\n",
    "\n",
    "pandas.options.display.float_format = '{:,.3f}'.format"
   ]
  },
  {
   "cell_type": "code",
   "execution_count": 3,
   "metadata": {
    "papermill": {
     "duration": 5.970808,
     "end_time": "2019-11-23T05:47:34.806242",
     "exception": false,
     "start_time": "2019-11-23T05:47:28.835434",
     "status": "completed"
    },
    "tags": []
   },
   "outputs": [
    {
     "name": "stderr",
     "output_type": "stream",
     "text": [
      "Using TensorFlow backend.\n"
     ]
    },
    {
     "name": "stderr",
     "output_type": "stream",
     "text": [
      "/home/intrepidlemon/.local/share/virtualenvs/deep-ultrasound-eb7oaR1r/lib/python3.6/site-packages/tensorflow/python/framework/dtypes.py:523: FutureWarning: Passing (type, 1) or '1type' as a synonym of type is deprecated; in a future version of numpy, it will be understood as (type, (1,)) / '(1,)type'.\n",
      "  _np_qint8 = np.dtype([(\"qint8\", np.int8, 1)])\n",
      "/home/intrepidlemon/.local/share/virtualenvs/deep-ultrasound-eb7oaR1r/lib/python3.6/site-packages/tensorflow/python/framework/dtypes.py:524: FutureWarning: Passing (type, 1) or '1type' as a synonym of type is deprecated; in a future version of numpy, it will be understood as (type, (1,)) / '(1,)type'.\n",
      "  _np_quint8 = np.dtype([(\"quint8\", np.uint8, 1)])\n",
      "/home/intrepidlemon/.local/share/virtualenvs/deep-ultrasound-eb7oaR1r/lib/python3.6/site-packages/tensorflow/python/framework/dtypes.py:525: FutureWarning: Passing (type, 1) or '1type' as a synonym of type is deprecated; in a future version of numpy, it will be understood as (type, (1,)) / '(1,)type'.\n",
      "  _np_qint16 = np.dtype([(\"qint16\", np.int16, 1)])\n",
      "/home/intrepidlemon/.local/share/virtualenvs/deep-ultrasound-eb7oaR1r/lib/python3.6/site-packages/tensorflow/python/framework/dtypes.py:526: FutureWarning: Passing (type, 1) or '1type' as a synonym of type is deprecated; in a future version of numpy, it will be understood as (type, (1,)) / '(1,)type'.\n",
      "  _np_quint16 = np.dtype([(\"quint16\", np.uint16, 1)])\n",
      "/home/intrepidlemon/.local/share/virtualenvs/deep-ultrasound-eb7oaR1r/lib/python3.6/site-packages/tensorflow/python/framework/dtypes.py:527: FutureWarning: Passing (type, 1) or '1type' as a synonym of type is deprecated; in a future version of numpy, it will be understood as (type, (1,)) / '(1,)type'.\n",
      "  _np_qint32 = np.dtype([(\"qint32\", np.int32, 1)])\n",
      "/home/intrepidlemon/.local/share/virtualenvs/deep-ultrasound-eb7oaR1r/lib/python3.6/site-packages/tensorflow/python/framework/dtypes.py:532: FutureWarning: Passing (type, 1) or '1type' as a synonym of type is deprecated; in a future version of numpy, it will be understood as (type, (1,)) / '(1,)type'.\n",
      "  np_resource = np.dtype([(\"resource\", np.ubyte, 1)])\n"
     ]
    }
   ],
   "source": [
    "from evaluate import load, get_results, get_labels, transform_binary_probabilities, transform_binary_predictions, calculate_accuracy_loss, plot_confusion_matrix, plot_precision_recall, plot_roc_curve, calculate_pr_auc, calculate_confusion_matrix_stats, calculate_confusion_matrix, plot_tsne, accession_from_filename, plot_expert_confusion, plot_multiple_grad_cam, get_expert_results"
   ]
  },
  {
   "cell_type": "code",
   "execution_count": 4,
   "metadata": {
    "papermill": {
     "duration": 1.331369,
     "end_time": "2019-11-23T05:47:36.172210",
     "exception": false,
     "start_time": "2019-11-23T05:47:34.840841",
     "status": "completed"
    },
    "tags": []
   },
   "outputs": [],
   "source": [
    "from data import describe, all_features, data, print_describe, load_single\n",
    "from run import characterize_data\n",
    "from config import config"
   ]
  },
  {
   "cell_type": "markdown",
   "metadata": {
    "papermill": {
     "duration": 0.032579,
     "end_time": "2019-11-23T05:47:36.236528",
     "exception": false,
     "start_time": "2019-11-23T05:47:36.203949",
     "status": "completed"
    },
    "tags": []
   },
   "source": [
    "# Parameters"
   ]
  },
  {
   "cell_type": "code",
   "execution_count": 5,
   "metadata": {
    "papermill": {
     "duration": 0.086203,
     "end_time": "2019-11-23T05:47:36.360182",
     "exception": false,
     "start_time": "2019-11-23T05:47:36.273979",
     "status": "completed"
    },
    "tags": [
     "parameters"
    ]
   },
   "outputs": [],
   "source": [
    "DIRECTORY = os.path.join(os.environ[\"DATA_DIR\"], \"liver-ultrasound\")\n",
    "MODEL_UUID = \"04cfb42d-3e0b-4516-aa85-56f19cb4d6b9\"\n",
    "MODEL_TYPE = \"v2\"\n",
    "SELECTIONS = \"None\"\n",
    "PARAMETERS_ID = \"parameters\""
   ]
  },
  {
   "cell_type": "code",
   "execution_count": 6,
   "metadata": {
    "papermill": {
     "duration": 0.087322,
     "end_time": "2019-11-23T05:47:36.495125",
     "exception": false,
     "start_time": "2019-11-23T05:47:36.407803",
     "status": "completed"
    },
    "tags": [
     "injected-parameters"
    ]
   },
   "outputs": [],
   "source": [
    "# Parameters\n",
    "DIRECTORY = \"/media/user1/my4TB/intrepidlemon/liver-ultrasound/c3-c4-free\"\n",
    "MODEL_UUID = \"9eecc121-a682-4be8-9aa1-f43f4a8b69a7\"\n",
    "MODEL_TYPE = \"v2\"\n",
    "SELECTIONS = \"[]\"\n",
    "PARAMETERS_ID = \"free-uncertain\"\n"
   ]
  },
  {
   "cell_type": "code",
   "execution_count": 7,
   "metadata": {
    "papermill": {
     "duration": 0.070553,
     "end_time": "2019-11-23T05:47:36.601362",
     "exception": false,
     "start_time": "2019-11-23T05:47:36.530809",
     "status": "completed"
    },
    "tags": []
   },
   "outputs": [],
   "source": [
    "SELECTIONS = eval(SELECTIONS)\n",
    "FEATURES = config.FEATURES\n",
    "RAW = \"{}/raw\".format(DIRECTORY)\n",
    "TRAIN = \"{}/train\".format(DIRECTORY)\n",
    "VALIDATION = \"{}/validation\".format(DIRECTORY)\n",
    "MODEL = \"{}/models/{}-{}.h5\".format(config.OUTPUT, MODEL_UUID, MODEL_TYPE)"
   ]
  },
  {
   "cell_type": "markdown",
   "metadata": {
    "papermill": {
     "duration": 0.020067,
     "end_time": "2019-11-23T05:47:36.655657",
     "exception": false,
     "start_time": "2019-11-23T05:47:36.635590",
     "status": "completed"
    },
    "tags": []
   },
   "source": [
    "## Lesion descriptions"
   ]
  },
  {
   "cell_type": "code",
   "execution_count": 8,
   "metadata": {
    "papermill": {
     "duration": 0.545504,
     "end_time": "2019-11-23T05:47:37.220634",
     "exception": false,
     "start_time": "2019-11-23T05:47:36.675130",
     "status": "completed"
    },
    "scrolled": true,
    "tags": []
   },
   "outputs": [
    {
     "name": "stdout",
     "output_type": "stream",
     "text": [
      "Found 314 images belonging to 2 classes.\n",
      "Found 314 images belonging to 2 classes.\n"
     ]
    },
    {
     "name": "stdout",
     "output_type": "stream",
     "text": [
      "Found 80 images belonging to 2 classes.\n",
      "Found 82 images belonging to 2 classes.\n"
     ]
    }
   ],
   "source": [
    "train, validation, test = data(shuffle_train=False, validation_dir=VALIDATION, train_dir=TRAIN)"
   ]
  },
  {
   "cell_type": "code",
   "execution_count": 9,
   "metadata": {
    "papermill": {
     "duration": 0.072058,
     "end_time": "2019-11-23T05:47:37.319208",
     "exception": false,
     "start_time": "2019-11-23T05:47:37.247150",
     "status": "completed"
    },
    "tags": []
   },
   "outputs": [
    {
     "name": "stdout",
     "output_type": "stream",
     "text": [
      "training data breakdown:  {'benign': 153, 'malignant': 161}\n",
      "validation data breakdown:  {'benign': 33, 'malignant': 47}\n",
      "validation data breakdown:  {'benign': 41, 'malignant': 41}\n"
     ]
    }
   ],
   "source": [
    "print(\"training data breakdown: \", characterize_data(train))\n",
    "print(\"validation data breakdown: \", characterize_data(validation))\n",
    "print(\"validation data breakdown: \", characterize_data(test))"
   ]
  },
  {
   "cell_type": "code",
   "execution_count": 10,
   "metadata": {
    "papermill": {
     "duration": 0.07336,
     "end_time": "2019-11-23T05:47:37.424997",
     "exception": false,
     "start_time": "2019-11-23T05:47:37.351637",
     "status": "completed"
    },
    "tags": []
   },
   "outputs": [
    {
     "data": {
      "text/plain": [
       "20"
      ]
     },
     "execution_count": 10,
     "metadata": {},
     "output_type": "execute_result"
    }
   ],
   "source": [
    "len(train)"
   ]
  },
  {
   "cell_type": "code",
   "execution_count": 11,
   "metadata": {
    "papermill": {
     "duration": 0.070639,
     "end_time": "2019-11-23T05:47:37.532900",
     "exception": false,
     "start_time": "2019-11-23T05:47:37.462261",
     "status": "completed"
    },
    "tags": []
   },
   "outputs": [
    {
     "name": "stdout",
     "output_type": "stream",
     "text": [
      "80\n"
     ]
    }
   ],
   "source": [
    "print(validation.n)"
   ]
  },
  {
   "cell_type": "code",
   "execution_count": 12,
   "metadata": {
    "papermill": {
     "duration": 27.04193,
     "end_time": "2019-11-23T05:48:04.608327",
     "exception": false,
     "start_time": "2019-11-23T05:47:37.566397",
     "status": "completed"
    },
    "scrolled": true,
    "tags": []
   },
   "outputs": [],
   "source": [
    "model = load(MODEL)"
   ]
  },
  {
   "cell_type": "code",
   "execution_count": 13,
   "metadata": {
    "papermill": {
     "duration": 6.849111,
     "end_time": "2019-11-23T05:48:11.499367",
     "exception": false,
     "start_time": "2019-11-23T05:48:04.650256",
     "status": "completed"
    },
    "tags": []
   },
   "outputs": [],
   "source": [
    "results = get_results(model, test)"
   ]
  },
  {
   "cell_type": "code",
   "execution_count": 14,
   "metadata": {
    "papermill": {
     "duration": 0.112759,
     "end_time": "2019-11-23T05:48:11.657310",
     "exception": false,
     "start_time": "2019-11-23T05:48:11.544551",
     "status": "completed"
    },
    "tags": []
   },
   "outputs": [
    {
     "data": {
      "text/plain": [
       "array([[0.7646021 ],\n",
       "       [0.59620804],\n",
       "       [0.57600725],\n",
       "       [0.46012712],\n",
       "       [0.48930684],\n",
       "       [0.42551544],\n",
       "       [0.44586024],\n",
       "       [0.4757953 ],\n",
       "       [0.5506221 ],\n",
       "       [0.88914025],\n",
       "       [0.4687293 ],\n",
       "       [0.63522965],\n",
       "       [0.534091  ],\n",
       "       [0.43355915],\n",
       "       [0.90786743],\n",
       "       [0.4118545 ],\n",
       "       [0.5713286 ],\n",
       "       [0.57282186],\n",
       "       [0.5971198 ],\n",
       "       [0.5493057 ],\n",
       "       [0.832497  ],\n",
       "       [0.9326068 ],\n",
       "       [0.4445741 ],\n",
       "       [0.41824377],\n",
       "       [0.6667613 ],\n",
       "       [0.38416377],\n",
       "       [0.41230738],\n",
       "       [0.48908678],\n",
       "       [0.38416377],\n",
       "       [0.39558002],\n",
       "       [0.4388857 ],\n",
       "       [0.4304243 ],\n",
       "       [0.7189923 ],\n",
       "       [0.38416377],\n",
       "       [0.49217054],\n",
       "       [0.39771432],\n",
       "       [0.46706453],\n",
       "       [0.6112394 ],\n",
       "       [0.65379345],\n",
       "       [0.47810248],\n",
       "       [0.42030248],\n",
       "       [0.4771456 ],\n",
       "       [0.38416377],\n",
       "       [0.41995972],\n",
       "       [0.56718683],\n",
       "       [0.4388899 ],\n",
       "       [0.5326375 ],\n",
       "       [0.9177396 ],\n",
       "       [0.75987333],\n",
       "       [0.52229184],\n",
       "       [0.92276436],\n",
       "       [0.41442907],\n",
       "       [0.41247272],\n",
       "       [0.7202435 ],\n",
       "       [0.49542117],\n",
       "       [0.53430563],\n",
       "       [0.63500637],\n",
       "       [0.94594765],\n",
       "       [0.85266554],\n",
       "       [0.41683733],\n",
       "       [0.58454704],\n",
       "       [0.74065167],\n",
       "       [0.5984458 ],\n",
       "       [0.7430536 ],\n",
       "       [0.5467178 ],\n",
       "       [0.7161431 ],\n",
       "       [0.72869533],\n",
       "       [0.6578977 ],\n",
       "       [0.68570006],\n",
       "       [0.41932654],\n",
       "       [0.7934454 ],\n",
       "       [0.54686695],\n",
       "       [0.69946367],\n",
       "       [0.6266789 ],\n",
       "       [0.51263237],\n",
       "       [0.7124934 ],\n",
       "       [0.6028223 ],\n",
       "       [0.69331044],\n",
       "       [0.5836773 ],\n",
       "       [0.47019985],\n",
       "       [0.6678274 ],\n",
       "       [0.72737265]], dtype=float32)"
      ]
     },
     "execution_count": 14,
     "metadata": {},
     "output_type": "execute_result"
    }
   ],
   "source": [
    "results"
   ]
  },
  {
   "cell_type": "code",
   "execution_count": 15,
   "metadata": {
    "papermill": {
     "duration": 0.079998,
     "end_time": "2019-11-23T05:48:11.772243",
     "exception": false,
     "start_time": "2019-11-23T05:48:11.692245",
     "status": "completed"
    },
    "tags": []
   },
   "outputs": [],
   "source": [
    "probabilities = transform_binary_probabilities(results)\n",
    "predictions = transform_binary_predictions(results)\n",
    "labels = get_labels(test)"
   ]
  },
  {
   "cell_type": "markdown",
   "metadata": {
    "papermill": {
     "duration": 0.0231,
     "end_time": "2019-11-23T05:48:11.833685",
     "exception": false,
     "start_time": "2019-11-23T05:48:11.810585",
     "status": "completed"
    },
    "tags": []
   },
   "source": [
    "## Accuracy and loss"
   ]
  },
  {
   "cell_type": "code",
   "execution_count": 16,
   "metadata": {
    "papermill": {
     "duration": 1.485191,
     "end_time": "2019-11-23T05:48:13.340682",
     "exception": false,
     "start_time": "2019-11-23T05:48:11.855491",
     "status": "completed"
    },
    "scrolled": false,
    "tags": []
   },
   "outputs": [
    {
     "name": "stdout",
     "output_type": "stream",
     "text": [
      "Accuracy: 0.6585365853658537\n",
      "Loss: 0.6907866728015062\n"
     ]
    }
   ],
   "source": [
    "loss, accuracy = calculate_accuracy_loss(model, test)\n",
    "print(\"Accuracy:\", accuracy)\n",
    "print(\"Loss:\", loss)"
   ]
  },
  {
   "cell_type": "markdown",
   "metadata": {
    "papermill": {
     "duration": 0.033389,
     "end_time": "2019-11-23T05:48:13.411647",
     "exception": false,
     "start_time": "2019-11-23T05:48:13.378258",
     "status": "completed"
    },
    "tags": []
   },
   "source": [
    "## Confusion matrix"
   ]
  },
  {
   "cell_type": "code",
   "execution_count": 17,
   "metadata": {
    "papermill": {
     "duration": 0.462658,
     "end_time": "2019-11-23T05:48:13.914020",
     "exception": false,
     "start_time": "2019-11-23T05:48:13.451362",
     "status": "completed"
    },
    "scrolled": true,
    "tags": []
   },
   "outputs": [
    {
     "data": {
      "image/png": "[encoded data removed]",
      "text/plain": [
       "<Figure size 432x288 with 1 Axes>"
      ]
     },
     "metadata": {},
     "output_type": "display_data"
    }
   ],
   "source": [
    "fig = plot_confusion_matrix(test, results)\n",
    "fig.savefig(\"figures/{}-confusion-matrix.svg\".format(PARAMETERS_ID), bbox_inches = \"tight\")"
   ]
  },
  {
   "cell_type": "code",
   "execution_count": 18,
   "metadata": {
    "papermill": {
     "duration": 0.123269,
     "end_time": "2019-11-23T05:48:14.078258",
     "exception": false,
     "start_time": "2019-11-23T05:48:13.954989",
     "status": "completed"
    },
    "scrolled": true,
    "tags": []
   },
   "outputs": [
    {
     "data": {
      "text/html": [
       "<div>\n",
       "<style scoped>\n",
       "    .dataframe tbody tr th:only-of-type {\n",
       "        vertical-align: middle;\n",
       "    }\n",
       "\n",
       "    .dataframe tbody tr th {\n",
       "        vertical-align: top;\n",
       "    }\n",
       "\n",
       "    .dataframe thead th {\n",
       "        text-align: right;\n",
       "    }\n",
       "</style>\n",
       "<table border=\"1\" class=\"dataframe\">\n",
       "  <thead>\n",
       "    <tr style=\"text-align: right;\">\n",
       "      <th></th>\n",
       "      <th>Acc</th>\n",
       "      <th>TP</th>\n",
       "      <th>TN</th>\n",
       "      <th>FP</th>\n",
       "      <th>FN</th>\n",
       "      <th>TPR</th>\n",
       "      <th>TNR</th>\n",
       "      <th>PPV</th>\n",
       "      <th>NPV</th>\n",
       "      <th>FPR</th>\n",
       "      <th>FNR</th>\n",
       "      <th>FDR</th>\n",
       "    </tr>\n",
       "  </thead>\n",
       "  <tbody>\n",
       "    <tr>\n",
       "      <th>benign</th>\n",
       "      <td>0.659</td>\n",
       "      <td>23</td>\n",
       "      <td>31</td>\n",
       "      <td>10</td>\n",
       "      <td>18</td>\n",
       "      <td>0.561</td>\n",
       "      <td>0.756</td>\n",
       "      <td>0.697</td>\n",
       "      <td>0.633</td>\n",
       "      <td>0.244</td>\n",
       "      <td>0.439</td>\n",
       "      <td>0.303</td>\n",
       "    </tr>\n",
       "    <tr>\n",
       "      <th>malignant</th>\n",
       "      <td>0.659</td>\n",
       "      <td>31</td>\n",
       "      <td>23</td>\n",
       "      <td>18</td>\n",
       "      <td>10</td>\n",
       "      <td>0.756</td>\n",
       "      <td>0.561</td>\n",
       "      <td>0.633</td>\n",
       "      <td>0.697</td>\n",
       "      <td>0.439</td>\n",
       "      <td>0.244</td>\n",
       "      <td>0.367</td>\n",
       "    </tr>\n",
       "  </tbody>\n",
       "</table>\n",
       "</div>"
      ],
      "text/plain": [
       "            Acc  TP  TN  FP  FN   TPR   TNR   PPV   NPV   FPR   FNR   FDR\n",
       "benign    0.659  23  31  10  18 0.561 0.756 0.697 0.633 0.244 0.439 0.303\n",
       "malignant 0.659  31  23  18  10 0.756 0.561 0.633 0.697 0.439 0.244 0.367"
      ]
     },
     "execution_count": 18,
     "metadata": {},
     "output_type": "execute_result"
    }
   ],
   "source": [
    "stats = calculate_confusion_matrix_stats(labels, results)\n",
    "pandas.DataFrame(stats, index=test.class_indices)"
   ]
  },
  {
   "cell_type": "markdown",
   "metadata": {
    "papermill": {
     "duration": 0.021744,
     "end_time": "2019-11-23T05:48:14.136805",
     "exception": false,
     "start_time": "2019-11-23T05:48:14.115061",
     "status": "completed"
    },
    "tags": []
   },
   "source": [
    "## ROC Curve standalone"
   ]
  },
  {
   "cell_type": "code",
   "execution_count": 19,
   "metadata": {
    "papermill": {
     "duration": 0.783423,
     "end_time": "2019-11-23T05:48:14.942209",
     "exception": false,
     "start_time": "2019-11-23T05:48:14.158786",
     "status": "completed"
    },
    "tags": []
   },
   "outputs": [
    {
     "data": {
      "image/png": "[encoded data removed]",
      "text/plain": [
       "<Figure size 432x288 with 1 Axes>"
      ]
     },
     "execution_count": 19,
     "metadata": {},
     "output_type": "execute_result"
    },
    {
     "data": {
      "image/png": "[encoded data removed]",
      "text/plain": [
       "<Figure size 432x288 with 1 Axes>"
      ]
     },
     "metadata": {},
     "output_type": "display_data"
    }
   ],
   "source": [
    "plot_roc_curve(labels, results)"
   ]
  },
  {
   "cell_type": "code",
   "execution_count": 20,
   "metadata": {
    "papermill": {
     "duration": 0.061194,
     "end_time": "2019-11-23T05:48:15.041409",
     "exception": false,
     "start_time": "2019-11-23T05:48:14.980215",
     "status": "completed"
    },
    "tags": []
   },
   "outputs": [
    {
     "name": "stdout",
     "output_type": "stream",
     "text": [
      "ROC AUC: 0.665377751338489\n"
     ]
    }
   ],
   "source": [
    "print(\"ROC AUC:\", roc_auc_score(labels, probabilities))"
   ]
  },
  {
   "cell_type": "markdown",
   "metadata": {
    "papermill": {
     "duration": 0.022188,
     "end_time": "2019-11-23T05:48:15.097885",
     "exception": false,
     "start_time": "2019-11-23T05:48:15.075697",
     "status": "completed"
    },
    "tags": []
   },
   "source": [
    "## Precision Recall"
   ]
  },
  {
   "cell_type": "code",
   "execution_count": 21,
   "metadata": {
    "papermill": {
     "duration": 0.080672,
     "end_time": "2019-11-23T05:48:15.202601",
     "exception": false,
     "start_time": "2019-11-23T05:48:15.121929",
     "status": "completed"
    },
    "tags": []
   },
   "outputs": [
    {
     "name": "stdout",
     "output_type": "stream",
     "text": [
      "Average precision: 0.638499389489422\n",
      "Precision: 0.6326530612244898 Recall: 0.7560975609756098\n"
     ]
    }
   ],
   "source": [
    "print(\"Average precision:\", average_precision_score(labels, probabilities))\n",
    "print(\"Precision:\", precision_score(labels, predictions), \"Recall:\", recall_score(labels, predictions))"
   ]
  },
  {
   "cell_type": "code",
   "execution_count": 22,
   "metadata": {
    "papermill": {
     "duration": 0.632353,
     "end_time": "2019-11-23T05:48:15.874776",
     "exception": false,
     "start_time": "2019-11-23T05:48:15.242423",
     "status": "completed"
    },
    "scrolled": false,
    "tags": []
   },
   "outputs": [
    {
     "data": {
      "image/png": "[encoded data removed]",
      "text/plain": [
       "<Figure size 432x288 with 1 Axes>"
      ]
     },
     "metadata": {},
     "output_type": "display_data"
    }
   ],
   "source": [
    "fig = plot_precision_recall(labels, results)\n",
    "fig.savefig(\"figures/{}-precision-recall.svg\".format(PARAMETERS_ID), bbox_inches = \"tight\")"
   ]
  },
  {
   "cell_type": "code",
   "execution_count": 23,
   "metadata": {
    "papermill": {
     "duration": 0.073488,
     "end_time": "2019-11-23T05:48:15.984526",
     "exception": false,
     "start_time": "2019-11-23T05:48:15.911038",
     "status": "completed"
    },
    "tags": []
   },
   "outputs": [
    {
     "name": "stdout",
     "output_type": "stream",
     "text": [
      "PR AUC: 0.6282335829053285\n"
     ]
    }
   ],
   "source": [
    "print(\"PR AUC:\", calculate_pr_auc(labels, results))"
   ]
  },
  {
   "cell_type": "markdown",
   "metadata": {
    "papermill": {
     "duration": 0.024529,
     "end_time": "2019-11-23T05:48:16.046258",
     "exception": false,
     "start_time": "2019-11-23T05:48:16.021729",
     "status": "completed"
    },
    "tags": []
   },
   "source": [
    "## F1 Score"
   ]
  },
  {
   "cell_type": "code",
   "execution_count": 24,
   "metadata": {
    "papermill": {
     "duration": 0.083227,
     "end_time": "2019-11-23T05:48:16.154102",
     "exception": false,
     "start_time": "2019-11-23T05:48:16.070875",
     "status": "completed"
    },
    "tags": []
   },
   "outputs": [
    {
     "name": "stdout",
     "output_type": "stream",
     "text": [
      "F1 score: 0.6888888888888889\n"
     ]
    }
   ],
   "source": [
    "print(\"F1 score:\", f1_score(labels, predictions))"
   ]
  },
  {
   "cell_type": "markdown",
   "metadata": {
    "papermill": {
     "duration": 0.025468,
     "end_time": "2019-11-23T05:48:16.217412",
     "exception": false,
     "start_time": "2019-11-23T05:48:16.191944",
     "status": "completed"
    },
    "tags": []
   },
   "source": [
    "## TSNE"
   ]
  },
  {
   "cell_type": "code",
   "execution_count": 25,
   "metadata": {
    "papermill": {
     "duration": 0.122713,
     "end_time": "2019-11-23T05:48:16.364494",
     "exception": false,
     "start_time": "2019-11-23T05:48:16.241781",
     "status": "completed"
    },
    "tags": []
   },
   "outputs": [],
   "source": [
    "diagnosis, malignancy, evidence = all_features(features=FEATURES)"
   ]
  },
  {
   "cell_type": "code",
   "execution_count": 26,
   "metadata": {
    "papermill": {
     "duration": 0.07546,
     "end_time": "2019-11-23T05:48:16.478765",
     "exception": false,
     "start_time": "2019-11-23T05:48:16.403305",
     "status": "completed"
    },
    "scrolled": true,
    "tags": []
   },
   "outputs": [],
   "source": [
    "tsne_dataset = train"
   ]
  },
  {
   "cell_type": "code",
   "execution_count": 27,
   "metadata": {
    "papermill": {
     "duration": 0.986546,
     "end_time": "2019-11-23T05:48:17.507470",
     "exception": false,
     "start_time": "2019-11-23T05:48:16.520924",
     "status": "completed"
    },
    "tags": []
   },
   "outputs": [],
   "source": [
    "train_results = get_results(model, train)\n",
    "train_predictions = [\"malignant\" if t else \"benign\" for t in transform_binary_predictions(train_results)]"
   ]
  },
  {
   "cell_type": "code",
   "execution_count": 28,
   "metadata": {
    "papermill": {
     "duration": 0.082433,
     "end_time": "2019-11-23T05:48:17.632730",
     "exception": false,
     "start_time": "2019-11-23T05:48:17.550297",
     "status": "completed"
    },
    "tags": []
   },
   "outputs": [],
   "source": [
    "tsne_labels = [[malignancy.get(accession_from_filename(f), \"unknown\") for f in tsne_dataset.filenames], train_predictions]"
   ]
  },
  {
   "cell_type": "code",
   "execution_count": 29,
   "metadata": {
    "papermill": {
     "duration": 0.083642,
     "end_time": "2019-11-23T05:48:17.757176",
     "exception": false,
     "start_time": "2019-11-23T05:48:17.673534",
     "status": "completed"
    },
    "scrolled": true,
    "tags": []
   },
   "outputs": [
    {
     "data": {
      "text/plain": [
       "[['benign',\n",
       "  'benign',\n",
       "  'benign',\n",
       "  'benign',\n",
       "  'benign',\n",
       "  'benign',\n",
       "  'benign',\n",
       "  'benign',\n",
       "  'benign',\n",
       "  'benign',\n",
       "  'benign',\n",
       "  'benign',\n",
       "  'benign',\n",
       "  'benign',\n",
       "  'benign',\n",
       "  'benign',\n",
       "  'benign',\n",
       "  'benign',\n",
       "  'benign',\n",
       "  'benign',\n",
       "  'benign',\n",
       "  'benign',\n",
       "  'benign',\n",
       "  'benign',\n",
       "  'benign',\n",
       "  'benign',\n",
       "  'benign',\n",
       "  'benign',\n",
       "  'benign',\n",
       "  'benign',\n",
       "  'benign',\n",
       "  'benign',\n",
       "  'benign',\n",
       "  'benign',\n",
       "  'benign',\n",
       "  'benign',\n",
       "  'benign',\n",
       "  'benign',\n",
       "  'benign',\n",
       "  'benign',\n",
       "  'benign',\n",
       "  'benign',\n",
       "  'benign',\n",
       "  'benign',\n",
       "  'benign',\n",
       "  'benign',\n",
       "  'benign',\n",
       "  'benign',\n",
       "  'benign',\n",
       "  'benign',\n",
       "  'benign',\n",
       "  'benign',\n",
       "  'benign',\n",
       "  'benign',\n",
       "  'benign',\n",
       "  'benign',\n",
       "  'benign',\n",
       "  'benign',\n",
       "  'benign',\n",
       "  'benign',\n",
       "  'benign',\n",
       "  'benign',\n",
       "  'benign',\n",
       "  'benign',\n",
       "  'benign',\n",
       "  'benign',\n",
       "  'benign',\n",
       "  'benign',\n",
       "  'benign',\n",
       "  'benign',\n",
       "  'benign',\n",
       "  'benign',\n",
       "  'benign',\n",
       "  'benign',\n",
       "  'benign',\n",
       "  'benign',\n",
       "  'benign',\n",
       "  'benign',\n",
       "  'benign',\n",
       "  'benign',\n",
       "  'benign',\n",
       "  'benign',\n",
       "  'benign',\n",
       "  'benign',\n",
       "  'benign',\n",
       "  'benign',\n",
       "  'benign',\n",
       "  'benign',\n",
       "  'benign',\n",
       "  'benign',\n",
       "  'benign',\n",
       "  'benign',\n",
       "  'benign',\n",
       "  'benign',\n",
       "  'benign',\n",
       "  'benign',\n",
       "  'benign',\n",
       "  'benign',\n",
       "  'benign',\n",
       "  'benign',\n",
       "  'benign',\n",
       "  'benign',\n",
       "  'benign',\n",
       "  'benign',\n",
       "  'benign',\n",
       "  'benign',\n",
       "  'benign',\n",
       "  'benign',\n",
       "  'benign',\n",
       "  'benign',\n",
       "  'benign',\n",
       "  'benign',\n",
       "  'benign',\n",
       "  'benign',\n",
       "  'benign',\n",
       "  'benign',\n",
       "  'benign',\n",
       "  'benign',\n",
       "  'benign',\n",
       "  'benign',\n",
       "  'benign',\n",
       "  'benign',\n",
       "  'benign',\n",
       "  'benign',\n",
       "  'benign',\n",
       "  'benign',\n",
       "  'benign',\n",
       "  'benign',\n",
       "  'benign',\n",
       "  'benign',\n",
       "  'benign',\n",
       "  'benign',\n",
       "  'benign',\n",
       "  'benign',\n",
       "  'benign',\n",
       "  'benign',\n",
       "  'benign',\n",
       "  'benign',\n",
       "  'benign',\n",
       "  'benign',\n",
       "  'benign',\n",
       "  'benign',\n",
       "  'benign',\n",
       "  'benign',\n",
       "  'benign',\n",
       "  'benign',\n",
       "  'benign',\n",
       "  'benign',\n",
       "  'benign',\n",
       "  'benign',\n",
       "  'benign',\n",
       "  'benign',\n",
       "  'benign',\n",
       "  'malignant',\n",
       "  'malignant',\n",
       "  'malignant',\n",
       "  'malignant',\n",
       "  'malignant',\n",
       "  'malignant',\n",
       "  'malignant',\n",
       "  'malignant',\n",
       "  'malignant',\n",
       "  'malignant',\n",
       "  'malignant',\n",
       "  'malignant',\n",
       "  'malignant',\n",
       "  'malignant',\n",
       "  'malignant',\n",
       "  'malignant',\n",
       "  'malignant',\n",
       "  'malignant',\n",
       "  'malignant',\n",
       "  'malignant',\n",
       "  'malignant',\n",
       "  'malignant',\n",
       "  'malignant',\n",
       "  'malignant',\n",
       "  'malignant',\n",
       "  'malignant',\n",
       "  'malignant',\n",
       "  'malignant',\n",
       "  'malignant',\n",
       "  'malignant',\n",
       "  'malignant',\n",
       "  'malignant',\n",
       "  'malignant',\n",
       "  'malignant',\n",
       "  'malignant',\n",
       "  'malignant',\n",
       "  'malignant',\n",
       "  'malignant',\n",
       "  'malignant',\n",
       "  'malignant',\n",
       "  'malignant',\n",
       "  'malignant',\n",
       "  'malignant',\n",
       "  'malignant',\n",
       "  'malignant',\n",
       "  'malignant',\n",
       "  'malignant',\n",
       "  'malignant',\n",
       "  'malignant',\n",
       "  'malignant',\n",
       "  'malignant',\n",
       "  'malignant',\n",
       "  'malignant',\n",
       "  'malignant',\n",
       "  'malignant',\n",
       "  'malignant',\n",
       "  'malignant',\n",
       "  'malignant',\n",
       "  'malignant',\n",
       "  'malignant',\n",
       "  'malignant',\n",
       "  'malignant',\n",
       "  'malignant',\n",
       "  'malignant',\n",
       "  'malignant',\n",
       "  'malignant',\n",
       "  'malignant',\n",
       "  'malignant',\n",
       "  'malignant',\n",
       "  'malignant',\n",
       "  'malignant',\n",
       "  'malignant',\n",
       "  'malignant',\n",
       "  'malignant',\n",
       "  'malignant',\n",
       "  'malignant',\n",
       "  'malignant',\n",
       "  'malignant',\n",
       "  'malignant',\n",
       "  'malignant',\n",
       "  'malignant',\n",
       "  'malignant',\n",
       "  'malignant',\n",
       "  'malignant',\n",
       "  'malignant',\n",
       "  'malignant',\n",
       "  'malignant',\n",
       "  'malignant',\n",
       "  'malignant',\n",
       "  'malignant',\n",
       "  'malignant',\n",
       "  'malignant',\n",
       "  'malignant',\n",
       "  'malignant',\n",
       "  'malignant',\n",
       "  'malignant',\n",
       "  'malignant',\n",
       "  'malignant',\n",
       "  'malignant',\n",
       "  'malignant',\n",
       "  'malignant',\n",
       "  'malignant',\n",
       "  'malignant',\n",
       "  'malignant',\n",
       "  'malignant',\n",
       "  'malignant',\n",
       "  'malignant',\n",
       "  'malignant',\n",
       "  'malignant',\n",
       "  'malignant',\n",
       "  'malignant',\n",
       "  'malignant',\n",
       "  'malignant',\n",
       "  'malignant',\n",
       "  'malignant',\n",
       "  'malignant',\n",
       "  'malignant',\n",
       "  'malignant',\n",
       "  'malignant',\n",
       "  'malignant',\n",
       "  'malignant',\n",
       "  'malignant',\n",
       "  'malignant',\n",
       "  'malignant',\n",
       "  'malignant',\n",
       "  'malignant',\n",
       "  'malignant',\n",
       "  'malignant',\n",
       "  'malignant',\n",
       "  'malignant',\n",
       "  'malignant',\n",
       "  'malignant',\n",
       "  'malignant',\n",
       "  'malignant',\n",
       "  'malignant',\n",
       "  'malignant',\n",
       "  'malignant',\n",
       "  'malignant',\n",
       "  'malignant',\n",
       "  'malignant',\n",
       "  'malignant',\n",
       "  'malignant',\n",
       "  'malignant',\n",
       "  'malignant',\n",
       "  'malignant',\n",
       "  'malignant',\n",
       "  'malignant',\n",
       "  'malignant',\n",
       "  'malignant',\n",
       "  'malignant',\n",
       "  'malignant',\n",
       "  'malignant',\n",
       "  'malignant',\n",
       "  'malignant',\n",
       "  'malignant',\n",
       "  'malignant',\n",
       "  'malignant',\n",
       "  'malignant',\n",
       "  'malignant',\n",
       "  'malignant',\n",
       "  'malignant'],\n",
       " ['benign',\n",
       "  'benign',\n",
       "  'benign',\n",
       "  'benign',\n",
       "  'benign',\n",
       "  'benign',\n",
       "  'benign',\n",
       "  'benign',\n",
       "  'malignant',\n",
       "  'benign',\n",
       "  'benign',\n",
       "  'benign',\n",
       "  'benign',\n",
       "  'benign',\n",
       "  'benign',\n",
       "  'benign',\n",
       "  'benign',\n",
       "  'benign',\n",
       "  'malignant',\n",
       "  'benign',\n",
       "  'benign',\n",
       "  'benign',\n",
       "  'benign',\n",
       "  'benign',\n",
       "  'benign',\n",
       "  'benign',\n",
       "  'benign',\n",
       "  'benign',\n",
       "  'benign',\n",
       "  'benign',\n",
       "  'benign',\n",
       "  'benign',\n",
       "  'malignant',\n",
       "  'benign',\n",
       "  'benign',\n",
       "  'benign',\n",
       "  'benign',\n",
       "  'benign',\n",
       "  'benign',\n",
       "  'benign',\n",
       "  'benign',\n",
       "  'malignant',\n",
       "  'benign',\n",
       "  'benign',\n",
       "  'benign',\n",
       "  'benign',\n",
       "  'benign',\n",
       "  'benign',\n",
       "  'benign',\n",
       "  'benign',\n",
       "  'benign',\n",
       "  'benign',\n",
       "  'benign',\n",
       "  'benign',\n",
       "  'benign',\n",
       "  'benign',\n",
       "  'benign',\n",
       "  'benign',\n",
       "  'benign',\n",
       "  'benign',\n",
       "  'benign',\n",
       "  'benign',\n",
       "  'malignant',\n",
       "  'benign',\n",
       "  'benign',\n",
       "  'malignant',\n",
       "  'benign',\n",
       "  'benign',\n",
       "  'benign',\n",
       "  'benign',\n",
       "  'benign',\n",
       "  'benign',\n",
       "  'benign',\n",
       "  'benign',\n",
       "  'benign',\n",
       "  'malignant',\n",
       "  'benign',\n",
       "  'benign',\n",
       "  'benign',\n",
       "  'benign',\n",
       "  'benign',\n",
       "  'benign',\n",
       "  'benign',\n",
       "  'benign',\n",
       "  'benign',\n",
       "  'benign',\n",
       "  'benign',\n",
       "  'benign',\n",
       "  'benign',\n",
       "  'benign',\n",
       "  'benign',\n",
       "  'benign',\n",
       "  'benign',\n",
       "  'benign',\n",
       "  'benign',\n",
       "  'benign',\n",
       "  'benign',\n",
       "  'benign',\n",
       "  'benign',\n",
       "  'benign',\n",
       "  'benign',\n",
       "  'benign',\n",
       "  'benign',\n",
       "  'benign',\n",
       "  'benign',\n",
       "  'benign',\n",
       "  'benign',\n",
       "  'benign',\n",
       "  'benign',\n",
       "  'benign',\n",
       "  'benign',\n",
       "  'benign',\n",
       "  'benign',\n",
       "  'benign',\n",
       "  'malignant',\n",
       "  'benign',\n",
       "  'benign',\n",
       "  'benign',\n",
       "  'benign',\n",
       "  'benign',\n",
       "  'benign',\n",
       "  'benign',\n",
       "  'benign',\n",
       "  'benign',\n",
       "  'benign',\n",
       "  'benign',\n",
       "  'benign',\n",
       "  'malignant',\n",
       "  'benign',\n",
       "  'benign',\n",
       "  'benign',\n",
       "  'benign',\n",
       "  'benign',\n",
       "  'benign',\n",
       "  'benign',\n",
       "  'benign',\n",
       "  'benign',\n",
       "  'benign',\n",
       "  'benign',\n",
       "  'benign',\n",
       "  'benign',\n",
       "  'benign',\n",
       "  'benign',\n",
       "  'benign',\n",
       "  'benign',\n",
       "  'benign',\n",
       "  'benign',\n",
       "  'malignant',\n",
       "  'benign',\n",
       "  'benign',\n",
       "  'benign',\n",
       "  'benign',\n",
       "  'benign',\n",
       "  'malignant',\n",
       "  'malignant',\n",
       "  'malignant',\n",
       "  'malignant',\n",
       "  'malignant',\n",
       "  'malignant',\n",
       "  'benign',\n",
       "  'benign',\n",
       "  'benign',\n",
       "  'malignant',\n",
       "  'benign',\n",
       "  'benign',\n",
       "  'benign',\n",
       "  'malignant',\n",
       "  'benign',\n",
       "  'benign',\n",
       "  'malignant',\n",
       "  'benign',\n",
       "  'malignant',\n",
       "  'malignant',\n",
       "  'malignant',\n",
       "  'malignant',\n",
       "  'malignant',\n",
       "  'malignant',\n",
       "  'benign',\n",
       "  'benign',\n",
       "  'malignant',\n",
       "  'malignant',\n",
       "  'malignant',\n",
       "  'malignant',\n",
       "  'malignant',\n",
       "  'malignant',\n",
       "  'malignant',\n",
       "  'malignant',\n",
       "  'malignant',\n",
       "  'benign',\n",
       "  'benign',\n",
       "  'malignant',\n",
       "  'malignant',\n",
       "  'malignant',\n",
       "  'malignant',\n",
       "  'malignant',\n",
       "  'benign',\n",
       "  'malignant',\n",
       "  'malignant',\n",
       "  'benign',\n",
       "  'malignant',\n",
       "  'malignant',\n",
       "  'malignant',\n",
       "  'malignant',\n",
       "  'malignant',\n",
       "  'malignant',\n",
       "  'benign',\n",
       "  'malignant',\n",
       "  'benign',\n",
       "  'malignant',\n",
       "  'malignant',\n",
       "  'malignant',\n",
       "  'malignant',\n",
       "  'malignant',\n",
       "  'malignant',\n",
       "  'malignant',\n",
       "  'malignant',\n",
       "  'malignant',\n",
       "  'malignant',\n",
       "  'malignant',\n",
       "  'malignant',\n",
       "  'malignant',\n",
       "  'malignant',\n",
       "  'malignant',\n",
       "  'malignant',\n",
       "  'malignant',\n",
       "  'malignant',\n",
       "  'benign',\n",
       "  'malignant',\n",
       "  'malignant',\n",
       "  'benign',\n",
       "  'malignant',\n",
       "  'benign',\n",
       "  'malignant',\n",
       "  'malignant',\n",
       "  'benign',\n",
       "  'malignant',\n",
       "  'benign',\n",
       "  'malignant',\n",
       "  'benign',\n",
       "  'benign',\n",
       "  'malignant',\n",
       "  'benign',\n",
       "  'malignant',\n",
       "  'malignant',\n",
       "  'malignant',\n",
       "  'benign',\n",
       "  'malignant',\n",
       "  'malignant',\n",
       "  'malignant',\n",
       "  'malignant',\n",
       "  'malignant',\n",
       "  'malignant',\n",
       "  'malignant',\n",
       "  'malignant',\n",
       "  'malignant',\n",
       "  'malignant',\n",
       "  'malignant',\n",
       "  'malignant',\n",
       "  'benign',\n",
       "  'malignant',\n",
       "  'malignant',\n",
       "  'malignant',\n",
       "  'malignant',\n",
       "  'malignant',\n",
       "  'benign',\n",
       "  'malignant',\n",
       "  'benign',\n",
       "  'malignant',\n",
       "  'malignant',\n",
       "  'malignant',\n",
       "  'malignant',\n",
       "  'malignant',\n",
       "  'malignant',\n",
       "  'malignant',\n",
       "  'malignant',\n",
       "  'benign',\n",
       "  'malignant',\n",
       "  'malignant',\n",
       "  'malignant',\n",
       "  'malignant',\n",
       "  'malignant',\n",
       "  'malignant',\n",
       "  'malignant',\n",
       "  'malignant',\n",
       "  'malignant',\n",
       "  'malignant',\n",
       "  'malignant',\n",
       "  'malignant',\n",
       "  'malignant',\n",
       "  'malignant',\n",
       "  'malignant',\n",
       "  'malignant',\n",
       "  'malignant',\n",
       "  'malignant',\n",
       "  'malignant',\n",
       "  'malignant',\n",
       "  'malignant',\n",
       "  'malignant',\n",
       "  'malignant',\n",
       "  'malignant',\n",
       "  'malignant',\n",
       "  'malignant',\n",
       "  'benign',\n",
       "  'malignant',\n",
       "  'malignant',\n",
       "  'malignant',\n",
       "  'malignant',\n",
       "  'benign',\n",
       "  'malignant',\n",
       "  'malignant',\n",
       "  'malignant',\n",
       "  'malignant',\n",
       "  'malignant',\n",
       "  'malignant']]"
      ]
     },
     "execution_count": 29,
     "metadata": {},
     "output_type": "execute_result"
    }
   ],
   "source": [
    "tsne_labels"
   ]
  },
  {
   "cell_type": "code",
   "execution_count": 30,
   "metadata": {
    "papermill": {
     "duration": 4.21434,
     "end_time": "2019-11-23T05:48:22.015996",
     "exception": false,
     "start_time": "2019-11-23T05:48:17.801656",
     "status": "completed"
    },
    "scrolled": true,
    "tags": []
   },
   "outputs": [
    {
     "data": {
      "image/png": "[encoded data removed]",
      "text/plain": [
       "<Figure size 432x288 with 1 Axes>"
      ]
     },
     "metadata": {},
     "output_type": "display_data"
    },
    {
     "data": {
      "image/png": "[encoded data removed]",
      "text/plain": [
       "<Figure size 432x288 with 1 Axes>"
      ]
     },
     "metadata": {},
     "output_type": "display_data"
    }
   ],
   "source": [
    "fig = plot_tsne(model, \"dense_5\", tsne_dataset, tsne_labels, perplexity=5, fieldnames=[\"diagnosis by MRI or histopathology\", \"model prediction\"])\n",
    "fig[0].savefig(\"figures/label-{}-tsne.svg\".format(PARAMETERS_ID), bbox_inches = \"tight\")\n",
    "fig[1].savefig(\"figures/model-{}-tsne.svg\".format(PARAMETERS_ID), bbox_inches = \"tight\")"
   ]
  },
  {
   "cell_type": "markdown",
   "metadata": {
    "papermill": {
     "duration": 0.027852,
     "end_time": "2019-11-23T05:48:22.086018",
     "exception": false,
     "start_time": "2019-11-23T05:48:22.058166",
     "status": "completed"
    },
    "tags": []
   },
   "source": [
    "## Experts"
   ]
  },
  {
   "cell_type": "code",
   "execution_count": 31,
   "metadata": {
    "papermill": {
     "duration": 0.084064,
     "end_time": "2019-11-23T05:48:22.198031",
     "exception": false,
     "start_time": "2019-11-23T05:48:22.113967",
     "status": "completed"
    },
    "tags": []
   },
   "outputs": [
    {
     "name": "stdout",
     "output_type": "stream",
     "text": [
      "error with benign/fixed-27026916.jpeg: '27026916.jpeg'\n",
      "error with benign/fixed-27808351.jpeg: '27808351.jpeg'\n",
      "error with benign/fixed-27954713-1.jpeg: '27954713-1.jpeg'\n",
      "error with benign/fixed-27954713-2.jpeg: '27954713-2.jpeg'\n",
      "error with benign/fixed-6041779.jpeg: '6041779.jpeg'\n",
      "error with benign/fixed-7363540-1.jpeg: '7363540-1.jpeg'\n",
      "error with benign/fixed-8217457-1.jpeg: '8217457-1.jpeg'\n",
      "error with malignant/fixed-5829440.jpeg: '5829440.jpeg'\n",
      "error with malignant/fixed-7221037.jpeg: '7221037.jpeg'\n",
      "error with malignant/fixed-7336509.jpeg: '7336509.jpeg'\n",
      "error with malignant/fixed-7343132.jpeg: '7343132.jpeg'\n",
      "error with malignant/fixed-7419872.jpeg: '7419872.jpeg'\n",
      "error with malignant/fixed-7486948-1.jpeg: '7486948-1.jpeg'\n",
      "error with malignant/fixed-7486948-2.jpeg: '7486948-2.jpeg'\n",
      "error with malignant/fixed-7486948-3.jpeg: '7486948-3.jpeg'\n",
      "error with malignant/fixed-7486948-4.jpeg: '7486948-4.jpeg'\n",
      "error with malignant/fixed-7637848-1.jpeg: '7637848-1.jpeg'\n",
      "error with malignant/fixed-7637848-2.jpeg: '7637848-2.jpeg'\n",
      "error with malignant/fixed-8054569.jpeg: '8054569.jpeg'\n",
      "error with malignant/fixed-8862768-1.jpeg: '8862768-1.jpeg'\n",
      "error with malignant/fixed-8862768-2.jpeg: '8862768-2.jpeg'\n",
      "error with malignant/fixed-8862768-3.jpeg: '8862768-3.jpeg'\n",
      "error with malignant/fixed-8965761-1.jpeg: '8965761-1.jpeg'\n",
      "error with malignant/fixed-8965761-2.jpeg: '8965761-2.jpeg'\n",
      "error with malignant/fixed-9019761.jpeg: '9019761.jpeg'\n",
      "error with malignant/fixed-9028605-1.jpeg: '9028605-1.jpeg'\n",
      "error with malignant/fixed-9028605-2.jpeg: '9028605-2.jpeg'\n",
      "error with malignant/fixed-9028605-3.jpeg: '9028605-3.jpeg'\n",
      "error with malignant/fixed-9028605-4.jpeg: '9028605-4.jpeg'\n",
      "error with malignant/fixed-9072366.jpeg: '9072366.jpeg'\n",
      "error with malignant/fixed-9089505-1.jpeg: '9089505-1.jpeg'\n",
      "error with malignant/fixed-9089505-2.jpeg: '9089505-2.jpeg'\n",
      "error with malignant/fixed-9089505-3.jpeg: '9089505-3.jpeg'\n",
      "error with malignant/fixed-9089505-4.jpeg: '9089505-4.jpeg'\n",
      "error with malignant/fixed-9165977-1.jpeg: '9165977-1.jpeg'\n",
      "error with malignant/fixed-9165977-2.jpeg: '9165977-2.jpeg'\n"
     ]
    },
    {
     "data": {
      "text/plain": [
       "['benign',\n",
       " 'benign',\n",
       " 'benign',\n",
       " 'benign',\n",
       " 'malignant',\n",
       " 'benign',\n",
       " 'benign',\n",
       " 'benign',\n",
       " 'malignant',\n",
       " 'malignant',\n",
       " None,\n",
       " 'benign',\n",
       " 'benign',\n",
       " 'benign',\n",
       " 'benign',\n",
       " 'malignant',\n",
       " 'benign',\n",
       " 'malignant',\n",
       " 'malignant',\n",
       " 'benign',\n",
       " 'malignant',\n",
       " None,\n",
       " 'benign',\n",
       " 'malignant',\n",
       " None,\n",
       " None,\n",
       " 'benign',\n",
       " 'benign',\n",
       " 'malignant',\n",
       " 'malignant',\n",
       " 'malignant',\n",
       " 'malignant',\n",
       " 'benign',\n",
       " 'benign',\n",
       " 'benign',\n",
       " 'benign',\n",
       " 'benign',\n",
       " 'benign',\n",
       " None,\n",
       " None,\n",
       " None,\n",
       " 'malignant',\n",
       " 'malignant',\n",
       " 'benign',\n",
       " 'malignant',\n",
       " 'malignant',\n",
       " 'benign',\n",
       " 'benign',\n",
       " 'malignant',\n",
       " 'malignant',\n",
       " 'malignant',\n",
       " 'malignant',\n",
       " 'malignant',\n",
       " None,\n",
       " None,\n",
       " None,\n",
       " None,\n",
       " None,\n",
       " None,\n",
       " None,\n",
       " None,\n",
       " None,\n",
       " None,\n",
       " None,\n",
       " None,\n",
       " None,\n",
       " None,\n",
       " None,\n",
       " None,\n",
       " None,\n",
       " None,\n",
       " None,\n",
       " None,\n",
       " None,\n",
       " None,\n",
       " None,\n",
       " None,\n",
       " None,\n",
       " None,\n",
       " None,\n",
       " None,\n",
       " None]"
      ]
     },
     "execution_count": 31,
     "metadata": {},
     "output_type": "execute_result"
    }
   ],
   "source": [
    "get_expert_results(\"evaluations/radiology-3344.json\", test.filenames)"
   ]
  },
  {
   "cell_type": "code",
   "execution_count": 32,
   "metadata": {
    "papermill": {
     "duration": 0.268656,
     "end_time": "2019-11-23T05:48:22.507364",
     "exception": false,
     "start_time": "2019-11-23T05:48:22.238708",
     "status": "completed"
    },
    "tags": []
   },
   "outputs": [
    {
     "name": "stdout",
     "output_type": "stream",
     "text": [
      "error with benign/free-26961402-1.jpeg: '26961402-1.jpeg'\n",
      "error with benign/free-26961402-2.jpeg: '26961402-2.jpeg'\n",
      "error with malignant/free-26910179-1.jpeg: '26910179-1.jpeg'\n",
      "error with malignant/free-26910179-2.jpeg: '26910179-2.jpeg'\n",
      "error with malignant/free-26919191.jpeg: '26919191.jpeg'\n",
      "error with malignant/free-28215081.jpeg: '28215081.jpeg'\n",
      "error with malignant/free-28283949.jpeg: '28283949.jpeg'\n",
      "error with malignant/free-28930178-1.jpeg: '28930178-1.jpeg'\n",
      "error with malignant/free-28930178-2.jpeg: '28930178-2.jpeg'\n",
      "error with malignant/free-29165825-1.jpeg: '29165825-1.jpeg'\n",
      "error with malignant/free-29165825-2.jpeg: '29165825-2.jpeg'\n",
      "error with malignant/free-29165825-3.jpeg: '29165825-3.jpeg'\n",
      "error with malignant/free-29165825.jpeg: '29165825.jpeg'\n",
      "error with malignant/free-29186082.jpeg: '29186082.jpeg'\n",
      "error with malignant/free-29465808-1.jpeg: '29465808-1.jpeg'\n",
      "error with malignant/free-29465808-2.jpeg: '29465808-2.jpeg'\n",
      "error with malignant/free-30375803.jpeg: '30375803.jpeg'\n",
      "error with malignant/free-30768982-1.jpeg: '30768982-1.jpeg'\n",
      "error with malignant/free-30768982-2.jpeg: '30768982-2.jpeg'\n",
      "error with malignant/free-30768982-3.jpeg: '30768982-3.jpeg'\n",
      "error with malignant/free-30768982-4.jpeg: '30768982-4.jpeg'\n",
      "error with malignant/free-30768982-5.jpeg: '30768982-5.jpeg'\n",
      "error with malignant/free-30831878-1.jpeg: '30831878-1.jpeg'\n",
      "error with malignant/free-30831878-2.jpeg: '30831878-2.jpeg'\n",
      "error with malignant/free-30831878-3.jpeg: '30831878-3.jpeg'\n",
      "error with malignant/free-4509128.jpeg: '4509128.jpeg'\n",
      "error with malignant/free-6271655-1.jpeg: '6271655-1.jpeg'\n",
      "error with malignant/free-6271655-2.jpeg: '6271655-2.jpeg'\n",
      "error with malignant/free-6271655-3.jpeg: '6271655-3.jpeg'\n",
      "error with malignant/free-6271655-4.jpeg: '6271655-4.jpeg'\n",
      "error with malignant/free-6701632-1.jpeg: '6701632-1.jpeg'\n",
      "error with malignant/free-6701632-2.jpeg: '6701632-2.jpeg'\n",
      "error with malignant/free-6701632-3.jpeg: '6701632-3.jpeg'\n",
      "error with malignant/free-6701632-4.jpeg: '6701632-4.jpeg'\n",
      "error with malignant/free-7790582.jpeg: '7790582.jpeg'\n",
      "error with malignant/free-9072107-1.jpeg: '9072107-1.jpeg'\n"
     ]
    },
    {
     "data": {
      "image/png": "[encoded data removed]",
      "text/plain": [
       "<Figure size 432x288 with 1 Axes>"
      ]
     },
     "metadata": {},
     "output_type": "display_data"
    }
   ],
   "source": [
    "expert_1, fig = plot_expert_confusion(\"evaluations/radiology-9809.json\", validation)\n",
    "fig.savefig(\"figures/{}-confusion-matrix-expert-1.svg\".format(PARAMETERS_ID), bbox_inches = \"tight\")"
   ]
  },
  {
   "cell_type": "code",
   "execution_count": 33,
   "metadata": {
    "papermill": {
     "duration": 0.078249,
     "end_time": "2019-11-23T05:48:22.623840",
     "exception": false,
     "start_time": "2019-11-23T05:48:22.545591",
     "status": "completed"
    },
    "scrolled": true,
    "tags": []
   },
   "outputs": [
    {
     "data": {
      "text/html": [
       "<div>\n",
       "<style scoped>\n",
       "    .dataframe tbody tr th:only-of-type {\n",
       "        vertical-align: middle;\n",
       "    }\n",
       "\n",
       "    .dataframe tbody tr th {\n",
       "        vertical-align: top;\n",
       "    }\n",
       "\n",
       "    .dataframe thead th {\n",
       "        text-align: right;\n",
       "    }\n",
       "</style>\n",
       "<table border=\"1\" class=\"dataframe\">\n",
       "  <thead>\n",
       "    <tr style=\"text-align: right;\">\n",
       "      <th></th>\n",
       "      <th>Acc</th>\n",
       "      <th>TP</th>\n",
       "      <th>TN</th>\n",
       "      <th>FP</th>\n",
       "      <th>FN</th>\n",
       "      <th>TPR</th>\n",
       "      <th>TNR</th>\n",
       "      <th>PPV</th>\n",
       "      <th>NPV</th>\n",
       "      <th>FPR</th>\n",
       "      <th>FNR</th>\n",
       "      <th>FDR</th>\n",
       "    </tr>\n",
       "  </thead>\n",
       "  <tbody>\n",
       "    <tr>\n",
       "      <th>benign</th>\n",
       "      <td>0.362</td>\n",
       "      <td>23</td>\n",
       "      <td>6</td>\n",
       "      <td>41</td>\n",
       "      <td>10</td>\n",
       "      <td>0.697</td>\n",
       "      <td>0.128</td>\n",
       "      <td>0.359</td>\n",
       "      <td>0.375</td>\n",
       "      <td>0.872</td>\n",
       "      <td>0.303</td>\n",
       "      <td>0.641</td>\n",
       "    </tr>\n",
       "    <tr>\n",
       "      <th>malignant</th>\n",
       "      <td>0.362</td>\n",
       "      <td>6</td>\n",
       "      <td>23</td>\n",
       "      <td>10</td>\n",
       "      <td>41</td>\n",
       "      <td>0.128</td>\n",
       "      <td>0.697</td>\n",
       "      <td>0.375</td>\n",
       "      <td>0.359</td>\n",
       "      <td>0.303</td>\n",
       "      <td>0.872</td>\n",
       "      <td>0.625</td>\n",
       "    </tr>\n",
       "  </tbody>\n",
       "</table>\n",
       "</div>"
      ],
      "text/plain": [
       "            Acc  TP  TN  FP  FN   TPR   TNR   PPV   NPV   FPR   FNR   FDR\n",
       "benign    0.362  23   6  41  10 0.697 0.128 0.359 0.375 0.872 0.303 0.641\n",
       "malignant 0.362   6  23  10  41 0.128 0.697 0.375 0.359 0.303 0.872 0.625"
      ]
     },
     "execution_count": 33,
     "metadata": {},
     "output_type": "execute_result"
    }
   ],
   "source": [
    "pandas.DataFrame(expert_1, index=validation.class_indices)"
   ]
  },
  {
   "cell_type": "markdown",
   "metadata": {
    "papermill": {
     "duration": 0.030525,
     "end_time": "2019-11-23T05:48:22.698788",
     "exception": false,
     "start_time": "2019-11-23T05:48:22.668263",
     "status": "completed"
    },
    "tags": []
   },
   "source": [
    "## ROC with experts"
   ]
  },
  {
   "cell_type": "code",
   "execution_count": 34,
   "metadata": {
    "papermill": {
     "duration": 0.680582,
     "end_time": "2019-11-23T05:48:23.408606",
     "exception": false,
     "start_time": "2019-11-23T05:48:22.728024",
     "status": "completed"
    },
    "scrolled": false,
    "tags": []
   },
   "outputs": [
    {
     "data": {
      "image/png": "[encoded data removed]",
      "text/plain": [
       "<Figure size 432x288 with 1 Axes>"
      ]
     },
     "metadata": {},
     "output_type": "display_data"
    }
   ],
   "source": [
    "fig = plot_roc_curve(labels, results, experts=[{ **expert_1, \"name\":\"expert 1\" }, { **expert_1, \"name\":\"expert 2\" }])\n",
    "fig.savefig(\"figures/{}-roc-curve.svg\".format(PARAMETERS_ID), bbox_inches = \"tight\")"
   ]
  },
  {
   "cell_type": "code",
   "execution_count": 35,
   "metadata": {
    "papermill": {
     "duration": 0.082619,
     "end_time": "2019-11-23T05:48:23.535200",
     "exception": false,
     "start_time": "2019-11-23T05:48:23.452581",
     "status": "completed"
    },
    "tags": []
   },
   "outputs": [
    {
     "data": {
      "text/html": [
       "<script>\n",
       "code_show=true; \n",
       "function code_toggle() {\n",
       " if (code_show){\n",
       " $('div.input').hide();\n",
       " } else {\n",
       " $('div.input').show();\n",
       " }\n",
       " code_show = !code_show\n",
       "} \n",
       "$( document ).ready(code_toggle);\n",
       "</script>\n",
       "The raw code for this IPython notebook is by default hidden for easier reading.\n",
       "To toggle on/off the raw code, click <a href=\"javascript:code_toggle()\">here</a>."
      ],
      "text/plain": [
       "<IPython.core.display.HTML object>"
      ]
     },
     "execution_count": 35,
     "metadata": {},
     "output_type": "execute_result"
    }
   ],
   "source": [
    "from IPython.display import HTML\n",
    "HTML('''<script>\n",
    "code_show=true; \n",
    "function code_toggle() {\n",
    " if (code_show){\n",
    " $('div.input').hide();\n",
    " } else {\n",
    " $('div.input').show();\n",
    " }\n",
    " code_show = !code_show\n",
    "} \n",
    "$( document ).ready(code_toggle);\n",
    "</script>\n",
    "The raw code for this IPython notebook is by default hidden for easier reading.\n",
    "To toggle on/off the raw code, click <a href=\"javascript:code_toggle()\">here</a>.''')"
   ]
  },
  {
   "cell_type": "code",
   "execution_count": null,
   "metadata": {
    "papermill": {
     "duration": 0.030458,
     "end_time": "2019-11-23T05:48:23.611049",
     "exception": false,
     "start_time": "2019-11-23T05:48:23.580591",
     "status": "completed"
    },
    "tags": []
   },
   "outputs": [],
   "source": []
  },
  {
   "cell_type": "code",
   "execution_count": null,
   "metadata": {
    "papermill": {
     "duration": 0.030174,
     "end_time": "2019-11-23T05:48:23.671566",
     "exception": false,
     "start_time": "2019-11-23T05:48:23.641392",
     "status": "completed"
    },
    "tags": []
   },
   "outputs": [],
   "source": []
  }
 ],
 "metadata": {
  "kernelspec": {
   "display_name": "Python 3",
   "language": "python",
   "name": "python3"
  },
  "language_info": {
   "codemirror_mode": {
    "name": "ipython",
    "version": 3
   },
   "file_extension": ".py",
   "mimetype": "text/x-python",
   "name": "python",
   "nbconvert_exporter": "python",
   "pygments_lexer": "ipython3",
   "version": "3.6.7"
  },
  "papermill": {
   "duration": 64.826905,
   "end_time": "2019-11-23T05:48:26.520426",
   "environment_variables": {},
   "exception": null,
   "input_path": "evaluate-specific-model.ipynb",
   "output_path": "evaluate-free-uncertain.ipynb",
   "parameters": {
    "DIRECTORY": "/media/user1/my4TB/intrepidlemon/liver-ultrasound/c3-c4-free",
    "MODEL_TYPE": "v2",
    "MODEL_UUID": "9eecc121-a682-4be8-9aa1-f43f4a8b69a7",
    "PARAMETERS_ID": "free-uncertain",
    "SELECTIONS": "[]"
   },
   "start_time": "2019-11-23T05:47:21.693521",
   "version": "1.2.1"
  }
 },
 "nbformat": 4,
 "nbformat_minor": 2
}