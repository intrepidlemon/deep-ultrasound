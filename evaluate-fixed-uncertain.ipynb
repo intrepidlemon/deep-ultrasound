{
 "cells": [
  {
   "cell_type": "code",
   "execution_count": 1,
   "metadata": {
    "papermill": {
     "duration": 1.298687,
     "end_time": "2019-11-23T05:49:39.530000",
     "exception": false,
     "start_time": "2019-11-23T05:49:38.231313",
     "status": "completed"
    },
    "tags": []
   },
   "outputs": [],
   "source": [
    "%load_ext autoreload\n",
    "%autoreload 2\n",
    "%matplotlib inline  \n",
    "from IPython.display import HTML"
   ]
  },
  {
   "cell_type": "code",
   "execution_count": 2,
   "metadata": {
    "papermill": {
     "duration": 2.621867,
     "end_time": "2019-11-23T05:49:42.184553",
     "exception": false,
     "start_time": "2019-11-23T05:49:39.562686",
     "status": "completed"
    },
    "tags": []
   },
   "outputs": [],
   "source": [
    "from sklearn.metrics import f1_score, roc_auc_score, average_precision_score, precision_score, recall_score\n",
    "import pandas\n",
    "import numpy as np\n",
    "import json\n",
    "import matplotlib.pyplot as plt\n",
    "import os\n",
    "\n",
    "pandas.options.display.float_format = '{:,.3f}'.format"
   ]
  },
  {
   "cell_type": "code",
   "execution_count": 3,
   "metadata": {
    "papermill": {
     "duration": 5.539072,
     "end_time": "2019-11-23T05:49:47.759487",
     "exception": false,
     "start_time": "2019-11-23T05:49:42.220415",
     "status": "completed"
    },
    "tags": []
   },
   "outputs": [
    {
     "name": "stderr",
     "output_type": "stream",
     "text": [
      "Using TensorFlow backend.\n"
     ]
    },
    {
     "name": "stderr",
     "output_type": "stream",
     "text": [
      "/home/intrepidlemon/.local/share/virtualenvs/deep-ultrasound-eb7oaR1r/lib/python3.6/site-packages/tensorflow/python/framework/dtypes.py:523: FutureWarning: Passing (type, 1) or '1type' as a synonym of type is deprecated; in a future version of numpy, it will be understood as (type, (1,)) / '(1,)type'.\n",
      "  _np_qint8 = np.dtype([(\"qint8\", np.int8, 1)])\n",
      "/home/intrepidlemon/.local/share/virtualenvs/deep-ultrasound-eb7oaR1r/lib/python3.6/site-packages/tensorflow/python/framework/dtypes.py:524: FutureWarning: Passing (type, 1) or '1type' as a synonym of type is deprecated; in a future version of numpy, it will be understood as (type, (1,)) / '(1,)type'.\n",
      "  _np_quint8 = np.dtype([(\"quint8\", np.uint8, 1)])\n",
      "/home/intrepidlemon/.local/share/virtualenvs/deep-ultrasound-eb7oaR1r/lib/python3.6/site-packages/tensorflow/python/framework/dtypes.py:525: FutureWarning: Passing (type, 1) or '1type' as a synonym of type is deprecated; in a future version of numpy, it will be understood as (type, (1,)) / '(1,)type'.\n",
      "  _np_qint16 = np.dtype([(\"qint16\", np.int16, 1)])\n",
      "/home/intrepidlemon/.local/share/virtualenvs/deep-ultrasound-eb7oaR1r/lib/python3.6/site-packages/tensorflow/python/framework/dtypes.py:526: FutureWarning: Passing (type, 1) or '1type' as a synonym of type is deprecated; in a future version of numpy, it will be understood as (type, (1,)) / '(1,)type'.\n",
      "  _np_quint16 = np.dtype([(\"quint16\", np.uint16, 1)])\n",
      "/home/intrepidlemon/.local/share/virtualenvs/deep-ultrasound-eb7oaR1r/lib/python3.6/site-packages/tensorflow/python/framework/dtypes.py:527: FutureWarning: Passing (type, 1) or '1type' as a synonym of type is deprecated; in a future version of numpy, it will be understood as (type, (1,)) / '(1,)type'.\n",
      "  _np_qint32 = np.dtype([(\"qint32\", np.int32, 1)])\n",
      "/home/intrepidlemon/.local/share/virtualenvs/deep-ultrasound-eb7oaR1r/lib/python3.6/site-packages/tensorflow/python/framework/dtypes.py:532: FutureWarning: Passing (type, 1) or '1type' as a synonym of type is deprecated; in a future version of numpy, it will be understood as (type, (1,)) / '(1,)type'.\n",
      "  np_resource = np.dtype([(\"resource\", np.ubyte, 1)])\n"
     ]
    }
   ],
   "source": [
    "from evaluate import load, get_results, get_labels, transform_binary_probabilities, transform_binary_predictions, calculate_accuracy_loss, plot_confusion_matrix, plot_precision_recall, plot_roc_curve, calculate_pr_auc, calculate_confusion_matrix_stats, calculate_confusion_matrix, plot_tsne, accession_from_filename, plot_expert_confusion, plot_multiple_grad_cam, get_expert_results"
   ]
  },
  {
   "cell_type": "code",
   "execution_count": 4,
   "metadata": {
    "papermill": {
     "duration": 1.428945,
     "end_time": "2019-11-23T05:49:49.225211",
     "exception": false,
     "start_time": "2019-11-23T05:49:47.796266",
     "status": "completed"
    },
    "tags": []
   },
   "outputs": [],
   "source": [
    "from data import describe, all_features, data, print_describe, load_single\n",
    "from run import characterize_data\n",
    "from config import config"
   ]
  },
  {
   "cell_type": "markdown",
   "metadata": {
    "papermill": {
     "duration": 0.01919,
     "end_time": "2019-11-23T05:49:49.278847",
     "exception": false,
     "start_time": "2019-11-23T05:49:49.259657",
     "status": "completed"
    },
    "tags": []
   },
   "source": [
    "# Parameters"
   ]
  },
  {
   "cell_type": "code",
   "execution_count": 5,
   "metadata": {
    "papermill": {
     "duration": 0.07168,
     "end_time": "2019-11-23T05:49:49.370234",
     "exception": false,
     "start_time": "2019-11-23T05:49:49.298554",
     "status": "completed"
    },
    "tags": [
     "parameters"
    ]
   },
   "outputs": [],
   "source": [
    "DIRECTORY = os.path.join(os.environ[\"DATA_DIR\"], \"liver-ultrasound\")\n",
    "MODEL_UUID = \"04cfb42d-3e0b-4516-aa85-56f19cb4d6b9\"\n",
    "MODEL_TYPE = \"v2\"\n",
    "SELECTIONS = \"None\"\n",
    "PARAMETERS_ID = \"parameters\""
   ]
  },
  {
   "cell_type": "code",
   "execution_count": 6,
   "metadata": {
    "papermill": {
     "duration": 0.066725,
     "end_time": "2019-11-23T05:49:49.465582",
     "exception": false,
     "start_time": "2019-11-23T05:49:49.398857",
     "status": "completed"
    },
    "tags": [
     "injected-parameters"
    ]
   },
   "outputs": [],
   "source": [
    "# Parameters\n",
    "DIRECTORY = \"/media/user1/my4TB/intrepidlemon/liver-ultrasound/c3-c4-fixed\"\n",
    "MODEL_UUID = \"fd0391b6-3c63-48d9-a0b4-dc0923f48c32\"\n",
    "MODEL_TYPE = \"v2\"\n",
    "SELECTIONS = \"[]\"\n",
    "PARAMETERS_ID = \"fixed-uncertain\"\n"
   ]
  },
  {
   "cell_type": "code",
   "execution_count": 7,
   "metadata": {
    "papermill": {
     "duration": 0.049022,
     "end_time": "2019-11-23T05:49:49.548216",
     "exception": false,
     "start_time": "2019-11-23T05:49:49.499194",
     "status": "completed"
    },
    "tags": []
   },
   "outputs": [],
   "source": [
    "SELECTIONS = eval(SELECTIONS)\n",
    "FEATURES = config.FEATURES\n",
    "RAW = \"{}/raw\".format(DIRECTORY)\n",
    "TRAIN = \"{}/train\".format(DIRECTORY)\n",
    "VALIDATION = \"{}/validation\".format(DIRECTORY)\n",
    "MODEL = \"{}/models/{}-{}.h5\".format(config.OUTPUT, MODEL_UUID, MODEL_TYPE)"
   ]
  },
  {
   "cell_type": "markdown",
   "metadata": {
    "papermill": {
     "duration": 0.02072,
     "end_time": "2019-11-23T05:49:49.587394",
     "exception": false,
     "start_time": "2019-11-23T05:49:49.566674",
     "status": "completed"
    },
    "tags": []
   },
   "source": [
    "## Lesion descriptions"
   ]
  },
  {
   "cell_type": "code",
   "execution_count": 8,
   "metadata": {
    "papermill": {
     "duration": 0.550424,
     "end_time": "2019-11-23T05:49:50.160727",
     "exception": false,
     "start_time": "2019-11-23T05:49:49.610303",
     "status": "completed"
    },
    "scrolled": true,
    "tags": []
   },
   "outputs": [
    {
     "name": "stdout",
     "output_type": "stream",
     "text": [
      "Found 314 images belonging to 2 classes.\n",
      "Found 314 images belonging to 2 classes.\n"
     ]
    },
    {
     "name": "stdout",
     "output_type": "stream",
     "text": [
      "Found 80 images belonging to 2 classes.\n",
      "Found 82 images belonging to 2 classes.\n"
     ]
    }
   ],
   "source": [
    "train, validation, test = data(shuffle_train=False, validation_dir=VALIDATION, train_dir=TRAIN)"
   ]
  },
  {
   "cell_type": "code",
   "execution_count": 9,
   "metadata": {
    "papermill": {
     "duration": 0.065543,
     "end_time": "2019-11-23T05:49:50.260309",
     "exception": false,
     "start_time": "2019-11-23T05:49:50.194766",
     "status": "completed"
    },
    "tags": []
   },
   "outputs": [
    {
     "name": "stdout",
     "output_type": "stream",
     "text": [
      "training data breakdown:  {'benign': 153, 'malignant': 161}\n",
      "validation data breakdown:  {'benign': 33, 'malignant': 47}\n",
      "validation data breakdown:  {'benign': 41, 'malignant': 41}\n"
     ]
    }
   ],
   "source": [
    "print(\"training data breakdown: \", characterize_data(train))\n",
    "print(\"validation data breakdown: \", characterize_data(validation))\n",
    "print(\"validation data breakdown: \", characterize_data(test))"
   ]
  },
  {
   "cell_type": "code",
   "execution_count": 10,
   "metadata": {
    "papermill": {
     "duration": 0.07356,
     "end_time": "2019-11-23T05:49:50.366554",
     "exception": false,
     "start_time": "2019-11-23T05:49:50.292994",
     "status": "completed"
    },
    "tags": []
   },
   "outputs": [
    {
     "data": {
      "text/plain": [
       "20"
      ]
     },
     "execution_count": 10,
     "metadata": {},
     "output_type": "execute_result"
    }
   ],
   "source": [
    "len(train)"
   ]
  },
  {
   "cell_type": "code",
   "execution_count": 11,
   "metadata": {
    "papermill": {
     "duration": 0.069558,
     "end_time": "2019-11-23T05:49:50.468060",
     "exception": false,
     "start_time": "2019-11-23T05:49:50.398502",
     "status": "completed"
    },
    "tags": []
   },
   "outputs": [
    {
     "name": "stdout",
     "output_type": "stream",
     "text": [
      "80\n"
     ]
    }
   ],
   "source": [
    "print(validation.n)"
   ]
  },
  {
   "cell_type": "code",
   "execution_count": 12,
   "metadata": {
    "papermill": {
     "duration": 25.427313,
     "end_time": "2019-11-23T05:50:15.934644",
     "exception": false,
     "start_time": "2019-11-23T05:49:50.507331",
     "status": "completed"
    },
    "scrolled": true,
    "tags": []
   },
   "outputs": [],
   "source": [
    "model = load(MODEL)"
   ]
  },
  {
   "cell_type": "code",
   "execution_count": 13,
   "metadata": {
    "papermill": {
     "duration": 3.933203,
     "end_time": "2019-11-23T05:50:19.890403",
     "exception": false,
     "start_time": "2019-11-23T05:50:15.957200",
     "status": "completed"
    },
    "tags": []
   },
   "outputs": [],
   "source": [
    "results = get_results(model, test)"
   ]
  },
  {
   "cell_type": "code",
   "execution_count": 14,
   "metadata": {
    "papermill": {
     "duration": 0.084164,
     "end_time": "2019-11-23T05:50:20.008995",
     "exception": false,
     "start_time": "2019-11-23T05:50:19.924831",
     "status": "completed"
    },
    "tags": []
   },
   "outputs": [
    {
     "data": {
      "text/plain": [
       "array([[7.1073353e-02],\n",
       "       [5.8029598e-01],\n",
       "       [2.2757748e-01],\n",
       "       [8.3892606e-02],\n",
       "       [4.1936815e-02],\n",
       "       [7.3100269e-02],\n",
       "       [5.9888046e-04],\n",
       "       [4.5040961e-02],\n",
       "       [5.2932012e-01],\n",
       "       [6.1061227e-01],\n",
       "       [4.8426512e-01],\n",
       "       [6.4382911e-01],\n",
       "       [4.6991232e-01],\n",
       "       [1.3711634e-03],\n",
       "       [6.1983389e-01],\n",
       "       [6.4382911e-01],\n",
       "       [3.0253610e-01],\n",
       "       [4.7761422e-01],\n",
       "       [5.8004695e-01],\n",
       "       [6.0696626e-01],\n",
       "       [5.5854863e-01],\n",
       "       [6.4334387e-01],\n",
       "       [4.9193077e-02],\n",
       "       [1.5407433e-03],\n",
       "       [6.2962538e-01],\n",
       "       [8.9996807e-02],\n",
       "       [7.0094839e-02],\n",
       "       [3.4241125e-02],\n",
       "       [1.4104849e-01],\n",
       "       [4.0905082e-01],\n",
       "       [1.5830888e-01],\n",
       "       [1.2865661e-01],\n",
       "       [6.4673595e-02],\n",
       "       [6.3644671e-01],\n",
       "       [1.8872473e-01],\n",
       "       [9.3179457e-02],\n",
       "       [2.1914788e-02],\n",
       "       [3.2317889e-01],\n",
       "       [6.4210999e-01],\n",
       "       [5.9835511e-01],\n",
       "       [6.1247832e-01],\n",
       "       [5.3520739e-01],\n",
       "       [6.3917004e-02],\n",
       "       [1.7702799e-01],\n",
       "       [6.4231378e-01],\n",
       "       [5.1263434e-01],\n",
       "       [1.8285299e-02],\n",
       "       [1.5019225e-01],\n",
       "       [6.4382911e-01],\n",
       "       [6.4384830e-01],\n",
       "       [6.4153600e-01],\n",
       "       [5.0064039e-01],\n",
       "       [6.4097440e-01],\n",
       "       [6.4005250e-01],\n",
       "       [5.5724549e-01],\n",
       "       [5.7250828e-01],\n",
       "       [3.4698960e-01],\n",
       "       [6.3371563e-01],\n",
       "       [5.5927348e-01],\n",
       "       [3.2620931e-01],\n",
       "       [6.4373022e-01],\n",
       "       [6.4008659e-01],\n",
       "       [5.7715636e-01],\n",
       "       [6.4351779e-01],\n",
       "       [1.8323556e-02],\n",
       "       [6.3271666e-01],\n",
       "       [6.4382911e-01],\n",
       "       [6.4382911e-01],\n",
       "       [4.9988791e-01],\n",
       "       [5.7291329e-01],\n",
       "       [6.4382911e-01],\n",
       "       [6.4382911e-01],\n",
       "       [6.4362770e-01],\n",
       "       [4.9947900e-01],\n",
       "       [6.4382911e-01],\n",
       "       [6.4114797e-01],\n",
       "       [6.4050037e-01],\n",
       "       [6.4382911e-01],\n",
       "       [6.4281231e-01],\n",
       "       [6.4382911e-01],\n",
       "       [6.3908219e-01],\n",
       "       [6.4378285e-01]], dtype=float32)"
      ]
     },
     "execution_count": 14,
     "metadata": {},
     "output_type": "execute_result"
    }
   ],
   "source": [
    "results"
   ]
  },
  {
   "cell_type": "code",
   "execution_count": 15,
   "metadata": {
    "papermill": {
     "duration": 0.069036,
     "end_time": "2019-11-23T05:50:20.116464",
     "exception": false,
     "start_time": "2019-11-23T05:50:20.047428",
     "status": "completed"
    },
    "tags": []
   },
   "outputs": [],
   "source": [
    "probabilities = transform_binary_probabilities(results)\n",
    "predictions = transform_binary_predictions(results)\n",
    "labels = get_labels(test)"
   ]
  },
  {
   "cell_type": "markdown",
   "metadata": {
    "papermill": {
     "duration": 0.021823,
     "end_time": "2019-11-23T05:50:20.175645",
     "exception": false,
     "start_time": "2019-11-23T05:50:20.153822",
     "status": "completed"
    },
    "tags": []
   },
   "source": [
    "## Accuracy and loss"
   ]
  },
  {
   "cell_type": "code",
   "execution_count": 16,
   "metadata": {
    "papermill": {
     "duration": 1.481731,
     "end_time": "2019-11-23T05:50:21.679524",
     "exception": false,
     "start_time": "2019-11-23T05:50:20.197793",
     "status": "completed"
    },
    "scrolled": false,
    "tags": []
   },
   "outputs": [
    {
     "name": "stdout",
     "output_type": "stream",
     "text": [
      "Accuracy: 0.7073170731707317\n",
      "Loss: 0.6398000208342948\n"
     ]
    }
   ],
   "source": [
    "loss, accuracy = calculate_accuracy_loss(model, test)\n",
    "print(\"Accuracy:\", accuracy)\n",
    "print(\"Loss:\", loss)"
   ]
  },
  {
   "cell_type": "markdown",
   "metadata": {
    "papermill": {
     "duration": 0.021862,
     "end_time": "2019-11-23T05:50:21.736820",
     "exception": false,
     "start_time": "2019-11-23T05:50:21.714958",
     "status": "completed"
    },
    "tags": []
   },
   "source": [
    "## Confusion matrix"
   ]
  },
  {
   "cell_type": "code",
   "execution_count": 17,
   "metadata": {
    "papermill": {
     "duration": 0.361394,
     "end_time": "2019-11-23T05:50:22.120458",
     "exception": false,
     "start_time": "2019-11-23T05:50:21.759064",
     "status": "completed"
    },
    "scrolled": true,
    "tags": []
   },
   "outputs": [
    {
     "data": {
      "image/png": "[encoded data removed]",
      "text/plain": [
       "<Figure size 432x288 with 1 Axes>"
      ]
     },
     "metadata": {},
     "output_type": "display_data"
    }
   ],
   "source": [
    "fig = plot_confusion_matrix(test, results)\n",
    "fig.savefig(\"figures/{}-confusion-matrix.svg\".format(PARAMETERS_ID), bbox_inches = \"tight\")"
   ]
  },
  {
   "cell_type": "code",
   "execution_count": 18,
   "metadata": {
    "papermill": {
     "duration": 0.099509,
     "end_time": "2019-11-23T05:50:22.260298",
     "exception": false,
     "start_time": "2019-11-23T05:50:22.160789",
     "status": "completed"
    },
    "scrolled": true,
    "tags": []
   },
   "outputs": [
    {
     "data": {
      "text/html": [
       "<div>\n",
       "<style scoped>\n",
       "    .dataframe tbody tr th:only-of-type {\n",
       "        vertical-align: middle;\n",
       "    }\n",
       "\n",
       "    .dataframe tbody tr th {\n",
       "        vertical-align: top;\n",
       "    }\n",
       "\n",
       "    .dataframe thead th {\n",
       "        text-align: right;\n",
       "    }\n",
       "</style>\n",
       "<table border=\"1\" class=\"dataframe\">\n",
       "  <thead>\n",
       "    <tr style=\"text-align: right;\">\n",
       "      <th></th>\n",
       "      <th>Acc</th>\n",
       "      <th>TP</th>\n",
       "      <th>TN</th>\n",
       "      <th>FP</th>\n",
       "      <th>FN</th>\n",
       "      <th>TPR</th>\n",
       "      <th>TNR</th>\n",
       "      <th>PPV</th>\n",
       "      <th>NPV</th>\n",
       "      <th>FPR</th>\n",
       "      <th>FNR</th>\n",
       "      <th>FDR</th>\n",
       "    </tr>\n",
       "  </thead>\n",
       "  <tbody>\n",
       "    <tr>\n",
       "      <th>benign</th>\n",
       "      <td>0.707</td>\n",
       "      <td>26</td>\n",
       "      <td>32</td>\n",
       "      <td>9</td>\n",
       "      <td>15</td>\n",
       "      <td>0.634</td>\n",
       "      <td>0.780</td>\n",
       "      <td>0.743</td>\n",
       "      <td>0.681</td>\n",
       "      <td>0.220</td>\n",
       "      <td>0.366</td>\n",
       "      <td>0.257</td>\n",
       "    </tr>\n",
       "    <tr>\n",
       "      <th>malignant</th>\n",
       "      <td>0.707</td>\n",
       "      <td>32</td>\n",
       "      <td>26</td>\n",
       "      <td>15</td>\n",
       "      <td>9</td>\n",
       "      <td>0.780</td>\n",
       "      <td>0.634</td>\n",
       "      <td>0.681</td>\n",
       "      <td>0.743</td>\n",
       "      <td>0.366</td>\n",
       "      <td>0.220</td>\n",
       "      <td>0.319</td>\n",
       "    </tr>\n",
       "  </tbody>\n",
       "</table>\n",
       "</div>"
      ],
      "text/plain": [
       "            Acc  TP  TN  FP  FN   TPR   TNR   PPV   NPV   FPR   FNR   FDR\n",
       "benign    0.707  26  32   9  15 0.634 0.780 0.743 0.681 0.220 0.366 0.257\n",
       "malignant 0.707  32  26  15   9 0.780 0.634 0.681 0.743 0.366 0.220 0.319"
      ]
     },
     "execution_count": 18,
     "metadata": {},
     "output_type": "execute_result"
    }
   ],
   "source": [
    "stats = calculate_confusion_matrix_stats(labels, results)\n",
    "pandas.DataFrame(stats, index=test.class_indices)"
   ]
  },
  {
   "cell_type": "markdown",
   "metadata": {
    "papermill": {
     "duration": 0.023121,
     "end_time": "2019-11-23T05:50:22.322900",
     "exception": false,
     "start_time": "2019-11-23T05:50:22.299779",
     "status": "completed"
    },
    "tags": []
   },
   "source": [
    "## ROC Curve standalone"
   ]
  },
  {
   "cell_type": "code",
   "execution_count": 19,
   "metadata": {
    "papermill": {
     "duration": 0.735738,
     "end_time": "2019-11-23T05:50:23.081859",
     "exception": false,
     "start_time": "2019-11-23T05:50:22.346121",
     "status": "completed"
    },
    "tags": []
   },
   "outputs": [
    {
     "data": {
      "image/png": "[encoded data removed]",
      "text/plain": [
       "<Figure size 432x288 with 1 Axes>"
      ]
     },
     "execution_count": 19,
     "metadata": {},
     "output_type": "execute_result"
    },
    {
     "data": {
      "image/png": "[encoded data removed]",
      "text/plain": [
       "<Figure size 432x288 with 1 Axes>"
      ]
     },
     "metadata": {},
     "output_type": "display_data"
    }
   ],
   "source": [
    "plot_roc_curve(labels, results)"
   ]
  },
  {
   "cell_type": "code",
   "execution_count": 20,
   "metadata": {
    "papermill": {
     "duration": 0.072761,
     "end_time": "2019-11-23T05:50:23.189311",
     "exception": false,
     "start_time": "2019-11-23T05:50:23.116550",
     "status": "completed"
    },
    "tags": []
   },
   "outputs": [
    {
     "name": "stdout",
     "output_type": "stream",
     "text": [
      "ROC AUC: 0.7656157049375372\n"
     ]
    }
   ],
   "source": [
    "print(\"ROC AUC:\", roc_auc_score(labels, probabilities))"
   ]
  },
  {
   "cell_type": "markdown",
   "metadata": {
    "papermill": {
     "duration": 0.023014,
     "end_time": "2019-11-23T05:50:23.249347",
     "exception": false,
     "start_time": "2019-11-23T05:50:23.226333",
     "status": "completed"
    },
    "tags": []
   },
   "source": [
    "## Precision Recall"
   ]
  },
  {
   "cell_type": "code",
   "execution_count": 21,
   "metadata": {
    "papermill": {
     "duration": 0.077908,
     "end_time": "2019-11-23T05:50:23.350901",
     "exception": false,
     "start_time": "2019-11-23T05:50:23.272993",
     "status": "completed"
    },
    "tags": []
   },
   "outputs": [
    {
     "name": "stdout",
     "output_type": "stream",
     "text": [
      "Average precision: 0.7538661763387774\n",
      "Precision: 0.6808510638297872 Recall: 0.7804878048780488\n"
     ]
    }
   ],
   "source": [
    "print(\"Average precision:\", average_precision_score(labels, probabilities))\n",
    "print(\"Precision:\", precision_score(labels, predictions), \"Recall:\", recall_score(labels, predictions))"
   ]
  },
  {
   "cell_type": "code",
   "execution_count": 22,
   "metadata": {
    "papermill": {
     "duration": 0.648123,
     "end_time": "2019-11-23T05:50:24.037082",
     "exception": false,
     "start_time": "2019-11-23T05:50:23.388959",
     "status": "completed"
    },
    "scrolled": false,
    "tags": []
   },
   "outputs": [
    {
     "data": {
      "image/png": "[encoded data removed]",
      "text/plain": [
       "<Figure size 432x288 with 1 Axes>"
      ]
     },
     "metadata": {},
     "output_type": "display_data"
    }
   ],
   "source": [
    "fig = plot_precision_recall(labels, results)\n",
    "fig.savefig(\"figures/{}-precision-recall.svg\".format(PARAMETERS_ID), bbox_inches = \"tight\")"
   ]
  },
  {
   "cell_type": "code",
   "execution_count": 23,
   "metadata": {
    "papermill": {
     "duration": 0.072764,
     "end_time": "2019-11-23T05:50:24.146803",
     "exception": false,
     "start_time": "2019-11-23T05:50:24.074039",
     "status": "completed"
    },
    "tags": []
   },
   "outputs": [
    {
     "name": "stdout",
     "output_type": "stream",
     "text": [
      "PR AUC: 0.7684308941406791\n"
     ]
    }
   ],
   "source": [
    "print(\"PR AUC:\", calculate_pr_auc(labels, results))"
   ]
  },
  {
   "cell_type": "markdown",
   "metadata": {
    "papermill": {
     "duration": 0.025298,
     "end_time": "2019-11-23T05:50:24.208669",
     "exception": false,
     "start_time": "2019-11-23T05:50:24.183371",
     "status": "completed"
    },
    "tags": []
   },
   "source": [
    "## F1 Score"
   ]
  },
  {
   "cell_type": "code",
   "execution_count": 24,
   "metadata": {
    "papermill": {
     "duration": 0.073099,
     "end_time": "2019-11-23T05:50:24.309704",
     "exception": false,
     "start_time": "2019-11-23T05:50:24.236605",
     "status": "completed"
    },
    "tags": []
   },
   "outputs": [
    {
     "name": "stdout",
     "output_type": "stream",
     "text": [
      "F1 score: 0.7272727272727273\n"
     ]
    }
   ],
   "source": [
    "print(\"F1 score:\", f1_score(labels, predictions))"
   ]
  },
  {
   "cell_type": "markdown",
   "metadata": {
    "papermill": {
     "duration": 0.025721,
     "end_time": "2019-11-23T05:50:24.372204",
     "exception": false,
     "start_time": "2019-11-23T05:50:24.346483",
     "status": "completed"
    },
    "tags": []
   },
   "source": [
    "## TSNE"
   ]
  },
  {
   "cell_type": "code",
   "execution_count": 25,
   "metadata": {
    "papermill": {
     "duration": 0.094177,
     "end_time": "2019-11-23T05:50:24.493148",
     "exception": false,
     "start_time": "2019-11-23T05:50:24.398971",
     "status": "completed"
    },
    "tags": []
   },
   "outputs": [],
   "source": [
    "diagnosis, malignancy, evidence = all_features(features=FEATURES)"
   ]
  },
  {
   "cell_type": "code",
   "execution_count": 26,
   "metadata": {
    "papermill": {
     "duration": 0.077162,
     "end_time": "2019-11-23T05:50:24.611779",
     "exception": false,
     "start_time": "2019-11-23T05:50:24.534617",
     "status": "completed"
    },
    "scrolled": true,
    "tags": []
   },
   "outputs": [],
   "source": [
    "tsne_dataset = train"
   ]
  },
  {
   "cell_type": "code",
   "execution_count": 27,
   "metadata": {
    "papermill": {
     "duration": 1.083806,
     "end_time": "2019-11-23T05:50:25.736631",
     "exception": false,
     "start_time": "2019-11-23T05:50:24.652825",
     "status": "completed"
    },
    "tags": []
   },
   "outputs": [],
   "source": [
    "train_results = get_results(model, train)\n",
    "train_predictions = [\"malignant\" if t else \"benign\" for t in transform_binary_predictions(train_results)]"
   ]
  },
  {
   "cell_type": "code",
   "execution_count": 28,
   "metadata": {
    "papermill": {
     "duration": 0.209751,
     "end_time": "2019-11-23T05:50:25.985557",
     "exception": false,
     "start_time": "2019-11-23T05:50:25.775806",
     "status": "completed"
    },
    "tags": []
   },
   "outputs": [],
   "source": [
    "tsne_labels = [[malignancy.get(accession_from_filename(f), \"unknown\") for f in tsne_dataset.filenames], train_predictions]"
   ]
  },
  {
   "cell_type": "code",
   "execution_count": 29,
   "metadata": {
    "papermill": {
     "duration": 0.078275,
     "end_time": "2019-11-23T05:50:26.105865",
     "exception": false,
     "start_time": "2019-11-23T05:50:26.027590",
     "status": "completed"
    },
    "scrolled": true,
    "tags": []
   },
   "outputs": [
    {
     "data": {
      "text/plain": [
       "[['benign',\n",
       "  'benign',\n",
       "  'benign',\n",
       "  'benign',\n",
       "  'benign',\n",
       "  'benign',\n",
       "  'benign',\n",
       "  'benign',\n",
       "  'benign',\n",
       "  'benign',\n",
       "  'benign',\n",
       "  'benign',\n",
       "  'benign',\n",
       "  'benign',\n",
       "  'benign',\n",
       "  'benign',\n",
       "  'benign',\n",
       "  'benign',\n",
       "  'benign',\n",
       "  'benign',\n",
       "  'benign',\n",
       "  'benign',\n",
       "  'benign',\n",
       "  'benign',\n",
       "  'benign',\n",
       "  'benign',\n",
       "  'benign',\n",
       "  'benign',\n",
       "  'benign',\n",
       "  'benign',\n",
       "  'benign',\n",
       "  'benign',\n",
       "  'benign',\n",
       "  'benign',\n",
       "  'benign',\n",
       "  'benign',\n",
       "  'benign',\n",
       "  'benign',\n",
       "  'benign',\n",
       "  'benign',\n",
       "  'benign',\n",
       "  'benign',\n",
       "  'benign',\n",
       "  'benign',\n",
       "  'benign',\n",
       "  'benign',\n",
       "  'benign',\n",
       "  'benign',\n",
       "  'benign',\n",
       "  'benign',\n",
       "  'benign',\n",
       "  'benign',\n",
       "  'benign',\n",
       "  'benign',\n",
       "  'benign',\n",
       "  'benign',\n",
       "  'benign',\n",
       "  'benign',\n",
       "  'benign',\n",
       "  'benign',\n",
       "  'benign',\n",
       "  'benign',\n",
       "  'benign',\n",
       "  'benign',\n",
       "  'benign',\n",
       "  'benign',\n",
       "  'benign',\n",
       "  'benign',\n",
       "  'benign',\n",
       "  'benign',\n",
       "  'benign',\n",
       "  'benign',\n",
       "  'benign',\n",
       "  'benign',\n",
       "  'benign',\n",
       "  'benign',\n",
       "  'benign',\n",
       "  'benign',\n",
       "  'benign',\n",
       "  'benign',\n",
       "  'benign',\n",
       "  'benign',\n",
       "  'benign',\n",
       "  'benign',\n",
       "  'benign',\n",
       "  'benign',\n",
       "  'benign',\n",
       "  'benign',\n",
       "  'benign',\n",
       "  'benign',\n",
       "  'benign',\n",
       "  'benign',\n",
       "  'benign',\n",
       "  'benign',\n",
       "  'benign',\n",
       "  'benign',\n",
       "  'benign',\n",
       "  'benign',\n",
       "  'benign',\n",
       "  'benign',\n",
       "  'benign',\n",
       "  'benign',\n",
       "  'benign',\n",
       "  'benign',\n",
       "  'benign',\n",
       "  'benign',\n",
       "  'benign',\n",
       "  'benign',\n",
       "  'benign',\n",
       "  'benign',\n",
       "  'benign',\n",
       "  'benign',\n",
       "  'benign',\n",
       "  'benign',\n",
       "  'benign',\n",
       "  'benign',\n",
       "  'benign',\n",
       "  'benign',\n",
       "  'benign',\n",
       "  'benign',\n",
       "  'benign',\n",
       "  'benign',\n",
       "  'benign',\n",
       "  'benign',\n",
       "  'benign',\n",
       "  'benign',\n",
       "  'benign',\n",
       "  'benign',\n",
       "  'benign',\n",
       "  'benign',\n",
       "  'benign',\n",
       "  'benign',\n",
       "  'benign',\n",
       "  'benign',\n",
       "  'benign',\n",
       "  'benign',\n",
       "  'benign',\n",
       "  'benign',\n",
       "  'benign',\n",
       "  'benign',\n",
       "  'benign',\n",
       "  'benign',\n",
       "  'benign',\n",
       "  'benign',\n",
       "  'benign',\n",
       "  'benign',\n",
       "  'benign',\n",
       "  'benign',\n",
       "  'benign',\n",
       "  'benign',\n",
       "  'benign',\n",
       "  'benign',\n",
       "  'benign',\n",
       "  'malignant',\n",
       "  'malignant',\n",
       "  'malignant',\n",
       "  'malignant',\n",
       "  'malignant',\n",
       "  'malignant',\n",
       "  'malignant',\n",
       "  'malignant',\n",
       "  'malignant',\n",
       "  'malignant',\n",
       "  'malignant',\n",
       "  'malignant',\n",
       "  'malignant',\n",
       "  'malignant',\n",
       "  'malignant',\n",
       "  'malignant',\n",
       "  'malignant',\n",
       "  'malignant',\n",
       "  'malignant',\n",
       "  'malignant',\n",
       "  'malignant',\n",
       "  'malignant',\n",
       "  'malignant',\n",
       "  'malignant',\n",
       "  'malignant',\n",
       "  'malignant',\n",
       "  'malignant',\n",
       "  'malignant',\n",
       "  'malignant',\n",
       "  'malignant',\n",
       "  'malignant',\n",
       "  'malignant',\n",
       "  'malignant',\n",
       "  'malignant',\n",
       "  'malignant',\n",
       "  'malignant',\n",
       "  'malignant',\n",
       "  'malignant',\n",
       "  'malignant',\n",
       "  'malignant',\n",
       "  'malignant',\n",
       "  'malignant',\n",
       "  'malignant',\n",
       "  'malignant',\n",
       "  'malignant',\n",
       "  'malignant',\n",
       "  'malignant',\n",
       "  'malignant',\n",
       "  'malignant',\n",
       "  'malignant',\n",
       "  'malignant',\n",
       "  'malignant',\n",
       "  'malignant',\n",
       "  'malignant',\n",
       "  'malignant',\n",
       "  'malignant',\n",
       "  'malignant',\n",
       "  'malignant',\n",
       "  'malignant',\n",
       "  'malignant',\n",
       "  'malignant',\n",
       "  'malignant',\n",
       "  'malignant',\n",
       "  'malignant',\n",
       "  'malignant',\n",
       "  'malignant',\n",
       "  'malignant',\n",
       "  'malignant',\n",
       "  'malignant',\n",
       "  'malignant',\n",
       "  'malignant',\n",
       "  'malignant',\n",
       "  'malignant',\n",
       "  'malignant',\n",
       "  'malignant',\n",
       "  'malignant',\n",
       "  'malignant',\n",
       "  'malignant',\n",
       "  'malignant',\n",
       "  'malignant',\n",
       "  'malignant',\n",
       "  'malignant',\n",
       "  'malignant',\n",
       "  'malignant',\n",
       "  'malignant',\n",
       "  'malignant',\n",
       "  'malignant',\n",
       "  'malignant',\n",
       "  'malignant',\n",
       "  'malignant',\n",
       "  'malignant',\n",
       "  'malignant',\n",
       "  'malignant',\n",
       "  'malignant',\n",
       "  'malignant',\n",
       "  'malignant',\n",
       "  'malignant',\n",
       "  'malignant',\n",
       "  'malignant',\n",
       "  'malignant',\n",
       "  'malignant',\n",
       "  'malignant',\n",
       "  'malignant',\n",
       "  'malignant',\n",
       "  'malignant',\n",
       "  'malignant',\n",
       "  'malignant',\n",
       "  'malignant',\n",
       "  'malignant',\n",
       "  'malignant',\n",
       "  'malignant',\n",
       "  'malignant',\n",
       "  'malignant',\n",
       "  'malignant',\n",
       "  'malignant',\n",
       "  'malignant',\n",
       "  'malignant',\n",
       "  'malignant',\n",
       "  'malignant',\n",
       "  'malignant',\n",
       "  'malignant',\n",
       "  'malignant',\n",
       "  'malignant',\n",
       "  'malignant',\n",
       "  'malignant',\n",
       "  'malignant',\n",
       "  'malignant',\n",
       "  'malignant',\n",
       "  'malignant',\n",
       "  'malignant',\n",
       "  'malignant',\n",
       "  'malignant',\n",
       "  'malignant',\n",
       "  'malignant',\n",
       "  'malignant',\n",
       "  'malignant',\n",
       "  'malignant',\n",
       "  'malignant',\n",
       "  'malignant',\n",
       "  'malignant',\n",
       "  'malignant',\n",
       "  'malignant',\n",
       "  'malignant',\n",
       "  'malignant',\n",
       "  'malignant',\n",
       "  'malignant',\n",
       "  'malignant',\n",
       "  'malignant',\n",
       "  'malignant',\n",
       "  'malignant',\n",
       "  'malignant',\n",
       "  'malignant',\n",
       "  'malignant',\n",
       "  'malignant',\n",
       "  'malignant',\n",
       "  'malignant',\n",
       "  'malignant',\n",
       "  'malignant',\n",
       "  'malignant',\n",
       "  'malignant',\n",
       "  'malignant'],\n",
       " ['benign',\n",
       "  'malignant',\n",
       "  'benign',\n",
       "  'benign',\n",
       "  'benign',\n",
       "  'benign',\n",
       "  'malignant',\n",
       "  'benign',\n",
       "  'benign',\n",
       "  'benign',\n",
       "  'benign',\n",
       "  'benign',\n",
       "  'benign',\n",
       "  'benign',\n",
       "  'benign',\n",
       "  'benign',\n",
       "  'benign',\n",
       "  'benign',\n",
       "  'benign',\n",
       "  'benign',\n",
       "  'benign',\n",
       "  'benign',\n",
       "  'benign',\n",
       "  'benign',\n",
       "  'benign',\n",
       "  'benign',\n",
       "  'benign',\n",
       "  'benign',\n",
       "  'benign',\n",
       "  'benign',\n",
       "  'benign',\n",
       "  'benign',\n",
       "  'benign',\n",
       "  'benign',\n",
       "  'benign',\n",
       "  'benign',\n",
       "  'benign',\n",
       "  'benign',\n",
       "  'benign',\n",
       "  'benign',\n",
       "  'benign',\n",
       "  'benign',\n",
       "  'benign',\n",
       "  'benign',\n",
       "  'benign',\n",
       "  'benign',\n",
       "  'benign',\n",
       "  'malignant',\n",
       "  'benign',\n",
       "  'benign',\n",
       "  'benign',\n",
       "  'benign',\n",
       "  'benign',\n",
       "  'benign',\n",
       "  'benign',\n",
       "  'benign',\n",
       "  'malignant',\n",
       "  'malignant',\n",
       "  'malignant',\n",
       "  'benign',\n",
       "  'benign',\n",
       "  'benign',\n",
       "  'benign',\n",
       "  'benign',\n",
       "  'benign',\n",
       "  'malignant',\n",
       "  'benign',\n",
       "  'benign',\n",
       "  'benign',\n",
       "  'benign',\n",
       "  'benign',\n",
       "  'benign',\n",
       "  'benign',\n",
       "  'benign',\n",
       "  'benign',\n",
       "  'benign',\n",
       "  'benign',\n",
       "  'benign',\n",
       "  'benign',\n",
       "  'benign',\n",
       "  'benign',\n",
       "  'benign',\n",
       "  'benign',\n",
       "  'benign',\n",
       "  'benign',\n",
       "  'benign',\n",
       "  'benign',\n",
       "  'benign',\n",
       "  'benign',\n",
       "  'benign',\n",
       "  'benign',\n",
       "  'benign',\n",
       "  'benign',\n",
       "  'benign',\n",
       "  'benign',\n",
       "  'benign',\n",
       "  'benign',\n",
       "  'benign',\n",
       "  'benign',\n",
       "  'benign',\n",
       "  'benign',\n",
       "  'benign',\n",
       "  'benign',\n",
       "  'benign',\n",
       "  'malignant',\n",
       "  'benign',\n",
       "  'benign',\n",
       "  'benign',\n",
       "  'benign',\n",
       "  'benign',\n",
       "  'benign',\n",
       "  'benign',\n",
       "  'benign',\n",
       "  'benign',\n",
       "  'malignant',\n",
       "  'benign',\n",
       "  'benign',\n",
       "  'benign',\n",
       "  'benign',\n",
       "  'benign',\n",
       "  'benign',\n",
       "  'benign',\n",
       "  'benign',\n",
       "  'benign',\n",
       "  'benign',\n",
       "  'benign',\n",
       "  'benign',\n",
       "  'benign',\n",
       "  'benign',\n",
       "  'benign',\n",
       "  'benign',\n",
       "  'benign',\n",
       "  'benign',\n",
       "  'benign',\n",
       "  'benign',\n",
       "  'benign',\n",
       "  'benign',\n",
       "  'malignant',\n",
       "  'benign',\n",
       "  'benign',\n",
       "  'benign',\n",
       "  'benign',\n",
       "  'benign',\n",
       "  'benign',\n",
       "  'malignant',\n",
       "  'malignant',\n",
       "  'benign',\n",
       "  'benign',\n",
       "  'benign',\n",
       "  'benign',\n",
       "  'benign',\n",
       "  'benign',\n",
       "  'benign',\n",
       "  'malignant',\n",
       "  'malignant',\n",
       "  'malignant',\n",
       "  'malignant',\n",
       "  'malignant',\n",
       "  'malignant',\n",
       "  'malignant',\n",
       "  'benign',\n",
       "  'malignant',\n",
       "  'malignant',\n",
       "  'malignant',\n",
       "  'malignant',\n",
       "  'malignant',\n",
       "  'malignant',\n",
       "  'malignant',\n",
       "  'malignant',\n",
       "  'malignant',\n",
       "  'malignant',\n",
       "  'malignant',\n",
       "  'malignant',\n",
       "  'malignant',\n",
       "  'malignant',\n",
       "  'malignant',\n",
       "  'malignant',\n",
       "  'malignant',\n",
       "  'malignant',\n",
       "  'malignant',\n",
       "  'malignant',\n",
       "  'malignant',\n",
       "  'malignant',\n",
       "  'malignant',\n",
       "  'malignant',\n",
       "  'malignant',\n",
       "  'malignant',\n",
       "  'benign',\n",
       "  'malignant',\n",
       "  'malignant',\n",
       "  'malignant',\n",
       "  'malignant',\n",
       "  'malignant',\n",
       "  'malignant',\n",
       "  'malignant',\n",
       "  'malignant',\n",
       "  'malignant',\n",
       "  'malignant',\n",
       "  'malignant',\n",
       "  'malignant',\n",
       "  'malignant',\n",
       "  'malignant',\n",
       "  'malignant',\n",
       "  'malignant',\n",
       "  'malignant',\n",
       "  'malignant',\n",
       "  'malignant',\n",
       "  'benign',\n",
       "  'malignant',\n",
       "  'malignant',\n",
       "  'malignant',\n",
       "  'benign',\n",
       "  'malignant',\n",
       "  'malignant',\n",
       "  'malignant',\n",
       "  'malignant',\n",
       "  'malignant',\n",
       "  'benign',\n",
       "  'malignant',\n",
       "  'malignant',\n",
       "  'malignant',\n",
       "  'malignant',\n",
       "  'malignant',\n",
       "  'benign',\n",
       "  'benign',\n",
       "  'malignant',\n",
       "  'malignant',\n",
       "  'malignant',\n",
       "  'malignant',\n",
       "  'malignant',\n",
       "  'malignant',\n",
       "  'malignant',\n",
       "  'malignant',\n",
       "  'malignant',\n",
       "  'malignant',\n",
       "  'malignant',\n",
       "  'malignant',\n",
       "  'malignant',\n",
       "  'malignant',\n",
       "  'benign',\n",
       "  'malignant',\n",
       "  'malignant',\n",
       "  'malignant',\n",
       "  'malignant',\n",
       "  'malignant',\n",
       "  'malignant',\n",
       "  'malignant',\n",
       "  'malignant',\n",
       "  'malignant',\n",
       "  'malignant',\n",
       "  'malignant',\n",
       "  'malignant',\n",
       "  'malignant',\n",
       "  'malignant',\n",
       "  'malignant',\n",
       "  'malignant',\n",
       "  'malignant',\n",
       "  'malignant',\n",
       "  'malignant',\n",
       "  'malignant',\n",
       "  'malignant',\n",
       "  'malignant',\n",
       "  'benign',\n",
       "  'malignant',\n",
       "  'malignant',\n",
       "  'malignant',\n",
       "  'malignant',\n",
       "  'malignant',\n",
       "  'malignant',\n",
       "  'malignant',\n",
       "  'malignant',\n",
       "  'malignant',\n",
       "  'malignant',\n",
       "  'malignant',\n",
       "  'malignant',\n",
       "  'malignant',\n",
       "  'malignant',\n",
       "  'malignant',\n",
       "  'malignant',\n",
       "  'malignant',\n",
       "  'malignant',\n",
       "  'malignant',\n",
       "  'malignant',\n",
       "  'malignant',\n",
       "  'malignant',\n",
       "  'malignant',\n",
       "  'malignant',\n",
       "  'malignant',\n",
       "  'malignant',\n",
       "  'malignant',\n",
       "  'malignant',\n",
       "  'malignant',\n",
       "  'malignant',\n",
       "  'malignant',\n",
       "  'malignant',\n",
       "  'malignant',\n",
       "  'malignant',\n",
       "  'malignant',\n",
       "  'malignant',\n",
       "  'malignant',\n",
       "  'malignant',\n",
       "  'malignant',\n",
       "  'malignant',\n",
       "  'malignant',\n",
       "  'malignant',\n",
       "  'malignant',\n",
       "  'malignant',\n",
       "  'malignant',\n",
       "  'malignant',\n",
       "  'malignant',\n",
       "  'malignant',\n",
       "  'malignant',\n",
       "  'malignant',\n",
       "  'malignant']]"
      ]
     },
     "execution_count": 29,
     "metadata": {},
     "output_type": "execute_result"
    }
   ],
   "source": [
    "tsne_labels"
   ]
  },
  {
   "cell_type": "code",
   "execution_count": 30,
   "metadata": {
    "papermill": {
     "duration": 4.068744,
     "end_time": "2019-11-23T05:50:30.216655",
     "exception": false,
     "start_time": "2019-11-23T05:50:26.147911",
     "status": "completed"
    },
    "scrolled": true,
    "tags": []
   },
   "outputs": [
    {
     "data": {
      "image/png": "[encoded data removed]",
      "text/plain": [
       "<Figure size 432x288 with 1 Axes>"
      ]
     },
     "metadata": {},
     "output_type": "display_data"
    },
    {
     "data": {
      "image/png": "[encoded data removed]",
      "text/plain": [
       "<Figure size 432x288 with 1 Axes>"
      ]
     },
     "metadata": {},
     "output_type": "display_data"
    }
   ],
   "source": [
    "fig = plot_tsne(model, \"dense_5\", tsne_dataset, tsne_labels, perplexity=5, fieldnames=[\"diagnosis by MRI or histopathology\", \"model prediction\"])\n",
    "fig[0].savefig(\"figures/label-{}-tsne.svg\".format(PARAMETERS_ID), bbox_inches = \"tight\")\n",
    "fig[1].savefig(\"figures/model-{}-tsne.svg\".format(PARAMETERS_ID), bbox_inches = \"tight\")"
   ]
  },
  {
   "cell_type": "markdown",
   "metadata": {
    "papermill": {
     "duration": 0.026558,
     "end_time": "2019-11-23T05:50:30.286667",
     "exception": false,
     "start_time": "2019-11-23T05:50:30.260109",
     "status": "completed"
    },
    "tags": []
   },
   "source": [
    "## Experts"
   ]
  },
  {
   "cell_type": "code",
   "execution_count": 31,
   "metadata": {
    "papermill": {
     "duration": 0.093996,
     "end_time": "2019-11-23T05:50:30.409813",
     "exception": false,
     "start_time": "2019-11-23T05:50:30.315817",
     "status": "completed"
    },
    "tags": []
   },
   "outputs": [
    {
     "name": "stdout",
     "output_type": "stream",
     "text": [
      "error with benign/fixed-27026916.jpeg: '27026916.jpeg'\n",
      "error with benign/fixed-27808351.jpeg: '27808351.jpeg'\n",
      "error with benign/fixed-27954713-1.jpeg: '27954713-1.jpeg'\n",
      "error with benign/fixed-27954713-2.jpeg: '27954713-2.jpeg'\n",
      "error with benign/fixed-6041779.jpeg: '6041779.jpeg'\n",
      "error with benign/fixed-7363540-1.jpeg: '7363540-1.jpeg'\n",
      "error with benign/fixed-8217457-1.jpeg: '8217457-1.jpeg'\n",
      "error with malignant/fixed-5829440.jpeg: '5829440.jpeg'\n",
      "error with malignant/fixed-7221037.jpeg: '7221037.jpeg'\n",
      "error with malignant/fixed-7336509.jpeg: '7336509.jpeg'\n",
      "error with malignant/fixed-7343132.jpeg: '7343132.jpeg'\n",
      "error with malignant/fixed-7419872.jpeg: '7419872.jpeg'\n",
      "error with malignant/fixed-7486948-1.jpeg: '7486948-1.jpeg'\n",
      "error with malignant/fixed-7486948-2.jpeg: '7486948-2.jpeg'\n",
      "error with malignant/fixed-7486948-3.jpeg: '7486948-3.jpeg'\n",
      "error with malignant/fixed-7486948-4.jpeg: '7486948-4.jpeg'\n",
      "error with malignant/fixed-7637848-1.jpeg: '7637848-1.jpeg'\n",
      "error with malignant/fixed-7637848-2.jpeg: '7637848-2.jpeg'\n",
      "error with malignant/fixed-8054569.jpeg: '8054569.jpeg'\n",
      "error with malignant/fixed-8862768-1.jpeg: '8862768-1.jpeg'\n",
      "error with malignant/fixed-8862768-2.jpeg: '8862768-2.jpeg'\n",
      "error with malignant/fixed-8862768-3.jpeg: '8862768-3.jpeg'\n",
      "error with malignant/fixed-8965761-1.jpeg: '8965761-1.jpeg'\n",
      "error with malignant/fixed-8965761-2.jpeg: '8965761-2.jpeg'\n",
      "error with malignant/fixed-9019761.jpeg: '9019761.jpeg'\n",
      "error with malignant/fixed-9028605-1.jpeg: '9028605-1.jpeg'\n",
      "error with malignant/fixed-9028605-2.jpeg: '9028605-2.jpeg'\n",
      "error with malignant/fixed-9028605-3.jpeg: '9028605-3.jpeg'\n",
      "error with malignant/fixed-9028605-4.jpeg: '9028605-4.jpeg'\n",
      "error with malignant/fixed-9072366.jpeg: '9072366.jpeg'\n",
      "error with malignant/fixed-9089505-1.jpeg: '9089505-1.jpeg'\n",
      "error with malignant/fixed-9089505-2.jpeg: '9089505-2.jpeg'\n",
      "error with malignant/fixed-9089505-3.jpeg: '9089505-3.jpeg'\n",
      "error with malignant/fixed-9089505-4.jpeg: '9089505-4.jpeg'\n",
      "error with malignant/fixed-9165977-1.jpeg: '9165977-1.jpeg'\n",
      "error with malignant/fixed-9165977-2.jpeg: '9165977-2.jpeg'\n"
     ]
    },
    {
     "data": {
      "text/plain": [
       "['benign',\n",
       " 'benign',\n",
       " 'benign',\n",
       " 'benign',\n",
       " 'malignant',\n",
       " 'benign',\n",
       " 'benign',\n",
       " 'benign',\n",
       " 'malignant',\n",
       " 'malignant',\n",
       " None,\n",
       " 'benign',\n",
       " 'benign',\n",
       " 'benign',\n",
       " 'benign',\n",
       " 'malignant',\n",
       " 'benign',\n",
       " 'malignant',\n",
       " 'malignant',\n",
       " 'benign',\n",
       " 'malignant',\n",
       " None,\n",
       " 'benign',\n",
       " 'malignant',\n",
       " None,\n",
       " None,\n",
       " 'benign',\n",
       " 'benign',\n",
       " 'malignant',\n",
       " 'malignant',\n",
       " 'malignant',\n",
       " 'malignant',\n",
       " 'benign',\n",
       " 'benign',\n",
       " 'benign',\n",
       " 'benign',\n",
       " 'benign',\n",
       " 'benign',\n",
       " None,\n",
       " None,\n",
       " None,\n",
       " 'malignant',\n",
       " 'malignant',\n",
       " 'benign',\n",
       " 'malignant',\n",
       " 'malignant',\n",
       " 'benign',\n",
       " 'benign',\n",
       " 'malignant',\n",
       " 'malignant',\n",
       " 'malignant',\n",
       " 'malignant',\n",
       " 'malignant',\n",
       " None,\n",
       " None,\n",
       " None,\n",
       " None,\n",
       " None,\n",
       " None,\n",
       " None,\n",
       " None,\n",
       " None,\n",
       " None,\n",
       " None,\n",
       " None,\n",
       " None,\n",
       " None,\n",
       " None,\n",
       " None,\n",
       " None,\n",
       " None,\n",
       " None,\n",
       " None,\n",
       " None,\n",
       " None,\n",
       " None,\n",
       " None,\n",
       " None,\n",
       " None,\n",
       " None,\n",
       " None,\n",
       " None]"
      ]
     },
     "execution_count": 31,
     "metadata": {},
     "output_type": "execute_result"
    }
   ],
   "source": [
    "get_expert_results(\"evaluations/radiology-3344.json\", test.filenames)"
   ]
  },
  {
   "cell_type": "code",
   "execution_count": 32,
   "metadata": {
    "papermill": {
     "duration": 0.308399,
     "end_time": "2019-11-23T05:50:30.756304",
     "exception": false,
     "start_time": "2019-11-23T05:50:30.447905",
     "status": "completed"
    },
    "tags": []
   },
   "outputs": [
    {
     "name": "stdout",
     "output_type": "stream",
     "text": [
      "error with benign/fixed-26961402-1.jpeg: '26961402-1.jpeg'\n",
      "error with benign/fixed-26961402-2.jpeg: '26961402-2.jpeg'\n",
      "error with malignant/fixed-26910179-1.jpeg: '26910179-1.jpeg'\n",
      "error with malignant/fixed-26910179-2.jpeg: '26910179-2.jpeg'\n",
      "error with malignant/fixed-26919191.jpeg: '26919191.jpeg'\n",
      "error with malignant/fixed-28215081.jpeg: '28215081.jpeg'\n",
      "error with malignant/fixed-28283949.jpeg: '28283949.jpeg'\n",
      "error with malignant/fixed-28930178-1.jpeg: '28930178-1.jpeg'\n",
      "error with malignant/fixed-28930178-2.jpeg: '28930178-2.jpeg'\n",
      "error with malignant/fixed-29165825-1.jpeg: '29165825-1.jpeg'\n",
      "error with malignant/fixed-29165825-2.jpeg: '29165825-2.jpeg'\n",
      "error with malignant/fixed-29165825-3.jpeg: '29165825-3.jpeg'\n",
      "error with malignant/fixed-29165825.jpeg: '29165825.jpeg'\n",
      "error with malignant/fixed-29186082.jpeg: '29186082.jpeg'\n",
      "error with malignant/fixed-29465808-1.jpeg: '29465808-1.jpeg'\n",
      "error with malignant/fixed-29465808-2.jpeg: '29465808-2.jpeg'\n",
      "error with malignant/fixed-30375803.jpeg: '30375803.jpeg'\n",
      "error with malignant/fixed-30768982-1.jpeg: '30768982-1.jpeg'\n",
      "error with malignant/fixed-30768982-2.jpeg: '30768982-2.jpeg'\n",
      "error with malignant/fixed-30768982-3.jpeg: '30768982-3.jpeg'\n",
      "error with malignant/fixed-30768982-4.jpeg: '30768982-4.jpeg'\n",
      "error with malignant/fixed-30768982-5.jpeg: '30768982-5.jpeg'\n",
      "error with malignant/fixed-30831878-1.jpeg: '30831878-1.jpeg'\n",
      "error with malignant/fixed-30831878-2.jpeg: '30831878-2.jpeg'\n",
      "error with malignant/fixed-30831878-3.jpeg: '30831878-3.jpeg'\n",
      "error with malignant/fixed-4509128.jpeg: '4509128.jpeg'\n",
      "error with malignant/fixed-6271655-1.jpeg: '6271655-1.jpeg'\n",
      "error with malignant/fixed-6271655-2.jpeg: '6271655-2.jpeg'\n",
      "error with malignant/fixed-6271655-3.jpeg: '6271655-3.jpeg'\n",
      "error with malignant/fixed-6271655-4.jpeg: '6271655-4.jpeg'\n",
      "error with malignant/fixed-6701632-1.jpeg: '6701632-1.jpeg'\n",
      "error with malignant/fixed-6701632-2.jpeg: '6701632-2.jpeg'\n",
      "error with malignant/fixed-6701632-3.jpeg: '6701632-3.jpeg'\n",
      "error with malignant/fixed-6701632-4.jpeg: '6701632-4.jpeg'\n",
      "error with malignant/fixed-7790582.jpeg: '7790582.jpeg'\n",
      "error with malignant/fixed-9072107-1.jpeg: '9072107-1.jpeg'\n"
     ]
    },
    {
     "data": {
      "image/png": "[encoded data removed]",
      "text/plain": [
       "<Figure size 432x288 with 1 Axes>"
      ]
     },
     "metadata": {},
     "output_type": "display_data"
    }
   ],
   "source": [
    "expert_1, fig = plot_expert_confusion(\"evaluations/radiology-9809.json\", validation)\n",
    "fig.savefig(\"figures/{}-confusion-matrix-expert-1.svg\".format(PARAMETERS_ID), bbox_inches = \"tight\")"
   ]
  },
  {
   "cell_type": "code",
   "execution_count": 33,
   "metadata": {
    "papermill": {
     "duration": 0.088063,
     "end_time": "2019-11-23T05:50:30.880277",
     "exception": false,
     "start_time": "2019-11-23T05:50:30.792214",
     "status": "completed"
    },
    "scrolled": true,
    "tags": []
   },
   "outputs": [
    {
     "data": {
      "text/html": [
       "<div>\n",
       "<style scoped>\n",
       "    .dataframe tbody tr th:only-of-type {\n",
       "        vertical-align: middle;\n",
       "    }\n",
       "\n",
       "    .dataframe tbody tr th {\n",
       "        vertical-align: top;\n",
       "    }\n",
       "\n",
       "    .dataframe thead th {\n",
       "        text-align: right;\n",
       "    }\n",
       "</style>\n",
       "<table border=\"1\" class=\"dataframe\">\n",
       "  <thead>\n",
       "    <tr style=\"text-align: right;\">\n",
       "      <th></th>\n",
       "      <th>Acc</th>\n",
       "      <th>TP</th>\n",
       "      <th>TN</th>\n",
       "      <th>FP</th>\n",
       "      <th>FN</th>\n",
       "      <th>TPR</th>\n",
       "      <th>TNR</th>\n",
       "      <th>PPV</th>\n",
       "      <th>NPV</th>\n",
       "      <th>FPR</th>\n",
       "      <th>FNR</th>\n",
       "      <th>FDR</th>\n",
       "    </tr>\n",
       "  </thead>\n",
       "  <tbody>\n",
       "    <tr>\n",
       "      <th>benign</th>\n",
       "      <td>0.362</td>\n",
       "      <td>23</td>\n",
       "      <td>6</td>\n",
       "      <td>41</td>\n",
       "      <td>10</td>\n",
       "      <td>0.697</td>\n",
       "      <td>0.128</td>\n",
       "      <td>0.359</td>\n",
       "      <td>0.375</td>\n",
       "      <td>0.872</td>\n",
       "      <td>0.303</td>\n",
       "      <td>0.641</td>\n",
       "    </tr>\n",
       "    <tr>\n",
       "      <th>malignant</th>\n",
       "      <td>0.362</td>\n",
       "      <td>6</td>\n",
       "      <td>23</td>\n",
       "      <td>10</td>\n",
       "      <td>41</td>\n",
       "      <td>0.128</td>\n",
       "      <td>0.697</td>\n",
       "      <td>0.375</td>\n",
       "      <td>0.359</td>\n",
       "      <td>0.303</td>\n",
       "      <td>0.872</td>\n",
       "      <td>0.625</td>\n",
       "    </tr>\n",
       "  </tbody>\n",
       "</table>\n",
       "</div>"
      ],
      "text/plain": [
       "            Acc  TP  TN  FP  FN   TPR   TNR   PPV   NPV   FPR   FNR   FDR\n",
       "benign    0.362  23   6  41  10 0.697 0.128 0.359 0.375 0.872 0.303 0.641\n",
       "malignant 0.362   6  23  10  41 0.128 0.697 0.375 0.359 0.303 0.872 0.625"
      ]
     },
     "execution_count": 33,
     "metadata": {},
     "output_type": "execute_result"
    }
   ],
   "source": [
    "pandas.DataFrame(expert_1, index=validation.class_indices)"
   ]
  },
  {
   "cell_type": "markdown",
   "metadata": {
    "papermill": {
     "duration": 0.028903,
     "end_time": "2019-11-23T05:50:30.951016",
     "exception": false,
     "start_time": "2019-11-23T05:50:30.922113",
     "status": "completed"
    },
    "tags": []
   },
   "source": [
    "## ROC with experts"
   ]
  },
  {
   "cell_type": "code",
   "execution_count": 34,
   "metadata": {
    "papermill": {
     "duration": 0.697732,
     "end_time": "2019-11-23T05:50:31.680341",
     "exception": false,
     "start_time": "2019-11-23T05:50:30.982609",
     "status": "completed"
    },
    "scrolled": false,
    "tags": []
   },
   "outputs": [
    {
     "data": {
      "image/png": "[encoded data removed]",
      "text/plain": [
       "<Figure size 432x288 with 1 Axes>"
      ]
     },
     "metadata": {},
     "output_type": "display_data"
    }
   ],
   "source": [
    "fig = plot_roc_curve(labels, results, experts=[{ **expert_1, \"name\":\"expert 1\" }, { **expert_1, \"name\":\"expert 2\" }])\n",
    "fig.savefig(\"figures/{}-roc-curve.svg\".format(PARAMETERS_ID), bbox_inches = \"tight\")"
   ]
  },
  {
   "cell_type": "code",
   "execution_count": 35,
   "metadata": {
    "papermill": {
     "duration": 0.079585,
     "end_time": "2019-11-23T05:50:31.808231",
     "exception": false,
     "start_time": "2019-11-23T05:50:31.728646",
     "status": "completed"
    },
    "tags": []
   },
   "outputs": [
    {
     "data": {
      "text/html": [
       "<script>\n",
       "code_show=true; \n",
       "function code_toggle() {\n",
       " if (code_show){\n",
       " $('div.input').hide();\n",
       " } else {\n",
       " $('div.input').show();\n",
       " }\n",
       " code_show = !code_show\n",
       "} \n",
       "$( document ).ready(code_toggle);\n",
       "</script>\n",
       "The raw code for this IPython notebook is by default hidden for easier reading.\n",
       "To toggle on/off the raw code, click <a href=\"javascript:code_toggle()\">here</a>."
      ],
      "text/plain": [
       "<IPython.core.display.HTML object>"
      ]
     },
     "execution_count": 35,
     "metadata": {},
     "output_type": "execute_result"
    }
   ],
   "source": [
    "from IPython.display import HTML\n",
    "HTML('''<script>\n",
    "code_show=true; \n",
    "function code_toggle() {\n",
    " if (code_show){\n",
    " $('div.input').hide();\n",
    " } else {\n",
    " $('div.input').show();\n",
    " }\n",
    " code_show = !code_show\n",
    "} \n",
    "$( document ).ready(code_toggle);\n",
    "</script>\n",
    "The raw code for this IPython notebook is by default hidden for easier reading.\n",
    "To toggle on/off the raw code, click <a href=\"javascript:code_toggle()\">here</a>.''')"
   ]
  },
  {
   "cell_type": "code",
   "execution_count": null,
   "metadata": {
    "papermill": {
     "duration": 0.031097,
     "end_time": "2019-11-23T05:50:31.884949",
     "exception": false,
     "start_time": "2019-11-23T05:50:31.853852",
     "status": "completed"
    },
    "tags": []
   },
   "outputs": [],
   "source": []
  },
  {
   "cell_type": "code",
   "execution_count": null,
   "metadata": {
    "papermill": {
     "duration": 0.029493,
     "end_time": "2019-11-23T05:50:31.944482",
     "exception": false,
     "start_time": "2019-11-23T05:50:31.914989",
     "status": "completed"
    },
    "tags": []
   },
   "outputs": [],
   "source": []
  }
 ],
 "metadata": {
  "kernelspec": {
   "display_name": "Python 3",
   "language": "python",
   "name": "python3"
  },
  "language_info": {
   "codemirror_mode": {
    "name": "ipython",
    "version": 3
   },
   "file_extension": ".py",
   "mimetype": "text/x-python",
   "name": "python",
   "nbconvert_exporter": "python",
   "pygments_lexer": "ipython3",
   "version": "3.6.7"
  },
  "papermill": {
   "duration": 59.287665,
   "end_time": "2019-11-23T05:50:34.200959",
   "environment_variables": {},
   "exception": null,
   "input_path": "evaluate-specific-model.ipynb",
   "output_path": "evaluate-fixed-uncertain.ipynb",
   "parameters": {
    "DIRECTORY": "/media/user1/my4TB/intrepidlemon/liver-ultrasound/c3-c4-fixed",
    "MODEL_TYPE": "v2",
    "MODEL_UUID": "fd0391b6-3c63-48d9-a0b4-dc0923f48c32",
    "PARAMETERS_ID": "fixed-uncertain",
    "SELECTIONS": "[]"
   },
   "start_time": "2019-11-23T05:49:34.913294",
   "version": "1.2.1"
  }
 },
 "nbformat": 4,
 "nbformat_minor": 2
}