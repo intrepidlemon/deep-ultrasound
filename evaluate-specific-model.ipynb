{
 "cells": [
  {
   "cell_type": "code",
   "execution_count": 1,
   "metadata": {},
   "outputs": [],
   "source": [
    "%load_ext autoreload\n",
    "%autoreload 2\n",
    "%matplotlib inline  \n",
    "from IPython.display import HTML"
   ]
  },
  {
   "cell_type": "code",
   "execution_count": 2,
   "metadata": {},
   "outputs": [],
   "source": [
    "from sklearn.metrics import f1_score, roc_auc_score, average_precision_score, precision_score, recall_score\n",
    "import pandas\n",
    "import numpy as np\n",
    "import json\n",
    "import matplotlib.pyplot as plt\n",
    "import os\n",
    "\n",
    "pandas.options.display.float_format = '{:,.3f}'.format"
   ]
  },
  {
   "cell_type": "code",
   "execution_count": 3,
   "metadata": {},
   "outputs": [
    {
     "name": "stderr",
     "output_type": "stream",
     "text": [
      "Using TensorFlow backend.\n",
      "/home/intrepidlemon/.local/share/virtualenvs/deep-ultrasound-eb7oaR1r/lib/python3.6/site-packages/tensorflow/python/framework/dtypes.py:523: FutureWarning: Passing (type, 1) or '1type' as a synonym of type is deprecated; in a future version of numpy, it will be understood as (type, (1,)) / '(1,)type'.\n",
      "  _np_qint8 = np.dtype([(\"qint8\", np.int8, 1)])\n",
      "/home/intrepidlemon/.local/share/virtualenvs/deep-ultrasound-eb7oaR1r/lib/python3.6/site-packages/tensorflow/python/framework/dtypes.py:524: FutureWarning: Passing (type, 1) or '1type' as a synonym of type is deprecated; in a future version of numpy, it will be understood as (type, (1,)) / '(1,)type'.\n",
      "  _np_quint8 = np.dtype([(\"quint8\", np.uint8, 1)])\n",
      "/home/intrepidlemon/.local/share/virtualenvs/deep-ultrasound-eb7oaR1r/lib/python3.6/site-packages/tensorflow/python/framework/dtypes.py:525: FutureWarning: Passing (type, 1) or '1type' as a synonym of type is deprecated; in a future version of numpy, it will be understood as (type, (1,)) / '(1,)type'.\n",
      "  _np_qint16 = np.dtype([(\"qint16\", np.int16, 1)])\n",
      "/home/intrepidlemon/.local/share/virtualenvs/deep-ultrasound-eb7oaR1r/lib/python3.6/site-packages/tensorflow/python/framework/dtypes.py:526: FutureWarning: Passing (type, 1) or '1type' as a synonym of type is deprecated; in a future version of numpy, it will be understood as (type, (1,)) / '(1,)type'.\n",
      "  _np_quint16 = np.dtype([(\"quint16\", np.uint16, 1)])\n",
      "/home/intrepidlemon/.local/share/virtualenvs/deep-ultrasound-eb7oaR1r/lib/python3.6/site-packages/tensorflow/python/framework/dtypes.py:527: FutureWarning: Passing (type, 1) or '1type' as a synonym of type is deprecated; in a future version of numpy, it will be understood as (type, (1,)) / '(1,)type'.\n",
      "  _np_qint32 = np.dtype([(\"qint32\", np.int32, 1)])\n",
      "/home/intrepidlemon/.local/share/virtualenvs/deep-ultrasound-eb7oaR1r/lib/python3.6/site-packages/tensorflow/python/framework/dtypes.py:532: FutureWarning: Passing (type, 1) or '1type' as a synonym of type is deprecated; in a future version of numpy, it will be understood as (type, (1,)) / '(1,)type'.\n",
      "  np_resource = np.dtype([(\"resource\", np.ubyte, 1)])\n"
     ]
    }
   ],
   "source": [
    "from evaluate import load, get_results, get_labels, transform_binary_probabilities, transform_binary_predictions, calculate_accuracy_loss, plot_confusion_matrix, plot_precision_recall, plot_roc_curve, calculate_pr_auc, calculate_confusion_matrix_stats, calculate_confusion_matrix, plot_tsne, accession_from_filename, plot_expert_confusion, plot_multiple_grad_cam, get_expert_results"
   ]
  },
  {
   "cell_type": "code",
   "execution_count": 4,
   "metadata": {},
   "outputs": [],
   "source": [
    "from data import describe, all_features, data, print_describe, load_single\n",
    "from run import characterize_data\n",
    "from config import config"
   ]
  },
  {
   "cell_type": "markdown",
   "metadata": {},
   "source": [
    "# Parameters"
   ]
  },
  {
   "cell_type": "code",
   "execution_count": 5,
   "metadata": {
    "tags": [
     "parameters"
    ]
   },
   "outputs": [],
   "source": [
    "DIRECTORY = os.path.join(os.environ[\"DATA_DIR\"], \"liver-ultrasound\")\n",
    "MODEL_UUID = \"04cfb42d-3e0b-4516-aa85-56f19cb4d6b9\"\n",
    "MODEL_TYPE = \"v2\"\n",
    "SELECTIONS = \"None\"\n",
    "PARAMETERS_ID = \"parameters\""
   ]
  },
  {
   "cell_type": "code",
   "execution_count": 6,
   "metadata": {},
   "outputs": [],
   "source": [
    "SELECTIONS = eval(SELECTIONS)\n",
    "FEATURES = config.FEATURES\n",
    "RAW = \"{}/raw\".format(DIRECTORY)\n",
    "TRAIN = \"{}/train\".format(DIRECTORY)\n",
    "VALIDATION = \"{}/validation\".format(DIRECTORY)\n",
    "MODEL = \"{}/models/{}-{}.h5\".format(config.OUTPUT, MODEL_UUID, MODEL_TYPE)"
   ]
  },
  {
   "cell_type": "markdown",
   "metadata": {},
   "source": [
    "## Lesion descriptions"
   ]
  },
  {
   "cell_type": "code",
   "execution_count": 8,
   "metadata": {
    "scrolled": true
   },
   "outputs": [
    {
     "name": "stdout",
     "output_type": "stream",
     "text": [
      "Found 660 images belonging to 2 classes.\n",
      "Found 660 images belonging to 2 classes.\n",
      "Found 172 images belonging to 2 classes.\n",
      "Found 84 images belonging to 2 classes.\n"
     ]
    }
   ],
   "source": [
    "train, validation, test = data(shuffle_train=False, validation_dir=VALIDATION, train_dir=TRAIN)"
   ]
  },
  {
   "cell_type": "code",
   "execution_count": 9,
   "metadata": {},
   "outputs": [
    {
     "name": "stdout",
     "output_type": "stream",
     "text": [
      "training data breakdown:  {'benign': 280, 'malignant': 380}\n",
      "validation data breakdown:  {'benign': 64, 'malignant': 108}\n",
      "validation data breakdown:  {'benign': 32, 'malignant': 52}\n"
     ]
    }
   ],
   "source": [
    "print(\"training data breakdown: \", characterize_data(train))\n",
    "print(\"validation data breakdown: \", characterize_data(validation))\n",
    "print(\"validation data breakdown: \", characterize_data(test))"
   ]
  },
  {
   "cell_type": "code",
   "execution_count": 10,
   "metadata": {},
   "outputs": [
    {
     "data": {
      "text/plain": [
       "42"
      ]
     },
     "execution_count": 10,
     "metadata": {},
     "output_type": "execute_result"
    }
   ],
   "source": [
    "len(train)"
   ]
  },
  {
   "cell_type": "code",
   "execution_count": 11,
   "metadata": {},
   "outputs": [
    {
     "name": "stdout",
     "output_type": "stream",
     "text": [
      "172\n"
     ]
    }
   ],
   "source": [
    "print(validation.n)"
   ]
  },
  {
   "cell_type": "code",
   "execution_count": 12,
   "metadata": {
    "scrolled": true
   },
   "outputs": [],
   "source": [
    "model = load(MODEL)"
   ]
  },
  {
   "cell_type": "code",
   "execution_count": 13,
   "metadata": {},
   "outputs": [],
   "source": [
    "results = get_results(model, test)"
   ]
  },
  {
   "cell_type": "code",
   "execution_count": 14,
   "metadata": {},
   "outputs": [
    {
     "data": {
      "text/plain": [
       "array([[3.02289486e-01],\n",
       "       [9.82165992e-01],\n",
       "       [9.86223638e-01],\n",
       "       [9.53024685e-01],\n",
       "       [2.36155108e-01],\n",
       "       [1.00548908e-01],\n",
       "       [9.88007426e-01],\n",
       "       [3.07239354e-01],\n",
       "       [3.88928801e-02],\n",
       "       [1.01393469e-01],\n",
       "       [4.65996861e-01],\n",
       "       [7.57249668e-02],\n",
       "       [1.31598949e-01],\n",
       "       [6.77558593e-03],\n",
       "       [6.88768551e-02],\n",
       "       [1.31085053e-01],\n",
       "       [9.30980593e-03],\n",
       "       [2.25572865e-02],\n",
       "       [1.22816777e-02],\n",
       "       [8.75801384e-01],\n",
       "       [9.08983052e-01],\n",
       "       [2.84694906e-05],\n",
       "       [4.84185696e-01],\n",
       "       [9.82181072e-01],\n",
       "       [1.16775185e-01],\n",
       "       [5.85129596e-02],\n",
       "       [1.32609415e-03],\n",
       "       [2.43286833e-01],\n",
       "       [3.02858767e-04],\n",
       "       [2.65612155e-01],\n",
       "       [3.17253801e-03],\n",
       "       [4.81582247e-05],\n",
       "       [8.44568789e-01],\n",
       "       [9.99060810e-01],\n",
       "       [1.13206799e-03],\n",
       "       [9.99916553e-01],\n",
       "       [9.58656013e-01],\n",
       "       [9.98469174e-01],\n",
       "       [9.02343094e-01],\n",
       "       [9.99841332e-01],\n",
       "       [9.96378243e-01],\n",
       "       [4.34253693e-01],\n",
       "       [9.34264123e-01],\n",
       "       [9.80840385e-01],\n",
       "       [8.80655587e-01],\n",
       "       [9.83798981e-01],\n",
       "       [9.94562566e-01],\n",
       "       [9.98508513e-01],\n",
       "       [8.71733904e-01],\n",
       "       [9.84055758e-01],\n",
       "       [9.99050677e-01],\n",
       "       [1.50439233e-01],\n",
       "       [8.91735077e-01],\n",
       "       [7.31415570e-01],\n",
       "       [9.30479944e-01],\n",
       "       [8.63822699e-01],\n",
       "       [9.99990225e-01],\n",
       "       [8.69965017e-01],\n",
       "       [8.75894010e-01],\n",
       "       [9.96128678e-01],\n",
       "       [9.92222965e-01],\n",
       "       [8.29704821e-01],\n",
       "       [9.85187411e-01],\n",
       "       [8.15605581e-01],\n",
       "       [9.93411720e-01],\n",
       "       [8.77707779e-01],\n",
       "       [3.45993429e-01],\n",
       "       [9.62947547e-01],\n",
       "       [2.72487342e-01],\n",
       "       [6.79637730e-01],\n",
       "       [9.02281463e-01],\n",
       "       [9.53963220e-01],\n",
       "       [5.27174532e-01],\n",
       "       [7.85078824e-01],\n",
       "       [7.86509037e-01],\n",
       "       [9.81804550e-01],\n",
       "       [9.48747814e-01],\n",
       "       [3.80040072e-02],\n",
       "       [9.86814022e-01],\n",
       "       [9.65564489e-01],\n",
       "       [9.28879321e-01],\n",
       "       [8.83419812e-01],\n",
       "       [8.97612035e-01],\n",
       "       [3.50704044e-01]], dtype=float32)"
      ]
     },
     "execution_count": 14,
     "metadata": {},
     "output_type": "execute_result"
    }
   ],
   "source": [
    "results"
   ]
  },
  {
   "cell_type": "code",
   "execution_count": 15,
   "metadata": {},
   "outputs": [],
   "source": [
    "probabilities = transform_binary_probabilities(results)\n",
    "predictions = transform_binary_predictions(results)\n",
    "labels = get_labels(test)"
   ]
  },
  {
   "cell_type": "markdown",
   "metadata": {},
   "source": [
    "## Accuracy and loss"
   ]
  },
  {
   "cell_type": "code",
   "execution_count": 16,
   "metadata": {
    "scrolled": false
   },
   "outputs": [
    {
     "name": "stdout",
     "output_type": "stream",
     "text": [
      "Accuracy: 0.8333333333333334\n",
      "Loss: 0.5785487350963411\n"
     ]
    }
   ],
   "source": [
    "loss, accuracy = calculate_accuracy_loss(model, test)\n",
    "print(\"Accuracy:\", accuracy)\n",
    "print(\"Loss:\", loss)"
   ]
  },
  {
   "cell_type": "markdown",
   "metadata": {},
   "source": [
    "## Confusion matrix"
   ]
  },
  {
   "cell_type": "code",
   "execution_count": 17,
   "metadata": {
    "scrolled": true
   },
   "outputs": [
    {
     "data": {
      "image/png": "[encoded data removed]",
      "text/plain": [
       "<Figure size 432x288 with 1 Axes>"
      ]
     },
     "metadata": {},
     "output_type": "display_data"
    }
   ],
   "source": [
    "fig = plot_confusion_matrix(test, results)\n",
    "fig.savefig(\"figures/{}-confusion-matrix.svg\".format(PARAMETERS_ID), bbox_inches = \"tight\")"
   ]
  },
  {
   "cell_type": "code",
   "execution_count": 18,
   "metadata": {
    "scrolled": true
   },
   "outputs": [
    {
     "data": {
      "text/html": [
       "<div>\n",
       "<style scoped>\n",
       "    .dataframe tbody tr th:only-of-type {\n",
       "        vertical-align: middle;\n",
       "    }\n",
       "\n",
       "    .dataframe tbody tr th {\n",
       "        vertical-align: top;\n",
       "    }\n",
       "\n",
       "    .dataframe thead th {\n",
       "        text-align: right;\n",
       "    }\n",
       "</style>\n",
       "<table border=\"1\" class=\"dataframe\">\n",
       "  <thead>\n",
       "    <tr style=\"text-align: right;\">\n",
       "      <th></th>\n",
       "      <th>Acc</th>\n",
       "      <th>TP</th>\n",
       "      <th>TN</th>\n",
       "      <th>FP</th>\n",
       "      <th>FN</th>\n",
       "      <th>TPR</th>\n",
       "      <th>TNR</th>\n",
       "      <th>PPV</th>\n",
       "      <th>NPV</th>\n",
       "      <th>FPR</th>\n",
       "      <th>FNR</th>\n",
       "      <th>FDR</th>\n",
       "    </tr>\n",
       "  </thead>\n",
       "  <tbody>\n",
       "    <tr>\n",
       "      <th>benign</th>\n",
       "      <td>0.833</td>\n",
       "      <td>25</td>\n",
       "      <td>45</td>\n",
       "      <td>7</td>\n",
       "      <td>7</td>\n",
       "      <td>0.781</td>\n",
       "      <td>0.865</td>\n",
       "      <td>0.781</td>\n",
       "      <td>0.865</td>\n",
       "      <td>0.135</td>\n",
       "      <td>0.219</td>\n",
       "      <td>0.219</td>\n",
       "    </tr>\n",
       "    <tr>\n",
       "      <th>malignant</th>\n",
       "      <td>0.833</td>\n",
       "      <td>45</td>\n",
       "      <td>25</td>\n",
       "      <td>7</td>\n",
       "      <td>7</td>\n",
       "      <td>0.865</td>\n",
       "      <td>0.781</td>\n",
       "      <td>0.865</td>\n",
       "      <td>0.781</td>\n",
       "      <td>0.219</td>\n",
       "      <td>0.135</td>\n",
       "      <td>0.135</td>\n",
       "    </tr>\n",
       "  </tbody>\n",
       "</table>\n",
       "</div>"
      ],
      "text/plain": [
       "            Acc  TP  TN  FP  FN   TPR   TNR   PPV   NPV   FPR   FNR   FDR\n",
       "benign    0.833  25  45   7   7 0.781 0.865 0.781 0.865 0.135 0.219 0.219\n",
       "malignant 0.833  45  25   7   7 0.865 0.781 0.865 0.781 0.219 0.135 0.135"
      ]
     },
     "execution_count": 18,
     "metadata": {},
     "output_type": "execute_result"
    }
   ],
   "source": [
    "stats = calculate_confusion_matrix_stats(labels, results)\n",
    "pandas.DataFrame(stats, index=test.class_indices)"
   ]
  },
  {
   "cell_type": "markdown",
   "metadata": {},
   "source": [
    "## ROC Curve standalone"
   ]
  },
  {
   "cell_type": "code",
   "execution_count": 19,
   "metadata": {},
   "outputs": [
    {
     "data": {
      "image/png": "[encoded data removed]",
      "text/plain": [
       "<Figure size 432x288 with 1 Axes>"
      ]
     },
     "execution_count": 19,
     "metadata": {},
     "output_type": "execute_result"
    },
    {
     "data": {
      "image/png": "[encoded data removed]",
      "text/plain": [
       "<Figure size 432x288 with 1 Axes>"
      ]
     },
     "metadata": {},
     "output_type": "display_data"
    }
   ],
   "source": [
    "plot_roc_curve(labels, results)"
   ]
  },
  {
   "cell_type": "code",
   "execution_count": 20,
   "metadata": {},
   "outputs": [
    {
     "name": "stdout",
     "output_type": "stream",
     "text": [
      "ROC AUC: 0.8317307692307692\n"
     ]
    }
   ],
   "source": [
    "print(\"ROC AUC:\", roc_auc_score(labels, probabilities))"
   ]
  },
  {
   "cell_type": "markdown",
   "metadata": {},
   "source": [
    "## Precision Recall"
   ]
  },
  {
   "cell_type": "code",
   "execution_count": 21,
   "metadata": {},
   "outputs": [
    {
     "name": "stdout",
     "output_type": "stream",
     "text": [
      "Average precision: 0.8721139394947047\n",
      "Precision: 0.8653846153846154 Recall: 0.8653846153846154\n"
     ]
    }
   ],
   "source": [
    "print(\"Average precision:\", average_precision_score(labels, probabilities))\n",
    "print(\"Precision:\", precision_score(labels, predictions), \"Recall:\", recall_score(labels, predictions))"
   ]
  },
  {
   "cell_type": "code",
   "execution_count": 22,
   "metadata": {
    "scrolled": false
   },
   "outputs": [
    {
     "data": {
      "image/png": "[encoded data removed]",
      "text/plain": [
       "<Figure size 432x288 with 1 Axes>"
      ]
     },
     "metadata": {},
     "output_type": "display_data"
    }
   ],
   "source": [
    "fig = plot_precision_recall(labels, results)\n",
    "fig.savefig(\"figures/{}-precision-recall.svg\".format(PARAMETERS_ID), bbox_inches = \"tight\")"
   ]
  },
  {
   "cell_type": "code",
   "execution_count": 23,
   "metadata": {},
   "outputs": [
    {
     "name": "stdout",
     "output_type": "stream",
     "text": [
      "PR AUC: 0.8702344563520298\n"
     ]
    }
   ],
   "source": [
    "print(\"PR AUC:\", calculate_pr_auc(labels, results))"
   ]
  },
  {
   "cell_type": "markdown",
   "metadata": {},
   "source": [
    "## F1 Score"
   ]
  },
  {
   "cell_type": "code",
   "execution_count": 24,
   "metadata": {},
   "outputs": [
    {
     "name": "stdout",
     "output_type": "stream",
     "text": [
      "F1 score: 0.8653846153846154\n"
     ]
    }
   ],
   "source": [
    "print(\"F1 score:\", f1_score(labels, predictions))"
   ]
  },
  {
   "cell_type": "markdown",
   "metadata": {},
   "source": [
    "## TSNE"
   ]
  },
  {
   "cell_type": "code",
   "execution_count": 25,
   "metadata": {},
   "outputs": [],
   "source": [
    "diagnosis, malignancy, evidence = all_features(features=FEATURES)"
   ]
  },
  {
   "cell_type": "code",
   "execution_count": 26,
   "metadata": {
    "scrolled": true
   },
   "outputs": [],
   "source": [
    "tsne_dataset = train"
   ]
  },
  {
   "cell_type": "code",
   "execution_count": null,
   "metadata": {},
   "outputs": [],
   "source": [
    "train_results = get_results(model, train)\n",
    "train_predictions = [\"malignant\" if t else \"benign\" for t in transform_binary_predictions(train_results)]"
   ]
  },
  {
   "cell_type": "code",
   "execution_count": 27,
   "metadata": {},
   "outputs": [],
   "source": [
    "tsne_labels = [[malignancy.get(accession_from_filename(f), \"unknown\") for f in tsne_dataset.filenames], train_predictions]"
   ]
  },
  {
   "cell_type": "code",
   "execution_count": 28,
   "metadata": {
    "scrolled": true
   },
   "outputs": [
    {
     "data": {
      "text/plain": [
       "[['benign',\n",
       "  'benign',\n",
       "  'benign',\n",
       "  'benign',\n",
       "  'benign',\n",
       "  'benign',\n",
       "  'benign',\n",
       "  'benign',\n",
       "  'benign',\n",
       "  'benign',\n",
       "  'benign',\n",
       "  'benign',\n",
       "  'benign',\n",
       "  'benign',\n",
       "  'benign',\n",
       "  'benign',\n",
       "  'benign',\n",
       "  'benign',\n",
       "  'benign',\n",
       "  'benign',\n",
       "  'benign',\n",
       "  'benign',\n",
       "  'benign',\n",
       "  'benign',\n",
       "  'benign',\n",
       "  'benign',\n",
       "  'benign',\n",
       "  'benign',\n",
       "  'benign',\n",
       "  'benign',\n",
       "  'benign',\n",
       "  'benign',\n",
       "  'benign',\n",
       "  'benign',\n",
       "  'benign',\n",
       "  'benign',\n",
       "  'benign',\n",
       "  'benign',\n",
       "  'benign',\n",
       "  'benign',\n",
       "  'benign',\n",
       "  'benign',\n",
       "  'benign',\n",
       "  'benign',\n",
       "  'benign',\n",
       "  'benign',\n",
       "  'benign',\n",
       "  'benign',\n",
       "  'benign',\n",
       "  'benign',\n",
       "  'benign',\n",
       "  'benign',\n",
       "  'benign',\n",
       "  'benign',\n",
       "  'benign',\n",
       "  'benign',\n",
       "  'benign',\n",
       "  'benign',\n",
       "  'benign',\n",
       "  'benign',\n",
       "  'benign',\n",
       "  'benign',\n",
       "  'benign',\n",
       "  'benign',\n",
       "  'benign',\n",
       "  'benign',\n",
       "  'benign',\n",
       "  'benign',\n",
       "  'benign',\n",
       "  'benign',\n",
       "  'benign',\n",
       "  'benign',\n",
       "  'benign',\n",
       "  'benign',\n",
       "  'benign',\n",
       "  'benign',\n",
       "  'benign',\n",
       "  'benign',\n",
       "  'benign',\n",
       "  'benign',\n",
       "  'benign',\n",
       "  'benign',\n",
       "  'benign',\n",
       "  'benign',\n",
       "  'benign',\n",
       "  'benign',\n",
       "  'benign',\n",
       "  'benign',\n",
       "  'benign',\n",
       "  'benign',\n",
       "  'benign',\n",
       "  'benign',\n",
       "  'benign',\n",
       "  'benign',\n",
       "  'benign',\n",
       "  'benign',\n",
       "  'benign',\n",
       "  'benign',\n",
       "  'benign',\n",
       "  'benign',\n",
       "  'benign',\n",
       "  'benign',\n",
       "  'benign',\n",
       "  'benign',\n",
       "  'benign',\n",
       "  'benign',\n",
       "  'benign',\n",
       "  'benign',\n",
       "  'benign',\n",
       "  'benign',\n",
       "  'benign',\n",
       "  'benign',\n",
       "  'benign',\n",
       "  'benign',\n",
       "  'benign',\n",
       "  'benign',\n",
       "  'benign',\n",
       "  'benign',\n",
       "  'benign',\n",
       "  'benign',\n",
       "  'benign',\n",
       "  'benign',\n",
       "  'benign',\n",
       "  'benign',\n",
       "  'benign',\n",
       "  'benign',\n",
       "  'benign',\n",
       "  'benign',\n",
       "  'benign',\n",
       "  'benign',\n",
       "  'benign',\n",
       "  'benign',\n",
       "  'benign',\n",
       "  'benign',\n",
       "  'benign',\n",
       "  'benign',\n",
       "  'benign',\n",
       "  'benign',\n",
       "  'benign',\n",
       "  'benign',\n",
       "  'benign',\n",
       "  'benign',\n",
       "  'benign',\n",
       "  'benign',\n",
       "  'benign',\n",
       "  'benign',\n",
       "  'benign',\n",
       "  'benign',\n",
       "  'benign',\n",
       "  'benign',\n",
       "  'benign',\n",
       "  'benign',\n",
       "  'benign',\n",
       "  'benign',\n",
       "  'benign',\n",
       "  'benign',\n",
       "  'benign',\n",
       "  'benign',\n",
       "  'benign',\n",
       "  'benign',\n",
       "  'benign',\n",
       "  'benign',\n",
       "  'benign',\n",
       "  'benign',\n",
       "  'benign',\n",
       "  'benign',\n",
       "  'benign',\n",
       "  'benign',\n",
       "  'benign',\n",
       "  'benign',\n",
       "  'benign',\n",
       "  'benign',\n",
       "  'benign',\n",
       "  'benign',\n",
       "  'benign',\n",
       "  'benign',\n",
       "  'benign',\n",
       "  'benign',\n",
       "  'benign',\n",
       "  'benign',\n",
       "  'benign',\n",
       "  'benign',\n",
       "  'benign',\n",
       "  'benign',\n",
       "  'benign',\n",
       "  'benign',\n",
       "  'benign',\n",
       "  'benign',\n",
       "  'benign',\n",
       "  'benign',\n",
       "  'benign',\n",
       "  'benign',\n",
       "  'benign',\n",
       "  'benign',\n",
       "  'benign',\n",
       "  'benign',\n",
       "  'benign',\n",
       "  'benign',\n",
       "  'benign',\n",
       "  'benign',\n",
       "  'benign',\n",
       "  'benign',\n",
       "  'benign',\n",
       "  'benign',\n",
       "  'benign',\n",
       "  'benign',\n",
       "  'benign',\n",
       "  'benign',\n",
       "  'benign',\n",
       "  'benign',\n",
       "  'benign',\n",
       "  'benign',\n",
       "  'benign',\n",
       "  'benign',\n",
       "  'benign',\n",
       "  'benign',\n",
       "  'benign',\n",
       "  'benign',\n",
       "  'benign',\n",
       "  'benign',\n",
       "  'benign',\n",
       "  'benign',\n",
       "  'benign',\n",
       "  'benign',\n",
       "  'benign',\n",
       "  'benign',\n",
       "  'benign',\n",
       "  'benign',\n",
       "  'benign',\n",
       "  'benign',\n",
       "  'benign',\n",
       "  'benign',\n",
       "  'benign',\n",
       "  'benign',\n",
       "  'benign',\n",
       "  'benign',\n",
       "  'benign',\n",
       "  'benign',\n",
       "  'benign',\n",
       "  'benign',\n",
       "  'benign',\n",
       "  'benign',\n",
       "  'benign',\n",
       "  'benign',\n",
       "  'benign',\n",
       "  'benign',\n",
       "  'benign',\n",
       "  'benign',\n",
       "  'benign',\n",
       "  'benign',\n",
       "  'benign',\n",
       "  'benign',\n",
       "  'benign',\n",
       "  'benign',\n",
       "  'benign',\n",
       "  'benign',\n",
       "  'benign',\n",
       "  'benign',\n",
       "  'benign',\n",
       "  'benign',\n",
       "  'benign',\n",
       "  'benign',\n",
       "  'benign',\n",
       "  'benign',\n",
       "  'benign',\n",
       "  'benign',\n",
       "  'benign',\n",
       "  'benign',\n",
       "  'benign',\n",
       "  'benign',\n",
       "  'benign',\n",
       "  'benign',\n",
       "  'benign',\n",
       "  'benign',\n",
       "  'benign',\n",
       "  'benign',\n",
       "  'benign',\n",
       "  'benign',\n",
       "  'benign',\n",
       "  'benign',\n",
       "  'malignant',\n",
       "  'malignant',\n",
       "  'malignant',\n",
       "  'malignant',\n",
       "  'malignant',\n",
       "  'malignant',\n",
       "  'malignant',\n",
       "  'malignant',\n",
       "  'malignant',\n",
       "  'malignant',\n",
       "  'malignant',\n",
       "  'malignant',\n",
       "  'malignant',\n",
       "  'malignant',\n",
       "  'malignant',\n",
       "  'malignant',\n",
       "  'malignant',\n",
       "  'malignant',\n",
       "  'malignant',\n",
       "  'malignant',\n",
       "  'malignant',\n",
       "  'malignant',\n",
       "  'malignant',\n",
       "  'malignant',\n",
       "  'malignant',\n",
       "  'malignant',\n",
       "  'malignant',\n",
       "  'malignant',\n",
       "  'malignant',\n",
       "  'malignant',\n",
       "  'malignant',\n",
       "  'malignant',\n",
       "  'malignant',\n",
       "  'malignant',\n",
       "  'malignant',\n",
       "  'malignant',\n",
       "  'malignant',\n",
       "  'malignant',\n",
       "  'malignant',\n",
       "  'malignant',\n",
       "  'malignant',\n",
       "  'malignant',\n",
       "  'malignant',\n",
       "  'malignant',\n",
       "  'malignant',\n",
       "  'malignant',\n",
       "  'malignant',\n",
       "  'malignant',\n",
       "  'malignant',\n",
       "  'malignant',\n",
       "  'malignant',\n",
       "  'malignant',\n",
       "  'malignant',\n",
       "  'malignant',\n",
       "  'malignant',\n",
       "  'malignant',\n",
       "  'malignant',\n",
       "  'malignant',\n",
       "  'malignant',\n",
       "  'malignant',\n",
       "  'malignant',\n",
       "  'malignant',\n",
       "  'malignant',\n",
       "  'malignant',\n",
       "  'malignant',\n",
       "  'malignant',\n",
       "  'malignant',\n",
       "  'malignant',\n",
       "  'malignant',\n",
       "  'malignant',\n",
       "  'malignant',\n",
       "  'malignant',\n",
       "  'malignant',\n",
       "  'malignant',\n",
       "  'malignant',\n",
       "  'malignant',\n",
       "  'malignant',\n",
       "  'malignant',\n",
       "  'malignant',\n",
       "  'malignant',\n",
       "  'malignant',\n",
       "  'malignant',\n",
       "  'malignant',\n",
       "  'malignant',\n",
       "  'malignant',\n",
       "  'malignant',\n",
       "  'malignant',\n",
       "  'malignant',\n",
       "  'malignant',\n",
       "  'malignant',\n",
       "  'malignant',\n",
       "  'malignant',\n",
       "  'malignant',\n",
       "  'malignant',\n",
       "  'malignant',\n",
       "  'malignant',\n",
       "  'malignant',\n",
       "  'malignant',\n",
       "  'malignant',\n",
       "  'malignant',\n",
       "  'malignant',\n",
       "  'malignant',\n",
       "  'malignant',\n",
       "  'malignant',\n",
       "  'malignant',\n",
       "  'malignant',\n",
       "  'malignant',\n",
       "  'malignant',\n",
       "  'malignant',\n",
       "  'malignant',\n",
       "  'malignant',\n",
       "  'malignant',\n",
       "  'malignant',\n",
       "  'malignant',\n",
       "  'malignant',\n",
       "  'malignant',\n",
       "  'malignant',\n",
       "  'malignant',\n",
       "  'malignant',\n",
       "  'malignant',\n",
       "  'malignant',\n",
       "  'malignant',\n",
       "  'malignant',\n",
       "  'malignant',\n",
       "  'malignant',\n",
       "  'malignant',\n",
       "  'malignant',\n",
       "  'malignant',\n",
       "  'malignant',\n",
       "  'malignant',\n",
       "  'malignant',\n",
       "  'malignant',\n",
       "  'malignant',\n",
       "  'malignant',\n",
       "  'malignant',\n",
       "  'malignant',\n",
       "  'malignant',\n",
       "  'malignant',\n",
       "  'malignant',\n",
       "  'malignant',\n",
       "  'malignant',\n",
       "  'malignant',\n",
       "  'malignant',\n",
       "  'malignant',\n",
       "  'malignant',\n",
       "  'malignant',\n",
       "  'malignant',\n",
       "  'malignant',\n",
       "  'malignant',\n",
       "  'malignant',\n",
       "  'malignant',\n",
       "  'malignant',\n",
       "  'malignant',\n",
       "  'malignant',\n",
       "  'malignant',\n",
       "  'malignant',\n",
       "  'malignant',\n",
       "  'malignant',\n",
       "  'malignant',\n",
       "  'malignant',\n",
       "  'malignant',\n",
       "  'malignant',\n",
       "  'malignant',\n",
       "  'malignant',\n",
       "  'malignant',\n",
       "  'malignant',\n",
       "  'malignant',\n",
       "  'malignant',\n",
       "  'malignant',\n",
       "  'malignant',\n",
       "  'malignant',\n",
       "  'malignant',\n",
       "  'malignant',\n",
       "  'malignant',\n",
       "  'malignant',\n",
       "  'malignant',\n",
       "  'malignant',\n",
       "  'malignant',\n",
       "  'malignant',\n",
       "  'malignant',\n",
       "  'malignant',\n",
       "  'malignant',\n",
       "  'malignant',\n",
       "  'malignant',\n",
       "  'malignant',\n",
       "  'malignant',\n",
       "  'malignant',\n",
       "  'malignant',\n",
       "  'malignant',\n",
       "  'malignant',\n",
       "  'malignant',\n",
       "  'malignant',\n",
       "  'malignant',\n",
       "  'malignant',\n",
       "  'malignant',\n",
       "  'malignant',\n",
       "  'malignant',\n",
       "  'malignant',\n",
       "  'malignant',\n",
       "  'malignant',\n",
       "  'malignant',\n",
       "  'malignant',\n",
       "  'malignant',\n",
       "  'malignant',\n",
       "  'malignant',\n",
       "  'malignant',\n",
       "  'malignant',\n",
       "  'malignant',\n",
       "  'malignant',\n",
       "  'malignant',\n",
       "  'malignant',\n",
       "  'malignant',\n",
       "  'malignant',\n",
       "  'malignant',\n",
       "  'malignant',\n",
       "  'malignant',\n",
       "  'malignant',\n",
       "  'malignant',\n",
       "  'malignant',\n",
       "  'malignant',\n",
       "  'malignant',\n",
       "  'malignant',\n",
       "  'malignant',\n",
       "  'malignant',\n",
       "  'malignant',\n",
       "  'malignant',\n",
       "  'malignant',\n",
       "  'malignant',\n",
       "  'malignant',\n",
       "  'malignant',\n",
       "  'malignant',\n",
       "  'malignant',\n",
       "  'malignant',\n",
       "  'malignant',\n",
       "  'malignant',\n",
       "  'malignant',\n",
       "  'malignant',\n",
       "  'malignant',\n",
       "  'malignant',\n",
       "  'malignant',\n",
       "  'malignant',\n",
       "  'malignant',\n",
       "  'malignant',\n",
       "  'malignant',\n",
       "  'malignant',\n",
       "  'malignant',\n",
       "  'malignant',\n",
       "  'malignant',\n",
       "  'malignant',\n",
       "  'malignant',\n",
       "  'malignant',\n",
       "  'malignant',\n",
       "  'malignant',\n",
       "  'malignant',\n",
       "  'malignant',\n",
       "  'malignant',\n",
       "  'malignant',\n",
       "  'malignant',\n",
       "  'malignant',\n",
       "  'malignant',\n",
       "  'malignant',\n",
       "  'malignant',\n",
       "  'malignant',\n",
       "  'malignant',\n",
       "  'malignant',\n",
       "  'malignant',\n",
       "  'malignant',\n",
       "  'malignant',\n",
       "  'malignant',\n",
       "  'malignant',\n",
       "  'malignant',\n",
       "  'malignant',\n",
       "  'malignant',\n",
       "  'malignant',\n",
       "  'malignant',\n",
       "  'malignant',\n",
       "  'malignant',\n",
       "  'malignant',\n",
       "  'malignant',\n",
       "  'malignant',\n",
       "  'malignant',\n",
       "  'malignant',\n",
       "  'malignant',\n",
       "  'malignant',\n",
       "  'malignant',\n",
       "  'malignant',\n",
       "  'malignant',\n",
       "  'malignant',\n",
       "  'malignant',\n",
       "  'malignant',\n",
       "  'malignant',\n",
       "  'malignant',\n",
       "  'malignant',\n",
       "  'malignant',\n",
       "  'malignant',\n",
       "  'malignant',\n",
       "  'malignant',\n",
       "  'malignant',\n",
       "  'malignant',\n",
       "  'malignant',\n",
       "  'malignant',\n",
       "  'malignant',\n",
       "  'malignant',\n",
       "  'malignant',\n",
       "  'malignant',\n",
       "  'malignant',\n",
       "  'malignant',\n",
       "  'malignant',\n",
       "  'malignant',\n",
       "  'malignant',\n",
       "  'malignant',\n",
       "  'malignant',\n",
       "  'malignant',\n",
       "  'malignant',\n",
       "  'malignant',\n",
       "  'malignant',\n",
       "  'malignant',\n",
       "  'malignant',\n",
       "  'malignant',\n",
       "  'malignant',\n",
       "  'malignant',\n",
       "  'malignant',\n",
       "  'malignant',\n",
       "  'malignant',\n",
       "  'malignant',\n",
       "  'malignant',\n",
       "  'malignant',\n",
       "  'malignant',\n",
       "  'malignant',\n",
       "  'malignant',\n",
       "  'malignant',\n",
       "  'malignant',\n",
       "  'malignant',\n",
       "  'malignant',\n",
       "  'malignant',\n",
       "  'malignant',\n",
       "  'malignant',\n",
       "  'malignant',\n",
       "  'malignant',\n",
       "  'malignant',\n",
       "  'malignant',\n",
       "  'malignant',\n",
       "  'malignant',\n",
       "  'malignant',\n",
       "  'malignant',\n",
       "  'malignant',\n",
       "  'malignant',\n",
       "  'malignant',\n",
       "  'malignant',\n",
       "  'malignant',\n",
       "  'malignant',\n",
       "  'malignant',\n",
       "  'malignant',\n",
       "  'malignant',\n",
       "  'malignant',\n",
       "  'malignant',\n",
       "  'malignant',\n",
       "  'malignant',\n",
       "  'malignant',\n",
       "  'malignant',\n",
       "  'malignant',\n",
       "  'malignant',\n",
       "  'malignant',\n",
       "  'malignant',\n",
       "  'malignant',\n",
       "  'malignant',\n",
       "  'malignant',\n",
       "  'malignant',\n",
       "  'malignant',\n",
       "  'malignant',\n",
       "  'malignant',\n",
       "  'malignant',\n",
       "  'malignant',\n",
       "  'malignant',\n",
       "  'malignant',\n",
       "  'malignant',\n",
       "  'malignant',\n",
       "  'malignant',\n",
       "  'malignant',\n",
       "  'malignant']]"
      ]
     },
     "execution_count": 28,
     "metadata": {},
     "output_type": "execute_result"
    }
   ],
   "source": [
    "tsne_labels"
   ]
  },
  {
   "cell_type": "code",
   "execution_count": 29,
   "metadata": {
    "scrolled": true
   },
   "outputs": [
    {
     "data": {
      "image/png": "[encoded data removed]",
      "text/plain": [
       "<Figure size 432x288 with 1 Axes>"
      ]
     },
     "metadata": {},
     "output_type": "display_data"
    }
   ],
   "source": [
    "fig = plot_tsne(model, \"dense_5\", tsne_dataset, tsne_labels, perplexity=5, fieldnames=[\"diagnosis by MRI or histopathology\", \"model prediction\"])\n",
    "fig[0].savefig(\"figures/label-{}-tsne.svg\".format(PARAMETERS_ID), bbox_inches = \"tight\")\n",
    "fig[1].savefig(\"figures/model-{}-tsne.svg\".format(PARAMETERS_ID), bbox_inches = \"tight\")"
   ]
  },
  {
   "cell_type": "markdown",
   "metadata": {},
   "source": [
    "## Experts"
   ]
  },
  {
   "cell_type": "code",
   "execution_count": 30,
   "metadata": {},
   "outputs": [
    {
     "name": "stdout",
     "output_type": "stream",
     "text": [
      "error with benign/free-26961402-1.jpeg: '26961402-1.jpeg'\n",
      "error with benign/free-26961402-2.jpeg: '26961402-2.jpeg'\n",
      "error with benign/free-28058418-1.jpeg: '28058418-1.jpeg'\n",
      "error with malignant/free-27312126-1.jpeg: '27312126-1.jpeg'\n",
      "error with malignant/free-27312126-2.jpeg: '27312126-2.jpeg'\n",
      "error with malignant/free-27372620.jpeg: '27372620.jpeg'\n",
      "error with malignant/free-27563233.jpeg: '27563233.jpeg'\n",
      "error with malignant/free-27573892-1.jpeg: '27573892-1.jpeg'\n",
      "error with malignant/free-27573892-2.jpeg: '27573892-2.jpeg'\n",
      "error with malignant/free-27573892-3.jpeg: '27573892-3.jpeg'\n",
      "error with malignant/free-27594016-1.jpeg: '27594016-1.jpeg'\n",
      "error with malignant/free-27594016-2.jpeg: '27594016-2.jpeg'\n",
      "error with malignant/free-27594016-3.jpeg: '27594016-3.jpeg'\n",
      "error with malignant/free-27598853-1.jpeg: '27598853-1.jpeg'\n",
      "error with malignant/free-27598853-2.jpeg: '27598853-2.jpeg'\n",
      "error with malignant/free-27621995.jpeg: '27621995.jpeg'\n",
      "error with malignant/free-27633310-1.jpeg: '27633310-1.jpeg'\n",
      "error with malignant/free-27633310-2.jpeg: '27633310-2.jpeg'\n",
      "error with malignant/free-27633310-3.jpeg: '27633310-3.jpeg'\n",
      "error with malignant/free-27647115.jpeg: '27647115.jpeg'\n",
      "error with malignant/free-27652924-1.jpeg: '27652924-1.jpeg'\n",
      "error with malignant/free-27652924-2.jpeg: '27652924-2.jpeg'\n",
      "error with malignant/free-27652924-3.jpeg: '27652924-3.jpeg'\n",
      "error with malignant/free-27652924-4.jpeg: '27652924-4.jpeg'\n",
      "error with malignant/free-27676590.jpeg: '27676590.jpeg'\n",
      "error with malignant/free-27731231-1.jpeg: '27731231-1.jpeg'\n",
      "error with malignant/free-27731231-2.jpeg: '27731231-2.jpeg'\n",
      "error with malignant/free-27731231-3.jpeg: '27731231-3.jpeg'\n",
      "error with malignant/free-27731231-4.jpeg: '27731231-4.jpeg'\n",
      "error with malignant/free-27734903-1.jpeg: '27734903-1.jpeg'\n",
      "error with malignant/free-27734903-2.jpeg: '27734903-2.jpeg'\n",
      "error with malignant/free-27773899.jpeg: '27773899.jpeg'\n",
      "error with malignant/free-27824643.jpeg: '27824643.jpeg'\n",
      "error with malignant/free-27876515-1.jpeg: '27876515-1.jpeg'\n",
      "error with malignant/free-27876515-2.jpeg: '27876515-2.jpeg'\n",
      "error with malignant/free-27876515-3.jpeg: '27876515-3.jpeg'\n",
      "error with malignant/free-27876515-4.jpeg: '27876515-4.jpeg'\n",
      "error with malignant/free-27916113.jpeg: '27916113.jpeg'\n",
      "error with malignant/free-6917300.jpeg: '6917300.jpeg'\n"
     ]
    },
    {
     "data": {
      "text/plain": [
       "['benign',\n",
       " 'benign',\n",
       " 'benign',\n",
       " 'benign',\n",
       " 'benign',\n",
       " 'malignant',\n",
       " 'malignant',\n",
       " 'malignant',\n",
       " 'benign',\n",
       " 'benign',\n",
       " 'malignant',\n",
       " 'benign',\n",
       " 'benign',\n",
       " 'benign',\n",
       " 'malignant',\n",
       " 'benign',\n",
       " 'benign',\n",
       " 'benign',\n",
       " 'benign',\n",
       " 'benign',\n",
       " 'benign',\n",
       " 'benign',\n",
       " None,\n",
       " None,\n",
       " 'benign',\n",
       " 'malignant',\n",
       " 'benign',\n",
       " 'benign',\n",
       " 'benign',\n",
       " 'malignant',\n",
       " None,\n",
       " 'benign',\n",
       " 'malignant',\n",
       " 'malignant',\n",
       " 'benign',\n",
       " 'malignant',\n",
       " 'malignant',\n",
       " None,\n",
       " None,\n",
       " None,\n",
       " 'malignant',\n",
       " 'malignant',\n",
       " 'malignant',\n",
       " 'malignant',\n",
       " None,\n",
       " None,\n",
       " None,\n",
       " None,\n",
       " None,\n",
       " None,\n",
       " None,\n",
       " None,\n",
       " None,\n",
       " None,\n",
       " None,\n",
       " None,\n",
       " None,\n",
       " None,\n",
       " None,\n",
       " None,\n",
       " None,\n",
       " None,\n",
       " None,\n",
       " None,\n",
       " None,\n",
       " None,\n",
       " None,\n",
       " None,\n",
       " None,\n",
       " None,\n",
       " 'malignant',\n",
       " None,\n",
       " None,\n",
       " None,\n",
       " None,\n",
       " None,\n",
       " None,\n",
       " 'benign',\n",
       " 'malignant',\n",
       " 'malignant',\n",
       " 'malignant',\n",
       " 'malignant',\n",
       " 'malignant',\n",
       " None]"
      ]
     },
     "execution_count": 30,
     "metadata": {},
     "output_type": "execute_result"
    }
   ],
   "source": [
    "get_expert_results(\"evaluations/radiology-3344.json\", test.filenames)"
   ]
  },
  {
   "cell_type": "code",
   "execution_count": 31,
   "metadata": {},
   "outputs": [
    {
     "name": "stdout",
     "output_type": "stream",
     "text": [
      "error with benign/free-26805873.jpeg: '26805873.jpeg'\n",
      "error with benign/free-27026916.jpeg: '27026916.jpeg'\n",
      "error with benign/free-27244981.jpeg: '27244981.jpeg'\n",
      "error with benign/free-4782399.jpeg: '4782399.jpeg'\n",
      "error with malignant/free-26699890-1.jpeg: '26699890-1.jpeg'\n",
      "error with malignant/free-26699890-2.jpeg: '26699890-2.jpeg'\n",
      "error with malignant/free-26699890-3.jpeg: '26699890-3.jpeg'\n",
      "error with malignant/free-26699890.jpeg: '26699890.jpeg'\n",
      "error with malignant/free-26943899-1.jpeg: '26943899-1.jpeg'\n",
      "error with malignant/free-26943899-2.jpeg: '26943899-2.jpeg'\n",
      "error with malignant/free-26998526-1.jpeg: '26998526-1.jpeg'\n",
      "error with malignant/free-26998526-2.jpeg: '26998526-2.jpeg'\n",
      "error with malignant/free-26998526-3.jpeg: '26998526-3.jpeg'\n",
      "error with malignant/free-26998526.jpeg: '26998526.jpeg'\n",
      "error with malignant/free-27251611-1.jpeg: '27251611-1.jpeg'\n",
      "error with malignant/free-27251611-2.jpeg: '27251611-2.jpeg'\n",
      "error with malignant/free-27251611-3.jpeg: '27251611-3.jpeg'\n",
      "error with malignant/free-27251611-4.jpeg: '27251611-4.jpeg'\n",
      "error with malignant/free-27251611-5.jpeg: '27251611-5.jpeg'\n",
      "error with malignant/free-27251611-6.jpeg: '27251611-6.jpeg'\n",
      "error with malignant/free-27352281.jpeg: '27352281.jpeg'\n",
      "error with malignant/free-27389545-1.jpeg: '27389545-1.jpeg'\n",
      "error with malignant/free-27389545-2.jpeg: '27389545-2.jpeg'\n",
      "error with malignant/free-27389545-3.jpeg: '27389545-3.jpeg'\n",
      "error with malignant/free-27389545-4.jpeg: '27389545-4.jpeg'\n",
      "error with malignant/free-28169392-1.jpeg: '28169392-1.jpeg'\n",
      "error with malignant/free-28169392-2.jpeg: '28169392-2.jpeg'\n",
      "error with malignant/free-28169392-3.jpeg: '28169392-3.jpeg'\n",
      "error with malignant/free-28169392-4.jpeg: '28169392-4.jpeg'\n",
      "error with malignant/free-28192873-1.jpeg: '28192873-1.jpeg'\n",
      "error with malignant/free-28192873-2.jpeg: '28192873-2.jpeg'\n",
      "error with malignant/free-28192873-3.jpeg: '28192873-3.jpeg'\n",
      "error with malignant/free-28415489-1.jpeg: '28415489-1.jpeg'\n",
      "error with malignant/free-28415489-2.jpeg: '28415489-2.jpeg'\n",
      "error with malignant/free-28415489.jpeg: '28415489.jpeg'\n",
      "error with malignant/free-28434676.jpeg: '28434676.jpeg'\n",
      "error with malignant/free-28889325.jpeg: '28889325.jpeg'\n",
      "error with malignant/free-28894245.jpeg: '28894245.jpeg'\n",
      "error with malignant/free-29165825-1.jpeg: '29165825-1.jpeg'\n",
      "error with malignant/free-29165825-2.jpeg: '29165825-2.jpeg'\n",
      "error with malignant/free-29165825-3.jpeg: '29165825-3.jpeg'\n",
      "error with malignant/free-29165825.jpeg: '29165825.jpeg'\n",
      "error with malignant/free-29492348.jpeg: '29492348.jpeg'\n",
      "error with malignant/free-29723441.jpeg: '29723441.jpeg'\n",
      "error with malignant/free-30095075.jpeg: '30095075.jpeg'\n",
      "error with malignant/free-30177827-1.jpeg: '30177827-1.jpeg'\n",
      "error with malignant/free-30177827-2.jpeg: '30177827-2.jpeg'\n",
      "error with malignant/free-30721873-1.jpeg: '30721873-1.jpeg'\n",
      "error with malignant/free-30721873-2.jpeg: '30721873-2.jpeg'\n",
      "error with malignant/free-30721873-3.jpeg: '30721873-3.jpeg'\n",
      "error with malignant/free-30908621-1.jpeg: '30908621-1.jpeg'\n",
      "error with malignant/free-30908621-2.jpeg: '30908621-2.jpeg'\n",
      "error with malignant/free-30908621-3.jpeg: '30908621-3.jpeg'\n",
      "error with malignant/free-30908621-4.jpeg: '30908621-4.jpeg'\n",
      "error with malignant/free-30908621-5.jpeg: '30908621-5.jpeg'\n",
      "error with malignant/free-31150775-1.jpeg: '31150775-1.jpeg'\n",
      "error with malignant/free-31150775-2.jpeg: '31150775-2.jpeg'\n",
      "error with malignant/free-31150775-3.jpeg: '31150775-3.jpeg'\n",
      "error with malignant/free-31150775-4.jpeg: '31150775-4.jpeg'\n",
      "error with malignant/free-31150775-5.jpeg: '31150775-5.jpeg'\n",
      "error with malignant/free-4571864.jpeg: '4571864.jpeg'\n",
      "error with malignant/free-6406401-1.jpeg: '6406401-1.jpeg'\n",
      "error with malignant/free-6406401-2.jpeg: '6406401-2.jpeg'\n",
      "error with malignant/free-6406401-3.jpeg: '6406401-3.jpeg'\n",
      "error with malignant/free-6406401.jpeg: '6406401.jpeg'\n",
      "error with malignant/free-6586304-1.jpeg: '6586304-1.jpeg'\n",
      "error with malignant/free-6600061-1.jpeg: '6600061-1.jpeg'\n",
      "error with malignant/free-6600061-2.jpeg: '6600061-2.jpeg'\n",
      "error with malignant/free-6671257-1.jpeg: '6671257-1.jpeg'\n",
      "error with malignant/free-6671257-2.jpeg: '6671257-2.jpeg'\n",
      "error with malignant/free-6671257-3.jpeg: '6671257-3.jpeg'\n",
      "error with malignant/free-8285464-1.jpeg: '8285464-1.jpeg'\n",
      "error with malignant/free-8285464-2.jpeg: '8285464-2.jpeg'\n",
      "error with malignant/free-8285464-3.jpeg: '8285464-3.jpeg'\n",
      "error with malignant/free-8285464-4.jpeg: '8285464-4.jpeg'\n",
      "error with malignant/free-8548579-1.jpeg: '8548579-1.jpeg'\n",
      "error with malignant/free-8845953-1.jpeg: '8845953-1.jpeg'\n",
      "error with malignant/free-8845953-2.jpeg: '8845953-2.jpeg'\n",
      "error with malignant/free-9000287.jpeg: '9000287.jpeg'\n",
      "error with malignant/free-9019761.jpeg: '9019761.jpeg'\n",
      "error with malignant/free-9089505-1.jpeg: '9089505-1.jpeg'\n",
      "error with malignant/free-9089505-2.jpeg: '9089505-2.jpeg'\n",
      "error with malignant/free-9089505-3.jpeg: '9089505-3.jpeg'\n",
      "error with malignant/free-9089505-4.jpeg: '9089505-4.jpeg'\n"
     ]
    },
    {
     "data": {
      "image/png": "[encoded data removed]",
      "text/plain": [
       "<Figure size 432x288 with 1 Axes>"
      ]
     },
     "metadata": {},
     "output_type": "display_data"
    }
   ],
   "source": [
    "expert_1, fig = plot_expert_confusion(\"evaluations/radiology-9809.json\", validation)\n",
    "fig.savefig(\"figures/{}-confusion-matrix-expert-1.svg\".format(PARAMETERS_ID), bbox_inches = \"tight\")"
   ]
  },
  {
   "cell_type": "code",
   "execution_count": 32,
   "metadata": {
    "scrolled": true
   },
   "outputs": [
    {
     "data": {
      "text/html": [
       "<div>\n",
       "<style scoped>\n",
       "    .dataframe tbody tr th:only-of-type {\n",
       "        vertical-align: middle;\n",
       "    }\n",
       "\n",
       "    .dataframe tbody tr th {\n",
       "        vertical-align: top;\n",
       "    }\n",
       "\n",
       "    .dataframe thead th {\n",
       "        text-align: right;\n",
       "    }\n",
       "</style>\n",
       "<table border=\"1\" class=\"dataframe\">\n",
       "  <thead>\n",
       "    <tr style=\"text-align: right;\">\n",
       "      <th></th>\n",
       "      <th>Acc</th>\n",
       "      <th>TP</th>\n",
       "      <th>TN</th>\n",
       "      <th>FP</th>\n",
       "      <th>FN</th>\n",
       "      <th>TPR</th>\n",
       "      <th>TNR</th>\n",
       "      <th>PPV</th>\n",
       "      <th>NPV</th>\n",
       "      <th>FPR</th>\n",
       "      <th>FNR</th>\n",
       "      <th>FDR</th>\n",
       "    </tr>\n",
       "  </thead>\n",
       "  <tbody>\n",
       "    <tr>\n",
       "      <th>benign</th>\n",
       "      <td>0.378</td>\n",
       "      <td>52</td>\n",
       "      <td>13</td>\n",
       "      <td>95</td>\n",
       "      <td>12</td>\n",
       "      <td>0.812</td>\n",
       "      <td>0.120</td>\n",
       "      <td>0.354</td>\n",
       "      <td>0.520</td>\n",
       "      <td>0.880</td>\n",
       "      <td>0.188</td>\n",
       "      <td>0.646</td>\n",
       "    </tr>\n",
       "    <tr>\n",
       "      <th>malignant</th>\n",
       "      <td>0.378</td>\n",
       "      <td>13</td>\n",
       "      <td>52</td>\n",
       "      <td>12</td>\n",
       "      <td>95</td>\n",
       "      <td>0.120</td>\n",
       "      <td>0.812</td>\n",
       "      <td>0.520</td>\n",
       "      <td>0.354</td>\n",
       "      <td>0.188</td>\n",
       "      <td>0.880</td>\n",
       "      <td>0.480</td>\n",
       "    </tr>\n",
       "  </tbody>\n",
       "</table>\n",
       "</div>"
      ],
      "text/plain": [
       "            Acc  TP  TN  FP  FN   TPR   TNR   PPV   NPV   FPR   FNR   FDR\n",
       "benign    0.378  52  13  95  12 0.812 0.120 0.354 0.520 0.880 0.188 0.646\n",
       "malignant 0.378  13  52  12  95 0.120 0.812 0.520 0.354 0.188 0.880 0.480"
      ]
     },
     "execution_count": 32,
     "metadata": {},
     "output_type": "execute_result"
    }
   ],
   "source": [
    "pandas.DataFrame(expert_1, index=validation.class_indices)"
   ]
  },
  {
   "cell_type": "markdown",
   "metadata": {},
   "source": [
    "## ROC with experts"
   ]
  },
  {
   "cell_type": "code",
   "execution_count": 33,
   "metadata": {
    "scrolled": false
   },
   "outputs": [
    {
     "data": {
      "image/png": "[encoded data removed]",
      "text/plain": [
       "<Figure size 432x288 with 1 Axes>"
      ]
     },
     "metadata": {},
     "output_type": "display_data"
    }
   ],
   "source": [
    "fig = plot_roc_curve(labels, results, experts=[{ **expert_1, \"name\":\"expert 1\" }, { **expert_1, \"name\":\"expert 2\" }])\n",
    "fig.savefig(\"figures/{}-roc-curve.svg\".format(PARAMETERS_ID), bbox_inches = \"tight\")"
   ]
  },
  {
   "cell_type": "code",
   "execution_count": null,
   "metadata": {},
   "outputs": [],
   "source": [
    "from IPython.display import HTML\n",
    "HTML('''<script>\n",
    "code_show=true; \n",
    "function code_toggle() {\n",
    " if (code_show){\n",
    " $('div.input').hide();\n",
    " } else {\n",
    " $('div.input').show();\n",
    " }\n",
    " code_show = !code_show\n",
    "} \n",
    "$( document ).ready(code_toggle);\n",
    "</script>\n",
    "The raw code for this IPython notebook is by default hidden for easier reading.\n",
    "To toggle on/off the raw code, click <a href=\"javascript:code_toggle()\">here</a>.''')"
   ]
  },
  {
   "cell_type": "code",
   "execution_count": null,
   "metadata": {},
   "outputs": [],
   "source": []
  },
  {
   "cell_type": "code",
   "execution_count": null,
   "metadata": {},
   "outputs": [],
   "source": []
  }
 ],
 "metadata": {
  "kernelspec": {
   "display_name": "Python 3",
   "language": "python",
   "name": "python3"
  },
  "language_info": {
   "codemirror_mode": {
    "name": "ipython",
    "version": 3
   },
   "file_extension": ".py",
   "mimetype": "text/x-python",
   "name": "python",
   "nbconvert_exporter": "python",
   "pygments_lexer": "ipython3",
   "version": "3.6.7"
  }
 },
 "nbformat": 4,
 "nbformat_minor": 2
}
