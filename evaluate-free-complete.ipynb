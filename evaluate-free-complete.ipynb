{
 "cells": [
  {
   "cell_type": "code",
   "execution_count": 1,
   "metadata": {
    "papermill": {
     "duration": 0.424677,
     "end_time": "2019-11-23T05:46:18.128621",
     "exception": false,
     "start_time": "2019-11-23T05:46:17.703944",
     "status": "completed"
    },
    "tags": []
   },
   "outputs": [],
   "source": [
    "%load_ext autoreload\n",
    "%autoreload 2\n",
    "%matplotlib inline  \n",
    "from IPython.display import HTML"
   ]
  },
  {
   "cell_type": "code",
   "execution_count": 85,
   "metadata": {
    "papermill": {
     "duration": 0.629533,
     "end_time": "2019-11-23T05:46:18.794809",
     "exception": false,
     "start_time": "2019-11-23T05:46:18.165276",
     "status": "completed"
    },
    "tags": []
   },
   "outputs": [],
   "source": [
    "from sklearn.metrics import f1_score, roc_auc_score, average_precision_score, precision_score, recall_score\n",
    "import pandas\n",
    "import numpy as np\n",
    "import json\n",
    "import matplotlib.pyplot as plt\n",
    "import os\n",
    "import matplotlib\n",
    "matplotlib.rc('font', size=16)\n",
    "pandas.options.display.float_format = '{:,.3f}'.format\n",
    "from seaborn import plotting_context"
   ]
  },
  {
   "cell_type": "code",
   "execution_count": 3,
   "metadata": {
    "papermill": {
     "duration": 1.178924,
     "end_time": "2019-11-23T05:46:20.012077",
     "exception": false,
     "start_time": "2019-11-23T05:46:18.833153",
     "status": "completed"
    },
    "tags": []
   },
   "outputs": [
    {
     "name": "stderr",
     "output_type": "stream",
     "text": [
      "Using TensorFlow backend.\n",
      "/home/intrepidlemon/.local/share/virtualenvs/deep-ultrasound-eb7oaR1r/lib/python3.6/site-packages/tensorflow/python/framework/dtypes.py:523: FutureWarning: Passing (type, 1) or '1type' as a synonym of type is deprecated; in a future version of numpy, it will be understood as (type, (1,)) / '(1,)type'.\n",
      "  _np_qint8 = np.dtype([(\"qint8\", np.int8, 1)])\n",
      "/home/intrepidlemon/.local/share/virtualenvs/deep-ultrasound-eb7oaR1r/lib/python3.6/site-packages/tensorflow/python/framework/dtypes.py:524: FutureWarning: Passing (type, 1) or '1type' as a synonym of type is deprecated; in a future version of numpy, it will be understood as (type, (1,)) / '(1,)type'.\n",
      "  _np_quint8 = np.dtype([(\"quint8\", np.uint8, 1)])\n",
      "/home/intrepidlemon/.local/share/virtualenvs/deep-ultrasound-eb7oaR1r/lib/python3.6/site-packages/tensorflow/python/framework/dtypes.py:525: FutureWarning: Passing (type, 1) or '1type' as a synonym of type is deprecated; in a future version of numpy, it will be understood as (type, (1,)) / '(1,)type'.\n",
      "  _np_qint16 = np.dtype([(\"qint16\", np.int16, 1)])\n",
      "/home/intrepidlemon/.local/share/virtualenvs/deep-ultrasound-eb7oaR1r/lib/python3.6/site-packages/tensorflow/python/framework/dtypes.py:526: FutureWarning: Passing (type, 1) or '1type' as a synonym of type is deprecated; in a future version of numpy, it will be understood as (type, (1,)) / '(1,)type'.\n",
      "  _np_quint16 = np.dtype([(\"quint16\", np.uint16, 1)])\n",
      "/home/intrepidlemon/.local/share/virtualenvs/deep-ultrasound-eb7oaR1r/lib/python3.6/site-packages/tensorflow/python/framework/dtypes.py:527: FutureWarning: Passing (type, 1) or '1type' as a synonym of type is deprecated; in a future version of numpy, it will be understood as (type, (1,)) / '(1,)type'.\n",
      "  _np_qint32 = np.dtype([(\"qint32\", np.int32, 1)])\n",
      "/home/intrepidlemon/.local/share/virtualenvs/deep-ultrasound-eb7oaR1r/lib/python3.6/site-packages/tensorflow/python/framework/dtypes.py:532: FutureWarning: Passing (type, 1) or '1type' as a synonym of type is deprecated; in a future version of numpy, it will be understood as (type, (1,)) / '(1,)type'.\n",
      "  np_resource = np.dtype([(\"resource\", np.ubyte, 1)])\n"
     ]
    }
   ],
   "source": [
    "from evaluate import load, get_results, get_labels, transform_binary_probabilities, transform_binary_predictions, calculate_accuracy_loss, plot_confusion_matrix, plot_precision_recall, plot_roc_curve, calculate_pr_auc, calculate_confusion_matrix_stats, calculate_confusion_matrix, plot_tsne, accession_from_filename, plot_expert_confusion, plot_multiple_grad_cam, get_expert_results"
   ]
  },
  {
   "cell_type": "code",
   "execution_count": 4,
   "metadata": {
    "papermill": {
     "duration": 0.31585,
     "end_time": "2019-11-23T05:46:20.365986",
     "exception": false,
     "start_time": "2019-11-23T05:46:20.050136",
     "status": "completed"
    },
    "tags": []
   },
   "outputs": [],
   "source": [
    "from data import describe, all_features, data, print_describe, load_single\n",
    "from run import characterize_data\n",
    "from config import config"
   ]
  },
  {
   "cell_type": "markdown",
   "metadata": {
    "papermill": {
     "duration": 0.126484,
     "end_time": "2019-11-23T05:46:20.527945",
     "exception": false,
     "start_time": "2019-11-23T05:46:20.401461",
     "status": "completed"
    },
    "tags": []
   },
   "source": [
    "# Parameters"
   ]
  },
  {
   "cell_type": "code",
   "execution_count": 5,
   "metadata": {
    "papermill": {
     "duration": 0.056146,
     "end_time": "2019-11-23T05:46:20.607238",
     "exception": false,
     "start_time": "2019-11-23T05:46:20.551092",
     "status": "completed"
    },
    "tags": [
     "parameters"
    ]
   },
   "outputs": [],
   "source": [
    "DIRECTORY = os.path.join(os.environ[\"DATA_DIR\"], \"liver-ultrasound\")\n",
    "MODEL_UUID = \"04cfb42d-3e0b-4516-aa85-56f19cb4d6b9\"\n",
    "MODEL_TYPE = \"v2\"\n",
    "SELECTIONS = \"None\"\n",
    "PARAMETERS_ID = \"parameters\""
   ]
  },
  {
   "cell_type": "code",
   "execution_count": 6,
   "metadata": {
    "papermill": {
     "duration": 0.068863,
     "end_time": "2019-11-23T05:46:20.711707",
     "exception": false,
     "start_time": "2019-11-23T05:46:20.642844",
     "status": "completed"
    },
    "tags": [
     "injected-parameters"
    ]
   },
   "outputs": [],
   "source": [
    "# Parameters\n",
    "DIRECTORY = \"/media/user1/my4TB/intrepidlemon/liver-ultrasound/free\"\n",
    "MODEL_UUID = \"04cfb42d-3e0b-4516-aa85-56f19cb4d6b9\"\n",
    "MODEL_TYPE = \"v2\"\n",
    "SELECTIONS = \"[]\"\n",
    "PARAMETERS_ID = \"free-complete\"\n"
   ]
  },
  {
   "cell_type": "code",
   "execution_count": 7,
   "metadata": {
    "papermill": {
     "duration": 0.070463,
     "end_time": "2019-11-23T05:46:20.815625",
     "exception": false,
     "start_time": "2019-11-23T05:46:20.745162",
     "status": "completed"
    },
    "tags": []
   },
   "outputs": [],
   "source": [
    "SELECTIONS = eval(SELECTIONS)\n",
    "FEATURES = config.FEATURES\n",
    "RAW = \"{}/raw\".format(DIRECTORY)\n",
    "TRAIN = \"{}/train\".format(DIRECTORY)\n",
    "VALIDATION = \"{}/validation\".format(DIRECTORY)\n",
    "MODEL = \"{}/models/{}-{}.h5\".format(config.OUTPUT, MODEL_UUID, MODEL_TYPE)"
   ]
  },
  {
   "cell_type": "markdown",
   "metadata": {
    "papermill": {
     "duration": 0.018862,
     "end_time": "2019-11-23T05:46:20.868398",
     "exception": false,
     "start_time": "2019-11-23T05:46:20.849536",
     "status": "completed"
    },
    "tags": []
   },
   "source": [
    "## Lesion descriptions"
   ]
  },
  {
   "cell_type": "code",
   "execution_count": 8,
   "metadata": {
    "papermill": {
     "duration": 0.636576,
     "end_time": "2019-11-23T05:46:21.526529",
     "exception": false,
     "start_time": "2019-11-23T05:46:20.889953",
     "status": "completed"
    },
    "scrolled": true,
    "tags": []
   },
   "outputs": [
    {
     "name": "stdout",
     "output_type": "stream",
     "text": [
      "Found 660 images belonging to 2 classes.\n",
      "Found 660 images belonging to 2 classes.\n",
      "Found 172 images belonging to 2 classes.\n",
      "Found 82 images belonging to 2 classes.\n"
     ]
    }
   ],
   "source": [
    "train, validation, test = data(shuffle_train=False, validation_dir=VALIDATION, train_dir=TRAIN)"
   ]
  },
  {
   "cell_type": "code",
   "execution_count": 9,
   "metadata": {
    "papermill": {
     "duration": 0.074044,
     "end_time": "2019-11-23T05:46:21.633521",
     "exception": false,
     "start_time": "2019-11-23T05:46:21.559477",
     "status": "completed"
    },
    "tags": []
   },
   "outputs": [
    {
     "name": "stdout",
     "output_type": "stream",
     "text": [
      "training data breakdown:  {'benign': 280, 'malignant': 380}\n",
      "validation data breakdown:  {'benign': 64, 'malignant': 108}\n",
      "validation data breakdown:  {'benign': 41, 'malignant': 41}\n"
     ]
    }
   ],
   "source": [
    "print(\"training data breakdown: \", characterize_data(train))\n",
    "print(\"validation data breakdown: \", characterize_data(validation))\n",
    "print(\"validation data breakdown: \", characterize_data(test))"
   ]
  },
  {
   "cell_type": "code",
   "execution_count": 10,
   "metadata": {
    "papermill": {
     "duration": 0.072532,
     "end_time": "2019-11-23T05:46:21.742855",
     "exception": false,
     "start_time": "2019-11-23T05:46:21.670323",
     "status": "completed"
    },
    "tags": []
   },
   "outputs": [
    {
     "data": {
      "text/plain": [
       "42"
      ]
     },
     "execution_count": 10,
     "metadata": {},
     "output_type": "execute_result"
    }
   ],
   "source": [
    "len(train)"
   ]
  },
  {
   "cell_type": "code",
   "execution_count": 11,
   "metadata": {
    "papermill": {
     "duration": 0.070195,
     "end_time": "2019-11-23T05:46:21.848818",
     "exception": false,
     "start_time": "2019-11-23T05:46:21.778623",
     "status": "completed"
    },
    "tags": []
   },
   "outputs": [
    {
     "name": "stdout",
     "output_type": "stream",
     "text": [
      "172\n"
     ]
    }
   ],
   "source": [
    "print(validation.n)"
   ]
  },
  {
   "cell_type": "code",
   "execution_count": 12,
   "metadata": {
    "papermill": {
     "duration": 33.242167,
     "end_time": "2019-11-23T05:46:55.124256",
     "exception": false,
     "start_time": "2019-11-23T05:46:21.882089",
     "status": "completed"
    },
    "scrolled": true,
    "tags": []
   },
   "outputs": [],
   "source": [
    "model = load(MODEL)"
   ]
  },
  {
   "cell_type": "code",
   "execution_count": 13,
   "metadata": {
    "papermill": {
     "duration": 7.233916,
     "end_time": "2019-11-23T05:47:02.408212",
     "exception": false,
     "start_time": "2019-11-23T05:46:55.174296",
     "status": "completed"
    },
    "tags": []
   },
   "outputs": [],
   "source": [
    "results = get_results(model, test)"
   ]
  },
  {
   "cell_type": "code",
   "execution_count": 14,
   "metadata": {
    "papermill": {
     "duration": 0.101225,
     "end_time": "2019-11-23T05:47:02.546838",
     "exception": false,
     "start_time": "2019-11-23T05:47:02.445613",
     "status": "completed"
    },
    "tags": []
   },
   "outputs": [
    {
     "data": {
      "text/plain": [
       "array([[0.9667642 ],\n",
       "       [0.9775    ],\n",
       "       [0.37962133],\n",
       "       [0.4253345 ],\n",
       "       [0.48385367],\n",
       "       [0.8401759 ],\n",
       "       [0.9821212 ],\n",
       "       [0.9717059 ],\n",
       "       [0.99996376],\n",
       "       [0.62718403],\n",
       "       [0.05095611],\n",
       "       [0.8835817 ],\n",
       "       [0.7860929 ],\n",
       "       [0.11109896],\n",
       "       [0.9839864 ],\n",
       "       [0.16774441],\n",
       "       [0.08546603],\n",
       "       [0.7089216 ],\n",
       "       [0.98856187],\n",
       "       [0.02832211],\n",
       "       [0.81233734],\n",
       "       [0.3830409 ],\n",
       "       [0.1979341 ],\n",
       "       [0.03626407],\n",
       "       [0.68094045],\n",
       "       [0.05089889],\n",
       "       [0.05675178],\n",
       "       [0.04809595],\n",
       "       [0.15441372],\n",
       "       [0.03428024],\n",
       "       [0.05617381],\n",
       "       [0.00910551],\n",
       "       [0.01987776],\n",
       "       [0.16500624],\n",
       "       [0.1310193 ],\n",
       "       [0.04498778],\n",
       "       [0.02873398],\n",
       "       [0.2730986 ],\n",
       "       [0.03588186],\n",
       "       [0.69707745],\n",
       "       [0.08281362],\n",
       "       [0.69328773],\n",
       "       [0.23801051],\n",
       "       [0.910467  ],\n",
       "       [0.9931397 ],\n",
       "       [0.996687  ],\n",
       "       [0.99464947],\n",
       "       [0.785794  ],\n",
       "       [0.95178616],\n",
       "       [0.5832293 ],\n",
       "       [0.2466647 ],\n",
       "       [0.03938976],\n",
       "       [0.97351915],\n",
       "       [0.47197515],\n",
       "       [0.9491078 ],\n",
       "       [0.91633   ],\n",
       "       [0.53286725],\n",
       "       [0.9931617 ],\n",
       "       [0.99991405],\n",
       "       [0.91492194],\n",
       "       [0.9949968 ],\n",
       "       [0.9954739 ],\n",
       "       [0.9727958 ],\n",
       "       [0.99291116],\n",
       "       [0.6241408 ],\n",
       "       [0.81176174],\n",
       "       [0.96554524],\n",
       "       [0.9134885 ],\n",
       "       [0.9874193 ],\n",
       "       [0.81094426],\n",
       "       [0.9357301 ],\n",
       "       [0.27152884],\n",
       "       [0.82296264],\n",
       "       [0.3105646 ],\n",
       "       [0.2951698 ],\n",
       "       [0.09930894],\n",
       "       [0.11298811],\n",
       "       [0.4470998 ],\n",
       "       [0.30696493],\n",
       "       [0.14225464],\n",
       "       [0.39325824],\n",
       "       [0.38205114]], dtype=float32)"
      ]
     },
     "execution_count": 14,
     "metadata": {},
     "output_type": "execute_result"
    }
   ],
   "source": [
    "results"
   ]
  },
  {
   "cell_type": "code",
   "execution_count": 15,
   "metadata": {
    "papermill": {
     "duration": 0.068348,
     "end_time": "2019-11-23T05:47:02.644004",
     "exception": false,
     "start_time": "2019-11-23T05:47:02.575656",
     "status": "completed"
    },
    "tags": []
   },
   "outputs": [],
   "source": [
    "probabilities = transform_binary_probabilities(results)\n",
    "predictions = transform_binary_predictions(results)\n",
    "labels = get_labels(test)"
   ]
  },
  {
   "cell_type": "markdown",
   "metadata": {
    "papermill": {
     "duration": 0.021059,
     "end_time": "2019-11-23T05:47:02.700878",
     "exception": false,
     "start_time": "2019-11-23T05:47:02.679819",
     "status": "completed"
    },
    "tags": []
   },
   "source": [
    "## Accuracy and loss"
   ]
  },
  {
   "cell_type": "code",
   "execution_count": 16,
   "metadata": {
    "papermill": {
     "duration": 1.491636,
     "end_time": "2019-11-23T05:47:04.214007",
     "exception": false,
     "start_time": "2019-11-23T05:47:02.722371",
     "status": "completed"
    },
    "scrolled": false,
    "tags": []
   },
   "outputs": [
    {
     "name": "stdout",
     "output_type": "stream",
     "text": [
      "Accuracy: 0.6463414634146342\n",
      "Loss: 0.9016227664017096\n"
     ]
    }
   ],
   "source": [
    "loss, accuracy = calculate_accuracy_loss(model, test)\n",
    "print(\"Accuracy:\", accuracy)\n",
    "print(\"Loss:\", loss)"
   ]
  },
  {
   "cell_type": "markdown",
   "metadata": {
    "papermill": {
     "duration": 0.021686,
     "end_time": "2019-11-23T05:47:04.272437",
     "exception": false,
     "start_time": "2019-11-23T05:47:04.250751",
     "status": "completed"
    },
    "tags": []
   },
   "source": [
    "## Confusion matrix"
   ]
  },
  {
   "cell_type": "code",
   "execution_count": 17,
   "metadata": {
    "papermill": {
     "duration": 0.493203,
     "end_time": "2019-11-23T05:47:04.787359",
     "exception": false,
     "start_time": "2019-11-23T05:47:04.294156",
     "status": "completed"
    },
    "scrolled": true,
    "tags": []
   },
   "outputs": [
    {
     "data": {
      "image/png": "[encoded data removed]",
      "text/plain": [
       "<Figure size 432x288 with 1 Axes>"
      ]
     },
     "metadata": {},
     "output_type": "display_data"
    }
   ],
   "source": [
    "fig = plot_confusion_matrix(test, results)\n",
    "fig.savefig(\"figures/{}-confusion-matrix.svg\".format(PARAMETERS_ID), bbox_inches = \"tight\")"
   ]
  },
  {
   "cell_type": "code",
   "execution_count": 18,
   "metadata": {
    "papermill": {
     "duration": 0.144803,
     "end_time": "2019-11-23T05:47:04.969452",
     "exception": false,
     "start_time": "2019-11-23T05:47:04.824649",
     "status": "completed"
    },
    "scrolled": true,
    "tags": []
   },
   "outputs": [
    {
     "data": {
      "text/html": [
       "<div>\n",
       "<style scoped>\n",
       "    .dataframe tbody tr th:only-of-type {\n",
       "        vertical-align: middle;\n",
       "    }\n",
       "\n",
       "    .dataframe tbody tr th {\n",
       "        vertical-align: top;\n",
       "    }\n",
       "\n",
       "    .dataframe thead th {\n",
       "        text-align: right;\n",
       "    }\n",
       "</style>\n",
       "<table border=\"1\" class=\"dataframe\">\n",
       "  <thead>\n",
       "    <tr style=\"text-align: right;\">\n",
       "      <th></th>\n",
       "      <th>Acc</th>\n",
       "      <th>TP</th>\n",
       "      <th>TN</th>\n",
       "      <th>FP</th>\n",
       "      <th>FN</th>\n",
       "      <th>TPR</th>\n",
       "      <th>TNR</th>\n",
       "      <th>PPV</th>\n",
       "      <th>NPV</th>\n",
       "      <th>FPR</th>\n",
       "      <th>FNR</th>\n",
       "      <th>FDR</th>\n",
       "    </tr>\n",
       "  </thead>\n",
       "  <tbody>\n",
       "    <tr>\n",
       "      <th>benign</th>\n",
       "      <td>0.646</td>\n",
       "      <td>26</td>\n",
       "      <td>27</td>\n",
       "      <td>14</td>\n",
       "      <td>15</td>\n",
       "      <td>0.634</td>\n",
       "      <td>0.659</td>\n",
       "      <td>0.650</td>\n",
       "      <td>0.643</td>\n",
       "      <td>0.341</td>\n",
       "      <td>0.366</td>\n",
       "      <td>0.350</td>\n",
       "    </tr>\n",
       "    <tr>\n",
       "      <th>malignant</th>\n",
       "      <td>0.646</td>\n",
       "      <td>27</td>\n",
       "      <td>26</td>\n",
       "      <td>15</td>\n",
       "      <td>14</td>\n",
       "      <td>0.659</td>\n",
       "      <td>0.634</td>\n",
       "      <td>0.643</td>\n",
       "      <td>0.650</td>\n",
       "      <td>0.366</td>\n",
       "      <td>0.341</td>\n",
       "      <td>0.357</td>\n",
       "    </tr>\n",
       "  </tbody>\n",
       "</table>\n",
       "</div>"
      ],
      "text/plain": [
       "            Acc  TP  TN  FP  FN   TPR   TNR   PPV   NPV   FPR   FNR   FDR\n",
       "benign    0.646  26  27  14  15 0.634 0.659 0.650 0.643 0.341 0.366 0.350\n",
       "malignant 0.646  27  26  15  14 0.659 0.634 0.643 0.650 0.366 0.341 0.357"
      ]
     },
     "execution_count": 18,
     "metadata": {},
     "output_type": "execute_result"
    }
   ],
   "source": [
    "stats = calculate_confusion_matrix_stats(labels, results)\n",
    "pandas.DataFrame(stats, index=test.class_indices)"
   ]
  },
  {
   "cell_type": "markdown",
   "metadata": {
    "papermill": {
     "duration": 0.022474,
     "end_time": "2019-11-23T05:47:05.028758",
     "exception": false,
     "start_time": "2019-11-23T05:47:05.006284",
     "status": "completed"
    },
    "tags": []
   },
   "source": [
    "## ROC Curve standalone"
   ]
  },
  {
   "cell_type": "code",
   "execution_count": 19,
   "metadata": {
    "papermill": {
     "duration": 0.783224,
     "end_time": "2019-11-23T05:47:05.834027",
     "exception": false,
     "start_time": "2019-11-23T05:47:05.050803",
     "status": "completed"
    },
    "tags": []
   },
   "outputs": [
    {
     "data": {
      "image/png": "[encoded data removed]",
      "text/plain": [
       "<Figure size 432x288 with 1 Axes>"
      ]
     },
     "execution_count": 19,
     "metadata": {},
     "output_type": "execute_result"
    },
    {
     "data": {
      "image/png": "[encoded data removed]",
      "text/plain": [
       "<Figure size 432x288 with 1 Axes>"
      ]
     },
     "metadata": {},
     "output_type": "display_data"
    }
   ],
   "source": [
    "plot_roc_curve(labels, results)"
   ]
  },
  {
   "cell_type": "code",
   "execution_count": 20,
   "metadata": {
    "papermill": {
     "duration": 0.099248,
     "end_time": "2019-11-23T05:47:05.970009",
     "exception": false,
     "start_time": "2019-11-23T05:47:05.870761",
     "status": "completed"
    },
    "tags": []
   },
   "outputs": [
    {
     "name": "stdout",
     "output_type": "stream",
     "text": [
      "ROC AUC: 0.7221891731112433\n"
     ]
    }
   ],
   "source": [
    "print(\"ROC AUC:\", roc_auc_score(labels, probabilities))"
   ]
  },
  {
   "cell_type": "markdown",
   "metadata": {
    "papermill": {
     "duration": 0.023595,
     "end_time": "2019-11-23T05:47:06.040581",
     "exception": false,
     "start_time": "2019-11-23T05:47:06.016986",
     "status": "completed"
    },
    "tags": []
   },
   "source": [
    "## Precision Recall"
   ]
  },
  {
   "cell_type": "code",
   "execution_count": 21,
   "metadata": {
    "papermill": {
     "duration": 0.077522,
     "end_time": "2019-11-23T05:47:06.140470",
     "exception": false,
     "start_time": "2019-11-23T05:47:06.062948",
     "status": "completed"
    },
    "tags": []
   },
   "outputs": [
    {
     "name": "stdout",
     "output_type": "stream",
     "text": [
      "Average precision: 0.6797214612517307\n",
      "Precision: 0.6428571428571429 Recall: 0.6585365853658537\n"
     ]
    }
   ],
   "source": [
    "print(\"Average precision:\", average_precision_score(labels, probabilities))\n",
    "print(\"Precision:\", precision_score(labels, predictions), \"Recall:\", recall_score(labels, predictions))"
   ]
  },
  {
   "cell_type": "code",
   "execution_count": 22,
   "metadata": {
    "papermill": {
     "duration": 0.649998,
     "end_time": "2019-11-23T05:47:06.825555",
     "exception": false,
     "start_time": "2019-11-23T05:47:06.175557",
     "status": "completed"
    },
    "scrolled": false,
    "tags": []
   },
   "outputs": [
    {
     "data": {
      "image/png": "[encoded data removed]",
      "text/plain": [
       "<Figure size 432x288 with 1 Axes>"
      ]
     },
     "metadata": {},
     "output_type": "display_data"
    }
   ],
   "source": [
    "fig = plot_precision_recall(labels, results)\n",
    "fig.savefig(\"figures/{}-precision-recall.svg\".format(PARAMETERS_ID), bbox_inches = \"tight\")"
   ]
  },
  {
   "cell_type": "code",
   "execution_count": 23,
   "metadata": {
    "papermill": {
     "duration": 0.091699,
     "end_time": "2019-11-23T05:47:06.964991",
     "exception": false,
     "start_time": "2019-11-23T05:47:06.873292",
     "status": "completed"
    },
    "tags": []
   },
   "outputs": [
    {
     "name": "stdout",
     "output_type": "stream",
     "text": [
      "PR AUC: 0.6645005566465557\n"
     ]
    }
   ],
   "source": [
    "print(\"PR AUC:\", calculate_pr_auc(labels, results))"
   ]
  },
  {
   "cell_type": "markdown",
   "metadata": {
    "papermill": {
     "duration": 0.024875,
     "end_time": "2019-11-23T05:47:07.016377",
     "exception": false,
     "start_time": "2019-11-23T05:47:06.991502",
     "status": "completed"
    },
    "tags": []
   },
   "source": [
    "## F1 Score"
   ]
  },
  {
   "cell_type": "code",
   "execution_count": 24,
   "metadata": {
    "papermill": {
     "duration": 0.078929,
     "end_time": "2019-11-23T05:47:07.118871",
     "exception": false,
     "start_time": "2019-11-23T05:47:07.039942",
     "status": "completed"
    },
    "tags": []
   },
   "outputs": [
    {
     "name": "stdout",
     "output_type": "stream",
     "text": [
      "F1 score: 0.6506024096385543\n"
     ]
    }
   ],
   "source": [
    "print(\"F1 score:\", f1_score(labels, predictions))"
   ]
  },
  {
   "cell_type": "markdown",
   "metadata": {
    "papermill": {
     "duration": 0.039306,
     "end_time": "2019-11-23T05:47:07.194576",
     "exception": false,
     "start_time": "2019-11-23T05:47:07.155270",
     "status": "completed"
    },
    "tags": []
   },
   "source": [
    "## TSNE"
   ]
  },
  {
   "cell_type": "code",
   "execution_count": 25,
   "metadata": {
    "papermill": {
     "duration": 0.556344,
     "end_time": "2019-11-23T05:47:07.778901",
     "exception": false,
     "start_time": "2019-11-23T05:47:07.222557",
     "status": "completed"
    },
    "tags": []
   },
   "outputs": [],
   "source": [
    "diagnosis, malignancy, evidence = all_features(features=FEATURES)"
   ]
  },
  {
   "cell_type": "code",
   "execution_count": 66,
   "metadata": {},
   "outputs": [
    {
     "data": {
      "text/plain": [
       "{'id': 'malignant',\n",
       " '29511670': 'benign',\n",
       " '29610400': 'benign',\n",
       " '29800047': 'benign',\n",
       " '29780003': 'benign',\n",
       " '29812667': 'benign',\n",
       " '29352155': 'benign',\n",
       " '29777878': 'benign',\n",
       " '29877372': 'benign',\n",
       " '29880642': 'benign',\n",
       " '29848352': 'benign',\n",
       " '29882310': 'benign',\n",
       " '29917777': 'benign',\n",
       " '29945752': 'benign',\n",
       " '29973960': 'benign',\n",
       " '30030860': 'benign',\n",
       " '29314117': 'benign',\n",
       " '30041917': 'benign',\n",
       " '30047885': 'benign',\n",
       " '15957948': 'benign',\n",
       " '15899132': 'benign',\n",
       " '15427145': 'benign',\n",
       " '15447071': 'benign',\n",
       " '14499072': 'benign',\n",
       " '15549574': 'benign',\n",
       " '15390275': 'benign',\n",
       " '15579240': 'benign',\n",
       " '15634000': 'benign',\n",
       " '15154878': 'benign',\n",
       " '15705324': 'benign',\n",
       " '15764983': 'benign',\n",
       " '15265143': 'benign',\n",
       " '15779715': 'benign',\n",
       " '26184437': 'benign',\n",
       " '27217906': 'benign',\n",
       " '26935222': 'benign',\n",
       " '26971610': 'benign',\n",
       " '26420142': 'benign',\n",
       " '26424318': 'benign',\n",
       " '16031566': 'benign',\n",
       " '15946996': 'benign',\n",
       " '15996115': 'benign',\n",
       " '15573577': 'benign',\n",
       " '15626731': 'benign',\n",
       " '15709568': 'benign',\n",
       " '26935657': 'benign',\n",
       " '27072121': 'benign',\n",
       " '27128001': 'benign',\n",
       " '26998610': 'benign',\n",
       " '27058428': 'benign',\n",
       " '27108413': 'benign',\n",
       " '27046391': 'benign',\n",
       " '27235317': 'benign',\n",
       " '27238696': 'benign',\n",
       " '27265310': 'benign',\n",
       " '27244981': 'benign',\n",
       " '27299036': 'benign',\n",
       " '26002248': 'benign',\n",
       " '26039796': 'benign',\n",
       " '26183842': 'benign',\n",
       " '26255625': 'benign',\n",
       " '26852121': 'benign',\n",
       " '27182550': 'benign',\n",
       " '27223584': 'benign',\n",
       " '26356026': 'benign',\n",
       " '26356303': 'benign',\n",
       " '26401332': 'benign',\n",
       " '26168667': 'benign',\n",
       " '26211275': 'benign',\n",
       " '26807700': 'benign',\n",
       " '26866199': 'benign',\n",
       " '26424962': 'benign',\n",
       " '26713257': 'benign',\n",
       " '26759551': 'benign',\n",
       " '26436176': 'benign',\n",
       " '26556456': 'benign',\n",
       " '26373027': 'benign',\n",
       " '26391888': 'benign',\n",
       " '26420409': 'benign',\n",
       " '26630992': 'benign',\n",
       " '16013023': 'benign',\n",
       " '28827080': 'benign',\n",
       " '28664237': 'malignant',\n",
       " '27545537': 'benign',\n",
       " '27961900': 'malignant',\n",
       " '28883769': 'benign',\n",
       " '28358951': 'benign',\n",
       " '27217389': 'benign',\n",
       " '28212463': 'malignant',\n",
       " '27371526': 'benign',\n",
       " '27382661': 'benign',\n",
       " '27279444': 'benign',\n",
       " '27369141': 'benign',\n",
       " '27403964': 'benign',\n",
       " '27463705': 'benign',\n",
       " '27501328': 'benign',\n",
       " '27491517': 'benign',\n",
       " '27514503': 'malignant',\n",
       " '27544156': 'benign',\n",
       " '27550808': 'benign',\n",
       " '27553542': 'benign',\n",
       " '27556644': 'benign',\n",
       " '27600935': 'benign',\n",
       " '27537851': 'benign',\n",
       " '27625116': 'benign',\n",
       " '27624711': 'benign',\n",
       " '27662039': 'benign',\n",
       " '27677681': 'benign',\n",
       " '27459339': 'benign',\n",
       " '27604977': 'benign',\n",
       " '27811439': 'benign',\n",
       " '27741572': 'benign',\n",
       " '27848627': 'benign',\n",
       " '27932241': 'benign',\n",
       " '27952285': 'benign',\n",
       " '27835860': 'benign',\n",
       " '28006871': 'benign',\n",
       " '27463469': 'benign',\n",
       " '28058655': 'benign',\n",
       " '28050498': 'malignant',\n",
       " '28119827': 'benign',\n",
       " '28058797': 'benign',\n",
       " '27977474': 'benign',\n",
       " '28144446': 'benign',\n",
       " '28129989': 'benign',\n",
       " '28188413': 'benign',\n",
       " '28244729': 'malignant',\n",
       " '28200446': 'benign',\n",
       " '28235896': 'benign',\n",
       " '28226665': 'benign',\n",
       " '27756113': 'malignant',\n",
       " '28246681': 'benign',\n",
       " '28278606': 'benign',\n",
       " '28164768': 'benign',\n",
       " '28310810': 'benign',\n",
       " '28323084': 'benign',\n",
       " '28100188': 'benign',\n",
       " '28332237': 'benign',\n",
       " '28357978': 'malignant',\n",
       " '28322447': 'benign',\n",
       " '28235562': 'benign',\n",
       " '28383202': 'benign',\n",
       " '28372754': 'benign',\n",
       " '28391207': 'benign',\n",
       " '28383316': 'benign',\n",
       " '28435718': 'benign',\n",
       " '28302542': 'benign',\n",
       " '28435796': 'benign',\n",
       " '28468571': 'benign',\n",
       " '28534547': 'benign',\n",
       " '28625156': 'benign',\n",
       " '28646972': 'benign',\n",
       " '28645215': 'benign',\n",
       " '28666651': 'benign',\n",
       " '28678358': 'benign',\n",
       " '28796426': 'benign',\n",
       " '28811174': 'malignant',\n",
       " '28810812': 'benign',\n",
       " '28776391': 'benign',\n",
       " '28807038': 'benign',\n",
       " '28831263': 'benign',\n",
       " '28920172': 'benign',\n",
       " '28930532': 'benign',\n",
       " '29024820': 'benign',\n",
       " '27939959': 'malignant',\n",
       " '15478991': 'benign',\n",
       " '27293940': 'malignant',\n",
       " '26508318': 'malignant',\n",
       " '26227303': 'malignant',\n",
       " '26428183': 'malignant',\n",
       " '27068562': 'benign',\n",
       " '15582426': 'malignant',\n",
       " '27177540': 'benign',\n",
       " '27180434': 'malignant',\n",
       " '26762280': 'malignant',\n",
       " '26355585': 'benign',\n",
       " '27188709': 'benign',\n",
       " '26336316': 'malignant',\n",
       " '27075350': 'malignant',\n",
       " '27007884': 'malignant',\n",
       " '26788792': 'benign',\n",
       " '15954905': 'malignant',\n",
       " '29790298': 'malignant',\n",
       " '30134176': 'malignant',\n",
       " '30019459': 'malignant',\n",
       " '30095075': 'malignant',\n",
       " '29556182': 'malignant',\n",
       " '30081681': 'malignant',\n",
       " '29991118': 'malignant',\n",
       " '29475252': 'malignant',\n",
       " '29491522': 'malignant',\n",
       " '28168979': 'malignant',\n",
       " '27949967': 'benign',\n",
       " '28880590': 'malignant',\n",
       " '28610471': 'malignant',\n",
       " '28232818': 'benign',\n",
       " '27625401': 'malignant',\n",
       " '27574652': 'malignant',\n",
       " '27425522': 'malignant',\n",
       " '28985749': 'malignant',\n",
       " '28545982': 'benign',\n",
       " '27825433': 'malignant',\n",
       " '28746483': 'malignant',\n",
       " '27959725': 'malignant',\n",
       " '27767438': 'malignant',\n",
       " '29088638': 'malignant',\n",
       " '28758395': 'malignant',\n",
       " '27715000': 'benign',\n",
       " '29086364': 'malignant',\n",
       " '27068609': 'malignant',\n",
       " '26588978': 'malignant',\n",
       " '28246550': 'malignant',\n",
       " '29929975': 'malignant',\n",
       " '29399341': 'malignant',\n",
       " '28914479': 'malignant',\n",
       " '29987556': 'malignant',\n",
       " '29680828': 'malignant',\n",
       " '15488160': 'malignant',\n",
       " '15508154': 'malignant',\n",
       " '15650680': 'malignant',\n",
       " '15694564': 'benign',\n",
       " '15776553': 'malignant',\n",
       " '15896690': 'malignant',\n",
       " '15909347': 'malignant',\n",
       " '15969615': 'malignant',\n",
       " '16048398': 'malignant',\n",
       " '26061442': 'malignant',\n",
       " '26115783': 'malignant',\n",
       " '26150510': 'malignant',\n",
       " '26269612': 'malignant',\n",
       " '26320870': 'malignant',\n",
       " '26330650': 'malignant',\n",
       " '26668565': 'malignant',\n",
       " '26686041': 'malignant',\n",
       " '26758017': 'malignant',\n",
       " '26765008': 'malignant',\n",
       " '26766632': 'malignant',\n",
       " '26816700': 'malignant',\n",
       " '26864712': 'malignant',\n",
       " '26868773': 'malignant',\n",
       " '26914819': 'malignant',\n",
       " '26944954': 'malignant',\n",
       " '26955572': 'malignant',\n",
       " '26963349': 'malignant',\n",
       " '27223029': 'malignant',\n",
       " '27262862': 'malignant',\n",
       " '27298249': 'malignant',\n",
       " '27306575': 'malignant',\n",
       " '27345619': 'malignant',\n",
       " '27372466': 'malignant',\n",
       " '27379760': 'malignant',\n",
       " '27411400': 'malignant',\n",
       " '27456509': 'malignant',\n",
       " '27546260': 'malignant',\n",
       " '27568306': 'malignant',\n",
       " '27596291': 'malignant',\n",
       " '27735290': 'malignant',\n",
       " '27895627': 'malignant',\n",
       " '28186428': 'malignant',\n",
       " '28357509': 'malignant',\n",
       " '28445913': 'malignant',\n",
       " '28503426': 'malignant',\n",
       " '28503620': 'malignant',\n",
       " '28646314': 'malignant',\n",
       " '28901883': 'malignant',\n",
       " '29029441': 'malignant',\n",
       " '29080264': 'malignant',\n",
       " '29197401': 'malignant',\n",
       " '29217997': 'malignant',\n",
       " '29309802': 'malignant',\n",
       " '29327457': 'malignant',\n",
       " '29340376': 'malignant',\n",
       " '29437707': 'malignant',\n",
       " '29523737': 'malignant',\n",
       " '29536897': 'malignant',\n",
       " '29584611': 'malignant',\n",
       " '29622852': 'malignant',\n",
       " '29630127': 'malignant',\n",
       " '29663415': 'malignant',\n",
       " '29707603': 'malignant',\n",
       " '29843531': 'malignant',\n",
       " '29853974': 'malignant',\n",
       " '29943993': 'benign',\n",
       " '29975052': 'malignant',\n",
       " '30143837': 'malignant',\n",
       " '15291498': 'benign',\n",
       " '15483906': 'benign',\n",
       " '15588939': 'benign',\n",
       " '15754818': 'benign',\n",
       " '15889706': 'benign',\n",
       " '26023246': 'benign',\n",
       " '26025036': 'benign',\n",
       " '26051811': 'benign',\n",
       " '26087647': 'benign',\n",
       " '26114650': 'benign',\n",
       " '26211237': 'benign',\n",
       " '26224129': 'benign',\n",
       " '26252663': 'benign',\n",
       " '26339265': 'benign',\n",
       " '26616867': 'benign',\n",
       " '26631175': 'benign',\n",
       " '26765562': 'benign',\n",
       " '26827945': 'benign',\n",
       " '26856807': 'benign',\n",
       " '26864409': 'benign',\n",
       " '26887085': 'benign',\n",
       " '26894020': 'benign',\n",
       " '26914423': 'benign',\n",
       " '26925912': 'benign',\n",
       " '27163050': 'benign',\n",
       " '27247600': 'benign',\n",
       " '27257835': 'benign',\n",
       " '27311418': 'benign',\n",
       " '27340452': 'benign',\n",
       " '27418203': 'benign',\n",
       " '27502455': 'benign',\n",
       " '27519845': 'benign',\n",
       " '27600795': 'benign',\n",
       " '27633395': 'benign',\n",
       " '27665866': 'benign',\n",
       " '27666695': 'benign',\n",
       " '27674305': 'benign',\n",
       " '27687435': 'benign',\n",
       " '27694160': 'benign',\n",
       " '27717081': 'benign',\n",
       " '27720723': 'benign',\n",
       " '27799795': 'benign',\n",
       " '27838465': 'benign',\n",
       " '27896066': 'benign',\n",
       " '27906762': 'benign',\n",
       " '27924981': 'benign',\n",
       " '27944334': 'benign',\n",
       " '28055853': 'benign',\n",
       " '28083709': 'benign',\n",
       " '28167647': 'benign',\n",
       " '28212037': 'benign',\n",
       " '28216306': 'benign',\n",
       " '28235272': 'benign',\n",
       " '28264356': 'benign',\n",
       " '28307440': 'benign',\n",
       " '28441895': 'benign',\n",
       " '28443862': 'benign',\n",
       " '28465288': 'benign',\n",
       " '28469795': 'benign',\n",
       " '28536364': 'benign',\n",
       " '28604745': 'benign',\n",
       " '28656233': 'benign',\n",
       " '28666246': 'benign',\n",
       " '28692711': 'benign',\n",
       " '28698233': 'benign',\n",
       " '28699569': 'benign',\n",
       " '28704640': 'benign',\n",
       " '28714262': 'benign',\n",
       " '28770487': 'benign',\n",
       " '28878239': 'benign',\n",
       " '28909795': 'benign',\n",
       " '29019640': 'benign',\n",
       " '29066826': 'benign',\n",
       " '29073989': 'benign',\n",
       " '29081511': 'benign',\n",
       " '29087340': 'benign',\n",
       " '29212944': 'benign',\n",
       " '29242270': 'benign',\n",
       " '29255232': 'benign',\n",
       " '29260175': 'benign',\n",
       " '29338679': 'benign',\n",
       " '29340939': 'benign',\n",
       " '29343576': 'benign',\n",
       " '29350605': 'benign',\n",
       " '29401211': 'benign',\n",
       " '29414736': 'benign',\n",
       " '29423883': 'benign',\n",
       " '29488541': 'benign',\n",
       " '29911644': 'benign',\n",
       " '15525121': 'malignant',\n",
       " '15943431': 'malignant',\n",
       " '26498505': 'malignant',\n",
       " '26919936': 'malignant',\n",
       " '26953435': 'malignant',\n",
       " '27129151': 'malignant',\n",
       " '27176503': 'malignant',\n",
       " '15987441': 'benign',\n",
       " '26124887': 'benign',\n",
       " '26453970': 'benign',\n",
       " '27164560': 'benign',\n",
       " '27467442': 'benign',\n",
       " '27621453': 'benign',\n",
       " '28188798': 'benign',\n",
       " '28655468': 'benign',\n",
       " '28705641': 'benign',\n",
       " '28771127': 'benign',\n",
       " '28884068': 'benign',\n",
       " '28966960': 'benign',\n",
       " '29397826': 'benign',\n",
       " '29401749': 'benign',\n",
       " '29558649': 'benign',\n",
       " '29909452': 'benign',\n",
       " '26603779': 'malignant',\n",
       " '26126607': 'benign',\n",
       " '27857314': 'benign',\n",
       " '26918828': 'malignant',\n",
       " '15705343': 'benign',\n",
       " '27073745': 'benign',\n",
       " '28058418': 'benign',\n",
       " '15551563': 'benign',\n",
       " '27115175': 'benign',\n",
       " '26213342': 'benign',\n",
       " '15714472': 'benign',\n",
       " '26231700': 'benign',\n",
       " '26438501': 'benign',\n",
       " '28861984': 'benign',\n",
       " '27998566': 'benign',\n",
       " '15648344': 'benign',\n",
       " '26671086': 'malignant',\n",
       " '28671525': 'malignant',\n",
       " '27510240': 'malignant',\n",
       " '28142611': 'benign',\n",
       " '28230504': 'benign',\n",
       " '26394881': 'benign',\n",
       " '28704929': 'malignant',\n",
       " '27959559': 'malignant',\n",
       " '28941412': 'benign',\n",
       " '3894601': 'malignant',\n",
       " '4571864': 'malignant',\n",
       " '4782399': 'benign',\n",
       " '5715678': 'malignant',\n",
       " '5901216': 'malignant',\n",
       " '5922178': 'benign',\n",
       " '6406401': 'malignant',\n",
       " '6764834': 'malignant',\n",
       " '7790582': 'malignant',\n",
       " '7804960': 'malignant',\n",
       " '8525007': 'malignant',\n",
       " '8594279': 'malignant',\n",
       " '8696414': 'malignant',\n",
       " '8708211': 'malignant',\n",
       " '8996645': 'benign',\n",
       " '9085574': 'malignant',\n",
       " '14050564': 'malignant',\n",
       " '16033076': 'malignant',\n",
       " '25213088': 'malignant',\n",
       " '26573741': 'malignant',\n",
       " '26638761': 'malignant',\n",
       " '26699890': 'malignant',\n",
       " '26758105': 'malignant',\n",
       " '26805873': 'benign',\n",
       " '26842372': 'malignant',\n",
       " '26919191': 'malignant',\n",
       " '27000637': 'malignant',\n",
       " '27026916': 'benign',\n",
       " '27220891': 'malignant',\n",
       " '27253196': 'malignant',\n",
       " '27352281': 'malignant',\n",
       " '27384950': 'malignant',\n",
       " '27563233': 'malignant',\n",
       " '27577353': 'benign',\n",
       " '27591207': 'malignant',\n",
       " '27621995': 'malignant',\n",
       " '27647115': 'malignant',\n",
       " '27676590': 'malignant',\n",
       " '27773899': 'malignant',\n",
       " '27777315': 'benign',\n",
       " '27791114': 'malignant',\n",
       " '27808351': 'benign',\n",
       " '27824643': 'malignant',\n",
       " '27916113': 'malignant',\n",
       " '27937904': 'malignant',\n",
       " '28182796': 'malignant',\n",
       " '28215081': 'malignant',\n",
       " '28283949': 'malignant',\n",
       " '28434676': 'malignant',\n",
       " '28517435': 'malignant',\n",
       " '28669750': 'benign',\n",
       " '28889325': 'malignant',\n",
       " '28894245': 'malignant',\n",
       " '28944193': 'malignant',\n",
       " '28986582': 'malignant',\n",
       " '29165825': 'malignant',\n",
       " '29186082': 'malignant',\n",
       " '29225594': 'malignant',\n",
       " '29325863': 'malignant',\n",
       " '29492348': 'malignant',\n",
       " '29723441': 'malignant',\n",
       " '29849692': 'malignant',\n",
       " '30209364': 'malignant',\n",
       " '30375803': 'malignant',\n",
       " '30629972': 'malignant',\n",
       " '30960240': 'malignant',\n",
       " '26910179': 'malignant',\n",
       " '26943899': 'malignant',\n",
       " '26961402': 'benign',\n",
       " '26972101': 'malignant',\n",
       " '27109663': 'malignant',\n",
       " '27113737': 'malignant',\n",
       " '27251611': 'malignant',\n",
       " '27312126': 'malignant',\n",
       " '27389545': 'malignant',\n",
       " '27573892': 'malignant',\n",
       " '27594016': 'malignant',\n",
       " '27598853': 'malignant',\n",
       " '27633310': 'malignant',\n",
       " '27652924': 'malignant',\n",
       " '27734903': 'malignant',\n",
       " '27876515': 'malignant',\n",
       " '27954713': 'benign',\n",
       " '28017048': 'malignant',\n",
       " '28038383': 'malignant',\n",
       " '28043509': 'malignant',\n",
       " '28169392': 'malignant',\n",
       " '28401147': 'malignant',\n",
       " '28414795': 'malignant',\n",
       " '28544020': 'malignant',\n",
       " '28751039': 'malignant',\n",
       " '28886267': 'malignant',\n",
       " '28930178': 'malignant',\n",
       " '29086734': 'malignant',\n",
       " '29291833': 'malignant',\n",
       " '29398722': 'malignant',\n",
       " '29465808': 'malignant',\n",
       " '29977057': 'benign',\n",
       " '30018361': 'malignant',\n",
       " '30119547': 'malignant',\n",
       " '30177827': 'malignant',\n",
       " '30656898': 'malignant',\n",
       " '30721873': 'malignant',\n",
       " '30768982': 'malignant',\n",
       " '30831878': 'malignant',\n",
       " '30908621': 'malignant',\n",
       " '31205365': 'malignant',\n",
       " '31651011': 'malignant',\n",
       " 'C6169353': 'benign',\n",
       " '3400145': 'malignant',\n",
       " '4073244': 'malignant',\n",
       " '4434312': 'malignant',\n",
       " '4955319': 'malignant',\n",
       " '5137028': 'benign',\n",
       " '5375166': 'malignant',\n",
       " '5413984': 'malignant',\n",
       " '5420942': 'malignant',\n",
       " '5724915': 'malignant',\n",
       " '5832021': 'malignant',\n",
       " '6169773': 'malignant',\n",
       " '6260780': 'malignant',\n",
       " '6271655': 'malignant',\n",
       " '6396357': 'malignant',\n",
       " '6586304': 'malignant',\n",
       " '6600061': 'malignant',\n",
       " '6671257': 'malignant',\n",
       " '6701632': 'malignant',\n",
       " '6988077': 'benign',\n",
       " '7075634': 'malignant',\n",
       " '7184482': 'benign',\n",
       " '7363540': 'benign',\n",
       " '7389194': 'malignant',\n",
       " '8154446': 'malignant',\n",
       " '8217457': 'benign',\n",
       " '8285464': 'malignant',\n",
       " '8399881': 'benign',\n",
       " '8540582': 'malignant',\n",
       " '8548579': 'malignant',\n",
       " '8702051': 'malignant',\n",
       " '8778515': 'malignant',\n",
       " '8845953': 'malignant',\n",
       " '8868784': 'malignant',\n",
       " '8944601': 'malignant',\n",
       " '8994256': 'malignant',\n",
       " '9025730': 'malignant',\n",
       " '9041829': 'malignant',\n",
       " '9072107': 'malignant',\n",
       " '9075758': 'malignant',\n",
       " '9105146': 'malignant',\n",
       " '14194543': 'benign',\n",
       " '4509128': 'malignant',\n",
       " '5245263': 'malignant',\n",
       " '5453966': 'malignant',\n",
       " '5829440': 'malignant',\n",
       " '6041779': 'benign',\n",
       " '6214006': 'malignant',\n",
       " '6917300': 'malignant',\n",
       " '7584372': 'malignant',\n",
       " '7221037': 'malignant',\n",
       " '7336509': 'malignant',\n",
       " '7343132': 'malignant',\n",
       " '7419872': 'malignant',\n",
       " '7486948': 'malignant',\n",
       " '7637848': 'malignant',\n",
       " '8054569': 'malignant',\n",
       " '8617609': 'malignant',\n",
       " '8734337': 'malignant',\n",
       " '8862768': 'malignant',\n",
       " '8965761': 'malignant',\n",
       " '9000287': 'malignant',\n",
       " '9019761': 'malignant',\n",
       " '9028605': 'malignant',\n",
       " '9072366': 'malignant',\n",
       " '9077393': 'malignant',\n",
       " '9089505': 'malignant',\n",
       " '9165977': 'malignant',\n",
       " '14586547': 'malignant',\n",
       " '26360243': 'malignant',\n",
       " '26797536': 'malignant',\n",
       " '26799352': 'malignant',\n",
       " '26878543': 'malignant',\n",
       " '26987467': 'malignant',\n",
       " '26998526': 'malignant',\n",
       " '27372620': 'malignant',\n",
       " '27896604': 'malignant',\n",
       " '28415489': 'malignant',\n",
       " '26797566': 'malignant',\n",
       " '27731231': 'malignant',\n",
       " '28192873': 'malignant',\n",
       " '28376394': 'malignant',\n",
       " '30077448': 'malignant',\n",
       " '30553919': 'malignant',\n",
       " '31150775': 'malignant',\n",
       " '7802051': 'malignant'}"
      ]
     },
     "execution_count": 66,
     "metadata": {},
     "output_type": "execute_result"
    }
   ],
   "source": [
    "malignancy"
   ]
  },
  {
   "cell_type": "code",
   "execution_count": 51,
   "metadata": {
    "papermill": {
     "duration": 0.073568,
     "end_time": "2019-11-23T05:47:07.892433",
     "exception": false,
     "start_time": "2019-11-23T05:47:07.818865",
     "status": "completed"
    },
    "scrolled": true,
    "tags": []
   },
   "outputs": [],
   "source": [
    "tsne_dataset = train"
   ]
  },
  {
   "cell_type": "code",
   "execution_count": 68,
   "metadata": {},
   "outputs": [],
   "source": [
    "tsne_dataset.reset()"
   ]
  },
  {
   "cell_type": "code",
   "execution_count": 69,
   "metadata": {
    "papermill": {
     "duration": 1.895737,
     "end_time": "2019-11-23T05:47:09.826030",
     "exception": false,
     "start_time": "2019-11-23T05:47:07.930293",
     "status": "completed"
    },
    "tags": []
   },
   "outputs": [],
   "source": [
    "train_results = get_results(model, tsne_dataset)\n",
    "train_predictions = [\"malignant\" if t else \"benign\" for t in transform_binary_predictions(train_results)]"
   ]
  },
  {
   "cell_type": "code",
   "execution_count": 70,
   "metadata": {
    "papermill": {
     "duration": 0.140816,
     "end_time": "2019-11-23T05:47:10.010864",
     "exception": false,
     "start_time": "2019-11-23T05:47:09.870048",
     "status": "completed"
    },
    "tags": []
   },
   "outputs": [],
   "source": [
    "tsne_labels = [\n",
    "    [malignancy.get(accession_from_filename(f), \"unknown\") for f in tsne_dataset.filenames], \n",
    "    train_predictions\n",
    "]"
   ]
  },
  {
   "cell_type": "code",
   "execution_count": 89,
   "metadata": {
    "papermill": {
     "duration": 6.74641,
     "end_time": "2019-11-23T05:47:16.911630",
     "exception": false,
     "start_time": "2019-11-23T05:47:10.165220",
     "status": "completed"
    },
    "scrolled": false,
    "tags": []
   },
   "outputs": [
    {
     "data": {
      "image/png": "[encoded data removed]",
      "text/plain": [
       "<Figure size 432x288 with 1 Axes>"
      ]
     },
     "metadata": {},
     "output_type": "display_data"
    },
    {
     "data": {
      "image/png": "[encoded data removed]",
      "text/plain": [
       "<Figure size 432x288 with 1 Axes>"
      ]
     },
     "metadata": {},
     "output_type": "display_data"
    }
   ],
   "source": [
    "with plotting_context(\"notebook\", font_scale=1.3): \n",
    "    tsne_dataset.reset()\n",
    "    fig = plot_tsne(model, \"dense_5\", tsne_dataset, tsne_labels, perplexity=10, fieldnames=[\"diagnosis by MRI or histopathology\", \"model prediction\"])\n",
    "    fig[0].savefig(\"figures/label-{}-tsne.svg\".format(PARAMETERS_ID), bbox_inches = \"tight\")\n",
    "    fig[1].savefig(\"figures/model-{}-tsne.svg\".format(PARAMETERS_ID), bbox_inches = \"tight\")"
   ]
  },
  {
   "cell_type": "code",
   "execution_count": 80,
   "metadata": {},
   "outputs": [],
   "source": []
  },
  {
   "cell_type": "code",
   "execution_count": 82,
   "metadata": {},
   "outputs": [],
   "source": []
  },
  {
   "cell_type": "code",
   "execution_count": 55,
   "metadata": {},
   "outputs": [
    {
     "data": {
      "text/plain": [
       "array([[3.06365602e-02],\n",
       "       [8.76276661e-03],\n",
       "       [1.75083522e-02],\n",
       "       [1.50804026e-05],\n",
       "       [3.36854458e-02],\n",
       "       [4.62299613e-06],\n",
       "       [2.67984718e-02],\n",
       "       [3.12521704e-03],\n",
       "       [2.43952155e-01],\n",
       "       [6.75291598e-01],\n",
       "       [7.49096796e-02],\n",
       "       [1.89186022e-01],\n",
       "       [2.37112679e-02],\n",
       "       [5.33124655e-02],\n",
       "       [4.24594671e-01],\n",
       "       [3.04947108e-01],\n",
       "       [5.54498553e-01],\n",
       "       [3.36663797e-02],\n",
       "       [5.49059187e-05],\n",
       "       [4.22065943e-01],\n",
       "       [2.58737594e-01],\n",
       "       [3.39817852e-02],\n",
       "       [3.65550432e-06],\n",
       "       [3.25791421e-03],\n",
       "       [3.49644572e-01],\n",
       "       [2.58749332e-02],\n",
       "       [1.11549757e-01],\n",
       "       [3.62982282e-05],\n",
       "       [2.25890934e-01],\n",
       "       [9.86235123e-03],\n",
       "       [3.65954038e-04],\n",
       "       [5.15277348e-02],\n",
       "       [2.66947409e-05],\n",
       "       [4.62855241e-04],\n",
       "       [1.78089924e-02],\n",
       "       [6.70318067e-01],\n",
       "       [5.22766232e-01],\n",
       "       [1.85506076e-01],\n",
       "       [4.03856568e-04],\n",
       "       [7.72436783e-02],\n",
       "       [5.75729683e-02],\n",
       "       [1.45036221e-01],\n",
       "       [4.93176572e-04],\n",
       "       [2.71702968e-02],\n",
       "       [2.26144999e-01],\n",
       "       [9.24534202e-02],\n",
       "       [1.47110377e-05],\n",
       "       [4.79912639e-01],\n",
       "       [4.32399392e-01],\n",
       "       [6.40923306e-02],\n",
       "       [6.16818084e-04],\n",
       "       [1.59945828e-03],\n",
       "       [5.04796579e-02],\n",
       "       [4.19224030e-04],\n",
       "       [3.00606662e-05],\n",
       "       [9.95109076e-06],\n",
       "       [6.20775819e-02],\n",
       "       [4.04874206e-01],\n",
       "       [9.19856951e-02],\n",
       "       [2.91603833e-01],\n",
       "       [3.30722891e-02],\n",
       "       [3.68102451e-06],\n",
       "       [1.27548713e-03],\n",
       "       [3.97635788e-01],\n",
       "       [3.52392759e-04],\n",
       "       [2.68722951e-01],\n",
       "       [9.03568864e-02],\n",
       "       [3.88359800e-02],\n",
       "       [1.80609692e-02],\n",
       "       [9.77470540e-04],\n",
       "       [4.55647737e-01],\n",
       "       [7.75960740e-03],\n",
       "       [4.74816889e-01],\n",
       "       [1.32013368e-03],\n",
       "       [4.63530451e-01],\n",
       "       [3.02236155e-03],\n",
       "       [1.30123673e-02],\n",
       "       [3.11491988e-03],\n",
       "       [2.33075563e-02],\n",
       "       [1.28983721e-01],\n",
       "       [1.17018461e-01],\n",
       "       [1.82076227e-02],\n",
       "       [2.79310256e-01],\n",
       "       [2.14434904e-03],\n",
       "       [1.83556572e-01],\n",
       "       [2.53837317e-01],\n",
       "       [4.51586093e-04],\n",
       "       [3.44601840e-01],\n",
       "       [2.09468201e-01],\n",
       "       [2.82790393e-01],\n",
       "       [4.77110874e-03],\n",
       "       [4.63869311e-02],\n",
       "       [1.33126024e-02],\n",
       "       [1.36436820e-02],\n",
       "       [7.08477795e-02],\n",
       "       [2.61047880e-05],\n",
       "       [1.50401378e-04],\n",
       "       [2.15326265e-01],\n",
       "       [1.86130162e-02],\n",
       "       [1.71411301e-07],\n",
       "       [8.77087936e-02],\n",
       "       [2.35542264e-02],\n",
       "       [1.46199986e-01],\n",
       "       [3.11348531e-02],\n",
       "       [1.56860445e-02],\n",
       "       [1.93190221e-02],\n",
       "       [1.10198176e-04],\n",
       "       [3.82881844e-04],\n",
       "       [5.72320372e-02],\n",
       "       [3.59073400e-01],\n",
       "       [2.10499644e-01],\n",
       "       [5.87250404e-02],\n",
       "       [4.97687841e-03],\n",
       "       [8.57846588e-02],\n",
       "       [1.06781430e-03],\n",
       "       [1.02292486e-02],\n",
       "       [3.54604125e-02],\n",
       "       [7.36500472e-02],\n",
       "       [3.57053459e-01],\n",
       "       [1.24983832e-01],\n",
       "       [1.50904618e-03],\n",
       "       [1.92209124e-03],\n",
       "       [2.15533609e-03],\n",
       "       [2.70782667e-03],\n",
       "       [1.11670032e-01],\n",
       "       [1.79067156e-05],\n",
       "       [6.98706353e-05],\n",
       "       [9.93858874e-02],\n",
       "       [3.47676128e-02],\n",
       "       [1.09237611e-01],\n",
       "       [3.40612233e-02],\n",
       "       [1.92112580e-01],\n",
       "       [1.17510892e-02],\n",
       "       [2.92826146e-02],\n",
       "       [4.78873551e-01],\n",
       "       [1.00127935e-01],\n",
       "       [2.18707114e-03],\n",
       "       [2.30055898e-02],\n",
       "       [6.69991737e-03],\n",
       "       [1.32658111e-03],\n",
       "       [6.13294899e-01],\n",
       "       [1.35728687e-01],\n",
       "       [5.56354993e-04],\n",
       "       [2.60951314e-02],\n",
       "       [1.16079077e-01],\n",
       "       [5.49984106e-05],\n",
       "       [1.45963011e-02],\n",
       "       [1.97119769e-02],\n",
       "       [2.55672703e-03],\n",
       "       [4.05373704e-03],\n",
       "       [4.04723905e-05],\n",
       "       [9.18640792e-02],\n",
       "       [5.58999479e-02],\n",
       "       [6.01151958e-03],\n",
       "       [3.73410024e-02],\n",
       "       [4.66048601e-04],\n",
       "       [1.91926956e-02],\n",
       "       [1.45433404e-07],\n",
       "       [3.13486089e-04],\n",
       "       [7.83438459e-02],\n",
       "       [4.59879411e-05],\n",
       "       [3.15407827e-03],\n",
       "       [2.02091634e-02],\n",
       "       [1.17660969e-01],\n",
       "       [2.12013528e-01],\n",
       "       [3.87861997e-01],\n",
       "       [6.00265786e-02],\n",
       "       [2.16981047e-03],\n",
       "       [2.48411205e-03],\n",
       "       [1.52457077e-02],\n",
       "       [4.32038039e-01],\n",
       "       [1.30348308e-02],\n",
       "       [1.46291932e-05],\n",
       "       [5.73577199e-05],\n",
       "       [3.52555700e-02],\n",
       "       [4.61027682e-01],\n",
       "       [3.40394210e-03],\n",
       "       [4.57945317e-02],\n",
       "       [1.14985560e-05],\n",
       "       [5.00282613e-06],\n",
       "       [3.24558243e-02],\n",
       "       [2.74009351e-02],\n",
       "       [1.99518606e-01],\n",
       "       [1.88161023e-02],\n",
       "       [1.38460964e-04],\n",
       "       [2.22627506e-01],\n",
       "       [7.06302281e-03],\n",
       "       [2.36969218e-01],\n",
       "       [4.72962633e-02],\n",
       "       [2.55413167e-02],\n",
       "       [2.41719037e-02],\n",
       "       [5.09526441e-03],\n",
       "       [1.97798401e-01],\n",
       "       [1.18562079e-03],\n",
       "       [5.53364540e-03],\n",
       "       [5.95572174e-01],\n",
       "       [4.08342294e-03],\n",
       "       [2.11018277e-03],\n",
       "       [2.07701400e-02],\n",
       "       [4.00808458e-05],\n",
       "       [6.87944237e-04],\n",
       "       [1.78245919e-05],\n",
       "       [4.70589809e-02],\n",
       "       [5.83334714e-02],\n",
       "       [2.07282990e-01],\n",
       "       [2.48085354e-02],\n",
       "       [1.39616042e-01],\n",
       "       [9.70326811e-02],\n",
       "       [1.06814101e-01],\n",
       "       [2.03297082e-02],\n",
       "       [4.28888142e-01],\n",
       "       [6.71779411e-03],\n",
       "       [6.03279620e-02],\n",
       "       [5.96403241e-01],\n",
       "       [4.31848019e-01],\n",
       "       [1.00572847e-01],\n",
       "       [9.97000992e-01],\n",
       "       [9.93547380e-01],\n",
       "       [8.98627222e-01],\n",
       "       [9.97000992e-01],\n",
       "       [9.99047935e-01],\n",
       "       [9.70144331e-01],\n",
       "       [8.29102039e-01],\n",
       "       [9.99217629e-01],\n",
       "       [6.32022262e-01],\n",
       "       [9.75573897e-01],\n",
       "       [9.65924501e-01],\n",
       "       [9.99294758e-01],\n",
       "       [9.73134279e-01],\n",
       "       [7.73573816e-01],\n",
       "       [5.36002330e-02],\n",
       "       [7.73573816e-01],\n",
       "       [8.73232067e-01],\n",
       "       [9.00583863e-01],\n",
       "       [9.69012082e-01],\n",
       "       [9.92109716e-01],\n",
       "       [9.59019303e-01],\n",
       "       [6.21790528e-01],\n",
       "       [5.24516165e-01],\n",
       "       [9.97109234e-01],\n",
       "       [8.63555193e-01],\n",
       "       [9.94476378e-01],\n",
       "       [3.09732705e-01],\n",
       "       [8.95282507e-01],\n",
       "       [9.89184856e-01],\n",
       "       [9.99924660e-01],\n",
       "       [9.95783865e-01],\n",
       "       [9.94350791e-01],\n",
       "       [9.97140288e-01],\n",
       "       [9.98428464e-01],\n",
       "       [9.78346169e-01],\n",
       "       [9.99872446e-01],\n",
       "       [9.78509367e-01],\n",
       "       [7.19322205e-01],\n",
       "       [9.90890682e-01],\n",
       "       [8.76358032e-01],\n",
       "       [9.96805906e-01],\n",
       "       [9.98854995e-01],\n",
       "       [9.88040507e-01],\n",
       "       [9.99718010e-01],\n",
       "       [9.99857545e-01],\n",
       "       [9.96055722e-01],\n",
       "       [9.98995483e-01],\n",
       "       [9.99115169e-01],\n",
       "       [9.99992132e-01],\n",
       "       [9.91835713e-01],\n",
       "       [9.88739908e-01],\n",
       "       [9.99773920e-01],\n",
       "       [9.98995483e-01],\n",
       "       [9.99967575e-01],\n",
       "       [9.93048906e-01],\n",
       "       [9.97673452e-01],\n",
       "       [9.99499440e-01],\n",
       "       [9.12513435e-01],\n",
       "       [9.00524676e-01],\n",
       "       [9.95621860e-01],\n",
       "       [9.97700036e-01],\n",
       "       [9.98381138e-01],\n",
       "       [9.94107485e-01],\n",
       "       [8.74739945e-01],\n",
       "       [7.08911180e-01],\n",
       "       [4.76070613e-01],\n",
       "       [9.95643139e-01],\n",
       "       [4.18599308e-01],\n",
       "       [5.44377804e-01],\n",
       "       [9.74949062e-01],\n",
       "       [9.98362362e-01],\n",
       "       [9.98606861e-01],\n",
       "       [9.99980330e-01],\n",
       "       [9.95511055e-01],\n",
       "       [9.99980330e-01],\n",
       "       [9.96643662e-01],\n",
       "       [9.93910909e-01],\n",
       "       [9.84776378e-01],\n",
       "       [9.98311043e-01],\n",
       "       [7.45392323e-01],\n",
       "       [9.87514198e-01],\n",
       "       [7.11919904e-01],\n",
       "       [5.94397962e-01],\n",
       "       [9.87563491e-01],\n",
       "       [9.82271671e-01],\n",
       "       [8.75455260e-01],\n",
       "       [4.93300766e-01],\n",
       "       [9.99844670e-01],\n",
       "       [6.54080272e-01],\n",
       "       [9.61872816e-01],\n",
       "       [9.91435468e-01],\n",
       "       [3.66745502e-01],\n",
       "       [9.97710466e-01],\n",
       "       [7.45087445e-01],\n",
       "       [8.33040774e-01],\n",
       "       [8.19982529e-01],\n",
       "       [9.90655124e-01],\n",
       "       [9.96543586e-01],\n",
       "       [9.94540393e-01],\n",
       "       [9.86863613e-01],\n",
       "       [9.99889970e-01],\n",
       "       [3.76942337e-01],\n",
       "       [9.63451207e-01],\n",
       "       [8.60232055e-01],\n",
       "       [9.99862432e-01],\n",
       "       [8.19132090e-01],\n",
       "       [9.98416305e-01],\n",
       "       [9.10183191e-01],\n",
       "       [9.82095242e-01],\n",
       "       [9.99949574e-01],\n",
       "       [9.99576986e-01],\n",
       "       [9.99559224e-01],\n",
       "       [9.91591096e-01],\n",
       "       [8.26903939e-01],\n",
       "       [1.62276626e-01],\n",
       "       [7.88000584e-01],\n",
       "       [9.59090471e-01],\n",
       "       [9.62094188e-01],\n",
       "       [9.87363160e-01],\n",
       "       [9.97827232e-01],\n",
       "       [9.92025912e-01],\n",
       "       [9.77725804e-01],\n",
       "       [9.99996305e-01],\n",
       "       [8.05132270e-01],\n",
       "       [9.71599996e-01],\n",
       "       [9.62922573e-01],\n",
       "       [9.98697102e-01],\n",
       "       [9.93064225e-01],\n",
       "       [8.78808737e-01],\n",
       "       [9.58112001e-01],\n",
       "       [9.80899453e-01],\n",
       "       [3.81897748e-01],\n",
       "       [9.99856234e-01],\n",
       "       [5.07602572e-01],\n",
       "       [9.95708346e-01],\n",
       "       [9.99883175e-01],\n",
       "       [9.99998808e-01],\n",
       "       [9.98486400e-01],\n",
       "       [9.88043070e-01],\n",
       "       [2.58002698e-01],\n",
       "       [8.95081282e-01],\n",
       "       [9.45369959e-01],\n",
       "       [9.31224704e-01],\n",
       "       [9.93127584e-01],\n",
       "       [9.59192455e-01],\n",
       "       [9.98936832e-01],\n",
       "       [9.98738945e-01],\n",
       "       [9.91167665e-01],\n",
       "       [9.95528400e-01],\n",
       "       [7.89692819e-01],\n",
       "       [6.98451996e-01],\n",
       "       [1.64004788e-01],\n",
       "       [9.69405711e-01],\n",
       "       [8.29324722e-01],\n",
       "       [9.95469928e-01],\n",
       "       [9.99991417e-01],\n",
       "       [9.48317289e-01],\n",
       "       [9.98908520e-01],\n",
       "       [9.99734700e-01],\n",
       "       [9.86699581e-01],\n",
       "       [9.90833580e-01],\n",
       "       [8.30797076e-01],\n",
       "       [9.69695985e-01],\n",
       "       [9.47464705e-01],\n",
       "       [9.69047368e-01],\n",
       "       [9.76126671e-01],\n",
       "       [9.89395320e-01],\n",
       "       [9.74524438e-01],\n",
       "       [8.03845823e-01],\n",
       "       [8.26022685e-01],\n",
       "       [8.81992996e-01],\n",
       "       [8.26022685e-01],\n",
       "       [8.25145781e-01],\n",
       "       [9.95963156e-01],\n",
       "       [9.06710267e-01],\n",
       "       [2.64370024e-01],\n",
       "       [9.36238825e-01],\n",
       "       [9.69455242e-01],\n",
       "       [9.78892326e-01],\n",
       "       [9.92760062e-01],\n",
       "       [5.66986561e-01],\n",
       "       [9.91392016e-01],\n",
       "       [9.99665260e-01],\n",
       "       [9.88894165e-01],\n",
       "       [9.39965010e-01],\n",
       "       [9.81684029e-01],\n",
       "       [9.99947786e-01],\n",
       "       [9.99994993e-01],\n",
       "       [9.99947786e-01],\n",
       "       [9.80895460e-01],\n",
       "       [9.92357910e-01],\n",
       "       [9.56877828e-01],\n",
       "       [9.65502560e-01],\n",
       "       [9.81032193e-01],\n",
       "       [7.03979015e-01],\n",
       "       [9.74866152e-01],\n",
       "       [7.46676564e-01],\n",
       "       [9.83190715e-01],\n",
       "       [3.94290179e-01],\n",
       "       [9.98124897e-01],\n",
       "       [5.03930330e-01],\n",
       "       [8.55958223e-01],\n",
       "       [9.97235239e-01],\n",
       "       [9.57411945e-01],\n",
       "       [9.51103389e-01],\n",
       "       [9.35097396e-01],\n",
       "       [7.11156785e-01],\n",
       "       [2.13198259e-01],\n",
       "       [9.89751577e-01],\n",
       "       [9.37508225e-01],\n",
       "       [9.98928010e-01],\n",
       "       [9.98059928e-01],\n",
       "       [4.70221788e-01],\n",
       "       [9.99995708e-01],\n",
       "       [7.89665818e-01],\n",
       "       [4.63961422e-01],\n",
       "       [8.77620637e-01],\n",
       "       [9.82117832e-01],\n",
       "       [8.23119402e-01],\n",
       "       [9.99879956e-01],\n",
       "       [9.39530551e-01],\n",
       "       [8.78665745e-01],\n",
       "       [7.76368976e-01],\n",
       "       [9.87950206e-01],\n",
       "       [9.90972996e-01],\n",
       "       [9.24907565e-01],\n",
       "       [8.69654119e-01],\n",
       "       [9.33390379e-01],\n",
       "       [9.99778450e-01],\n",
       "       [9.15219605e-01],\n",
       "       [9.75042105e-01],\n",
       "       [7.88882911e-01],\n",
       "       [5.09631932e-01],\n",
       "       [9.94245946e-01],\n",
       "       [9.61375535e-01],\n",
       "       [9.87656951e-01],\n",
       "       [7.72938371e-01],\n",
       "       [9.98973012e-01],\n",
       "       [9.98997629e-01],\n",
       "       [9.92933750e-01],\n",
       "       [9.99089003e-01],\n",
       "       [9.98821080e-01],\n",
       "       [9.99993801e-01],\n",
       "       [9.99983311e-01],\n",
       "       [9.99751866e-01],\n",
       "       [9.99208391e-01],\n",
       "       [9.69665945e-01],\n",
       "       [9.98952508e-01],\n",
       "       [9.03022468e-01],\n",
       "       [8.83867860e-01],\n",
       "       [9.99923825e-01],\n",
       "       [9.99846697e-01],\n",
       "       [9.66535628e-01],\n",
       "       [9.99964714e-01],\n",
       "       [9.98464227e-01],\n",
       "       [6.00320280e-01],\n",
       "       [9.89937901e-01],\n",
       "       [8.65643084e-01],\n",
       "       [8.48967850e-01],\n",
       "       [8.30526650e-01],\n",
       "       [7.18002200e-01],\n",
       "       [9.50880706e-01],\n",
       "       [9.98637497e-01],\n",
       "       [5.64960122e-01],\n",
       "       [8.45336854e-01],\n",
       "       [4.36931461e-01],\n",
       "       [7.09624171e-01],\n",
       "       [9.17278707e-01],\n",
       "       [9.98152077e-01],\n",
       "       [9.93647635e-01],\n",
       "       [9.94025171e-01],\n",
       "       [9.86919701e-01],\n",
       "       [7.27973461e-01],\n",
       "       [9.99984741e-01],\n",
       "       [9.99790967e-01],\n",
       "       [9.50518370e-01],\n",
       "       [9.70081270e-01],\n",
       "       [6.47093654e-01],\n",
       "       [9.68719065e-01],\n",
       "       [9.28462148e-01],\n",
       "       [9.56849992e-01],\n",
       "       [9.99402285e-01],\n",
       "       [4.63940054e-01],\n",
       "       [9.99823749e-01],\n",
       "       [9.95875776e-01],\n",
       "       [9.83071268e-01],\n",
       "       [9.95938063e-01],\n",
       "       [9.95367765e-01],\n",
       "       [8.38058472e-01],\n",
       "       [9.83673334e-01],\n",
       "       [9.96501327e-01],\n",
       "       [9.92422163e-01],\n",
       "       [9.99979138e-01],\n",
       "       [9.68182027e-01],\n",
       "       [4.98718798e-01],\n",
       "       [9.22090054e-01],\n",
       "       [9.98339534e-01],\n",
       "       [7.75146604e-01],\n",
       "       [9.63823199e-01],\n",
       "       [9.75976765e-01],\n",
       "       [7.48541832e-01],\n",
       "       [9.20277774e-01],\n",
       "       [9.46673453e-01],\n",
       "       [9.23187912e-01],\n",
       "       [9.99568641e-01],\n",
       "       [9.42643285e-01],\n",
       "       [9.99559224e-01],\n",
       "       [9.99574840e-01],\n",
       "       [9.95706022e-01],\n",
       "       [9.95834589e-01],\n",
       "       [9.99588311e-01],\n",
       "       [7.54742563e-01],\n",
       "       [9.63263690e-01],\n",
       "       [9.78228986e-01],\n",
       "       [8.93572092e-01],\n",
       "       [9.92257893e-01],\n",
       "       [9.89039063e-01],\n",
       "       [9.89851117e-01],\n",
       "       [9.97612476e-01],\n",
       "       [9.98705387e-01],\n",
       "       [9.99754012e-01],\n",
       "       [9.99289870e-01],\n",
       "       [9.99927998e-01],\n",
       "       [9.99988556e-01],\n",
       "       [9.99907255e-01],\n",
       "       [9.99045193e-01],\n",
       "       [9.96808350e-01],\n",
       "       [9.99630451e-01],\n",
       "       [9.95238185e-01],\n",
       "       [9.50757980e-01],\n",
       "       [9.95687068e-01],\n",
       "       [9.80900466e-01],\n",
       "       [9.57537830e-01],\n",
       "       [9.99721587e-01],\n",
       "       [9.30374682e-01],\n",
       "       [9.99039292e-01],\n",
       "       [9.94873941e-01],\n",
       "       [9.99509573e-01],\n",
       "       [9.99967933e-01],\n",
       "       [9.41916525e-01],\n",
       "       [9.97810423e-01],\n",
       "       [9.99515295e-01],\n",
       "       [5.44925511e-01],\n",
       "       [9.43328500e-01],\n",
       "       [9.99946237e-01],\n",
       "       [9.97672379e-01],\n",
       "       [7.62373328e-01],\n",
       "       [3.63829851e-01],\n",
       "       [9.68472123e-01],\n",
       "       [2.75693238e-01],\n",
       "       [8.46612275e-01],\n",
       "       [9.06634271e-01],\n",
       "       [9.99518037e-01],\n",
       "       [3.50139350e-01],\n",
       "       [9.87194955e-01],\n",
       "       [8.10283244e-01],\n",
       "       [9.91288424e-01],\n",
       "       [4.75430071e-01],\n",
       "       [4.08624530e-01],\n",
       "       [4.10368651e-01],\n",
       "       [4.70166743e-01],\n",
       "       [9.96656179e-01],\n",
       "       [9.91792977e-01],\n",
       "       [7.17725530e-02],\n",
       "       [9.84691203e-01],\n",
       "       [9.63182390e-01],\n",
       "       [9.92071569e-01],\n",
       "       [5.27650416e-01],\n",
       "       [9.38015699e-01],\n",
       "       [3.19718868e-01],\n",
       "       [9.99743640e-01],\n",
       "       [9.91544485e-01],\n",
       "       [8.20084810e-01],\n",
       "       [9.98087943e-01],\n",
       "       [9.63843226e-01],\n",
       "       [8.59962821e-01],\n",
       "       [9.99743640e-01],\n",
       "       [9.99697208e-01],\n",
       "       [2.47369841e-01],\n",
       "       [5.57511866e-01],\n",
       "       [4.70367223e-01],\n",
       "       [4.87980187e-01],\n",
       "       [3.52828531e-03],\n",
       "       [1.38734013e-01],\n",
       "       [2.80296546e-03],\n",
       "       [9.36264521e-04],\n",
       "       [4.45916224e-03],\n",
       "       [8.66672248e-02],\n",
       "       [1.32389456e-01],\n",
       "       [1.02445260e-01],\n",
       "       [5.35317413e-05],\n",
       "       [2.51000106e-01],\n",
       "       [1.33161736e-03],\n",
       "       [5.18743127e-06],\n",
       "       [1.14858994e-06],\n",
       "       [1.68082848e-01],\n",
       "       [7.30107331e-07],\n",
       "       [4.97654128e-07],\n",
       "       [2.07082448e-05],\n",
       "       [2.88991432e-05],\n",
       "       [2.12060579e-04],\n",
       "       [5.33684576e-03],\n",
       "       [4.16415595e-02],\n",
       "       [1.42329652e-02],\n",
       "       [3.93891841e-01],\n",
       "       [3.93964092e-06],\n",
       "       [6.21625036e-03],\n",
       "       [2.28259131e-01],\n",
       "       [1.98834547e-04],\n",
       "       [3.64068225e-02],\n",
       "       [9.56759229e-03],\n",
       "       [7.11999368e-04],\n",
       "       [4.76818706e-04],\n",
       "       [2.70094991e-01],\n",
       "       [1.16756866e-02],\n",
       "       [4.73881550e-02],\n",
       "       [2.12619584e-02],\n",
       "       [4.97040758e-03],\n",
       "       [2.68123560e-02],\n",
       "       [9.27083567e-02],\n",
       "       [9.90312546e-02],\n",
       "       [8.60393702e-05],\n",
       "       [2.62659218e-04],\n",
       "       [6.58398767e-06],\n",
       "       [4.83036652e-04],\n",
       "       [1.47558404e-02],\n",
       "       [3.00942949e-04],\n",
       "       [4.99439165e-02],\n",
       "       [5.34289610e-03],\n",
       "       [7.25620921e-05],\n",
       "       [8.10877327e-03],\n",
       "       [2.91137230e-02],\n",
       "       [1.52173648e-02],\n",
       "       [5.91813296e-04],\n",
       "       [2.15497403e-03],\n",
       "       [1.43796042e-01],\n",
       "       [4.02113255e-05],\n",
       "       [2.42191745e-04],\n",
       "       [4.79262829e-01],\n",
       "       [2.02593580e-03],\n",
       "       [8.21812451e-02],\n",
       "       [1.04250386e-01],\n",
       "       [8.94377306e-02],\n",
       "       [1.15922675e-01]], dtype=float32)"
      ]
     },
     "execution_count": 55,
     "metadata": {},
     "output_type": "execute_result"
    }
   ],
   "source": [
    "train_results"
   ]
  },
  {
   "cell_type": "code",
   "execution_count": null,
   "metadata": {},
   "outputs": [],
   "source": []
  },
  {
   "cell_type": "markdown",
   "metadata": {
    "papermill": {
     "duration": 0.026897,
     "end_time": "2019-11-23T05:47:16.977946",
     "exception": false,
     "start_time": "2019-11-23T05:47:16.951049",
     "status": "completed"
    },
    "tags": []
   },
   "source": [
    "## Experts"
   ]
  },
  {
   "cell_type": "code",
   "execution_count": 31,
   "metadata": {
    "papermill": {
     "duration": 0.095557,
     "end_time": "2019-11-23T05:47:17.100568",
     "exception": false,
     "start_time": "2019-11-23T05:47:17.005011",
     "status": "completed"
    },
    "tags": []
   },
   "outputs": [
    {
     "name": "stdout",
     "output_type": "stream",
     "text": [
      "error with benign/fixed-27026916.jpeg: '27026916.jpeg'\n",
      "error with benign/fixed-27808351.jpeg: '27808351.jpeg'\n",
      "error with benign/fixed-27954713-1.jpeg: '27954713-1.jpeg'\n",
      "error with benign/fixed-27954713-2.jpeg: '27954713-2.jpeg'\n",
      "error with benign/fixed-6041779.jpeg: '6041779.jpeg'\n",
      "error with benign/fixed-7363540-1.jpeg: '7363540-1.jpeg'\n",
      "error with benign/fixed-8217457-1.jpeg: '8217457-1.jpeg'\n",
      "error with malignant/fixed-5829440.jpeg: '5829440.jpeg'\n",
      "error with malignant/fixed-7221037.jpeg: '7221037.jpeg'\n",
      "error with malignant/fixed-7336509.jpeg: '7336509.jpeg'\n",
      "error with malignant/fixed-7343132.jpeg: '7343132.jpeg'\n",
      "error with malignant/fixed-7419872.jpeg: '7419872.jpeg'\n",
      "error with malignant/fixed-7486948-1.jpeg: '7486948-1.jpeg'\n",
      "error with malignant/fixed-7486948-2.jpeg: '7486948-2.jpeg'\n",
      "error with malignant/fixed-7486948-3.jpeg: '7486948-3.jpeg'\n",
      "error with malignant/fixed-7486948-4.jpeg: '7486948-4.jpeg'\n",
      "error with malignant/fixed-7637848-1.jpeg: '7637848-1.jpeg'\n",
      "error with malignant/fixed-7637848-2.jpeg: '7637848-2.jpeg'\n",
      "error with malignant/fixed-8054569.jpeg: '8054569.jpeg'\n",
      "error with malignant/fixed-8862768-1.jpeg: '8862768-1.jpeg'\n",
      "error with malignant/fixed-8862768-2.jpeg: '8862768-2.jpeg'\n",
      "error with malignant/fixed-8862768-3.jpeg: '8862768-3.jpeg'\n",
      "error with malignant/fixed-8965761-1.jpeg: '8965761-1.jpeg'\n",
      "error with malignant/fixed-8965761-2.jpeg: '8965761-2.jpeg'\n",
      "error with malignant/fixed-9019761.jpeg: '9019761.jpeg'\n",
      "error with malignant/fixed-9028605-1.jpeg: '9028605-1.jpeg'\n",
      "error with malignant/fixed-9028605-2.jpeg: '9028605-2.jpeg'\n",
      "error with malignant/fixed-9028605-3.jpeg: '9028605-3.jpeg'\n",
      "error with malignant/fixed-9028605-4.jpeg: '9028605-4.jpeg'\n",
      "error with malignant/fixed-9072366.jpeg: '9072366.jpeg'\n",
      "error with malignant/fixed-9089505-1.jpeg: '9089505-1.jpeg'\n",
      "error with malignant/fixed-9089505-2.jpeg: '9089505-2.jpeg'\n",
      "error with malignant/fixed-9089505-3.jpeg: '9089505-3.jpeg'\n",
      "error with malignant/fixed-9089505-4.jpeg: '9089505-4.jpeg'\n",
      "error with malignant/fixed-9165977-1.jpeg: '9165977-1.jpeg'\n",
      "error with malignant/fixed-9165977-2.jpeg: '9165977-2.jpeg'\n"
     ]
    },
    {
     "data": {
      "text/plain": [
       "['benign',\n",
       " 'benign',\n",
       " 'benign',\n",
       " 'benign',\n",
       " 'malignant',\n",
       " 'benign',\n",
       " 'benign',\n",
       " 'benign',\n",
       " 'malignant',\n",
       " 'malignant',\n",
       " None,\n",
       " 'benign',\n",
       " 'benign',\n",
       " 'benign',\n",
       " 'benign',\n",
       " 'malignant',\n",
       " 'benign',\n",
       " 'malignant',\n",
       " 'malignant',\n",
       " 'benign',\n",
       " 'malignant',\n",
       " None,\n",
       " 'benign',\n",
       " 'malignant',\n",
       " None,\n",
       " None,\n",
       " 'benign',\n",
       " 'benign',\n",
       " 'malignant',\n",
       " 'malignant',\n",
       " 'malignant',\n",
       " 'malignant',\n",
       " 'benign',\n",
       " 'benign',\n",
       " 'benign',\n",
       " 'benign',\n",
       " 'benign',\n",
       " 'benign',\n",
       " None,\n",
       " None,\n",
       " None,\n",
       " 'malignant',\n",
       " 'malignant',\n",
       " 'benign',\n",
       " 'malignant',\n",
       " 'malignant',\n",
       " 'benign',\n",
       " 'benign',\n",
       " 'malignant',\n",
       " 'malignant',\n",
       " 'malignant',\n",
       " 'malignant',\n",
       " 'malignant',\n",
       " None,\n",
       " None,\n",
       " None,\n",
       " None,\n",
       " None,\n",
       " None,\n",
       " None,\n",
       " None,\n",
       " None,\n",
       " None,\n",
       " None,\n",
       " None,\n",
       " None,\n",
       " None,\n",
       " None,\n",
       " None,\n",
       " None,\n",
       " None,\n",
       " None,\n",
       " None,\n",
       " None,\n",
       " None,\n",
       " None,\n",
       " None,\n",
       " None,\n",
       " None,\n",
       " None,\n",
       " None,\n",
       " None]"
      ]
     },
     "execution_count": 31,
     "metadata": {},
     "output_type": "execute_result"
    }
   ],
   "source": [
    "get_expert_results(\"evaluations/radiology-3344.json\", test.filenames)"
   ]
  },
  {
   "cell_type": "code",
   "execution_count": 32,
   "metadata": {
    "papermill": {
     "duration": 0.286187,
     "end_time": "2019-11-23T05:47:17.429173",
     "exception": false,
     "start_time": "2019-11-23T05:47:17.142986",
     "status": "completed"
    },
    "tags": []
   },
   "outputs": [
    {
     "name": "stdout",
     "output_type": "stream",
     "text": [
      "error with benign/free-26805873.jpeg: '26805873.jpeg'\n",
      "error with benign/free-27026916.jpeg: '27026916.jpeg'\n",
      "error with benign/free-27244981.jpeg: '27244981.jpeg'\n",
      "error with benign/free-4782399.jpeg: '4782399.jpeg'\n",
      "error with malignant/free-26699890-1.jpeg: '26699890-1.jpeg'\n",
      "error with malignant/free-26699890-2.jpeg: '26699890-2.jpeg'\n",
      "error with malignant/free-26699890-3.jpeg: '26699890-3.jpeg'\n",
      "error with malignant/free-26699890.jpeg: '26699890.jpeg'\n",
      "error with malignant/free-26943899-1.jpeg: '26943899-1.jpeg'\n",
      "error with malignant/free-26943899-2.jpeg: '26943899-2.jpeg'\n",
      "error with malignant/free-26998526-1.jpeg: '26998526-1.jpeg'\n",
      "error with malignant/free-26998526-2.jpeg: '26998526-2.jpeg'\n",
      "error with malignant/free-26998526-3.jpeg: '26998526-3.jpeg'\n",
      "error with malignant/free-26998526.jpeg: '26998526.jpeg'\n",
      "error with malignant/free-27251611-1.jpeg: '27251611-1.jpeg'\n",
      "error with malignant/free-27251611-2.jpeg: '27251611-2.jpeg'\n",
      "error with malignant/free-27251611-3.jpeg: '27251611-3.jpeg'\n",
      "error with malignant/free-27251611-4.jpeg: '27251611-4.jpeg'\n",
      "error with malignant/free-27251611-5.jpeg: '27251611-5.jpeg'\n",
      "error with malignant/free-27251611-6.jpeg: '27251611-6.jpeg'\n",
      "error with malignant/free-27352281.jpeg: '27352281.jpeg'\n",
      "error with malignant/free-27389545-1.jpeg: '27389545-1.jpeg'\n",
      "error with malignant/free-27389545-2.jpeg: '27389545-2.jpeg'\n",
      "error with malignant/free-27389545-3.jpeg: '27389545-3.jpeg'\n",
      "error with malignant/free-27389545-4.jpeg: '27389545-4.jpeg'\n",
      "error with malignant/free-28169392-1.jpeg: '28169392-1.jpeg'\n",
      "error with malignant/free-28169392-2.jpeg: '28169392-2.jpeg'\n",
      "error with malignant/free-28169392-3.jpeg: '28169392-3.jpeg'\n",
      "error with malignant/free-28169392-4.jpeg: '28169392-4.jpeg'\n",
      "error with malignant/free-28192873-1.jpeg: '28192873-1.jpeg'\n",
      "error with malignant/free-28192873-2.jpeg: '28192873-2.jpeg'\n",
      "error with malignant/free-28192873-3.jpeg: '28192873-3.jpeg'\n",
      "error with malignant/free-28415489-1.jpeg: '28415489-1.jpeg'\n",
      "error with malignant/free-28415489-2.jpeg: '28415489-2.jpeg'\n",
      "error with malignant/free-28415489.jpeg: '28415489.jpeg'\n",
      "error with malignant/free-28434676.jpeg: '28434676.jpeg'\n",
      "error with malignant/free-28889325.jpeg: '28889325.jpeg'\n",
      "error with malignant/free-28894245.jpeg: '28894245.jpeg'\n",
      "error with malignant/free-29165825-1.jpeg: '29165825-1.jpeg'\n",
      "error with malignant/free-29165825-2.jpeg: '29165825-2.jpeg'\n",
      "error with malignant/free-29165825-3.jpeg: '29165825-3.jpeg'\n",
      "error with malignant/free-29165825.jpeg: '29165825.jpeg'\n",
      "error with malignant/free-29492348.jpeg: '29492348.jpeg'\n",
      "error with malignant/free-29723441.jpeg: '29723441.jpeg'\n",
      "error with malignant/free-30095075.jpeg: '30095075.jpeg'\n",
      "error with malignant/free-30177827-1.jpeg: '30177827-1.jpeg'\n",
      "error with malignant/free-30177827-2.jpeg: '30177827-2.jpeg'\n",
      "error with malignant/free-30721873-1.jpeg: '30721873-1.jpeg'\n",
      "error with malignant/free-30721873-2.jpeg: '30721873-2.jpeg'\n",
      "error with malignant/free-30721873-3.jpeg: '30721873-3.jpeg'\n",
      "error with malignant/free-30908621-1.jpeg: '30908621-1.jpeg'\n",
      "error with malignant/free-30908621-2.jpeg: '30908621-2.jpeg'\n",
      "error with malignant/free-30908621-3.jpeg: '30908621-3.jpeg'\n",
      "error with malignant/free-30908621-4.jpeg: '30908621-4.jpeg'\n",
      "error with malignant/free-30908621-5.jpeg: '30908621-5.jpeg'\n",
      "error with malignant/free-31150775-1.jpeg: '31150775-1.jpeg'\n",
      "error with malignant/free-31150775-2.jpeg: '31150775-2.jpeg'\n",
      "error with malignant/free-31150775-3.jpeg: '31150775-3.jpeg'\n",
      "error with malignant/free-31150775-4.jpeg: '31150775-4.jpeg'\n",
      "error with malignant/free-31150775-5.jpeg: '31150775-5.jpeg'\n",
      "error with malignant/free-4571864.jpeg: '4571864.jpeg'\n",
      "error with malignant/free-6406401-1.jpeg: '6406401-1.jpeg'\n",
      "error with malignant/free-6406401-2.jpeg: '6406401-2.jpeg'\n",
      "error with malignant/free-6406401-3.jpeg: '6406401-3.jpeg'\n",
      "error with malignant/free-6406401.jpeg: '6406401.jpeg'\n",
      "error with malignant/free-6586304-1.jpeg: '6586304-1.jpeg'\n",
      "error with malignant/free-6600061-1.jpeg: '6600061-1.jpeg'\n",
      "error with malignant/free-6600061-2.jpeg: '6600061-2.jpeg'\n",
      "error with malignant/free-6671257-1.jpeg: '6671257-1.jpeg'\n",
      "error with malignant/free-6671257-2.jpeg: '6671257-2.jpeg'\n",
      "error with malignant/free-6671257-3.jpeg: '6671257-3.jpeg'\n",
      "error with malignant/free-8285464-1.jpeg: '8285464-1.jpeg'\n",
      "error with malignant/free-8285464-2.jpeg: '8285464-2.jpeg'\n",
      "error with malignant/free-8285464-3.jpeg: '8285464-3.jpeg'\n",
      "error with malignant/free-8285464-4.jpeg: '8285464-4.jpeg'\n",
      "error with malignant/free-8548579-1.jpeg: '8548579-1.jpeg'\n",
      "error with malignant/free-8845953-1.jpeg: '8845953-1.jpeg'\n",
      "error with malignant/free-8845953-2.jpeg: '8845953-2.jpeg'\n",
      "error with malignant/free-9000287.jpeg: '9000287.jpeg'\n",
      "error with malignant/free-9019761.jpeg: '9019761.jpeg'\n",
      "error with malignant/free-9089505-1.jpeg: '9089505-1.jpeg'\n",
      "error with malignant/free-9089505-2.jpeg: '9089505-2.jpeg'\n",
      "error with malignant/free-9089505-3.jpeg: '9089505-3.jpeg'\n",
      "error with malignant/free-9089505-4.jpeg: '9089505-4.jpeg'\n"
     ]
    },
    {
     "data": {
      "image/png": "[encoded data removed]",
      "text/plain": [
       "<Figure size 432x288 with 1 Axes>"
      ]
     },
     "metadata": {},
     "output_type": "display_data"
    }
   ],
   "source": [
    "expert_1, fig = plot_expert_confusion(\"evaluations/radiology-9809.json\", validation)\n",
    "fig.savefig(\"figures/{}-confusion-matrix-expert-1.svg\".format(PARAMETERS_ID), bbox_inches = \"tight\")"
   ]
  },
  {
   "cell_type": "code",
   "execution_count": 33,
   "metadata": {
    "papermill": {
     "duration": 0.086638,
     "end_time": "2019-11-23T05:47:17.558236",
     "exception": false,
     "start_time": "2019-11-23T05:47:17.471598",
     "status": "completed"
    },
    "scrolled": true,
    "tags": []
   },
   "outputs": [
    {
     "data": {
      "text/html": [
       "<div>\n",
       "<style scoped>\n",
       "    .dataframe tbody tr th:only-of-type {\n",
       "        vertical-align: middle;\n",
       "    }\n",
       "\n",
       "    .dataframe tbody tr th {\n",
       "        vertical-align: top;\n",
       "    }\n",
       "\n",
       "    .dataframe thead th {\n",
       "        text-align: right;\n",
       "    }\n",
       "</style>\n",
       "<table border=\"1\" class=\"dataframe\">\n",
       "  <thead>\n",
       "    <tr style=\"text-align: right;\">\n",
       "      <th></th>\n",
       "      <th>Acc</th>\n",
       "      <th>TP</th>\n",
       "      <th>TN</th>\n",
       "      <th>FP</th>\n",
       "      <th>FN</th>\n",
       "      <th>TPR</th>\n",
       "      <th>TNR</th>\n",
       "      <th>PPV</th>\n",
       "      <th>NPV</th>\n",
       "      <th>FPR</th>\n",
       "      <th>FNR</th>\n",
       "      <th>FDR</th>\n",
       "    </tr>\n",
       "  </thead>\n",
       "  <tbody>\n",
       "    <tr>\n",
       "      <th>benign</th>\n",
       "      <td>0.378</td>\n",
       "      <td>52</td>\n",
       "      <td>13</td>\n",
       "      <td>95</td>\n",
       "      <td>12</td>\n",
       "      <td>0.812</td>\n",
       "      <td>0.120</td>\n",
       "      <td>0.354</td>\n",
       "      <td>0.520</td>\n",
       "      <td>0.880</td>\n",
       "      <td>0.188</td>\n",
       "      <td>0.646</td>\n",
       "    </tr>\n",
       "    <tr>\n",
       "      <th>malignant</th>\n",
       "      <td>0.378</td>\n",
       "      <td>13</td>\n",
       "      <td>52</td>\n",
       "      <td>12</td>\n",
       "      <td>95</td>\n",
       "      <td>0.120</td>\n",
       "      <td>0.812</td>\n",
       "      <td>0.520</td>\n",
       "      <td>0.354</td>\n",
       "      <td>0.188</td>\n",
       "      <td>0.880</td>\n",
       "      <td>0.480</td>\n",
       "    </tr>\n",
       "  </tbody>\n",
       "</table>\n",
       "</div>"
      ],
      "text/plain": [
       "            Acc  TP  TN  FP  FN   TPR   TNR   PPV   NPV   FPR   FNR   FDR\n",
       "benign    0.378  52  13  95  12 0.812 0.120 0.354 0.520 0.880 0.188 0.646\n",
       "malignant 0.378  13  52  12  95 0.120 0.812 0.520 0.354 0.188 0.880 0.480"
      ]
     },
     "execution_count": 33,
     "metadata": {},
     "output_type": "execute_result"
    }
   ],
   "source": [
    "pandas.DataFrame(expert_1, index=validation.class_indices)"
   ]
  },
  {
   "cell_type": "markdown",
   "metadata": {
    "papermill": {
     "duration": 0.030406,
     "end_time": "2019-11-23T05:47:17.632757",
     "exception": false,
     "start_time": "2019-11-23T05:47:17.602351",
     "status": "completed"
    },
    "tags": []
   },
   "source": [
    "## ROC with experts"
   ]
  },
  {
   "cell_type": "code",
   "execution_count": 34,
   "metadata": {
    "papermill": {
     "duration": 0.668724,
     "end_time": "2019-11-23T05:47:18.331394",
     "exception": false,
     "start_time": "2019-11-23T05:47:17.662670",
     "status": "completed"
    },
    "scrolled": false,
    "tags": []
   },
   "outputs": [
    {
     "data": {
      "image/png": "[encoded data removed]",
      "text/plain": [
       "<Figure size 432x288 with 1 Axes>"
      ]
     },
     "metadata": {},
     "output_type": "display_data"
    }
   ],
   "source": [
    "fig = plot_roc_curve(labels, results, experts=[{ **expert_1, \"name\":\"expert 1\" }, { **expert_1, \"name\":\"expert 2\" }])\n",
    "fig.savefig(\"figures/{}-roc-curve.svg\".format(PARAMETERS_ID), bbox_inches = \"tight\")"
   ]
  },
  {
   "cell_type": "code",
   "execution_count": 35,
   "metadata": {
    "papermill": {
     "duration": 0.085352,
     "end_time": "2019-11-23T05:47:18.457854",
     "exception": false,
     "start_time": "2019-11-23T05:47:18.372502",
     "status": "completed"
    },
    "tags": []
   },
   "outputs": [
    {
     "data": {
      "text/html": [
       "<script>\n",
       "code_show=true; \n",
       "function code_toggle() {\n",
       " if (code_show){\n",
       " $('div.input').hide();\n",
       " } else {\n",
       " $('div.input').show();\n",
       " }\n",
       " code_show = !code_show\n",
       "} \n",
       "$( document ).ready(code_toggle);\n",
       "</script>\n",
       "The raw code for this IPython notebook is by default hidden for easier reading.\n",
       "To toggle on/off the raw code, click <a href=\"javascript:code_toggle()\">here</a>."
      ],
      "text/plain": [
       "<IPython.core.display.HTML object>"
      ]
     },
     "execution_count": 35,
     "metadata": {},
     "output_type": "execute_result"
    }
   ],
   "source": [
    "from IPython.display import HTML\n",
    "HTML('''<script>\n",
    "code_show=true; \n",
    "function code_toggle() {\n",
    " if (code_show){\n",
    " $('div.input').hide();\n",
    " } else {\n",
    " $('div.input').show();\n",
    " }\n",
    " code_show = !code_show\n",
    "} \n",
    "$( document ).ready(code_toggle);\n",
    "</script>\n",
    "The raw code for this IPython notebook is by default hidden for easier reading.\n",
    "To toggle on/off the raw code, click <a href=\"javascript:code_toggle()\">here</a>.''')"
   ]
  },
  {
   "cell_type": "code",
   "execution_count": null,
   "metadata": {
    "papermill": {
     "duration": 0.033161,
     "end_time": "2019-11-23T05:47:18.530904",
     "exception": false,
     "start_time": "2019-11-23T05:47:18.497743",
     "status": "completed"
    },
    "tags": []
   },
   "outputs": [],
   "source": []
  },
  {
   "cell_type": "code",
   "execution_count": null,
   "metadata": {
    "papermill": {
     "duration": 0.030513,
     "end_time": "2019-11-23T05:47:18.591937",
     "exception": false,
     "start_time": "2019-11-23T05:47:18.561424",
     "status": "completed"
    },
    "tags": []
   },
   "outputs": [],
   "source": []
  }
 ],
 "metadata": {
  "kernelspec": {
   "display_name": "Python 3",
   "language": "python",
   "name": "python3"
  },
  "language_info": {
   "codemirror_mode": {
    "name": "ipython",
    "version": 3
   },
   "file_extension": ".py",
   "mimetype": "text/x-python",
   "name": "python",
   "nbconvert_exporter": "python",
   "pygments_lexer": "ipython3",
   "version": "3.6.7"
  },
  "papermill": {
   "duration": 64.662275,
   "end_time": "2019-11-23T05:47:21.544837",
   "environment_variables": {},
   "exception": null,
   "input_path": "evaluate-specific-model.ipynb",
   "output_path": "evaluate-free-complete.ipynb",
   "parameters": {
    "DIRECTORY": "/media/user1/my4TB/intrepidlemon/liver-ultrasound/free",
    "MODEL_TYPE": "v2",
    "MODEL_UUID": "04cfb42d-3e0b-4516-aa85-56f19cb4d6b9",
    "PARAMETERS_ID": "free-complete",
    "SELECTIONS": "[]"
   },
   "start_time": "2019-11-23T05:46:16.882562",
   "version": "1.2.1"
  }
 },
 "nbformat": 4,
 "nbformat_minor": 2
}
