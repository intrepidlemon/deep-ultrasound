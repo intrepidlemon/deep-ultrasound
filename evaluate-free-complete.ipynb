{
 "cells": [
  {
   "cell_type": "code",
   "execution_count": 1,
   "metadata": {
    "papermill": {
     "duration": 0.167232,
     "end_time": "2018-09-01T17:02:12.513934",
     "exception": false,
     "start_time": "2018-09-01T17:02:12.346702",
     "status": "completed"
    },
    "tags": []
   },
   "outputs": [],
   "source": [
    "%load_ext autoreload\n",
    "%autoreload 2\n",
    "%matplotlib inline  \n",
    "from IPython.display import HTML"
   ]
  },
  {
   "cell_type": "code",
   "execution_count": 2,
   "metadata": {
    "papermill": {
     "duration": 0.239247,
     "end_time": "2018-09-01T17:02:12.753585",
     "exception": false,
     "start_time": "2018-09-01T17:02:12.514338",
     "status": "completed"
    },
    "tags": []
   },
   "outputs": [],
   "source": [
    "from sklearn.metrics import f1_score, roc_auc_score, average_precision_score, precision_score, recall_score\n",
    "import pandas\n",
    "import numpy as np\n",
    "import json\n",
    "import matplotlib.pyplot as plt\n",
    "import os\n",
    "\n",
    "pandas.options.display.float_format = '{:,.3f}'.format"
   ]
  },
  {
   "cell_type": "code",
   "execution_count": 3,
   "metadata": {
    "papermill": {
     "duration": 0.692302,
     "end_time": "2018-09-01T17:02:13.446623",
     "exception": false,
     "start_time": "2018-09-01T17:02:12.754321",
     "status": "completed"
    },
    "tags": []
   },
   "outputs": [
    {
     "name": "stderr",
     "output_type": "stream",
     "text": [
      "Using TensorFlow backend.\n"
     ]
    }
   ],
   "source": [
    "from evaluate import load, get_results, get_labels, transform_binary_probabilities, transform_binary_predictions, calculate_accuracy_loss, plot_confusion_matrix, plot_precision_recall, plot_roc_curve, calculate_pr_auc, calculate_confusion_matrix_stats, calculate_confusion_matrix, plot_tsne, accession_from_filename, plot_expert_confusion, plot_grad_cam"
   ]
  },
  {
   "cell_type": "code",
   "execution_count": 4,
   "metadata": {
    "papermill": {
     "duration": 0.196081,
     "end_time": "2018-09-01T17:02:13.643272",
     "exception": false,
     "start_time": "2018-09-01T17:02:13.447191",
     "status": "completed"
    },
    "tags": []
   },
   "outputs": [],
   "source": [
    "from data import describe, all_features, data, print_describe, load_single\n",
    "from run import characterize_data\n",
    "from config import config"
   ]
  },
  {
   "cell_type": "markdown",
   "metadata": {
    "papermill": {
     "duration": 9e-06,
     "end_time": "2018-09-01T17:02:13.644057",
     "exception": false,
     "start_time": "2018-09-01T17:02:13.644048",
     "status": "completed"
    },
    "tags": []
   },
   "source": [
    "# Parameters"
   ]
  },
  {
   "cell_type": "code",
   "execution_count": 5,
   "metadata": {
    "papermill": {
     "duration": 0.028812,
     "end_time": "2018-09-01T17:02:13.686649",
     "exception": false,
     "start_time": "2018-09-01T17:02:13.657837",
     "status": "completed"
    },
    "tags": [
     "parameters"
    ]
   },
   "outputs": [],
   "source": [
    "DIRECTORY = \"\"\n",
    "MODEL_UUID = \"\"\n",
    "MODEL_TYPE = \"\""
   ]
  },
  {
   "cell_type": "code",
   "execution_count": 6,
   "metadata": {
    "papermill": {
     "duration": 0.043577,
     "end_time": "2018-09-01T17:02:13.730268",
     "exception": false,
     "start_time": "2018-09-01T17:02:13.686691",
     "status": "completed"
    },
    "tags": [
     "injected-parameters"
    ]
   },
   "outputs": [],
   "source": [
    "# Parameters\n",
    "DIRECTORY = \"complete-set-free/data\"\n",
    "MODEL_UUID = \"3f408cc9-5eef-414e-8cd7-041fabd9297a\"\n",
    "MODEL_TYPE = \"v1\"\n"
   ]
  },
  {
   "cell_type": "code",
   "execution_count": 7,
   "metadata": {
    "papermill": {
     "duration": 0.029548,
     "end_time": "2018-09-01T17:02:13.759861",
     "exception": false,
     "start_time": "2018-09-01T17:02:13.730313",
     "status": "completed"
    },
    "tags": []
   },
   "outputs": [],
   "source": [
    "FEATURES = \"{}/features.csv\".format(DIRECTORY)\n",
    "RAW = \"{}/raw\".format(DIRECTORY)\n",
    "TRAIN = \"{}/train\".format(DIRECTORY)\n",
    "VALIDATION = \"{}/validation\".format(DIRECTORY)\n",
    "MODEL = \"{}/models/{}-{}.h5\".format(config.OUTPUT, MODEL_UUID, MODEL_TYPE)"
   ]
  },
  {
   "cell_type": "markdown",
   "metadata": {
    "papermill": {
     "duration": 8e-06,
     "end_time": "2018-09-01T17:02:13.760237",
     "exception": false,
     "start_time": "2018-09-01T17:02:13.760229",
     "status": "completed"
    },
    "tags": []
   },
   "source": [
    "## Lesion descriptions"
   ]
  },
  {
   "cell_type": "code",
   "execution_count": 8,
   "metadata": {
    "papermill": {
     "duration": 0.053037,
     "end_time": "2018-09-01T17:02:13.825949",
     "exception": false,
     "start_time": "2018-09-01T17:02:13.772912",
     "status": "completed"
    },
    "scrolled": false,
    "tags": []
   },
   "outputs": [
    {
     "name": "stdout",
     "output_type": "stream",
     "text": [
      "category: C2\n",
      "\tcount: 157\n",
      "\tnumber lesions: 158\n",
      "\tcolumn: feat\n",
      "\t\t {'benign': 157}\n",
      "\tcolumn: imag\n",
      "\t\t {'biopsy': 1, 'mri': 156}\n",
      "category: C3\n",
      "\tcount: 131\n",
      "\tnumber lesions: 198\n",
      "\tcolumn: feat\n",
      "\t\t {'benign': 113, 'malignant': 18}\n",
      "\tcolumn: imag\n",
      "\t\t {'biopsy': 6, 'mri': 125}\n",
      "category: C4\n",
      "\tcount: 44\n",
      "\tnumber lesions: 59\n",
      "\tcolumn: feat\n",
      "\t\t {'benign': 10, 'malignant': 34}\n",
      "\tcolumn: imag\n",
      "\t\t {'biopsy': 16, 'mri': 28}\n",
      "category: C5\n",
      "\tcount: 78\n",
      "\tnumber lesions: 106\n",
      "\tcolumn: feat\n",
      "\t\t {'benign': 2, 'malignant': 76}\n",
      "\tcolumn: imag\n",
      "\t\t {'biopsy': 33, 'mri': 45}\n"
     ]
    }
   ],
   "source": [
    "print_describe(raw=RAW, features=FEATURES)"
   ]
  },
  {
   "cell_type": "code",
   "execution_count": 9,
   "metadata": {
    "papermill": {
     "duration": 0.464444,
     "end_time": "2018-09-01T17:02:14.290441",
     "exception": false,
     "start_time": "2018-09-01T17:02:13.825997",
     "status": "completed"
    },
    "scrolled": true,
    "tags": []
   },
   "outputs": [
    {
     "name": "stdout",
     "output_type": "stream",
     "text": [
      "Found 419 images belonging to 2 classes.\n",
      "Found 419 images belonging to 2 classes.\n",
      "Found 102 images belonging to 2 classes.\n",
      "Found 0 images belonging to 2 classes.\n"
     ]
    }
   ],
   "source": [
    "train, validation, _ = data(shuffle_train=False, validation_dir=VALIDATION, train_dir=TRAIN)"
   ]
  },
  {
   "cell_type": "code",
   "execution_count": 10,
   "metadata": {
    "papermill": {
     "duration": 0.030929,
     "end_time": "2018-09-01T17:02:14.323278",
     "exception": false,
     "start_time": "2018-09-01T17:02:14.292349",
     "status": "completed"
    },
    "tags": []
   },
   "outputs": [
    {
     "name": "stdout",
     "output_type": "stream",
     "text": [
      "training data breakdown:  {'benign': 277, 'malignant': 142}\n",
      "validation data breakdown:  {'benign': 74, 'malignant': 28}\n"
     ]
    }
   ],
   "source": [
    "print(\"training data breakdown: \", characterize_data(train))\n",
    "print(\"validation data breakdown: \", characterize_data(validation))"
   ]
  },
  {
   "cell_type": "code",
   "execution_count": 11,
   "metadata": {
    "papermill": {
     "duration": 9.874041,
     "end_time": "2018-09-01T17:02:24.197376",
     "exception": false,
     "start_time": "2018-09-01T17:02:14.323335",
     "status": "completed"
    },
    "tags": []
   },
   "outputs": [],
   "source": [
    "model = load(MODEL)"
   ]
  },
  {
   "cell_type": "code",
   "execution_count": 12,
   "metadata": {
    "papermill": {
     "duration": 1.447095,
     "end_time": "2018-09-01T17:02:25.645027",
     "exception": false,
     "start_time": "2018-09-01T17:02:24.197932",
     "status": "completed"
    },
    "tags": []
   },
   "outputs": [],
   "source": [
    "results = get_results(model, validation)"
   ]
  },
  {
   "cell_type": "code",
   "execution_count": 13,
   "metadata": {
    "papermill": {
     "duration": 0.022353,
     "end_time": "2018-09-01T17:02:25.670371",
     "exception": false,
     "start_time": "2018-09-01T17:02:25.648018",
     "status": "completed"
    },
    "tags": []
   },
   "outputs": [],
   "source": [
    "probabilities = transform_binary_probabilities(results)\n",
    "predictions = transform_binary_predictions(results)\n",
    "labels = get_labels(validation)"
   ]
  },
  {
   "cell_type": "markdown",
   "metadata": {
    "papermill": {
     "duration": 7e-06,
     "end_time": "2018-09-01T17:02:25.670434",
     "exception": false,
     "start_time": "2018-09-01T17:02:25.670427",
     "status": "completed"
    },
    "tags": []
   },
   "source": [
    "## Accuracy and loss"
   ]
  },
  {
   "cell_type": "code",
   "execution_count": 14,
   "metadata": {
    "papermill": {
     "duration": 0.83131,
     "end_time": "2018-09-01T17:02:26.515026",
     "exception": false,
     "start_time": "2018-09-01T17:02:25.683716",
     "status": "completed"
    },
    "scrolled": true,
    "tags": []
   },
   "outputs": [
    {
     "name": "stdout",
     "output_type": "stream",
     "text": [
      "Accuracy: 0.8333333321646148\n",
      "Loss: 0.4892788342401093\n"
     ]
    }
   ],
   "source": [
    "loss, accuracy = calculate_accuracy_loss(model, validation)\n",
    "print(\"Accuracy:\", accuracy)\n",
    "print(\"Loss:\", loss)"
   ]
  },
  {
   "cell_type": "markdown",
   "metadata": {
    "papermill": {
     "duration": 4.7e-05,
     "end_time": "2018-09-01T17:02:26.517791",
     "exception": false,
     "start_time": "2018-09-01T17:02:26.517744",
     "status": "completed"
    },
    "tags": []
   },
   "source": [
    "## Confusion matrix"
   ]
  },
  {
   "cell_type": "code",
   "execution_count": 15,
   "metadata": {
    "papermill": {
     "duration": 0.116296,
     "end_time": "2018-09-01T17:02:26.685181",
     "exception": false,
     "start_time": "2018-09-01T17:02:26.568885",
     "status": "completed"
    },
    "scrolled": true,
    "tags": []
   },
   "outputs": [
    {
     "data": {
      "image/png": "[encoded data removed]",
      "text/plain": [
       "<Figure size 432x288 with 2 Axes>"
      ]
     },
     "metadata": {},
     "output_type": "display_data"
    }
   ],
   "source": [
    "plot_confusion_matrix(validation, results)"
   ]
  },
  {
   "cell_type": "code",
   "execution_count": 16,
   "metadata": {
    "papermill": {
     "duration": 0.04111,
     "end_time": "2018-09-01T17:02:26.726863",
     "exception": false,
     "start_time": "2018-09-01T17:02:26.685753",
     "status": "completed"
    },
    "scrolled": true,
    "tags": []
   },
   "outputs": [
    {
     "data": {
      "text/html": [
       "<div>\n",
       "<style scoped>\n",
       "    .dataframe tbody tr th:only-of-type {\n",
       "        vertical-align: middle;\n",
       "    }\n",
       "\n",
       "    .dataframe tbody tr th {\n",
       "        vertical-align: top;\n",
       "    }\n",
       "\n",
       "    .dataframe thead th {\n",
       "        text-align: right;\n",
       "    }\n",
       "</style>\n",
       "<table border=\"1\" class=\"dataframe\">\n",
       "  <thead>\n",
       "    <tr style=\"text-align: right;\">\n",
       "      <th></th>\n",
       "      <th>Acc</th>\n",
       "      <th>TP</th>\n",
       "      <th>TN</th>\n",
       "      <th>FP</th>\n",
       "      <th>FN</th>\n",
       "      <th>TPR</th>\n",
       "      <th>TNR</th>\n",
       "      <th>PPV</th>\n",
       "      <th>NPV</th>\n",
       "      <th>FPR</th>\n",
       "      <th>FNR</th>\n",
       "      <th>FDR</th>\n",
       "      <th>AM</th>\n",
       "      <th>GM</th>\n",
       "    </tr>\n",
       "  </thead>\n",
       "  <tbody>\n",
       "    <tr>\n",
       "      <th>benign</th>\n",
       "      <td>0.833</td>\n",
       "      <td>62</td>\n",
       "      <td>23</td>\n",
       "      <td>5</td>\n",
       "      <td>12</td>\n",
       "      <td>0.838</td>\n",
       "      <td>0.821</td>\n",
       "      <td>0.925</td>\n",
       "      <td>0.657</td>\n",
       "      <td>0.179</td>\n",
       "      <td>0.162</td>\n",
       "      <td>0.075</td>\n",
       "      <td>0.830</td>\n",
       "      <td>0.830</td>\n",
       "    </tr>\n",
       "    <tr>\n",
       "      <th>malignant</th>\n",
       "      <td>0.833</td>\n",
       "      <td>23</td>\n",
       "      <td>62</td>\n",
       "      <td>12</td>\n",
       "      <td>5</td>\n",
       "      <td>0.821</td>\n",
       "      <td>0.838</td>\n",
       "      <td>0.657</td>\n",
       "      <td>0.925</td>\n",
       "      <td>0.162</td>\n",
       "      <td>0.179</td>\n",
       "      <td>0.343</td>\n",
       "      <td>0.830</td>\n",
       "      <td>0.830</td>\n",
       "    </tr>\n",
       "  </tbody>\n",
       "</table>\n",
       "</div>"
      ],
      "text/plain": [
       "            Acc  TP  TN  FP  FN   TPR   TNR   PPV   NPV   FPR   FNR   FDR  \\\n",
       "benign    0.833  62  23   5  12 0.838 0.821 0.925 0.657 0.179 0.162 0.075   \n",
       "malignant 0.833  23  62  12   5 0.821 0.838 0.657 0.925 0.162 0.179 0.343   \n",
       "\n",
       "             AM    GM  \n",
       "benign    0.830 0.830  \n",
       "malignant 0.830 0.830  "
      ]
     },
     "execution_count": 16,
     "metadata": {},
     "output_type": "execute_result"
    }
   ],
   "source": [
    "stats = calculate_confusion_matrix_stats(labels, results)\n",
    "pandas.DataFrame(stats, index=validation.class_indices)"
   ]
  },
  {
   "cell_type": "markdown",
   "metadata": {
    "papermill": {
     "duration": 7e-06,
     "end_time": "2018-09-01T17:02:26.726921",
     "exception": false,
     "start_time": "2018-09-01T17:02:26.726914",
     "status": "completed"
    },
    "tags": []
   },
   "source": [
    "## ROC Curve standalone"
   ]
  },
  {
   "cell_type": "code",
   "execution_count": 17,
   "metadata": {
    "papermill": {
     "duration": 0.089411,
     "end_time": "2018-09-01T17:02:26.830299",
     "exception": false,
     "start_time": "2018-09-01T17:02:26.740888",
     "status": "completed"
    },
    "tags": []
   },
   "outputs": [
    {
     "data": {
      "image/png": "[encoded data removed]",
      "text/plain": [
       "<Figure size 432x288 with 1 Axes>"
      ]
     },
     "metadata": {},
     "output_type": "display_data"
    }
   ],
   "source": [
    "plot_roc_curve(labels, results)"
   ]
  },
  {
   "cell_type": "code",
   "execution_count": 18,
   "metadata": {
    "papermill": {
     "duration": 0.031681,
     "end_time": "2018-09-01T17:02:26.862716",
     "exception": false,
     "start_time": "2018-09-01T17:02:26.831035",
     "status": "completed"
    },
    "tags": []
   },
   "outputs": [
    {
     "name": "stdout",
     "output_type": "stream",
     "text": [
      "ROC AUC: 0.8383204633204634\n"
     ]
    }
   ],
   "source": [
    "print(\"ROC AUC:\", roc_auc_score(labels, probabilities))"
   ]
  },
  {
   "cell_type": "markdown",
   "metadata": {
    "papermill": {
     "duration": 7e-06,
     "end_time": "2018-09-01T17:02:26.862768",
     "exception": false,
     "start_time": "2018-09-01T17:02:26.862761",
     "status": "completed"
    },
    "tags": []
   },
   "source": [
    "## Precision Recall"
   ]
  },
  {
   "cell_type": "code",
   "execution_count": 19,
   "metadata": {
    "papermill": {
     "duration": 0.029941,
     "end_time": "2018-09-01T17:02:26.907180",
     "exception": false,
     "start_time": "2018-09-01T17:02:26.877239",
     "status": "completed"
    },
    "tags": []
   },
   "outputs": [
    {
     "name": "stdout",
     "output_type": "stream",
     "text": [
      "Average precision: 0.5598201070390206\n",
      "Precision: 0.6571428571428571 Recall: 0.8214285714285714\n"
     ]
    }
   ],
   "source": [
    "print(\"Average precision:\", average_precision_score(labels, probabilities))\n",
    "print(\"Precision:\", precision_score(labels, predictions), \"Recall:\", recall_score(labels, predictions))"
   ]
  },
  {
   "cell_type": "code",
   "execution_count": 20,
   "metadata": {
    "papermill": {
     "duration": 0.095487,
     "end_time": "2018-09-01T17:02:27.002710",
     "exception": false,
     "start_time": "2018-09-01T17:02:26.907223",
     "status": "completed"
    },
    "scrolled": true,
    "tags": []
   },
   "outputs": [
    {
     "data": {
      "image/png": "[encoded data removed]",
      "text/plain": [
       "<Figure size 432x288 with 1 Axes>"
      ]
     },
     "metadata": {},
     "output_type": "display_data"
    }
   ],
   "source": [
    "plot_precision_recall(labels, results)"
   ]
  },
  {
   "cell_type": "code",
   "execution_count": 21,
   "metadata": {
    "papermill": {
     "duration": 0.032922,
     "end_time": "2018-09-01T17:02:27.036329",
     "exception": false,
     "start_time": "2018-09-01T17:02:27.003407",
     "status": "completed"
    },
    "tags": []
   },
   "outputs": [
    {
     "name": "stdout",
     "output_type": "stream",
     "text": [
      "PR AUC: 0.5396324497392765\n"
     ]
    }
   ],
   "source": [
    "print(\"PR AUC:\", calculate_pr_auc(labels, results))"
   ]
  },
  {
   "cell_type": "markdown",
   "metadata": {
    "papermill": {
     "duration": 7e-06,
     "end_time": "2018-09-01T17:02:27.036397",
     "exception": false,
     "start_time": "2018-09-01T17:02:27.036390",
     "status": "completed"
    },
    "tags": []
   },
   "source": [
    "## F1 Score"
   ]
  },
  {
   "cell_type": "code",
   "execution_count": 22,
   "metadata": {
    "papermill": {
     "duration": 0.017384,
     "end_time": "2018-09-01T17:02:27.069134",
     "exception": false,
     "start_time": "2018-09-01T17:02:27.051750",
     "status": "completed"
    },
    "tags": []
   },
   "outputs": [
    {
     "name": "stdout",
     "output_type": "stream",
     "text": [
      "F1 score: 0.73015873015873\n"
     ]
    }
   ],
   "source": [
    "print(\"F1 score:\", f1_score(labels, predictions))"
   ]
  },
  {
   "cell_type": "markdown",
   "metadata": {
    "papermill": {
     "duration": 7e-06,
     "end_time": "2018-09-01T17:02:27.069181",
     "exception": false,
     "start_time": "2018-09-01T17:02:27.069174",
     "status": "completed"
    },
    "tags": []
   },
   "source": [
    "## TSNE"
   ]
  },
  {
   "cell_type": "code",
   "execution_count": 23,
   "metadata": {
    "papermill": {
     "duration": 0.018114,
     "end_time": "2018-09-01T17:02:27.102566",
     "exception": false,
     "start_time": "2018-09-01T17:02:27.084452",
     "status": "completed"
    },
    "tags": []
   },
   "outputs": [],
   "source": [
    "malignancy, modality, category = all_features(features=FEATURES)"
   ]
  },
  {
   "cell_type": "code",
   "execution_count": 24,
   "metadata": {
    "papermill": {
     "duration": 0.016427,
     "end_time": "2018-09-01T17:02:27.119032",
     "exception": false,
     "start_time": "2018-09-01T17:02:27.102605",
     "status": "completed"
    },
    "scrolled": true,
    "tags": []
   },
   "outputs": [],
   "source": [
    "tsne_dataset = train"
   ]
  },
  {
   "cell_type": "code",
   "execution_count": 25,
   "metadata": {
    "papermill": {
     "duration": 0.021376,
     "end_time": "2018-09-01T17:02:27.140938",
     "exception": false,
     "start_time": "2018-09-01T17:02:27.119562",
     "status": "completed"
    },
    "tags": []
   },
   "outputs": [],
   "source": [
    "tsne_labels = [category.get(accession_from_filename(f), \"unknown\") for f in tsne_dataset.filenames]"
   ]
  },
  {
   "cell_type": "code",
   "execution_count": 26,
   "metadata": {
    "papermill": {
     "duration": 4.094032,
     "end_time": "2018-09-01T17:02:31.235015",
     "exception": false,
     "start_time": "2018-09-01T17:02:27.140983",
     "status": "completed"
    },
    "scrolled": true,
    "tags": []
   },
   "outputs": [
    {
     "data": {
      "image/png": "[encoded data removed]",
      "text/plain": [
       "<Figure size 432x288 with 1 Axes>"
      ]
     },
     "metadata": {},
     "output_type": "display_data"
    }
   ],
   "source": [
    "plot_tsne(model, \"dense_5\", tsne_dataset, tsne_labels, perplexity=5)"
   ]
  },
  {
   "cell_type": "markdown",
   "metadata": {
    "papermill": {
     "duration": 6e-06,
     "end_time": "2018-09-01T17:02:31.235074",
     "exception": false,
     "start_time": "2018-09-01T17:02:31.235068",
     "status": "completed"
    },
    "tags": []
   },
   "source": [
    "## Experts"
   ]
  },
  {
   "cell_type": "code",
   "execution_count": 27,
   "metadata": {
    "papermill": {
     "duration": 0.093065,
     "end_time": "2018-09-01T17:02:31.344709",
     "exception": false,
     "start_time": "2018-09-01T17:02:31.251644",
     "status": "completed"
    },
    "tags": []
   },
   "outputs": [
    {
     "name": "stdout",
     "output_type": "stream",
     "text": [
      "error with benign/free-27244981-liver.jpeg: '27244981-liver.jpeg'\n"
     ]
    },
    {
     "data": {
      "image/png": "[encoded data removed]",
      "text/plain": [
       "<Figure size 432x288 with 2 Axes>"
      ]
     },
     "metadata": {},
     "output_type": "display_data"
    }
   ],
   "source": [
    "expert_1 = plot_expert_confusion(\"evaluations/radiology-9809.json\", validation)"
   ]
  },
  {
   "cell_type": "code",
   "execution_count": 28,
   "metadata": {
    "papermill": {
     "duration": 0.022253,
     "end_time": "2018-09-01T17:02:31.367012",
     "exception": false,
     "start_time": "2018-09-01T17:02:31.344759",
     "status": "completed"
    },
    "scrolled": true,
    "tags": []
   },
   "outputs": [
    {
     "data": {
      "text/html": [
       "<div>\n",
       "<style scoped>\n",
       "    .dataframe tbody tr th:only-of-type {\n",
       "        vertical-align: middle;\n",
       "    }\n",
       "\n",
       "    .dataframe tbody tr th {\n",
       "        vertical-align: top;\n",
       "    }\n",
       "\n",
       "    .dataframe thead th {\n",
       "        text-align: right;\n",
       "    }\n",
       "</style>\n",
       "<table border=\"1\" class=\"dataframe\">\n",
       "  <thead>\n",
       "    <tr style=\"text-align: right;\">\n",
       "      <th></th>\n",
       "      <th>Acc</th>\n",
       "      <th>TP</th>\n",
       "      <th>TN</th>\n",
       "      <th>FP</th>\n",
       "      <th>FN</th>\n",
       "      <th>TPR</th>\n",
       "      <th>TNR</th>\n",
       "      <th>PPV</th>\n",
       "      <th>NPV</th>\n",
       "      <th>FPR</th>\n",
       "      <th>FNR</th>\n",
       "      <th>FDR</th>\n",
       "      <th>AM</th>\n",
       "      <th>GM</th>\n",
       "    </tr>\n",
       "  </thead>\n",
       "  <tbody>\n",
       "    <tr>\n",
       "      <th>benign</th>\n",
       "      <td>0.775</td>\n",
       "      <td>59</td>\n",
       "      <td>20</td>\n",
       "      <td>8</td>\n",
       "      <td>15</td>\n",
       "      <td>0.797</td>\n",
       "      <td>0.714</td>\n",
       "      <td>0.881</td>\n",
       "      <td>0.571</td>\n",
       "      <td>0.286</td>\n",
       "      <td>0.203</td>\n",
       "      <td>0.119</td>\n",
       "      <td>0.756</td>\n",
       "      <td>0.755</td>\n",
       "    </tr>\n",
       "    <tr>\n",
       "      <th>malignant</th>\n",
       "      <td>0.775</td>\n",
       "      <td>20</td>\n",
       "      <td>59</td>\n",
       "      <td>15</td>\n",
       "      <td>8</td>\n",
       "      <td>0.714</td>\n",
       "      <td>0.797</td>\n",
       "      <td>0.571</td>\n",
       "      <td>0.881</td>\n",
       "      <td>0.203</td>\n",
       "      <td>0.286</td>\n",
       "      <td>0.429</td>\n",
       "      <td>0.756</td>\n",
       "      <td>0.755</td>\n",
       "    </tr>\n",
       "  </tbody>\n",
       "</table>\n",
       "</div>"
      ],
      "text/plain": [
       "            Acc  TP  TN  FP  FN   TPR   TNR   PPV   NPV   FPR   FNR   FDR  \\\n",
       "benign    0.775  59  20   8  15 0.797 0.714 0.881 0.571 0.286 0.203 0.119   \n",
       "malignant 0.775  20  59  15   8 0.714 0.797 0.571 0.881 0.203 0.286 0.429   \n",
       "\n",
       "             AM    GM  \n",
       "benign    0.756 0.755  \n",
       "malignant 0.756 0.755  "
      ]
     },
     "execution_count": 28,
     "metadata": {},
     "output_type": "execute_result"
    }
   ],
   "source": [
    "pandas.DataFrame(expert_1, index=validation.class_indices)"
   ]
  },
  {
   "cell_type": "markdown",
   "metadata": {
    "papermill": {
     "duration": 8e-06,
     "end_time": "2018-09-01T17:02:31.367480",
     "exception": false,
     "start_time": "2018-09-01T17:02:31.367472",
     "status": "completed"
    },
    "tags": []
   },
   "source": [
    "## ROC with experts"
   ]
  },
  {
   "cell_type": "code",
   "execution_count": 29,
   "metadata": {
    "papermill": {
     "duration": 0.125096,
     "end_time": "2018-09-01T17:02:31.510325",
     "exception": false,
     "start_time": "2018-09-01T17:02:31.385229",
     "status": "completed"
    },
    "scrolled": true,
    "tags": []
   },
   "outputs": [
    {
     "data": {
      "image/png": "[encoded data removed]",
      "text/plain": [
       "<Figure size 432x288 with 1 Axes>"
      ]
     },
     "metadata": {},
     "output_type": "display_data"
    }
   ],
   "source": [
    "plot_roc_curve(labels, results, experts=[{ **expert_1, \"name\":\"expert 1\" }, { **expert_1, \"name\":\"expert 2\" }])"
   ]
  },
  {
   "cell_type": "markdown",
   "metadata": {
    "papermill": {
     "duration": 9e-06,
     "end_time": "2018-09-01T17:02:31.510943",
     "exception": false,
     "start_time": "2018-09-01T17:02:31.510934",
     "status": "completed"
    },
    "tags": []
   },
   "source": [
    "## Grad Cam"
   ]
  },
  {
   "cell_type": "markdown",
   "metadata": {
    "papermill": {
     "duration": 8e-06,
     "end_time": "2018-09-01T17:02:31.528839",
     "exception": false,
     "start_time": "2018-09-01T17:02:31.528831",
     "status": "completed"
    },
    "tags": []
   },
   "source": [
    "### benign example"
   ]
  },
  {
   "cell_type": "code",
   "execution_count": 30,
   "metadata": {
    "papermill": {
     "duration": 19.946517,
     "end_time": "2018-09-01T17:02:51.492721",
     "exception": false,
     "start_time": "2018-09-01T17:02:31.546204",
     "status": "completed"
    },
    "tags": []
   },
   "outputs": [
    {
     "name": "stderr",
     "output_type": "stream",
     "text": [
      "/home/harrison/.local/share/virtualenvs/deep-ultrasound-k5cplrX3/lib/python3.6/site-packages/skimage/transform/_warps.py:105: UserWarning: The default mode, 'constant', will be changed to 'reflect' in skimage 0.15.\n",
      "  warn(\"The default mode, 'constant', will be changed to 'reflect' in \"\n",
      "/home/harrison/.local/share/virtualenvs/deep-ultrasound-k5cplrX3/lib/python3.6/site-packages/skimage/transform/_warps.py:110: UserWarning: Anti-aliasing will be enabled by default in skimage 0.15 to avoid aliasing artifacts when down-sampling images.\n",
      "  warn(\"Anti-aliasing will be enabled by default in skimage 0.15 to \"\n"
     ]
    },
    {
     "data": {
      "image/png": "[encoded data removed]",
      "text/plain": [
       "<Figure size 432x288 with 2 Axes>"
      ]
     },
     "metadata": {},
     "output_type": "display_data"
    }
   ],
   "source": [
    "plot_grad_cam(\n",
    "    os.path.join(validation.directory, validation.filenames[0]), \n",
    "    model, \n",
    "    \"dense_6\", \n",
    ")"
   ]
  },
  {
   "cell_type": "markdown",
   "metadata": {
    "papermill": {
     "duration": 1.3e-05,
     "end_time": "2018-09-01T17:02:51.493501",
     "exception": false,
     "start_time": "2018-09-01T17:02:51.493488",
     "status": "completed"
    },
    "tags": []
   },
   "source": [
    "### malignant example"
   ]
  },
  {
   "cell_type": "code",
   "execution_count": 31,
   "metadata": {
    "papermill": {
     "duration": 1.091544,
     "end_time": "2018-09-01T17:02:52.603179",
     "exception": false,
     "start_time": "2018-09-01T17:02:51.511635",
     "status": "completed"
    },
    "tags": []
   },
   "outputs": [
    {
     "name": "stderr",
     "output_type": "stream",
     "text": [
      "/home/harrison/.local/share/virtualenvs/deep-ultrasound-k5cplrX3/lib/python3.6/site-packages/skimage/transform/_warps.py:105: UserWarning: The default mode, 'constant', will be changed to 'reflect' in skimage 0.15.\n",
      "  warn(\"The default mode, 'constant', will be changed to 'reflect' in \"\n",
      "/home/harrison/.local/share/virtualenvs/deep-ultrasound-k5cplrX3/lib/python3.6/site-packages/skimage/transform/_warps.py:110: UserWarning: Anti-aliasing will be enabled by default in skimage 0.15 to avoid aliasing artifacts when down-sampling images.\n",
      "  warn(\"Anti-aliasing will be enabled by default in skimage 0.15 to \"\n"
     ]
    },
    {
     "data": {
      "image/png": "[encoded data removed]",
      "text/plain": [
       "<Figure size 432x288 with 2 Axes>"
      ]
     },
     "metadata": {},
     "output_type": "display_data"
    }
   ],
   "source": [
    "plot_grad_cam(\n",
    "    os.path.join(validation.directory, validation.filenames[len(validation.filenames) - 1]), \n",
    "    model, \n",
    "    \"dense_6\", \n",
    ")"
   ]
  },
  {
   "cell_type": "code",
   "execution_count": 1,
   "metadata": {
    "papermill": {
     "duration": 0.021558,
     "end_time": "2018-09-01T17:02:52.625292",
     "exception": false,
     "start_time": "2018-09-01T17:02:52.603734",
     "status": "completed"
    },
    "tags": []
   },
   "outputs": [
    {
     "data": {
      "text/html": [
       "<script>\n",
       "code_show=true; \n",
       "function code_toggle() {\n",
       " if (code_show){\n",
       " $('div.input').hide();\n",
       " } else {\n",
       " $('div.input').show();\n",
       " }\n",
       " code_show = !code_show\n",
       "} \n",
       "$( document ).ready(code_toggle);\n",
       "</script>\n",
       "The raw code for this IPython notebook is by default hidden for easier reading.\n",
       "To toggle on/off the raw code, click <a href=\"javascript:code_toggle()\">here</a>."
      ],
      "text/plain": [
       "<IPython.core.display.HTML object>"
      ]
     },
     "execution_count": 1,
     "metadata": {},
     "output_type": "execute_result"
    }
   ],
   "source": [
    "from IPython.display import HTML\n",
    "HTML('''<script>\n",
    "code_show=true; \n",
    "function code_toggle() {\n",
    " if (code_show){\n",
    " $('div.input').hide();\n",
    " } else {\n",
    " $('div.input').show();\n",
    " }\n",
    " code_show = !code_show\n",
    "} \n",
    "$( document ).ready(code_toggle);\n",
    "</script>\n",
    "The raw code for this IPython notebook is by default hidden for easier reading.\n",
    "To toggle on/off the raw code, click <a href=\"javascript:code_toggle()\">here</a>.''')"
   ]
  },
  {
   "cell_type": "code",
   "execution_count": null,
   "metadata": {
    "papermill": {
     "duration": 2e-06,
     "end_time": "2018-09-01T17:02:52.625374",
     "exception": null,
     "start_time": "2018-09-01T17:02:52.625372",
     "status": "completed"
    },
    "tags": []
   },
   "outputs": [],
   "source": []
  }
 ],
 "metadata": {
  "kernelspec": {
   "display_name": "Python 3",
   "language": "python",
   "name": "python3"
  },
  "language_info": {
   "codemirror_mode": {
    "name": "ipython",
    "version": 3
   },
   "file_extension": ".py",
   "mimetype": "text/x-python",
   "name": "python",
   "nbconvert_exporter": "python",
   "pygments_lexer": "ipython3",
   "version": "3.6.5"
  },
  "papermill": {
   "duration": 42.357662,
   "end_time": "2018-09-01T17:02:54.135346",
   "environment_variables": {},
   "exception": false,
   "output_path": "evaluate-free-complete.ipynb",
   "parameters": {
    "DIRECTORY": "complete-set-free/data",
    "MODEL_TYPE": "v1",
    "MODEL_UUID": "3f408cc9-5eef-414e-8cd7-041fabd9297a"
   },
   "start_time": "2018-09-01T17:02:11.777684",
   "version": "0.15.0"
  }
 },
 "nbformat": 4,
 "nbformat_minor": 2
}
