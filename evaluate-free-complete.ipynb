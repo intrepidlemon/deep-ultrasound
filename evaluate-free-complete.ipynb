{
 "cells": [
  {
   "cell_type": "code",
   "execution_count": 1,
   "metadata": {
    "papermill": {
     "duration": 0.159553,
     "end_time": "2018-09-06T02:34:47.993327",
     "exception": false,
     "start_time": "2018-09-06T02:34:47.833774",
     "status": "completed"
    },
    "tags": []
   },
   "outputs": [],
   "source": [
    "%load_ext autoreload\n",
    "%autoreload 2\n",
    "%matplotlib inline  \n",
    "from IPython.display import HTML"
   ]
  },
  {
   "cell_type": "code",
   "execution_count": 2,
   "metadata": {
    "papermill": {
     "duration": 0.219652,
     "end_time": "2018-09-06T02:34:48.214106",
     "exception": false,
     "start_time": "2018-09-06T02:34:47.994454",
     "status": "completed"
    },
    "tags": []
   },
   "outputs": [],
   "source": [
    "from sklearn.metrics import f1_score, roc_auc_score, average_precision_score, precision_score, recall_score\n",
    "import pandas\n",
    "import numpy as np\n",
    "import json\n",
    "import matplotlib.pyplot as plt\n",
    "import os\n",
    "\n",
    "pandas.options.display.float_format = '{:,.3f}'.format"
   ]
  },
  {
   "cell_type": "code",
   "execution_count": 3,
   "metadata": {
    "papermill": {
     "duration": 0.675012,
     "end_time": "2018-09-06T02:34:48.889802",
     "exception": false,
     "start_time": "2018-09-06T02:34:48.214790",
     "status": "completed"
    },
    "tags": []
   },
   "outputs": [
    {
     "name": "stderr",
     "output_type": "stream",
     "text": [
      "Using TensorFlow backend.\n"
     ]
    }
   ],
   "source": [
    "from evaluate import load, get_results, get_labels, transform_binary_probabilities, transform_binary_predictions, calculate_accuracy_loss, plot_confusion_matrix, plot_precision_recall, plot_roc_curve, calculate_pr_auc, calculate_confusion_matrix_stats, calculate_confusion_matrix, plot_tsne, accession_from_filename, plot_expert_confusion, plot_multiple_grad_cam, get_expert_results"
   ]
  },
  {
   "cell_type": "code",
   "execution_count": 4,
   "metadata": {
    "papermill": {
     "duration": 0.192992,
     "end_time": "2018-09-06T02:34:49.083638",
     "exception": false,
     "start_time": "2018-09-06T02:34:48.890646",
     "status": "completed"
    },
    "tags": []
   },
   "outputs": [],
   "source": [
    "from data import describe, all_features, data, print_describe, load_single\n",
    "from run import characterize_data\n",
    "from config import config"
   ]
  },
  {
   "cell_type": "markdown",
   "metadata": {
    "papermill": {
     "duration": 9e-06,
     "end_time": "2018-09-06T02:34:49.084217",
     "exception": false,
     "start_time": "2018-09-06T02:34:49.084208",
     "status": "completed"
    },
    "tags": []
   },
   "source": [
    "# Parameters"
   ]
  },
  {
   "cell_type": "code",
   "execution_count": 5,
   "metadata": {
    "papermill": {
     "duration": 0.02785,
     "end_time": "2018-09-06T02:34:49.125123",
     "exception": false,
     "start_time": "2018-09-06T02:34:49.097273",
     "status": "completed"
    },
    "tags": [
     "parameters"
    ]
   },
   "outputs": [],
   "source": [
    "DIRECTORY = \"c3-c4-free/data\"\n",
    "MODEL_UUID = \"1b356a9e-126c-4f91-8f41-8d6baa4f79de\"\n",
    "MODEL_TYPE = \"v2\"\n",
    "SELECTIONS = \"None\""
   ]
  },
  {
   "cell_type": "code",
   "execution_count": 6,
   "metadata": {
    "papermill": {
     "duration": 0.015508,
     "end_time": "2018-09-06T02:34:49.140672",
     "exception": false,
     "start_time": "2018-09-06T02:34:49.125164",
     "status": "completed"
    },
    "tags": [
     "injected-parameters"
    ]
   },
   "outputs": [],
   "source": [
    "# Parameters\n",
    "DIRECTORY = \"complete-set-free/data\"\n",
    "MODEL_UUID = \"3f408cc9-5eef-414e-8cd7-041fabd9297a\"\n",
    "MODEL_TYPE = \"v1\"\n",
    "SELECTIONS = \"{(0, 0): [], (1, 1): [], (0, 1): [], (1, 0): []}\"\n"
   ]
  },
  {
   "cell_type": "code",
   "execution_count": 7,
   "metadata": {
    "papermill": {
     "duration": 0.01572,
     "end_time": "2018-09-06T02:34:49.156432",
     "exception": false,
     "start_time": "2018-09-06T02:34:49.140712",
     "status": "completed"
    },
    "tags": []
   },
   "outputs": [],
   "source": [
    "SELECTIONS = eval(SELECTIONS)\n",
    "FEATURES = \"{}/features.csv\".format(DIRECTORY)\n",
    "RAW = \"{}/raw\".format(DIRECTORY)\n",
    "TRAIN = \"{}/train\".format(DIRECTORY)\n",
    "VALIDATION = \"{}/validation\".format(DIRECTORY)\n",
    "MODEL = \"{}/models/{}-{}.h5\".format(config.OUTPUT, MODEL_UUID, MODEL_TYPE)"
   ]
  },
  {
   "cell_type": "markdown",
   "metadata": {
    "papermill": {
     "duration": 6e-06,
     "end_time": "2018-09-06T02:34:49.156479",
     "exception": false,
     "start_time": "2018-09-06T02:34:49.156473",
     "status": "completed"
    },
    "tags": []
   },
   "source": [
    "## Lesion descriptions"
   ]
  },
  {
   "cell_type": "code",
   "execution_count": 8,
   "metadata": {
    "papermill": {
     "duration": 0.030608,
     "end_time": "2018-09-06T02:34:49.199012",
     "exception": false,
     "start_time": "2018-09-06T02:34:49.168404",
     "status": "completed"
    },
    "scrolled": false,
    "tags": []
   },
   "outputs": [
    {
     "name": "stdout",
     "output_type": "stream",
     "text": [
      "category: C2\n",
      "\tcount: 157\n",
      "\tnumber lesions: 158\n",
      "\tcolumn: feat\n",
      "\t\t {'benign': 157}\n",
      "\tcolumn: imag\n",
      "\t\t {'biopsy': 1, 'mri': 156}\n",
      "category: C3\n",
      "\tcount: 131\n",
      "\tnumber lesions: 198\n",
      "\tcolumn: feat\n",
      "\t\t {'benign': 113, 'malignant': 18}\n",
      "\tcolumn: imag\n",
      "\t\t {'biopsy': 6, 'mri': 125}\n",
      "category: C4\n",
      "\tcount: 44\n",
      "\tnumber lesions: 59\n",
      "\tcolumn: feat\n",
      "\t\t {'benign': 10, 'malignant': 34}\n",
      "\tcolumn: imag\n",
      "\t\t {'biopsy': 16, 'mri': 28}\n",
      "category: C5\n",
      "\tcount: 78\n",
      "\tnumber lesions: 106\n",
      "\tcolumn: feat\n",
      "\t\t {'benign': 2, 'malignant': 76}\n",
      "\tcolumn: imag\n",
      "\t\t {'biopsy': 33, 'mri': 45}\n"
     ]
    }
   ],
   "source": [
    "print_describe(raw=RAW, features=FEATURES)"
   ]
  },
  {
   "cell_type": "code",
   "execution_count": 9,
   "metadata": {
    "papermill": {
     "duration": 0.46424,
     "end_time": "2018-09-06T02:34:49.663820",
     "exception": false,
     "start_time": "2018-09-06T02:34:49.199580",
     "status": "completed"
    },
    "scrolled": true,
    "tags": []
   },
   "outputs": [
    {
     "name": "stdout",
     "output_type": "stream",
     "text": [
      "Found 419 images belonging to 2 classes.\n",
      "Found 419 images belonging to 2 classes.\n"
     ]
    },
    {
     "name": "stdout",
     "output_type": "stream",
     "text": [
      "Found 102 images belonging to 2 classes.\n",
      "Found 0 images belonging to 2 classes.\n"
     ]
    }
   ],
   "source": [
    "train, validation, _ = data(shuffle_train=False, validation_dir=VALIDATION, train_dir=TRAIN)"
   ]
  },
  {
   "cell_type": "code",
   "execution_count": 10,
   "metadata": {
    "papermill": {
     "duration": 0.023108,
     "end_time": "2018-09-06T02:34:49.687137",
     "exception": false,
     "start_time": "2018-09-06T02:34:49.664029",
     "status": "completed"
    },
    "tags": []
   },
   "outputs": [
    {
     "name": "stdout",
     "output_type": "stream",
     "text": [
      "training data breakdown:  {'benign': 277, 'malignant': 142}\n",
      "validation data breakdown:  {'benign': 74, 'malignant': 28}\n"
     ]
    }
   ],
   "source": [
    "print(\"training data breakdown: \", characterize_data(train))\n",
    "print(\"validation data breakdown: \", characterize_data(validation))"
   ]
  },
  {
   "cell_type": "code",
   "execution_count": 11,
   "metadata": {
    "papermill": {
     "duration": 9.869244,
     "end_time": "2018-09-06T02:34:59.556875",
     "exception": false,
     "start_time": "2018-09-06T02:34:49.687631",
     "status": "completed"
    },
    "tags": []
   },
   "outputs": [],
   "source": [
    "model = load(MODEL)"
   ]
  },
  {
   "cell_type": "code",
   "execution_count": 12,
   "metadata": {
    "papermill": {
     "duration": 1.436022,
     "end_time": "2018-09-06T02:35:00.992953",
     "exception": false,
     "start_time": "2018-09-06T02:34:59.556931",
     "status": "completed"
    },
    "tags": []
   },
   "outputs": [],
   "source": [
    "results = get_results(model, validation)"
   ]
  },
  {
   "cell_type": "code",
   "execution_count": 13,
   "metadata": {
    "papermill": {
     "duration": 0.025072,
     "end_time": "2018-09-06T02:35:01.018582",
     "exception": false,
     "start_time": "2018-09-06T02:35:00.993510",
     "status": "completed"
    },
    "tags": []
   },
   "outputs": [],
   "source": [
    "probabilities = transform_binary_probabilities(results)\n",
    "predictions = transform_binary_predictions(results)\n",
    "labels = get_labels(validation)"
   ]
  },
  {
   "cell_type": "markdown",
   "metadata": {
    "papermill": {
     "duration": 1e-05,
     "end_time": "2018-09-06T02:35:01.018656",
     "exception": false,
     "start_time": "2018-09-06T02:35:01.018646",
     "status": "completed"
    },
    "tags": []
   },
   "source": [
    "## Accuracy and loss"
   ]
  },
  {
   "cell_type": "code",
   "execution_count": 14,
   "metadata": {
    "papermill": {
     "duration": 0.832272,
     "end_time": "2018-09-06T02:35:01.870623",
     "exception": false,
     "start_time": "2018-09-06T02:35:01.038351",
     "status": "completed"
    },
    "scrolled": true,
    "tags": []
   },
   "outputs": [
    {
     "name": "stdout",
     "output_type": "stream",
     "text": [
      "Accuracy: 0.8333333321646148\n",
      "Loss: 0.4892788342401093\n"
     ]
    }
   ],
   "source": [
    "loss, accuracy = calculate_accuracy_loss(model, validation)\n",
    "print(\"Accuracy:\", accuracy)\n",
    "print(\"Loss:\", loss)"
   ]
  },
  {
   "cell_type": "markdown",
   "metadata": {
    "papermill": {
     "duration": 4.3e-05,
     "end_time": "2018-09-06T02:35:01.872522",
     "exception": false,
     "start_time": "2018-09-06T02:35:01.872479",
     "status": "completed"
    },
    "tags": []
   },
   "source": [
    "## Confusion matrix"
   ]
  },
  {
   "cell_type": "code",
   "execution_count": 15,
   "metadata": {
    "papermill": {
     "duration": 0.121496,
     "end_time": "2018-09-06T02:35:02.012427",
     "exception": false,
     "start_time": "2018-09-06T02:35:01.890931",
     "status": "completed"
    },
    "scrolled": true,
    "tags": []
   },
   "outputs": [
    {
     "data": {
      "image/png": "[encoded data removed]",
      "text/plain": [
       "<Figure size 432x288 with 2 Axes>"
      ]
     },
     "metadata": {},
     "output_type": "display_data"
    }
   ],
   "source": [
    "plot_confusion_matrix(validation, results)"
   ]
  },
  {
   "cell_type": "code",
   "execution_count": 16,
   "metadata": {
    "papermill": {
     "duration": 0.027622,
     "end_time": "2018-09-06T02:35:02.040524",
     "exception": false,
     "start_time": "2018-09-06T02:35:02.012902",
     "status": "completed"
    },
    "scrolled": true,
    "tags": []
   },
   "outputs": [
    {
     "data": {
      "text/html": [
       "<div>\n",
       "<style scoped>\n",
       "    .dataframe tbody tr th:only-of-type {\n",
       "        vertical-align: middle;\n",
       "    }\n",
       "\n",
       "    .dataframe tbody tr th {\n",
       "        vertical-align: top;\n",
       "    }\n",
       "\n",
       "    .dataframe thead th {\n",
       "        text-align: right;\n",
       "    }\n",
       "</style>\n",
       "<table border=\"1\" class=\"dataframe\">\n",
       "  <thead>\n",
       "    <tr style=\"text-align: right;\">\n",
       "      <th></th>\n",
       "      <th>Acc</th>\n",
       "      <th>TP</th>\n",
       "      <th>TN</th>\n",
       "      <th>FP</th>\n",
       "      <th>FN</th>\n",
       "      <th>TPR</th>\n",
       "      <th>TNR</th>\n",
       "      <th>PPV</th>\n",
       "      <th>NPV</th>\n",
       "      <th>FPR</th>\n",
       "      <th>FNR</th>\n",
       "      <th>FDR</th>\n",
       "      <th>AM</th>\n",
       "      <th>GM</th>\n",
       "    </tr>\n",
       "  </thead>\n",
       "  <tbody>\n",
       "    <tr>\n",
       "      <th>benign</th>\n",
       "      <td>0.833</td>\n",
       "      <td>62</td>\n",
       "      <td>23</td>\n",
       "      <td>5</td>\n",
       "      <td>12</td>\n",
       "      <td>0.838</td>\n",
       "      <td>0.821</td>\n",
       "      <td>0.925</td>\n",
       "      <td>0.657</td>\n",
       "      <td>0.179</td>\n",
       "      <td>0.162</td>\n",
       "      <td>0.075</td>\n",
       "      <td>0.830</td>\n",
       "      <td>0.830</td>\n",
       "    </tr>\n",
       "    <tr>\n",
       "      <th>malignant</th>\n",
       "      <td>0.833</td>\n",
       "      <td>23</td>\n",
       "      <td>62</td>\n",
       "      <td>12</td>\n",
       "      <td>5</td>\n",
       "      <td>0.821</td>\n",
       "      <td>0.838</td>\n",
       "      <td>0.657</td>\n",
       "      <td>0.925</td>\n",
       "      <td>0.162</td>\n",
       "      <td>0.179</td>\n",
       "      <td>0.343</td>\n",
       "      <td>0.830</td>\n",
       "      <td>0.830</td>\n",
       "    </tr>\n",
       "  </tbody>\n",
       "</table>\n",
       "</div>"
      ],
      "text/plain": [
       "            Acc  TP  TN  FP  FN   TPR   TNR   PPV   NPV   FPR   FNR   FDR  \\\n",
       "benign    0.833  62  23   5  12 0.838 0.821 0.925 0.657 0.179 0.162 0.075   \n",
       "malignant 0.833  23  62  12   5 0.821 0.838 0.657 0.925 0.162 0.179 0.343   \n",
       "\n",
       "             AM    GM  \n",
       "benign    0.830 0.830  \n",
       "malignant 0.830 0.830  "
      ]
     },
     "execution_count": 16,
     "metadata": {},
     "output_type": "execute_result"
    }
   ],
   "source": [
    "stats = calculate_confusion_matrix_stats(labels, results)\n",
    "pandas.DataFrame(stats, index=validation.class_indices)"
   ]
  },
  {
   "cell_type": "markdown",
   "metadata": {
    "papermill": {
     "duration": 9e-06,
     "end_time": "2018-09-06T02:35:02.040595",
     "exception": false,
     "start_time": "2018-09-06T02:35:02.040586",
     "status": "completed"
    },
    "tags": []
   },
   "source": [
    "## ROC Curve standalone"
   ]
  },
  {
   "cell_type": "code",
   "execution_count": 17,
   "metadata": {
    "papermill": {
     "duration": 0.083223,
     "end_time": "2018-09-06T02:35:02.137497",
     "exception": false,
     "start_time": "2018-09-06T02:35:02.054274",
     "status": "completed"
    },
    "tags": []
   },
   "outputs": [
    {
     "name": "stderr",
     "output_type": "stream",
     "text": [
      "No handles with labels found to put in legend.\n"
     ]
    },
    {
     "data": {
      "image/png": "[encoded data removed]",
      "text/plain": [
       "<Figure size 432x288 with 1 Axes>"
      ]
     },
     "metadata": {},
     "output_type": "display_data"
    }
   ],
   "source": [
    "plot_roc_curve(labels, results)"
   ]
  },
  {
   "cell_type": "code",
   "execution_count": 18,
   "metadata": {
    "papermill": {
     "duration": 0.016998,
     "end_time": "2018-09-06T02:35:02.154917",
     "exception": false,
     "start_time": "2018-09-06T02:35:02.137919",
     "status": "completed"
    },
    "tags": []
   },
   "outputs": [
    {
     "name": "stdout",
     "output_type": "stream",
     "text": [
      "ROC AUC: 0.8383204633204634\n"
     ]
    }
   ],
   "source": [
    "print(\"ROC AUC:\", roc_auc_score(labels, probabilities))"
   ]
  },
  {
   "cell_type": "markdown",
   "metadata": {
    "papermill": {
     "duration": 6e-06,
     "end_time": "2018-09-06T02:35:02.154965",
     "exception": false,
     "start_time": "2018-09-06T02:35:02.154959",
     "status": "completed"
    },
    "tags": []
   },
   "source": [
    "## Precision Recall"
   ]
  },
  {
   "cell_type": "code",
   "execution_count": 19,
   "metadata": {
    "papermill": {
     "duration": 0.027809,
     "end_time": "2018-09-06T02:35:02.196944",
     "exception": false,
     "start_time": "2018-09-06T02:35:02.169135",
     "status": "completed"
    },
    "tags": []
   },
   "outputs": [
    {
     "name": "stdout",
     "output_type": "stream",
     "text": [
      "Average precision: 0.5598201070390206\n",
      "Precision: 0.6571428571428571 Recall: 0.8214285714285714\n"
     ]
    }
   ],
   "source": [
    "print(\"Average precision:\", average_precision_score(labels, probabilities))\n",
    "print(\"Precision:\", precision_score(labels, predictions), \"Recall:\", recall_score(labels, predictions))"
   ]
  },
  {
   "cell_type": "code",
   "execution_count": 20,
   "metadata": {
    "papermill": {
     "duration": 0.101533,
     "end_time": "2018-09-06T02:35:02.298518",
     "exception": false,
     "start_time": "2018-09-06T02:35:02.196985",
     "status": "completed"
    },
    "scrolled": true,
    "tags": []
   },
   "outputs": [
    {
     "data": {
      "image/png": "[encoded data removed]",
      "text/plain": [
       "<Figure size 432x288 with 1 Axes>"
      ]
     },
     "metadata": {},
     "output_type": "display_data"
    }
   ],
   "source": [
    "plot_precision_recall(labels, results)"
   ]
  },
  {
   "cell_type": "code",
   "execution_count": 21,
   "metadata": {
    "papermill": {
     "duration": 0.031199,
     "end_time": "2018-09-06T02:35:02.330279",
     "exception": false,
     "start_time": "2018-09-06T02:35:02.299080",
     "status": "completed"
    },
    "tags": []
   },
   "outputs": [
    {
     "name": "stdout",
     "output_type": "stream",
     "text": [
      "PR AUC: 0.5396324497392765\n"
     ]
    }
   ],
   "source": [
    "print(\"PR AUC:\", calculate_pr_auc(labels, results))"
   ]
  },
  {
   "cell_type": "markdown",
   "metadata": {
    "papermill": {
     "duration": 6e-06,
     "end_time": "2018-09-06T02:35:02.330330",
     "exception": false,
     "start_time": "2018-09-06T02:35:02.330324",
     "status": "completed"
    },
    "tags": []
   },
   "source": [
    "## F1 Score"
   ]
  },
  {
   "cell_type": "code",
   "execution_count": 22,
   "metadata": {
    "papermill": {
     "duration": 0.021951,
     "end_time": "2018-09-06T02:35:02.367409",
     "exception": false,
     "start_time": "2018-09-06T02:35:02.345458",
     "status": "completed"
    },
    "tags": []
   },
   "outputs": [
    {
     "name": "stdout",
     "output_type": "stream",
     "text": [
      "F1 score: 0.73015873015873\n"
     ]
    }
   ],
   "source": [
    "print(\"F1 score:\", f1_score(labels, predictions))"
   ]
  },
  {
   "cell_type": "markdown",
   "metadata": {
    "papermill": {
     "duration": 6e-06,
     "end_time": "2018-09-06T02:35:02.367454",
     "exception": false,
     "start_time": "2018-09-06T02:35:02.367448",
     "status": "completed"
    },
    "tags": []
   },
   "source": [
    "## TSNE"
   ]
  },
  {
   "cell_type": "code",
   "execution_count": 23,
   "metadata": {
    "papermill": {
     "duration": 0.017409,
     "end_time": "2018-09-06T02:35:02.399691",
     "exception": false,
     "start_time": "2018-09-06T02:35:02.382282",
     "status": "completed"
    },
    "tags": []
   },
   "outputs": [],
   "source": [
    "malignancy, modality, category = all_features(features=FEATURES)"
   ]
  },
  {
   "cell_type": "code",
   "execution_count": 24,
   "metadata": {
    "papermill": {
     "duration": 0.016685,
     "end_time": "2018-09-06T02:35:02.416901",
     "exception": false,
     "start_time": "2018-09-06T02:35:02.400216",
     "status": "completed"
    },
    "scrolled": true,
    "tags": []
   },
   "outputs": [],
   "source": [
    "tsne_dataset = train"
   ]
  },
  {
   "cell_type": "code",
   "execution_count": 25,
   "metadata": {
    "papermill": {
     "duration": 0.016187,
     "end_time": "2018-09-06T02:35:02.433129",
     "exception": false,
     "start_time": "2018-09-06T02:35:02.416942",
     "status": "completed"
    },
    "tags": []
   },
   "outputs": [],
   "source": [
    "tsne_labels = [category.get(accession_from_filename(f), \"unknown\") for f in tsne_dataset.filenames]"
   ]
  },
  {
   "cell_type": "code",
   "execution_count": 26,
   "metadata": {
    "papermill": {
     "duration": 4.18008,
     "end_time": "2018-09-06T02:35:06.613250",
     "exception": false,
     "start_time": "2018-09-06T02:35:02.433170",
     "status": "completed"
    },
    "scrolled": true,
    "tags": []
   },
   "outputs": [
    {
     "data": {
      "image/png": "[encoded data removed]",
      "text/plain": [
       "<Figure size 432x288 with 1 Axes>"
      ]
     },
     "metadata": {},
     "output_type": "display_data"
    }
   ],
   "source": [
    "plot_tsne(model, \"dense_5\", tsne_dataset, tsne_labels, perplexity=5)"
   ]
  },
  {
   "cell_type": "markdown",
   "metadata": {
    "papermill": {
     "duration": 9e-06,
     "end_time": "2018-09-06T02:35:06.613678",
     "exception": false,
     "start_time": "2018-09-06T02:35:06.613669",
     "status": "completed"
    },
    "tags": []
   },
   "source": [
    "## Experts"
   ]
  },
  {
   "cell_type": "code",
   "execution_count": 27,
   "metadata": {
    "papermill": {
     "duration": 0.105128,
     "end_time": "2018-09-06T02:35:06.735502",
     "exception": false,
     "start_time": "2018-09-06T02:35:06.630374",
     "status": "completed"
    },
    "tags": []
   },
   "outputs": [
    {
     "name": "stdout",
     "output_type": "stream",
     "text": [
      "error with benign/free-27244981-liver.jpeg: '27244981-liver.jpeg'\n"
     ]
    },
    {
     "data": {
      "image/png": "[encoded data removed]",
      "text/plain": [
       "<Figure size 432x288 with 2 Axes>"
      ]
     },
     "metadata": {},
     "output_type": "display_data"
    }
   ],
   "source": [
    "expert_1 = plot_expert_confusion(\"evaluations/radiology-9809.json\", validation)"
   ]
  },
  {
   "cell_type": "code",
   "execution_count": 28,
   "metadata": {
    "papermill": {
     "duration": 0.026805,
     "end_time": "2018-09-06T02:35:06.762996",
     "exception": false,
     "start_time": "2018-09-06T02:35:06.736191",
     "status": "completed"
    },
    "scrolled": true,
    "tags": []
   },
   "outputs": [
    {
     "data": {
      "text/html": [
       "<div>\n",
       "<style scoped>\n",
       "    .dataframe tbody tr th:only-of-type {\n",
       "        vertical-align: middle;\n",
       "    }\n",
       "\n",
       "    .dataframe tbody tr th {\n",
       "        vertical-align: top;\n",
       "    }\n",
       "\n",
       "    .dataframe thead th {\n",
       "        text-align: right;\n",
       "    }\n",
       "</style>\n",
       "<table border=\"1\" class=\"dataframe\">\n",
       "  <thead>\n",
       "    <tr style=\"text-align: right;\">\n",
       "      <th></th>\n",
       "      <th>Acc</th>\n",
       "      <th>TP</th>\n",
       "      <th>TN</th>\n",
       "      <th>FP</th>\n",
       "      <th>FN</th>\n",
       "      <th>TPR</th>\n",
       "      <th>TNR</th>\n",
       "      <th>PPV</th>\n",
       "      <th>NPV</th>\n",
       "      <th>FPR</th>\n",
       "      <th>FNR</th>\n",
       "      <th>FDR</th>\n",
       "      <th>AM</th>\n",
       "      <th>GM</th>\n",
       "    </tr>\n",
       "  </thead>\n",
       "  <tbody>\n",
       "    <tr>\n",
       "      <th>benign</th>\n",
       "      <td>0.775</td>\n",
       "      <td>59</td>\n",
       "      <td>20</td>\n",
       "      <td>8</td>\n",
       "      <td>15</td>\n",
       "      <td>0.797</td>\n",
       "      <td>0.714</td>\n",
       "      <td>0.881</td>\n",
       "      <td>0.571</td>\n",
       "      <td>0.286</td>\n",
       "      <td>0.203</td>\n",
       "      <td>0.119</td>\n",
       "      <td>0.756</td>\n",
       "      <td>0.755</td>\n",
       "    </tr>\n",
       "    <tr>\n",
       "      <th>malignant</th>\n",
       "      <td>0.775</td>\n",
       "      <td>20</td>\n",
       "      <td>59</td>\n",
       "      <td>15</td>\n",
       "      <td>8</td>\n",
       "      <td>0.714</td>\n",
       "      <td>0.797</td>\n",
       "      <td>0.571</td>\n",
       "      <td>0.881</td>\n",
       "      <td>0.203</td>\n",
       "      <td>0.286</td>\n",
       "      <td>0.429</td>\n",
       "      <td>0.756</td>\n",
       "      <td>0.755</td>\n",
       "    </tr>\n",
       "  </tbody>\n",
       "</table>\n",
       "</div>"
      ],
      "text/plain": [
       "            Acc  TP  TN  FP  FN   TPR   TNR   PPV   NPV   FPR   FNR   FDR  \\\n",
       "benign    0.775  59  20   8  15 0.797 0.714 0.881 0.571 0.286 0.203 0.119   \n",
       "malignant 0.775  20  59  15   8 0.714 0.797 0.571 0.881 0.203 0.286 0.429   \n",
       "\n",
       "             AM    GM  \n",
       "benign    0.756 0.755  \n",
       "malignant 0.756 0.755  "
      ]
     },
     "execution_count": 28,
     "metadata": {},
     "output_type": "execute_result"
    }
   ],
   "source": [
    "pandas.DataFrame(expert_1, index=validation.class_indices)"
   ]
  },
  {
   "cell_type": "markdown",
   "metadata": {
    "papermill": {
     "duration": 8e-06,
     "end_time": "2018-09-06T02:35:06.763064",
     "exception": false,
     "start_time": "2018-09-06T02:35:06.763056",
     "status": "completed"
    },
    "tags": []
   },
   "source": [
    "## ROC with experts"
   ]
  },
  {
   "cell_type": "code",
   "execution_count": 29,
   "metadata": {
    "papermill": {
     "duration": 0.122311,
     "end_time": "2018-09-06T02:35:06.901867",
     "exception": false,
     "start_time": "2018-09-06T02:35:06.779556",
     "status": "completed"
    },
    "scrolled": false,
    "tags": []
   },
   "outputs": [
    {
     "data": {
      "image/png": "[encoded data removed]",
      "text/plain": [
       "<Figure size 432x288 with 1 Axes>"
      ]
     },
     "metadata": {},
     "output_type": "display_data"
    }
   ],
   "source": [
    "plot_roc_curve(labels, results, experts=[{ **expert_1, \"name\":\"expert 1\" }, { **expert_1, \"name\":\"expert 2\" }])"
   ]
  },
  {
   "cell_type": "markdown",
   "metadata": {
    "papermill": {
     "duration": 7e-06,
     "end_time": "2018-09-06T02:35:06.902320",
     "exception": false,
     "start_time": "2018-09-06T02:35:06.902313",
     "status": "completed"
    },
    "tags": []
   },
   "source": [
    "## Grad Cam"
   ]
  },
  {
   "cell_type": "code",
   "execution_count": 30,
   "metadata": {
    "papermill": {
     "duration": 0.042451,
     "end_time": "2018-09-06T02:35:06.962673",
     "exception": false,
     "start_time": "2018-09-06T02:35:06.920222",
     "status": "completed"
    },
    "scrolled": false,
    "tags": []
   },
   "outputs": [
    {
     "data": {
      "text/html": [
       "<h5>diagnosis: benign | prediction: benign</h5>"
      ],
      "text/plain": [
       "<IPython.core.display.HTML object>"
      ]
     },
     "metadata": {},
     "output_type": "display_data"
    },
    {
     "data": {
      "text/plain": [
       "<Figure size 432x288 with 0 Axes>"
      ]
     },
     "metadata": {},
     "output_type": "display_data"
    },
    {
     "name": "stdout",
     "output_type": "stream",
     "text": [
      "[]\n"
     ]
    },
    {
     "data": {
      "text/html": [
       "<h5>diagnosis: malignant | prediction: malignant</h5>"
      ],
      "text/plain": [
       "<IPython.core.display.HTML object>"
      ]
     },
     "metadata": {},
     "output_type": "display_data"
    },
    {
     "data": {
      "text/plain": [
       "<Figure size 432x288 with 0 Axes>"
      ]
     },
     "metadata": {},
     "output_type": "display_data"
    },
    {
     "name": "stdout",
     "output_type": "stream",
     "text": [
      "[]\n"
     ]
    },
    {
     "data": {
      "text/html": [
       "<h5>diagnosis: benign | prediction: malignant</h5>"
      ],
      "text/plain": [
       "<IPython.core.display.HTML object>"
      ]
     },
     "metadata": {},
     "output_type": "display_data"
    },
    {
     "data": {
      "text/plain": [
       "<Figure size 432x288 with 0 Axes>"
      ]
     },
     "metadata": {},
     "output_type": "display_data"
    },
    {
     "name": "stdout",
     "output_type": "stream",
     "text": [
      "[]\n"
     ]
    },
    {
     "data": {
      "text/html": [
       "<h5>diagnosis: malignant | prediction: benign</h5>"
      ],
      "text/plain": [
       "<IPython.core.display.HTML object>"
      ]
     },
     "metadata": {},
     "output_type": "display_data"
    },
    {
     "data": {
      "text/plain": [
       "<Figure size 432x288 with 0 Axes>"
      ]
     },
     "metadata": {},
     "output_type": "display_data"
    },
    {
     "name": "stdout",
     "output_type": "stream",
     "text": [
      "[]\n"
     ]
    }
   ],
   "source": [
    "inv_indices = {v: k for k, v in validation.class_indices.items()}\n",
    "for k, v in SELECTIONS.items(): \n",
    "    display(HTML(\"<h5>diagnosis: {} | prediction: {}</h5>\".format(inv_indices[k[0]], inv_indices[k[1]])))\n",
    "    plot_multiple_grad_cam(\n",
    "        [os.path.join(VALIDATION, image) for image in v], \n",
    "        model, \n",
    "        \"dense_6\", \n",
    "    )\n",
    "    print(get_expert_results(\"evaluations/radiology-9809.json\", v, expert_key=\"malignantBenign\"))"
   ]
  },
  {
   "cell_type": "code",
   "execution_count": 31,
   "metadata": {
    "papermill": {
     "duration": 0.027099,
     "end_time": "2018-09-06T02:35:06.989822",
     "exception": false,
     "start_time": "2018-09-06T02:35:06.962723",
     "status": "completed"
    },
    "tags": []
   },
   "outputs": [
    {
     "data": {
      "text/html": [
       "<script>\n",
       "code_show=true; \n",
       "function code_toggle() {\n",
       " if (code_show){\n",
       " $('div.input').hide();\n",
       " } else {\n",
       " $('div.input').show();\n",
       " }\n",
       " code_show = !code_show\n",
       "} \n",
       "$( document ).ready(code_toggle);\n",
       "</script>\n",
       "The raw code for this IPython notebook is by default hidden for easier reading.\n",
       "To toggle on/off the raw code, click <a href=\"javascript:code_toggle()\">here</a>."
      ],
      "text/plain": [
       "<IPython.core.display.HTML object>"
      ]
     },
     "execution_count": 31,
     "metadata": {},
     "output_type": "execute_result"
    }
   ],
   "source": [
    "from IPython.display import HTML\n",
    "HTML('''<script>\n",
    "code_show=true; \n",
    "function code_toggle() {\n",
    " if (code_show){\n",
    " $('div.input').hide();\n",
    " } else {\n",
    " $('div.input').show();\n",
    " }\n",
    " code_show = !code_show\n",
    "} \n",
    "$( document ).ready(code_toggle);\n",
    "</script>\n",
    "The raw code for this IPython notebook is by default hidden for easier reading.\n",
    "To toggle on/off the raw code, click <a href=\"javascript:code_toggle()\">here</a>.''')"
   ]
  },
  {
   "cell_type": "code",
   "execution_count": null,
   "metadata": {
    "papermill": {
     "duration": 3e-06,
     "end_time": "2018-09-06T02:35:06.989871",
     "exception": null,
     "start_time": "2018-09-06T02:35:06.989868",
     "status": "completed"
    },
    "tags": []
   },
   "outputs": [],
   "source": []
  }
 ],
 "metadata": {
  "kernelspec": {
   "display_name": "Python 3",
   "language": "python",
   "name": "python3"
  },
  "language_info": {
   "codemirror_mode": {
    "name": "ipython",
    "version": 3
   },
   "file_extension": ".py",
   "mimetype": "text/x-python",
   "name": "python",
   "nbconvert_exporter": "python",
   "pygments_lexer": "ipython3",
   "version": "3.6.5"
  },
  "papermill": {
   "duration": 21.034538,
   "end_time": "2018-09-06T02:35:08.282804",
   "environment_variables": {},
   "exception": false,
   "output_path": "evaluate-free-complete.ipynb",
   "parameters": {
    "DIRECTORY": "complete-set-free/data",
    "MODEL_TYPE": "v1",
    "MODEL_UUID": "3f408cc9-5eef-414e-8cd7-041fabd9297a",
    "SELECTIONS": "{(0, 0): [], (1, 1): [], (0, 1): [], (1, 0): []}"
   },
   "start_time": "2018-09-06T02:34:47.248266",
   "version": "0.15.0"
  }
 },
 "nbformat": 4,
 "nbformat_minor": 2
}