{
 "cells": [
  {
   "cell_type": "code",
   "execution_count": 1,
   "metadata": {
    "papermill": {
     "duration": 0.166789,
     "end_time": "2018-09-11T23:07:00.723111",
     "exception": false,
     "start_time": "2018-09-11T23:07:00.556322",
     "status": "completed"
    },
    "tags": []
   },
   "outputs": [],
   "source": [
    "%load_ext autoreload\n",
    "%autoreload 2\n",
    "%matplotlib inline  \n",
    "from IPython.display import HTML"
   ]
  },
  {
   "cell_type": "code",
   "execution_count": 2,
   "metadata": {
    "papermill": {
     "duration": 0.231414,
     "end_time": "2018-09-11T23:07:00.955342",
     "exception": false,
     "start_time": "2018-09-11T23:07:00.723928",
     "status": "completed"
    },
    "tags": []
   },
   "outputs": [],
   "source": [
    "from sklearn.metrics import f1_score, roc_auc_score, average_precision_score, precision_score, recall_score\n",
    "import pandas\n",
    "import numpy as np\n",
    "import json\n",
    "import matplotlib.pyplot as plt\n",
    "import os\n",
    "\n",
    "pandas.options.display.float_format = '{:,.3f}'.format"
   ]
  },
  {
   "cell_type": "code",
   "execution_count": 3,
   "metadata": {
    "papermill": {
     "duration": 0.667559,
     "end_time": "2018-09-11T23:07:01.623598",
     "exception": false,
     "start_time": "2018-09-11T23:07:00.956039",
     "status": "completed"
    },
    "tags": []
   },
   "outputs": [
    {
     "name": "stderr",
     "output_type": "stream",
     "text": [
      "Using TensorFlow backend.\n"
     ]
    }
   ],
   "source": [
    "from evaluate import load, get_results, get_labels, transform_binary_probabilities, transform_binary_predictions, calculate_accuracy_loss, plot_confusion_matrix, plot_precision_recall, plot_roc_curve, calculate_pr_auc, calculate_confusion_matrix_stats, calculate_confusion_matrix, plot_tsne, accession_from_filename, plot_expert_confusion, plot_multiple_grad_cam, get_expert_results"
   ]
  },
  {
   "cell_type": "code",
   "execution_count": 4,
   "metadata": {
    "papermill": {
     "duration": 0.183838,
     "end_time": "2018-09-11T23:07:01.808345",
     "exception": false,
     "start_time": "2018-09-11T23:07:01.624507",
     "status": "completed"
    },
    "tags": []
   },
   "outputs": [],
   "source": [
    "from data import describe, all_features, data, print_describe, load_single\n",
    "from run import characterize_data\n",
    "from config import config"
   ]
  },
  {
   "cell_type": "markdown",
   "metadata": {
    "papermill": {
     "duration": 8e-06,
     "end_time": "2018-09-11T23:07:01.809061",
     "exception": false,
     "start_time": "2018-09-11T23:07:01.809053",
     "status": "completed"
    },
    "tags": []
   },
   "source": [
    "# Parameters"
   ]
  },
  {
   "cell_type": "code",
   "execution_count": 5,
   "metadata": {
    "papermill": {
     "duration": 0.031929,
     "end_time": "2018-09-11T23:07:01.853085",
     "exception": false,
     "start_time": "2018-09-11T23:07:01.821156",
     "status": "completed"
    },
    "tags": [
     "parameters"
    ]
   },
   "outputs": [],
   "source": [
    "DIRECTORY = \"c3-c4-free/data\"\n",
    "MODEL_UUID = \"1b356a9e-126c-4f91-8f41-8d6baa4f79de\"\n",
    "MODEL_TYPE = \"v2\"\n",
    "SELECTIONS = \"None\"\n",
    "PARAMETERS_ID = \"parameters\""
   ]
  },
  {
   "cell_type": "code",
   "execution_count": 6,
   "metadata": {
    "papermill": {
     "duration": 0.024804,
     "end_time": "2018-09-11T23:07:01.878098",
     "exception": false,
     "start_time": "2018-09-11T23:07:01.853294",
     "status": "completed"
    },
    "tags": [
     "injected-parameters"
    ]
   },
   "outputs": [],
   "source": [
    "# Parameters\n",
    "DIRECTORY = \"complete-set-fixed/data\"\n",
    "MODEL_UUID = \"08d46f34-4836-4e7c-a240-a0a1c4233093\"\n",
    "MODEL_TYPE = \"v1\"\n",
    "SELECTIONS = \"{}\"\n",
    "PARAMETERS_ID = \"fixed-complete\"\n"
   ]
  },
  {
   "cell_type": "code",
   "execution_count": 7,
   "metadata": {
    "papermill": {
     "duration": 0.016173,
     "end_time": "2018-09-11T23:07:01.894314",
     "exception": false,
     "start_time": "2018-09-11T23:07:01.878141",
     "status": "completed"
    },
    "tags": []
   },
   "outputs": [],
   "source": [
    "SELECTIONS = eval(SELECTIONS)\n",
    "FEATURES = \"{}/features.csv\".format(DIRECTORY)\n",
    "RAW = \"{}/raw\".format(DIRECTORY)\n",
    "TRAIN = \"{}/train\".format(DIRECTORY)\n",
    "VALIDATION = \"{}/validation\".format(DIRECTORY)\n",
    "MODEL = \"{}/models/{}-{}.h5\".format(config.OUTPUT, MODEL_UUID, MODEL_TYPE)"
   ]
  },
  {
   "cell_type": "markdown",
   "metadata": {
    "papermill": {
     "duration": 6e-06,
     "end_time": "2018-09-11T23:07:01.894362",
     "exception": false,
     "start_time": "2018-09-11T23:07:01.894356",
     "status": "completed"
    },
    "tags": []
   },
   "source": [
    "## Lesion descriptions"
   ]
  },
  {
   "cell_type": "code",
   "execution_count": 8,
   "metadata": {
    "papermill": {
     "duration": 0.032236,
     "end_time": "2018-09-11T23:07:01.938349",
     "exception": false,
     "start_time": "2018-09-11T23:07:01.906113",
     "status": "completed"
    },
    "scrolled": false,
    "tags": []
   },
   "outputs": [
    {
     "name": "stdout",
     "output_type": "stream",
     "text": [
      "category: C2\n",
      "\tcount: 157\n",
      "\tnumber lesions: 158\n",
      "\tcolumn: feat\n",
      "\t\t {'benign': 157}\n",
      "\tcolumn: imag\n",
      "\t\t {'biopsy': 1, 'mri': 156}\n",
      "category: C3\n",
      "\tcount: 131\n",
      "\tnumber lesions: 198\n",
      "\tcolumn: feat\n",
      "\t\t {'benign': 113, 'malignant': 18}\n",
      "\tcolumn: imag\n",
      "\t\t {'biopsy': 6, 'mri': 125}\n",
      "category: C4\n",
      "\tcount: 44\n",
      "\tnumber lesions: 59\n",
      "\tcolumn: feat\n",
      "\t\t {'benign': 10, 'malignant': 34}\n",
      "\tcolumn: imag\n",
      "\t\t {'biopsy': 16, 'mri': 28}\n",
      "category: C5\n",
      "\tcount: 78\n",
      "\tnumber lesions: 106\n",
      "\tcolumn: feat\n",
      "\t\t {'benign': 2, 'malignant': 76}\n",
      "\tcolumn: imag\n",
      "\t\t {'biopsy': 33, 'mri': 45}\n"
     ]
    }
   ],
   "source": [
    "print_describe(raw=RAW, features=FEATURES)"
   ]
  },
  {
   "cell_type": "code",
   "execution_count": 9,
   "metadata": {
    "papermill": {
     "duration": 0.465829,
     "end_time": "2018-09-11T23:07:02.404740",
     "exception": false,
     "start_time": "2018-09-11T23:07:01.938911",
     "status": "completed"
    },
    "scrolled": true,
    "tags": []
   },
   "outputs": [
    {
     "name": "stdout",
     "output_type": "stream",
     "text": [
      "Found 417 images belonging to 2 classes.\n",
      "Found 417 images belonging to 2 classes.\n"
     ]
    },
    {
     "name": "stdout",
     "output_type": "stream",
     "text": [
      "Found 104 images belonging to 2 classes.\n",
      "Found 0 images belonging to 2 classes.\n"
     ]
    }
   ],
   "source": [
    "train, validation, _ = data(shuffle_train=False, validation_dir=VALIDATION, train_dir=TRAIN)"
   ]
  },
  {
   "cell_type": "code",
   "execution_count": 10,
   "metadata": {
    "papermill": {
     "duration": 0.056571,
     "end_time": "2018-09-11T23:07:02.461526",
     "exception": false,
     "start_time": "2018-09-11T23:07:02.404955",
     "status": "completed"
    },
    "tags": []
   },
   "outputs": [
    {
     "name": "stdout",
     "output_type": "stream",
     "text": [
      "training data breakdown:  {'benign': 281, 'malignant': 136}\n",
      "validation data breakdown:  {'benign': 70, 'malignant': 34}\n"
     ]
    }
   ],
   "source": [
    "print(\"training data breakdown: \", characterize_data(train))\n",
    "print(\"validation data breakdown: \", characterize_data(validation))"
   ]
  },
  {
   "cell_type": "code",
   "execution_count": 11,
   "metadata": {
    "papermill": {
     "duration": 13.650745,
     "end_time": "2018-09-11T23:07:16.113053",
     "exception": false,
     "start_time": "2018-09-11T23:07:02.462308",
     "status": "completed"
    },
    "tags": []
   },
   "outputs": [],
   "source": [
    "model = load(MODEL)"
   ]
  },
  {
   "cell_type": "code",
   "execution_count": 12,
   "metadata": {
    "papermill": {
     "duration": 1.434659,
     "end_time": "2018-09-11T23:07:17.547769",
     "exception": false,
     "start_time": "2018-09-11T23:07:16.113110",
     "status": "completed"
    },
    "tags": []
   },
   "outputs": [],
   "source": [
    "results = get_results(model, validation)"
   ]
  },
  {
   "cell_type": "code",
   "execution_count": 13,
   "metadata": {
    "papermill": {
     "duration": 0.060541,
     "end_time": "2018-09-11T23:07:17.610110",
     "exception": false,
     "start_time": "2018-09-11T23:07:17.549569",
     "status": "completed"
    },
    "tags": []
   },
   "outputs": [],
   "source": [
    "probabilities = transform_binary_probabilities(results)\n",
    "predictions = transform_binary_predictions(results)\n",
    "labels = get_labels(validation)"
   ]
  },
  {
   "cell_type": "markdown",
   "metadata": {
    "papermill": {
     "duration": 9e-06,
     "end_time": "2018-09-11T23:07:17.610184",
     "exception": false,
     "start_time": "2018-09-11T23:07:17.610175",
     "status": "completed"
    },
    "tags": []
   },
   "source": [
    "## Accuracy and loss"
   ]
  },
  {
   "cell_type": "code",
   "execution_count": 14,
   "metadata": {
    "papermill": {
     "duration": 0.830633,
     "end_time": "2018-09-11T23:07:18.456543",
     "exception": false,
     "start_time": "2018-09-11T23:07:17.625910",
     "status": "completed"
    },
    "scrolled": true,
    "tags": []
   },
   "outputs": [
    {
     "name": "stdout",
     "output_type": "stream",
     "text": [
      "Accuracy: 0.7211538461538461\n",
      "Loss: 0.6443766538913434\n"
     ]
    }
   ],
   "source": [
    "loss, accuracy = calculate_accuracy_loss(model, validation)\n",
    "print(\"Accuracy:\", accuracy)\n",
    "print(\"Loss:\", loss)"
   ]
  },
  {
   "cell_type": "markdown",
   "metadata": {
    "papermill": {
     "duration": 4.2e-05,
     "end_time": "2018-09-11T23:07:18.459557",
     "exception": false,
     "start_time": "2018-09-11T23:07:18.459515",
     "status": "completed"
    },
    "tags": []
   },
   "source": [
    "## Confusion matrix"
   ]
  },
  {
   "cell_type": "code",
   "execution_count": 15,
   "metadata": {
    "papermill": {
     "duration": 0.148117,
     "end_time": "2018-09-11T23:07:18.623334",
     "exception": false,
     "start_time": "2018-09-11T23:07:18.475217",
     "status": "completed"
    },
    "scrolled": true,
    "tags": []
   },
   "outputs": [
    {
     "data": {
      "image/png": "[encoded data removed]",
      "text/plain": [
       "<Figure size 432x288 with 2 Axes>"
      ]
     },
     "metadata": {},
     "output_type": "display_data"
    }
   ],
   "source": [
    "fig = plot_confusion_matrix(validation, results)\n",
    "fig.savefig(\"figures/{}-confusion-matrix.svg\".format(PARAMETERS_ID), bbox_inches = \"tight\")"
   ]
  },
  {
   "cell_type": "code",
   "execution_count": 16,
   "metadata": {
    "papermill": {
     "duration": 0.037851,
     "end_time": "2018-09-11T23:07:18.661993",
     "exception": false,
     "start_time": "2018-09-11T23:07:18.624142",
     "status": "completed"
    },
    "scrolled": true,
    "tags": []
   },
   "outputs": [
    {
     "data": {
      "text/html": [
       "<div>\n",
       "<style scoped>\n",
       "    .dataframe tbody tr th:only-of-type {\n",
       "        vertical-align: middle;\n",
       "    }\n",
       "\n",
       "    .dataframe tbody tr th {\n",
       "        vertical-align: top;\n",
       "    }\n",
       "\n",
       "    .dataframe thead th {\n",
       "        text-align: right;\n",
       "    }\n",
       "</style>\n",
       "<table border=\"1\" class=\"dataframe\">\n",
       "  <thead>\n",
       "    <tr style=\"text-align: right;\">\n",
       "      <th></th>\n",
       "      <th>Acc</th>\n",
       "      <th>TP</th>\n",
       "      <th>TN</th>\n",
       "      <th>FP</th>\n",
       "      <th>FN</th>\n",
       "      <th>TPR</th>\n",
       "      <th>TNR</th>\n",
       "      <th>PPV</th>\n",
       "      <th>NPV</th>\n",
       "      <th>FPR</th>\n",
       "      <th>FNR</th>\n",
       "      <th>FDR</th>\n",
       "      <th>AM</th>\n",
       "      <th>GM</th>\n",
       "    </tr>\n",
       "  </thead>\n",
       "  <tbody>\n",
       "    <tr>\n",
       "      <th>benign</th>\n",
       "      <td>0.721</td>\n",
       "      <td>69</td>\n",
       "      <td>6</td>\n",
       "      <td>28</td>\n",
       "      <td>1</td>\n",
       "      <td>0.986</td>\n",
       "      <td>0.176</td>\n",
       "      <td>0.711</td>\n",
       "      <td>0.857</td>\n",
       "      <td>0.824</td>\n",
       "      <td>0.014</td>\n",
       "      <td>0.289</td>\n",
       "      <td>0.581</td>\n",
       "      <td>0.417</td>\n",
       "    </tr>\n",
       "    <tr>\n",
       "      <th>malignant</th>\n",
       "      <td>0.721</td>\n",
       "      <td>6</td>\n",
       "      <td>69</td>\n",
       "      <td>1</td>\n",
       "      <td>28</td>\n",
       "      <td>0.176</td>\n",
       "      <td>0.986</td>\n",
       "      <td>0.857</td>\n",
       "      <td>0.711</td>\n",
       "      <td>0.014</td>\n",
       "      <td>0.824</td>\n",
       "      <td>0.143</td>\n",
       "      <td>0.581</td>\n",
       "      <td>0.417</td>\n",
       "    </tr>\n",
       "  </tbody>\n",
       "</table>\n",
       "</div>"
      ],
      "text/plain": [
       "            Acc  TP  TN  FP  FN   TPR   TNR   PPV   NPV   FPR   FNR   FDR  \\\n",
       "benign    0.721  69   6  28   1 0.986 0.176 0.711 0.857 0.824 0.014 0.289   \n",
       "malignant 0.721   6  69   1  28 0.176 0.986 0.857 0.711 0.014 0.824 0.143   \n",
       "\n",
       "             AM    GM  \n",
       "benign    0.581 0.417  \n",
       "malignant 0.581 0.417  "
      ]
     },
     "execution_count": 16,
     "metadata": {},
     "output_type": "execute_result"
    }
   ],
   "source": [
    "stats = calculate_confusion_matrix_stats(labels, results)\n",
    "pandas.DataFrame(stats, index=validation.class_indices)"
   ]
  },
  {
   "cell_type": "markdown",
   "metadata": {
    "papermill": {
     "duration": 6e-06,
     "end_time": "2018-09-11T23:07:18.662048",
     "exception": false,
     "start_time": "2018-09-11T23:07:18.662042",
     "status": "completed"
    },
    "tags": []
   },
   "source": [
    "## ROC Curve standalone"
   ]
  },
  {
   "cell_type": "code",
   "execution_count": 17,
   "metadata": {
    "papermill": {
     "duration": 0.140861,
     "end_time": "2018-09-11T23:07:18.823324",
     "exception": false,
     "start_time": "2018-09-11T23:07:18.682463",
     "status": "completed"
    },
    "tags": []
   },
   "outputs": [
    {
     "name": "stderr",
     "output_type": "stream",
     "text": [
      "No handles with labels found to put in legend.\n"
     ]
    },
    {
     "data": {
      "image/png": "[encoded data removed]",
      "text/plain": [
       "<Figure size 432x288 with 1 Axes>"
      ]
     },
     "execution_count": 17,
     "metadata": {},
     "output_type": "execute_result"
    },
    {
     "data": {
      "image/png": "[encoded data removed]",
      "text/plain": [
       "<Figure size 432x288 with 1 Axes>"
      ]
     },
     "metadata": {},
     "output_type": "display_data"
    }
   ],
   "source": [
    "plot_roc_curve(labels, results)"
   ]
  },
  {
   "cell_type": "code",
   "execution_count": 18,
   "metadata": {
    "papermill": {
     "duration": 0.02443,
     "end_time": "2018-09-11T23:07:18.848345",
     "exception": false,
     "start_time": "2018-09-11T23:07:18.823915",
     "status": "completed"
    },
    "tags": []
   },
   "outputs": [
    {
     "name": "stdout",
     "output_type": "stream",
     "text": [
      "ROC AUC: 0.6201680672268908\n"
     ]
    }
   ],
   "source": [
    "print(\"ROC AUC:\", roc_auc_score(labels, probabilities))"
   ]
  },
  {
   "cell_type": "markdown",
   "metadata": {
    "papermill": {
     "duration": 6e-06,
     "end_time": "2018-09-11T23:07:18.848394",
     "exception": false,
     "start_time": "2018-09-11T23:07:18.848388",
     "status": "completed"
    },
    "tags": []
   },
   "source": [
    "## Precision Recall"
   ]
  },
  {
   "cell_type": "code",
   "execution_count": 19,
   "metadata": {
    "papermill": {
     "duration": 0.017943,
     "end_time": "2018-09-11T23:07:18.885378",
     "exception": false,
     "start_time": "2018-09-11T23:07:18.867435",
     "status": "completed"
    },
    "tags": []
   },
   "outputs": [
    {
     "name": "stdout",
     "output_type": "stream",
     "text": [
      "Average precision: 0.5437873886698977\n",
      "Precision: 0.8571428571428571 Recall: 0.17647058823529413\n"
     ]
    }
   ],
   "source": [
    "print(\"Average precision:\", average_precision_score(labels, probabilities))\n",
    "print(\"Precision:\", precision_score(labels, predictions), \"Recall:\", recall_score(labels, predictions))"
   ]
  },
  {
   "cell_type": "code",
   "execution_count": 20,
   "metadata": {
    "papermill": {
     "duration": 0.142309,
     "end_time": "2018-09-11T23:07:19.027729",
     "exception": false,
     "start_time": "2018-09-11T23:07:18.885420",
     "status": "completed"
    },
    "scrolled": true,
    "tags": []
   },
   "outputs": [
    {
     "data": {
      "image/png": "[encoded data removed]",
      "text/plain": [
       "<Figure size 432x288 with 1 Axes>"
      ]
     },
     "metadata": {},
     "output_type": "display_data"
    }
   ],
   "source": [
    "fig = plot_precision_recall(labels, results)\n",
    "fig.savefig(\"figures/{}-precision-recall.svg\".format(PARAMETERS_ID), bbox_inches = \"tight\")"
   ]
  },
  {
   "cell_type": "code",
   "execution_count": 21,
   "metadata": {
    "papermill": {
     "duration": 0.040588,
     "end_time": "2018-09-11T23:07:19.068738",
     "exception": false,
     "start_time": "2018-09-11T23:07:19.028150",
     "status": "completed"
    },
    "tags": []
   },
   "outputs": [
    {
     "name": "stdout",
     "output_type": "stream",
     "text": [
      "PR AUC: 0.5379583067192274\n"
     ]
    }
   ],
   "source": [
    "print(\"PR AUC:\", calculate_pr_auc(labels, results))"
   ]
  },
  {
   "cell_type": "markdown",
   "metadata": {
    "papermill": {
     "duration": 7e-06,
     "end_time": "2018-09-11T23:07:19.068792",
     "exception": false,
     "start_time": "2018-09-11T23:07:19.068785",
     "status": "completed"
    },
    "tags": []
   },
   "source": [
    "## F1 Score"
   ]
  },
  {
   "cell_type": "code",
   "execution_count": 22,
   "metadata": {
    "papermill": {
     "duration": 0.016787,
     "end_time": "2018-09-11T23:07:19.103912",
     "exception": false,
     "start_time": "2018-09-11T23:07:19.087125",
     "status": "completed"
    },
    "tags": []
   },
   "outputs": [
    {
     "name": "stdout",
     "output_type": "stream",
     "text": [
      "F1 score: 0.29268292682926833\n"
     ]
    }
   ],
   "source": [
    "print(\"F1 score:\", f1_score(labels, predictions))"
   ]
  },
  {
   "cell_type": "markdown",
   "metadata": {
    "papermill": {
     "duration": 6e-06,
     "end_time": "2018-09-11T23:07:19.103960",
     "exception": false,
     "start_time": "2018-09-11T23:07:19.103954",
     "status": "completed"
    },
    "tags": []
   },
   "source": [
    "## TSNE"
   ]
  },
  {
   "cell_type": "code",
   "execution_count": 23,
   "metadata": {
    "papermill": {
     "duration": 0.01765,
     "end_time": "2018-09-11T23:07:19.136794",
     "exception": false,
     "start_time": "2018-09-11T23:07:19.119144",
     "status": "completed"
    },
    "tags": []
   },
   "outputs": [],
   "source": [
    "malignancy, modality, category = all_features(features=FEATURES)"
   ]
  },
  {
   "cell_type": "code",
   "execution_count": 24,
   "metadata": {
    "papermill": {
     "duration": 0.021351,
     "end_time": "2018-09-11T23:07:19.158645",
     "exception": false,
     "start_time": "2018-09-11T23:07:19.137294",
     "status": "completed"
    },
    "scrolled": true,
    "tags": []
   },
   "outputs": [],
   "source": [
    "tsne_dataset = train"
   ]
  },
  {
   "cell_type": "code",
   "execution_count": 25,
   "metadata": {
    "papermill": {
     "duration": 0.021514,
     "end_time": "2018-09-11T23:07:19.180202",
     "exception": false,
     "start_time": "2018-09-11T23:07:19.158688",
     "status": "completed"
    },
    "tags": []
   },
   "outputs": [],
   "source": [
    "tsne_labels = [malignancy.get(accession_from_filename(f), \"unknown\") for f in tsne_dataset.filenames]"
   ]
  },
  {
   "cell_type": "code",
   "execution_count": 26,
   "metadata": {
    "papermill": {
     "duration": 4.394504,
     "end_time": "2018-09-11T23:07:23.574749",
     "exception": false,
     "start_time": "2018-09-11T23:07:19.180245",
     "status": "completed"
    },
    "scrolled": true,
    "tags": []
   },
   "outputs": [
    {
     "data": {
      "image/png": "[encoded data removed]",
      "text/plain": [
       "<Figure size 432x288 with 1 Axes>"
      ]
     },
     "metadata": {},
     "output_type": "display_data"
    }
   ],
   "source": [
    "fig = plot_tsne(model, \"dense_5\", tsne_dataset, tsne_labels, perplexity=5)\n",
    "fig.savefig(\"figures/{}-tsne.svg\".format(PARAMETERS_ID), bbox_inches = \"tight\")"
   ]
  },
  {
   "cell_type": "markdown",
   "metadata": {
    "papermill": {
     "duration": 9e-06,
     "end_time": "2018-09-11T23:07:23.575317",
     "exception": false,
     "start_time": "2018-09-11T23:07:23.575308",
     "status": "completed"
    },
    "tags": []
   },
   "source": [
    "## Experts"
   ]
  },
  {
   "cell_type": "code",
   "execution_count": 27,
   "metadata": {
    "papermill": {
     "duration": 0.157209,
     "end_time": "2018-09-11T23:07:23.757897",
     "exception": false,
     "start_time": "2018-09-11T23:07:23.600688",
     "status": "completed"
    },
    "tags": []
   },
   "outputs": [
    {
     "name": "stdout",
     "output_type": "stream",
     "text": [
      "error with benign/fixed-27244981-liver.jpeg: '27244981-liver.jpeg'\n"
     ]
    },
    {
     "data": {
      "image/png": "[encoded data removed]",
      "text/plain": [
       "<Figure size 432x288 with 2 Axes>"
      ]
     },
     "metadata": {},
     "output_type": "display_data"
    }
   ],
   "source": [
    "expert_1, fig = plot_expert_confusion(\"evaluations/radiology-9809.json\", validation)\n",
    "fig.savefig(\"figures/{}-confusion-matrix-expert-1.svg\".format(PARAMETERS_ID), bbox_inches = \"tight\")"
   ]
  },
  {
   "cell_type": "code",
   "execution_count": 28,
   "metadata": {
    "papermill": {
     "duration": 0.028358,
     "end_time": "2018-09-11T23:07:23.786624",
     "exception": false,
     "start_time": "2018-09-11T23:07:23.758266",
     "status": "completed"
    },
    "scrolled": true,
    "tags": []
   },
   "outputs": [
    {
     "data": {
      "text/html": [
       "<div>\n",
       "<style scoped>\n",
       "    .dataframe tbody tr th:only-of-type {\n",
       "        vertical-align: middle;\n",
       "    }\n",
       "\n",
       "    .dataframe tbody tr th {\n",
       "        vertical-align: top;\n",
       "    }\n",
       "\n",
       "    .dataframe thead th {\n",
       "        text-align: right;\n",
       "    }\n",
       "</style>\n",
       "<table border=\"1\" class=\"dataframe\">\n",
       "  <thead>\n",
       "    <tr style=\"text-align: right;\">\n",
       "      <th></th>\n",
       "      <th>Acc</th>\n",
       "      <th>TP</th>\n",
       "      <th>TN</th>\n",
       "      <th>FP</th>\n",
       "      <th>FN</th>\n",
       "      <th>TPR</th>\n",
       "      <th>TNR</th>\n",
       "      <th>PPV</th>\n",
       "      <th>NPV</th>\n",
       "      <th>FPR</th>\n",
       "      <th>FNR</th>\n",
       "      <th>FDR</th>\n",
       "      <th>AM</th>\n",
       "      <th>GM</th>\n",
       "    </tr>\n",
       "  </thead>\n",
       "  <tbody>\n",
       "    <tr>\n",
       "      <th>benign</th>\n",
       "      <td>0.625</td>\n",
       "      <td>47</td>\n",
       "      <td>18</td>\n",
       "      <td>16</td>\n",
       "      <td>23</td>\n",
       "      <td>0.671</td>\n",
       "      <td>0.529</td>\n",
       "      <td>0.746</td>\n",
       "      <td>0.439</td>\n",
       "      <td>0.471</td>\n",
       "      <td>0.329</td>\n",
       "      <td>0.254</td>\n",
       "      <td>0.600</td>\n",
       "      <td>0.596</td>\n",
       "    </tr>\n",
       "    <tr>\n",
       "      <th>malignant</th>\n",
       "      <td>0.625</td>\n",
       "      <td>18</td>\n",
       "      <td>47</td>\n",
       "      <td>23</td>\n",
       "      <td>16</td>\n",
       "      <td>0.529</td>\n",
       "      <td>0.671</td>\n",
       "      <td>0.439</td>\n",
       "      <td>0.746</td>\n",
       "      <td>0.329</td>\n",
       "      <td>0.471</td>\n",
       "      <td>0.561</td>\n",
       "      <td>0.600</td>\n",
       "      <td>0.596</td>\n",
       "    </tr>\n",
       "  </tbody>\n",
       "</table>\n",
       "</div>"
      ],
      "text/plain": [
       "            Acc  TP  TN  FP  FN   TPR   TNR   PPV   NPV   FPR   FNR   FDR  \\\n",
       "benign    0.625  47  18  16  23 0.671 0.529 0.746 0.439 0.471 0.329 0.254   \n",
       "malignant 0.625  18  47  23  16 0.529 0.671 0.439 0.746 0.329 0.471 0.561   \n",
       "\n",
       "             AM    GM  \n",
       "benign    0.600 0.596  \n",
       "malignant 0.600 0.596  "
      ]
     },
     "execution_count": 28,
     "metadata": {},
     "output_type": "execute_result"
    }
   ],
   "source": [
    "pandas.DataFrame(expert_1, index=validation.class_indices)"
   ]
  },
  {
   "cell_type": "markdown",
   "metadata": {
    "papermill": {
     "duration": 6e-06,
     "end_time": "2018-09-11T23:07:23.786675",
     "exception": false,
     "start_time": "2018-09-11T23:07:23.786669",
     "status": "completed"
    },
    "tags": []
   },
   "source": [
    "## ROC with experts"
   ]
  },
  {
   "cell_type": "code",
   "execution_count": 29,
   "metadata": {
    "papermill": {
     "duration": 0.186634,
     "end_time": "2018-09-11T23:07:24.000089",
     "exception": false,
     "start_time": "2018-09-11T23:07:23.813455",
     "status": "completed"
    },
    "scrolled": false,
    "tags": []
   },
   "outputs": [
    {
     "data": {
      "image/png": "[encoded data removed]",
      "text/plain": [
       "<Figure size 432x288 with 1 Axes>"
      ]
     },
     "metadata": {},
     "output_type": "display_data"
    }
   ],
   "source": [
    "fig = plot_roc_curve(labels, results, experts=[{ **expert_1, \"name\":\"expert 1\" }, { **expert_1, \"name\":\"expert 2\" }])\n",
    "fig.savefig(\"figures/{}-roc-curve.svg\".format(PARAMETERS_ID), bbox_inches = \"tight\")"
   ]
  },
  {
   "cell_type": "markdown",
   "metadata": {
    "papermill": {
     "duration": 9e-06,
     "end_time": "2018-09-11T23:07:24.000516",
     "exception": false,
     "start_time": "2018-09-11T23:07:24.000507",
     "status": "completed"
    },
    "tags": []
   },
   "source": [
    "## Grad Cam"
   ]
  },
  {
   "cell_type": "code",
   "execution_count": 30,
   "metadata": {
    "papermill": {
     "duration": 0.038405,
     "end_time": "2018-09-11T23:07:24.066471",
     "exception": false,
     "start_time": "2018-09-11T23:07:24.028066",
     "status": "completed"
    },
    "scrolled": false,
    "tags": []
   },
   "outputs": [],
   "source": [
    "inv_indices = {v: k for k, v in validation.class_indices.items()}\n",
    "for k, v in SELECTIONS.items(): \n",
    "    display(HTML(\"<h5>diagnosis: {} | prediction: {}</h5>\".format(inv_indices[k[0]], inv_indices[k[1]])))\n",
    "    fig = plot_multiple_grad_cam(\n",
    "        [os.path.join(VALIDATION, image) for image in v], \n",
    "        model, \n",
    "        \"dense_6\", \n",
    "        penultimate_layer=\"res5c_branch2c\",\n",
    "        filter_idx=[0],\n",
    "    )\n",
    "    fig.savefig(\"figures/{}-grad-cam-{}-{}.png\".format(PARAMETERS_ID, inv_indices[k[0]], inv_indices[k[1]]), bbox_inches = \"tight\")\n",
    "    print(get_expert_results(\"evaluations/radiology-9809.json\", v, expert_key=\"malignantBenign\"))"
   ]
  },
  {
   "cell_type": "code",
   "execution_count": 31,
   "metadata": {
    "papermill": {
     "duration": 0.022098,
     "end_time": "2018-09-11T23:07:24.088614",
     "exception": false,
     "start_time": "2018-09-11T23:07:24.066516",
     "status": "completed"
    },
    "tags": []
   },
   "outputs": [
    {
     "data": {
      "text/html": [
       "<script>\n",
       "code_show=true; \n",
       "function code_toggle() {\n",
       " if (code_show){\n",
       " $('div.input').hide();\n",
       " } else {\n",
       " $('div.input').show();\n",
       " }\n",
       " code_show = !code_show\n",
       "} \n",
       "$( document ).ready(code_toggle);\n",
       "</script>\n",
       "The raw code for this IPython notebook is by default hidden for easier reading.\n",
       "To toggle on/off the raw code, click <a href=\"javascript:code_toggle()\">here</a>."
      ],
      "text/plain": [
       "<IPython.core.display.HTML object>"
      ]
     },
     "execution_count": 31,
     "metadata": {},
     "output_type": "execute_result"
    }
   ],
   "source": [
    "from IPython.display import HTML\n",
    "HTML('''<script>\n",
    "code_show=true; \n",
    "function code_toggle() {\n",
    " if (code_show){\n",
    " $('div.input').hide();\n",
    " } else {\n",
    " $('div.input').show();\n",
    " }\n",
    " code_show = !code_show\n",
    "} \n",
    "$( document ).ready(code_toggle);\n",
    "</script>\n",
    "The raw code for this IPython notebook is by default hidden for easier reading.\n",
    "To toggle on/off the raw code, click <a href=\"javascript:code_toggle()\">here</a>.''')"
   ]
  },
  {
   "cell_type": "code",
   "execution_count": null,
   "metadata": {
    "papermill": {
     "duration": 1e-06,
     "end_time": "2018-09-11T23:07:24.088659",
     "exception": null,
     "start_time": "2018-09-11T23:07:24.088658",
     "status": "completed"
    },
    "tags": []
   },
   "outputs": [],
   "source": []
  }
 ],
 "metadata": {
  "kernelspec": {
   "display_name": "Python 3",
   "language": "python",
   "name": "python3"
  },
  "language_info": {
   "codemirror_mode": {
    "name": "ipython",
    "version": 3
   },
   "file_extension": ".py",
   "mimetype": "text/x-python",
   "name": "python",
   "nbconvert_exporter": "python",
   "pygments_lexer": "ipython3",
   "version": "3.6.5"
  },
  "papermill": {
   "duration": 26.041281,
   "end_time": "2018-09-11T23:07:25.998495",
   "environment_variables": {},
   "exception": false,
   "output_path": "evaluate-fixed-complete.ipynb",
   "parameters": {
    "DIRECTORY": "complete-set-fixed/data",
    "MODEL_TYPE": "v1",
    "MODEL_UUID": "08d46f34-4836-4e7c-a240-a0a1c4233093",
    "PARAMETERS_ID": "fixed-complete",
    "SELECTIONS": "{}"
   },
   "start_time": "2018-09-11T23:06:59.957214",
   "version": "0.15.0"
  }
 },
 "nbformat": 4,
 "nbformat_minor": 2
}