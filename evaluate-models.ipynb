{
 "cells": [
  {
   "cell_type": "code",
   "execution_count": 1,
   "metadata": {},
   "outputs": [],
   "source": [
    "%load_ext autoreload\n",
    "%autoreload 2\n",
    "%matplotlib inline  \n",
    "from IPython.display import display, HTML"
   ]
  },
  {
   "cell_type": "code",
   "execution_count": 43,
   "metadata": {},
   "outputs": [],
   "source": [
    "from sklearn.metrics import f1_score, roc_auc_score, average_precision_score, precision_score, recall_score\n",
    "import pandas\n",
    "import numpy as np\n",
    "import json\n",
    "import matplotlib.pyplot as plt\n",
    "import os\n",
    "import ast\n",
    "import seaborn\n",
    "from db import Result\n",
    "import math\n",
    "import papermill as pm\n",
    "from vis.utils.utils import load_img\n",
    "\n",
    "from config import config\n",
    "pandas.options.display.float_format = '{:,.3f}'.format"
   ]
  },
  {
   "cell_type": "code",
   "execution_count": 3,
   "metadata": {},
   "outputs": [
    {
     "name": "stderr",
     "output_type": "stream",
     "text": [
      "Using TensorFlow backend.\n"
     ]
    }
   ],
   "source": [
    "from evaluate import load, get_results, get_labels, transform_binary_probabilities, transform_binary_predictions, calculate_accuracy_loss, plot_confusion_matrix, plot_precision_recall, plot_roc_curve, calculate_pr_auc, calculate_confusion_matrix_stats, calculate_confusion_matrix, plot_tsne, accession_from_filename, plot_expert_confusion, plot_grad_cam, load_expert_results"
   ]
  },
  {
   "cell_type": "code",
   "execution_count": 4,
   "metadata": {},
   "outputs": [],
   "source": [
    "from data import describe, all_features, data, print_describe, load_single\n",
    "from run import characterize_data"
   ]
  },
  {
   "cell_type": "markdown",
   "metadata": {},
   "source": [
    "# All models"
   ]
  },
  {
   "cell_type": "code",
   "execution_count": 6,
   "metadata": {},
   "outputs": [],
   "source": [
    "CROPS = [\"free\", \"fixed\"]\n",
    "SUBSETS = [\"complete\", \"uncertain\"]\n",
    "DESCRIPTIONS = {\n",
    "    (\"free\", \"complete\"): \"complete-set-free-final-2\",\n",
    "    (\"fixed\", \"complete\"): \"complete-set-fixed-final-2\",\n",
    "    (\"free\", \"uncertain\"): \"c3-c4-free-final-2\",\n",
    "    (\"fixed\", \"uncertain\"): \"c3-c4-fixed-final-2\",\n",
    "}\n",
    "DATA_FOLDERS = {\n",
    "    (\"free\", \"complete\"): \"complete-set-free/data\",\n",
    "    (\"fixed\", \"complete\"): \"complete-set-fixed/data\",\n",
    "    (\"free\", \"uncertain\"): \"c3-c4-free/data\",\n",
    "    (\"fixed\", \"uncertain\"): \"c3-c4-fixed/data\",\n",
    "}"
   ]
  },
  {
   "cell_type": "code",
   "execution_count": 7,
   "metadata": {},
   "outputs": [],
   "source": [
    "for crop in CROPS: \n",
    "    for subset in SUBSETS:\n",
    "        results = Result.query.filter(Result.description == DESCRIPTIONS[(crop, subset)]).all()\n",
    "        pd = pandas.DataFrame([{\n",
    "            \"accuracy\": r.accuracy, \n",
    "            \"train_accuracy\": r.train_accuracy, \n",
    "            \"uuid\": r.uuid\n",
    "        } for r in results])\n",
    "        #print(crop, subset)\n",
    "        #print(pd.nlargest(10, \"accuracy\"))"
   ]
  },
  {
   "cell_type": "code",
   "execution_count": 8,
   "metadata": {},
   "outputs": [],
   "source": [
    "UUIDS = {\n",
    "    (\"free\", \"complete\"): \"3f408cc9-5eef-414e-8cd7-041fabd9297a\",\n",
    "    (\"free\", \"uncertain\"): \"21bb651c-c16f-4cba-93d2-ad846ae10c4e\",\n",
    "    (\"fixed\", \"complete\"): \"08d46f34-4836-4e7c-a240-a0a1c4233093\",\n",
    "    (\"fixed\", \"uncertain\"): \"f38c310c-d46f-4136-89d8-2a39261c0e0e\",\n",
    "}"
   ]
  },
  {
   "cell_type": "code",
   "execution_count": 34,
   "metadata": {
    "scrolled": false
   },
   "outputs": [
    {
     "data": {
      "text/html": [
       "<h4>free-complete</h4>"
      ],
      "text/plain": [
       "<IPython.core.display.HTML object>"
      ]
     },
     "metadata": {},
     "output_type": "display_data"
    },
    {
     "name": "stdout",
     "output_type": "stream",
     "text": [
      "Found 102 images belonging to 2 classes.\n",
      "error with benign/free-27244981-liver.jpeg: '27244981-liver.jpeg'\n",
      "error with benign/free-27244981-liver.jpeg: '27244981-liver.jpeg'\n"
     ]
    },
    {
     "data": {
      "text/html": [
       "<table border=\"1\" class=\"dataframe\">\n",
       "  <thead>\n",
       "    <tr style=\"text-align: right;\">\n",
       "      <th></th>\n",
       "      <th>Acc</th>\n",
       "      <th>TP</th>\n",
       "      <th>TN</th>\n",
       "      <th>FP</th>\n",
       "      <th>FN</th>\n",
       "      <th>TPR</th>\n",
       "      <th>TNR</th>\n",
       "      <th>PPV</th>\n",
       "      <th>NPV</th>\n",
       "      <th>FPR</th>\n",
       "      <th>FNR</th>\n",
       "      <th>FDR</th>\n",
       "      <th>AM</th>\n",
       "      <th>GM</th>\n",
       "    </tr>\n",
       "  </thead>\n",
       "  <tbody>\n",
       "    <tr>\n",
       "      <th>expert 1</th>\n",
       "      <td>0.775</td>\n",
       "      <td>20.000</td>\n",
       "      <td>59.000</td>\n",
       "      <td>15.000</td>\n",
       "      <td>8.000</td>\n",
       "      <td>0.714</td>\n",
       "      <td>0.797</td>\n",
       "      <td>0.571</td>\n",
       "      <td>0.881</td>\n",
       "      <td>0.203</td>\n",
       "      <td>0.286</td>\n",
       "      <td>0.429</td>\n",
       "      <td>0.756</td>\n",
       "      <td>0.755</td>\n",
       "    </tr>\n",
       "    <tr>\n",
       "      <th>expert 2</th>\n",
       "      <td>0.775</td>\n",
       "      <td>20.000</td>\n",
       "      <td>59.000</td>\n",
       "      <td>15.000</td>\n",
       "      <td>8.000</td>\n",
       "      <td>0.714</td>\n",
       "      <td>0.797</td>\n",
       "      <td>0.571</td>\n",
       "      <td>0.881</td>\n",
       "      <td>0.203</td>\n",
       "      <td>0.286</td>\n",
       "      <td>0.429</td>\n",
       "      <td>0.756</td>\n",
       "      <td>0.755</td>\n",
       "    </tr>\n",
       "    <tr>\n",
       "      <th>model</th>\n",
       "      <td>0.833</td>\n",
       "      <td>23.000</td>\n",
       "      <td>62.000</td>\n",
       "      <td>12.000</td>\n",
       "      <td>5.000</td>\n",
       "      <td>0.821</td>\n",
       "      <td>0.838</td>\n",
       "      <td>0.657</td>\n",
       "      <td>0.925</td>\n",
       "      <td>0.162</td>\n",
       "      <td>0.179</td>\n",
       "      <td>0.343</td>\n",
       "      <td>0.830</td>\n",
       "      <td>0.830</td>\n",
       "    </tr>\n",
       "  </tbody>\n",
       "</table>"
      ],
      "text/plain": [
       "<IPython.core.display.HTML object>"
      ]
     },
     "metadata": {},
     "output_type": "display_data"
    },
    {
     "data": {
      "text/html": [
       "<h4>free-uncertain</h4>"
      ],
      "text/plain": [
       "<IPython.core.display.HTML object>"
      ]
     },
     "metadata": {},
     "output_type": "display_data"
    },
    {
     "name": "stdout",
     "output_type": "stream",
     "text": [
      "Found 47 images belonging to 2 classes.\n",
      "error with benign/free-27741572-liver.jpeg: '27741572-liver.jpeg'\n",
      "error with benign/free-27741572-liver.jpeg: '27741572-liver.jpeg'\n"
     ]
    },
    {
     "data": {
      "text/html": [
       "<table border=\"1\" class=\"dataframe\">\n",
       "  <thead>\n",
       "    <tr style=\"text-align: right;\">\n",
       "      <th></th>\n",
       "      <th>Acc</th>\n",
       "      <th>TP</th>\n",
       "      <th>TN</th>\n",
       "      <th>FP</th>\n",
       "      <th>FN</th>\n",
       "      <th>TPR</th>\n",
       "      <th>TNR</th>\n",
       "      <th>PPV</th>\n",
       "      <th>NPV</th>\n",
       "      <th>FPR</th>\n",
       "      <th>FNR</th>\n",
       "      <th>FDR</th>\n",
       "      <th>AM</th>\n",
       "      <th>GM</th>\n",
       "    </tr>\n",
       "  </thead>\n",
       "  <tbody>\n",
       "    <tr>\n",
       "      <th>expert 1</th>\n",
       "      <td>0.745</td>\n",
       "      <td>8.000</td>\n",
       "      <td>27.000</td>\n",
       "      <td>8.000</td>\n",
       "      <td>4.000</td>\n",
       "      <td>0.667</td>\n",
       "      <td>0.771</td>\n",
       "      <td>0.500</td>\n",
       "      <td>0.871</td>\n",
       "      <td>0.229</td>\n",
       "      <td>0.333</td>\n",
       "      <td>0.500</td>\n",
       "      <td>0.719</td>\n",
       "      <td>0.717</td>\n",
       "    </tr>\n",
       "    <tr>\n",
       "      <th>expert 2</th>\n",
       "      <td>0.745</td>\n",
       "      <td>8.000</td>\n",
       "      <td>27.000</td>\n",
       "      <td>8.000</td>\n",
       "      <td>4.000</td>\n",
       "      <td>0.667</td>\n",
       "      <td>0.771</td>\n",
       "      <td>0.500</td>\n",
       "      <td>0.871</td>\n",
       "      <td>0.229</td>\n",
       "      <td>0.333</td>\n",
       "      <td>0.500</td>\n",
       "      <td>0.719</td>\n",
       "      <td>0.717</td>\n",
       "    </tr>\n",
       "    <tr>\n",
       "      <th>model</th>\n",
       "      <td>0.894</td>\n",
       "      <td>8.000</td>\n",
       "      <td>34.000</td>\n",
       "      <td>1.000</td>\n",
       "      <td>4.000</td>\n",
       "      <td>0.667</td>\n",
       "      <td>0.971</td>\n",
       "      <td>0.889</td>\n",
       "      <td>0.895</td>\n",
       "      <td>0.029</td>\n",
       "      <td>0.333</td>\n",
       "      <td>0.111</td>\n",
       "      <td>0.819</td>\n",
       "      <td>0.805</td>\n",
       "    </tr>\n",
       "  </tbody>\n",
       "</table>"
      ],
      "text/plain": [
       "<IPython.core.display.HTML object>"
      ]
     },
     "metadata": {},
     "output_type": "display_data"
    },
    {
     "data": {
      "text/html": [
       "<h4>fixed-complete</h4>"
      ],
      "text/plain": [
       "<IPython.core.display.HTML object>"
      ]
     },
     "metadata": {},
     "output_type": "display_data"
    },
    {
     "name": "stdout",
     "output_type": "stream",
     "text": [
      "Found 104 images belonging to 2 classes.\n",
      "error with benign/fixed-27244981-liver.jpeg: '27244981-liver.jpeg'\n",
      "error with benign/fixed-27244981-liver.jpeg: '27244981-liver.jpeg'\n"
     ]
    },
    {
     "data": {
      "text/html": [
       "<table border=\"1\" class=\"dataframe\">\n",
       "  <thead>\n",
       "    <tr style=\"text-align: right;\">\n",
       "      <th></th>\n",
       "      <th>Acc</th>\n",
       "      <th>TP</th>\n",
       "      <th>TN</th>\n",
       "      <th>FP</th>\n",
       "      <th>FN</th>\n",
       "      <th>TPR</th>\n",
       "      <th>TNR</th>\n",
       "      <th>PPV</th>\n",
       "      <th>NPV</th>\n",
       "      <th>FPR</th>\n",
       "      <th>FNR</th>\n",
       "      <th>FDR</th>\n",
       "      <th>AM</th>\n",
       "      <th>GM</th>\n",
       "    </tr>\n",
       "  </thead>\n",
       "  <tbody>\n",
       "    <tr>\n",
       "      <th>expert 1</th>\n",
       "      <td>0.625</td>\n",
       "      <td>18.000</td>\n",
       "      <td>47.000</td>\n",
       "      <td>23.000</td>\n",
       "      <td>16.000</td>\n",
       "      <td>0.529</td>\n",
       "      <td>0.671</td>\n",
       "      <td>0.439</td>\n",
       "      <td>0.746</td>\n",
       "      <td>0.329</td>\n",
       "      <td>0.471</td>\n",
       "      <td>0.561</td>\n",
       "      <td>0.600</td>\n",
       "      <td>0.596</td>\n",
       "    </tr>\n",
       "    <tr>\n",
       "      <th>expert 2</th>\n",
       "      <td>0.625</td>\n",
       "      <td>18.000</td>\n",
       "      <td>47.000</td>\n",
       "      <td>23.000</td>\n",
       "      <td>16.000</td>\n",
       "      <td>0.529</td>\n",
       "      <td>0.671</td>\n",
       "      <td>0.439</td>\n",
       "      <td>0.746</td>\n",
       "      <td>0.329</td>\n",
       "      <td>0.471</td>\n",
       "      <td>0.561</td>\n",
       "      <td>0.600</td>\n",
       "      <td>0.596</td>\n",
       "    </tr>\n",
       "    <tr>\n",
       "      <th>model</th>\n",
       "      <td>0.721</td>\n",
       "      <td>6.000</td>\n",
       "      <td>69.000</td>\n",
       "      <td>1.000</td>\n",
       "      <td>28.000</td>\n",
       "      <td>0.176</td>\n",
       "      <td>0.986</td>\n",
       "      <td>0.857</td>\n",
       "      <td>0.711</td>\n",
       "      <td>0.014</td>\n",
       "      <td>0.824</td>\n",
       "      <td>0.143</td>\n",
       "      <td>0.581</td>\n",
       "      <td>0.417</td>\n",
       "    </tr>\n",
       "  </tbody>\n",
       "</table>"
      ],
      "text/plain": [
       "<IPython.core.display.HTML object>"
      ]
     },
     "metadata": {},
     "output_type": "display_data"
    },
    {
     "data": {
      "text/html": [
       "<h4>fixed-uncertain</h4>"
      ],
      "text/plain": [
       "<IPython.core.display.HTML object>"
      ]
     },
     "metadata": {},
     "output_type": "display_data"
    },
    {
     "name": "stdout",
     "output_type": "stream",
     "text": [
      "Found 48 images belonging to 2 classes.\n"
     ]
    },
    {
     "data": {
      "text/html": [
       "<table border=\"1\" class=\"dataframe\">\n",
       "  <thead>\n",
       "    <tr style=\"text-align: right;\">\n",
       "      <th></th>\n",
       "      <th>Acc</th>\n",
       "      <th>TP</th>\n",
       "      <th>TN</th>\n",
       "      <th>FP</th>\n",
       "      <th>FN</th>\n",
       "      <th>TPR</th>\n",
       "      <th>TNR</th>\n",
       "      <th>PPV</th>\n",
       "      <th>NPV</th>\n",
       "      <th>FPR</th>\n",
       "      <th>FNR</th>\n",
       "      <th>FDR</th>\n",
       "      <th>AM</th>\n",
       "      <th>GM</th>\n",
       "    </tr>\n",
       "  </thead>\n",
       "  <tbody>\n",
       "    <tr>\n",
       "      <th>expert 1</th>\n",
       "      <td>0.708</td>\n",
       "      <td>9.000</td>\n",
       "      <td>25.000</td>\n",
       "      <td>10.000</td>\n",
       "      <td>4.000</td>\n",
       "      <td>0.692</td>\n",
       "      <td>0.714</td>\n",
       "      <td>0.474</td>\n",
       "      <td>0.862</td>\n",
       "      <td>0.286</td>\n",
       "      <td>0.308</td>\n",
       "      <td>0.526</td>\n",
       "      <td>0.703</td>\n",
       "      <td>0.703</td>\n",
       "    </tr>\n",
       "    <tr>\n",
       "      <th>expert 2</th>\n",
       "      <td>0.708</td>\n",
       "      <td>9.000</td>\n",
       "      <td>25.000</td>\n",
       "      <td>10.000</td>\n",
       "      <td>4.000</td>\n",
       "      <td>0.692</td>\n",
       "      <td>0.714</td>\n",
       "      <td>0.474</td>\n",
       "      <td>0.862</td>\n",
       "      <td>0.286</td>\n",
       "      <td>0.308</td>\n",
       "      <td>0.526</td>\n",
       "      <td>0.703</td>\n",
       "      <td>0.703</td>\n",
       "    </tr>\n",
       "    <tr>\n",
       "      <th>model</th>\n",
       "      <td>0.833</td>\n",
       "      <td>6.000</td>\n",
       "      <td>34.000</td>\n",
       "      <td>1.000</td>\n",
       "      <td>7.000</td>\n",
       "      <td>0.462</td>\n",
       "      <td>0.971</td>\n",
       "      <td>0.857</td>\n",
       "      <td>0.829</td>\n",
       "      <td>0.029</td>\n",
       "      <td>0.538</td>\n",
       "      <td>0.143</td>\n",
       "      <td>0.716</td>\n",
       "      <td>0.670</td>\n",
       "    </tr>\n",
       "  </tbody>\n",
       "</table>"
      ],
      "text/plain": [
       "<IPython.core.display.HTML object>"
      ]
     },
     "metadata": {},
     "output_type": "display_data"
    }
   ],
   "source": [
    "PROBABILITIES = dict()\n",
    "DATASETS = dict()\n",
    "STATS = dict()\n",
    "EXPERT1_STATS = dict()\n",
    "EXPERT2_STATS = dict()\n",
    "ALL = dict()\n",
    "RESULT = dict()\n",
    "CORRECT_INCORRECT = dict()\n",
    "for crop in CROPS: \n",
    "    for subset in SUBSETS:\n",
    "        display(HTML(\"<h4>{}-{}</h4>\".format(crop, subset)))\n",
    "        result = Result.query.filter(Result.uuid == UUIDS[(crop, subset)]).first()\n",
    "        dataset = load_single(\"{}/validation\".format(DATA_FOLDERS[(crop, subset)]))\n",
    "        probabilities = np.array(ast.literal_eval(result.probabilities))\n",
    "        predictions = transform_binary_predictions(probabilities)\n",
    "        stats = calculate_confusion_matrix_stats(get_labels(dataset), probabilities)\n",
    "        expert1_results = load_expert_results(\"evaluations/radiology-9809.json\", dataset)\n",
    "        expert2_results = load_expert_results(\"evaluations/radiology-9809.json\", dataset)\n",
    "        expert1_stats = calculate_confusion_matrix_stats(get_labels(dataset), expert1_results)\n",
    "        expert2_stats = calculate_confusion_matrix_stats(get_labels(dataset), expert2_results)\n",
    "        malignancy, modality, category = all_features(features=\"{}/features.csv\".format(DATA_FOLDERS[(crop, subset)]))\n",
    "        category_labels = [category.get(accession_from_filename(f), f) for f in dataset.filenames]\n",
    "        RESULT[(crop, subset)] = result\n",
    "        ALL[(crop, subset)] = pandas.DataFrame({\n",
    "            \"code_abdomen\": category_labels,\n",
    "            \"probabilities\": probabilities, \n",
    "            \"expert1\": expert1_results, \n",
    "            \"expert2\": expert2_results,\n",
    "            \"labels\": get_labels(dataset),\n",
    "        }) \n",
    "        CORRECT_INCORRECT[(crop, subset)] = { dataset.filenames[i]: (dataset.classes[i], predictions[i]) for i, _ in enumerate(dataset.filenames) }\n",
    "        DATASETS[(crop, subset)] = dataset\n",
    "        PROBABILITIES[(crop, subset)] = probabilities\n",
    "        STATS[(crop, subset)] = stats\n",
    "        EXPERT1_STATS[(crop, subset)] = expert1_stats\n",
    "        EXPERT2_STATS[(crop, subset)] = expert2_stats\n",
    "        display(HTML(pandas.DataFrame.from_dict({\n",
    "            \"model\": pandas.DataFrame(stats).iloc[1],\n",
    "            \"expert 1\": pandas.DataFrame(expert1_stats).iloc[1],\n",
    "            \"expert 2\": pandas.DataFrame(expert2_stats).iloc[1],\n",
    "        }, orient=\"index\").to_html()))"
   ]
  },
  {
   "cell_type": "code",
   "execution_count": 10,
   "metadata": {
    "scrolled": false
   },
   "outputs": [
    {
     "data": {
      "text/html": [
       "<h4>free-complete</h4>"
      ],
      "text/plain": [
       "<IPython.core.display.HTML object>"
      ]
     },
     "metadata": {},
     "output_type": "display_data"
    },
    {
     "name": "stdout",
     "output_type": "stream",
     "text": [
      "  code  expert1  expert2  model\n",
      "0   C2    0.933    0.933  0.867\n",
      "1   C3    0.769    0.769  0.821\n",
      "2   C4    0.529    0.529  0.882\n",
      "3   C5    0.750    0.750  0.750\n"
     ]
    },
    {
     "name": "stderr",
     "output_type": "stream",
     "text": [
      "/home/harrison/intrepidlemon/deep-ultrasound/evaluate.py:95: RuntimeWarning: invalid value encountered in true_divide\n",
      "  TPR = TP/(TP+FN)\n",
      "/home/harrison/intrepidlemon/deep-ultrasound/evaluate.py:97: RuntimeWarning: invalid value encountered in true_divide\n",
      "  TNR = TN/(TN+FP)\n",
      "/home/harrison/intrepidlemon/deep-ultrasound/evaluate.py:103: RuntimeWarning: invalid value encountered in true_divide\n",
      "  FPR = FP/(FP+TN)\n",
      "/home/harrison/intrepidlemon/deep-ultrasound/evaluate.py:105: RuntimeWarning: invalid value encountered in true_divide\n",
      "  FNR = FN/(TP+FN)\n"
     ]
    },
    {
     "data": {
      "image/png": "[encoded data removed]",
      "text/plain": [
       "<Figure size 432x288 with 1 Axes>"
      ]
     },
     "metadata": {},
     "output_type": "display_data"
    },
    {
     "data": {
      "text/html": [
       "<h4>free-uncertain</h4>"
      ],
      "text/plain": [
       "<IPython.core.display.HTML object>"
      ]
     },
     "metadata": {},
     "output_type": "display_data"
    },
    {
     "name": "stdout",
     "output_type": "stream",
     "text": [
      "  code  expert1  expert2  model\n",
      "0   C3    0.758    0.758  0.970\n",
      "1   C4    0.714    0.714  0.714\n"
     ]
    },
    {
     "data": {
      "image/png": "[encoded data removed]",
      "text/plain": [
       "<Figure size 432x288 with 1 Axes>"
      ]
     },
     "metadata": {},
     "output_type": "display_data"
    },
    {
     "data": {
      "text/html": [
       "<h4>fixed-complete</h4>"
      ],
      "text/plain": [
       "<IPython.core.display.HTML object>"
      ]
     },
     "metadata": {},
     "output_type": "display_data"
    },
    {
     "name": "stdout",
     "output_type": "stream",
     "text": [
      "  code  expert1  expert2  model\n",
      "0   C2    0.743    0.743  0.971\n",
      "1   C3    0.579    0.579  0.895\n",
      "2   C4    0.375    0.375  0.375\n",
      "3   C5    0.609    0.609  0.174\n"
     ]
    },
    {
     "data": {
      "image/png": "[encoded data removed]",
      "text/plain": [
       "<Figure size 432x288 with 1 Axes>"
      ]
     },
     "metadata": {},
     "output_type": "display_data"
    },
    {
     "data": {
      "text/html": [
       "<h4>fixed-uncertain</h4>"
      ],
      "text/plain": [
       "<IPython.core.display.HTML object>"
      ]
     },
     "metadata": {},
     "output_type": "display_data"
    },
    {
     "name": "stdout",
     "output_type": "stream",
     "text": [
      "  code  expert1  expert2  model\n",
      "0   C3    0.686    0.686  0.914\n",
      "1   C4    0.769    0.769  0.615\n"
     ]
    },
    {
     "data": {
      "image/png": "[encoded data removed]",
      "text/plain": [
       "<Figure size 432x288 with 1 Axes>"
      ]
     },
     "metadata": {},
     "output_type": "display_data"
    }
   ],
   "source": [
    "def get_acc(labels, probabilities): \n",
    "    stats = calculate_confusion_matrix_stats(labels, probabilities)\n",
    "    return stats[\"Acc\"][1]\n",
    "\n",
    "for crop in CROPS: \n",
    "    for subset in SUBSETS:\n",
    "        display(HTML(\"<h4>{}-{}</h4>\".format(crop, subset)))\n",
    "        results = ALL[(crop, subset)]\n",
    "        accuracy_by_code = list()\n",
    "        accuracy_list = list()\n",
    "        for code in np.unique(results.code_abdomen): \n",
    "            pd = results[results.code_abdomen == code]\n",
    "            model = get_acc(pd[\"labels\"].values, pd[\"probabilities\"].values)\n",
    "            expert1 = get_acc(pd[\"labels\"].values, pd[\"expert1\"].values)\n",
    "            expert2 = get_acc(pd[\"labels\"].values, pd[\"expert2\"].values)\n",
    "            accuracy_list.append({\n",
    "                \"code\": code, \n",
    "                \"model\": \"ResNet\", \n",
    "                \"accuracy\": model, \n",
    "            })\n",
    "            accuracy_list.append({\n",
    "                \"code\": code, \n",
    "                \"model\": \"expert 1\", \n",
    "                \"accuracy\": expert1, \n",
    "            })\n",
    "            accuracy_list.append({\n",
    "                \"code\": code, \n",
    "                \"model\": \"expert 2\", \n",
    "                \"accuracy\": expert2, \n",
    "            })                \n",
    "            accuracy_by_code.append({\n",
    "                \"code\": code, \n",
    "                \"model\": model, \n",
    "                \"expert1\": expert1, \n",
    "                \"expert2\": expert2,\n",
    "            })\n",
    "        print(pandas.DataFrame(accuracy_by_code))\n",
    "        seaborn.barplot(data=pandas.DataFrame(accuracy_list), x=\"code\", y=\"accuracy\", hue=\"model\")\n",
    "        plt.legend(bbox_to_anchor=(1.05, 1), loc=2, borderaxespad=0.)\n",
    "        plt.show()"
   ]
  },
  {
   "cell_type": "code",
   "execution_count": 61,
   "metadata": {
    "scrolled": false
   },
   "outputs": [
    {
     "data": {
      "text/html": [
       "<h3>free-complete</h3>"
      ],
      "text/plain": [
       "<IPython.core.display.HTML object>"
      ]
     },
     "metadata": {},
     "output_type": "display_data"
    },
    {
     "data": {
      "text/html": [
       "<h5>diagnosis: benign | prediction: benign</h5>"
      ],
      "text/plain": [
       "<IPython.core.display.HTML object>"
      ]
     },
     "metadata": {},
     "output_type": "display_data"
    },
    {
     "name": "stderr",
     "output_type": "stream",
     "text": [
      "/home/harrison/.local/share/virtualenvs/deep-ultrasound-k5cplrX3/lib/python3.6/site-packages/skimage/transform/_warps.py:105: UserWarning: The default mode, 'constant', will be changed to 'reflect' in skimage 0.15.\n",
      "  warn(\"The default mode, 'constant', will be changed to 'reflect' in \"\n",
      "/home/harrison/.local/share/virtualenvs/deep-ultrasound-k5cplrX3/lib/python3.6/site-packages/skimage/transform/_warps.py:110: UserWarning: Anti-aliasing will be enabled by default in skimage 0.15 to avoid aliasing artifacts when down-sampling images.\n",
      "  warn(\"Anti-aliasing will be enabled by default in skimage 0.15 to \"\n"
     ]
    },
    {
     "name": "stdout",
     "output_type": "stream",
     "text": [
      "https://cf151f9a.ngrok.io/15265143/liaver.jpeg\n",
      "https://cf151f9a.ngrok.io/15705324/liver.jpeg\n",
      "https://cf151f9a.ngrok.io/15764983/liver.jpeg\n",
      "https://cf151f9a.ngrok.io/15779715/liver.jpeg\n",
      "https://cf151f9a.ngrok.io/15899132/liver.jpeg\n",
      "https://cf151f9a.ngrok.io/15987441/liver.jpeg\n",
      "https://cf151f9a.ngrok.io/15996115/liver.jpeg\n",
      "https://cf151f9a.ngrok.io/26231700/liver-1.jpeg\n",
      "https://cf151f9a.ngrok.io/26231700/liver-2.jpeg\n",
      "https://cf151f9a.ngrok.io/26373027/liver.jpeg\n",
      "https://cf151f9a.ngrok.io/26424318/liver.jpeg\n",
      "https://cf151f9a.ngrok.io/26436176/liver.jpeg\n",
      "https://cf151f9a.ngrok.io/26556456/liver.jpeg\n",
      "https://cf151f9a.ngrok.io/26852121/liver.jpeg\n",
      "https://cf151f9a.ngrok.io/27115175/liver-1.jpeg\n",
      "https://cf151f9a.ngrok.io/27115175/liver-2.jpeg\n",
      "https://cf151f9a.ngrok.io/27115175/liver-4.jpeg\n",
      "https://cf151f9a.ngrok.io/27115175/liver.jpeg\n",
      "https://cf151f9a.ngrok.io/27128001/liver.jpeg\n",
      "https://cf151f9a.ngrok.io/27164560/liver.jpeg\n",
      "https://cf151f9a.ngrok.io/27177540/liver-3.jpeg\n",
      "https://cf151f9a.ngrok.io/27177540/liver-4.jpeg\n",
      "https://cf151f9a.ngrok.io/27177540/liver-5.jpeg\n",
      "https://cf151f9a.ngrok.io/27177540/liver.jpeg\n",
      "https://cf151f9a.ngrok.io/27235317/liver.jpeg\n",
      "https://cf151f9a.ngrok.io/27244981/liver.jpeg\n",
      "https://cf151f9a.ngrok.io/27299036/liver.jpeg\n",
      "https://cf151f9a.ngrok.io/27371526/liver.jpeg\n",
      "https://cf151f9a.ngrok.io/27467442/liver.jpeg\n",
      "https://cf151f9a.ngrok.io/27553542/liver.jpeg\n",
      "https://cf151f9a.ngrok.io/27621453/liver.jpeg\n",
      "https://cf151f9a.ngrok.io/27662039/liver-2.jpeg\n",
      "https://cf151f9a.ngrok.io/27662039/liver-3.jpeg\n",
      "https://cf151f9a.ngrok.io/27662039/liver.jpeg\n",
      "https://cf151f9a.ngrok.io/27715000/liver.jpeg\n",
      "https://cf151f9a.ngrok.io/27835860/liver.jpeg\n",
      "https://cf151f9a.ngrok.io/28058797/liver-2.jpeg\n",
      "https://cf151f9a.ngrok.io/28058797/liver.jpeg\n",
      "https://cf151f9a.ngrok.io/28129989/liver-2.jpeg\n",
      "https://cf151f9a.ngrok.io/28129989/liver-3.jpeg\n",
      "https://cf151f9a.ngrok.io/28129989/liver.jpeg\n",
      "https://cf151f9a.ngrok.io/28144446/liver.jpeg\n",
      "https://cf151f9a.ngrok.io/28322447/liver-2.jpeg\n",
      "https://cf151f9a.ngrok.io/28322447/liver.jpeg\n",
      "https://cf151f9a.ngrok.io/28332237/liver.jpeg\n",
      "https://cf151f9a.ngrok.io/28383202/liver-2.jpeg\n",
      "https://cf151f9a.ngrok.io/28435796/liver-2.jpeg\n",
      "https://cf151f9a.ngrok.io/28435796/liver-3.jpeg\n",
      "https://cf151f9a.ngrok.io/28435796/liver.jpeg\n",
      "https://cf151f9a.ngrok.io/28645215/liver.jpeg\n",
      "https://cf151f9a.ngrok.io/28646972/liver.jpeg\n",
      "https://cf151f9a.ngrok.io/28655468/liver.jpeg\n",
      "https://cf151f9a.ngrok.io/28771127/liver.jpeg\n",
      "https://cf151f9a.ngrok.io/28810812/liver.jpeg\n",
      "https://cf151f9a.ngrok.io/28827080/liver.jpeg\n",
      "https://cf151f9a.ngrok.io/28884068/liver.jpeg\n",
      "https://cf151f9a.ngrok.io/28966960/liver.jpeg\n",
      "https://cf151f9a.ngrok.io/29401749/liver.jpeg\n",
      "https://cf151f9a.ngrok.io/29511670/liver.jpeg\n",
      "https://cf151f9a.ngrok.io/29558649/liver.jpeg\n",
      "https://cf151f9a.ngrok.io/29909452/liver.jpeg\n",
      "https://cf151f9a.ngrok.io/29917777/liver.jpeg\n"
     ]
    },
    {
     "data": {
      "text/html": [
       "<h5>diagnosis: malignant | prediction: malignant</h5>"
      ],
      "text/plain": [
       "<IPython.core.display.HTML object>"
      ]
     },
     "metadata": {},
     "output_type": "display_data"
    },
    {
     "name": "stdout",
     "output_type": "stream",
     "text": [
      "https://cf151f9a.ngrok.io/15896690/liver.jpeg\n",
      "https://cf151f9a.ngrok.io/26227303/liver.jpeg\n",
      "https://cf151f9a.ngrok.io/26508318/liver.jpeg\n",
      "https://cf151f9a.ngrok.io/26868773/liver-2.jpeg\n",
      "https://cf151f9a.ngrok.io/26868773/liver.jpeg\n",
      "https://cf151f9a.ngrok.io/27075350/liver.jpeg\n",
      "https://cf151f9a.ngrok.io/27180434/liver.jpeg\n",
      "https://cf151f9a.ngrok.io/27223029/liver.jpeg\n",
      "https://cf151f9a.ngrok.io/27411400/liver.jpeg\n",
      "https://cf151f9a.ngrok.io/27425522/liver.jpeg\n",
      "https://cf151f9a.ngrok.io/27546260/liver.jpeg\n",
      "https://cf151f9a.ngrok.io/27574652/liver.jpeg\n",
      "https://cf151f9a.ngrok.io/27756113/liver.jpeg\n",
      "https://cf151f9a.ngrok.io/28503426/liver-2.jpeg\n",
      "https://cf151f9a.ngrok.io/28746483/liver-2.jpeg\n",
      "https://cf151f9a.ngrok.io/28746483/liver.jpeg\n",
      "https://cf151f9a.ngrok.io/28901883/liver.jpeg\n",
      "https://cf151f9a.ngrok.io/29327457/liver-2.jpeg\n",
      "https://cf151f9a.ngrok.io/29399341/liver.jpeg\n",
      "https://cf151f9a.ngrok.io/29663415/liver.jpeg\n",
      "https://cf151f9a.ngrok.io/29987556/liver.jpeg\n",
      "https://cf151f9a.ngrok.io/29991118/liver.jpeg\n",
      "https://cf151f9a.ngrok.io/30081681/liver.jpeg\n"
     ]
    },
    {
     "data": {
      "text/html": [
       "<h5>diagnosis: benign | prediction: malignant</h5>"
      ],
      "text/plain": [
       "<IPython.core.display.HTML object>"
      ]
     },
     "metadata": {},
     "output_type": "display_data"
    },
    {
     "name": "stdout",
     "output_type": "stream",
     "text": [
      "https://cf151f9a.ngrok.io/26124887/liver.jpeg\n",
      "https://cf151f9a.ngrok.io/26355585/liver.jpeg\n",
      "https://cf151f9a.ngrok.io/26453970/liver.jpeg\n",
      "https://cf151f9a.ngrok.io/26713257/liver.jpeg\n",
      "https://cf151f9a.ngrok.io/27115175/liver-3.jpeg\n",
      "https://cf151f9a.ngrok.io/27177540/liver-2.jpeg\n",
      "https://cf151f9a.ngrok.io/28188798/liver.jpeg\n",
      "https://cf151f9a.ngrok.io/28383202/liver.jpeg\n",
      "https://cf151f9a.ngrok.io/28534547/liver.jpeg\n",
      "https://cf151f9a.ngrok.io/28705641/liver.jpeg\n",
      "https://cf151f9a.ngrok.io/28831263/liver.jpeg\n",
      "https://cf151f9a.ngrok.io/29397826/liver.jpeg\n"
     ]
    },
    {
     "data": {
      "text/html": [
       "<h5>diagnosis: malignant | prediction: benign</h5>"
      ],
      "text/plain": [
       "<IPython.core.display.HTML object>"
      ]
     },
     "metadata": {},
     "output_type": "display_data"
    },
    {
     "name": "stdout",
     "output_type": "stream",
     "text": [
      "https://cf151f9a.ngrok.io/26269612/liver.jpeg\n",
      "https://cf151f9a.ngrok.io/26603779/liver.jpeg\n",
      "https://cf151f9a.ngrok.io/27345619/liver.jpeg\n",
      "https://cf151f9a.ngrok.io/29327457/liver.jpeg\n",
      "https://cf151f9a.ngrok.io/29929975/liver.jpeg\n"
     ]
    },
    {
     "data": {
      "text/html": [
       "<h3>free-uncertain</h3>"
      ],
      "text/plain": [
       "<IPython.core.display.HTML object>"
      ]
     },
     "metadata": {},
     "output_type": "display_data"
    },
    {
     "data": {
      "text/html": [
       "<h5>diagnosis: benign | prediction: benign</h5>"
      ],
      "text/plain": [
       "<IPython.core.display.HTML object>"
      ]
     },
     "metadata": {},
     "output_type": "display_data"
    },
    {
     "name": "stdout",
     "output_type": "stream",
     "text": [
      "https://cf151f9a.ngrok.io/15551563/liver-2.jpeg\n",
      "https://cf151f9a.ngrok.io/15987441/liver.jpeg\n",
      "https://cf151f9a.ngrok.io/26114650/liver.jpeg\n",
      "https://cf151f9a.ngrok.io/26788792/liver.jpeg\n",
      "https://cf151f9a.ngrok.io/27073745/liver-2.jpeg\n",
      "https://cf151f9a.ngrok.io/27073745/liver.jpeg\n",
      "https://cf151f9a.ngrok.io/27247600/liver.jpeg\n",
      "https://cf151f9a.ngrok.io/27257835/liver.jpeg\n",
      "https://cf151f9a.ngrok.io/27369141/liver-2.jpeg\n",
      "https://cf151f9a.ngrok.io/27369141/liver-3.jpeg\n",
      "https://cf151f9a.ngrok.io/27369141/liver.jpeg\n",
      "https://cf151f9a.ngrok.io/27403964/liver-2.jpeg\n",
      "https://cf151f9a.ngrok.io/27403964/liver.jpeg\n",
      "https://cf151f9a.ngrok.io/27604977/liver.jpeg\n",
      "https://cf151f9a.ngrok.io/27741572/liver.jpeg\n",
      "https://cf151f9a.ngrok.io/27977474/liver.jpeg\n",
      "https://cf151f9a.ngrok.io/28006871/liver-2.jpeg\n",
      "https://cf151f9a.ngrok.io/28006871/liver.jpeg\n",
      "https://cf151f9a.ngrok.io/28129989/liver-2.jpeg\n",
      "https://cf151f9a.ngrok.io/28129989/liver-3.jpeg\n",
      "https://cf151f9a.ngrok.io/28129989/liver.jpeg\n",
      "https://cf151f9a.ngrok.io/28232818/liver.jpeg\n",
      "https://cf151f9a.ngrok.io/28278606/liver.jpeg\n",
      "https://cf151f9a.ngrok.io/28332237/liver.jpeg\n",
      "https://cf151f9a.ngrok.io/28435796/liver-2.jpeg\n",
      "https://cf151f9a.ngrok.io/28435796/liver-3.jpeg\n",
      "https://cf151f9a.ngrok.io/28435796/liver.jpeg\n",
      "https://cf151f9a.ngrok.io/28468571/liver.jpeg\n",
      "https://cf151f9a.ngrok.io/28625156/liver.jpeg\n",
      "https://cf151f9a.ngrok.io/28646972/liver.jpeg\n",
      "https://cf151f9a.ngrok.io/28796426/liver-2.jpeg\n",
      "https://cf151f9a.ngrok.io/28796426/liver.jpeg\n",
      "https://cf151f9a.ngrok.io/28810812/liver.jpeg\n",
      "https://cf151f9a.ngrok.io/28831263/liver.jpeg\n"
     ]
    },
    {
     "data": {
      "text/html": [
       "<h5>diagnosis: malignant | prediction: malignant</h5>"
      ],
      "text/plain": [
       "<IPython.core.display.HTML object>"
      ]
     },
     "metadata": {},
     "output_type": "display_data"
    },
    {
     "name": "stdout",
     "output_type": "stream",
     "text": [
      "https://cf151f9a.ngrok.io/15582426/liver.jpeg\n",
      "https://cf151f9a.ngrok.io/26428183/liver-2.jpeg\n",
      "https://cf151f9a.ngrok.io/26428183/liver.jpeg\n",
      "https://cf151f9a.ngrok.io/27574652/liver.jpeg\n",
      "https://cf151f9a.ngrok.io/28610471/liver.jpeg\n",
      "https://cf151f9a.ngrok.io/28985749/liver-2.jpeg\n",
      "https://cf151f9a.ngrok.io/28985749/liver.jpeg\n",
      "https://cf151f9a.ngrok.io/29088638/liver.jpeg\n"
     ]
    },
    {
     "data": {
      "text/html": [
       "<h5>diagnosis: benign | prediction: malignant</h5>"
      ],
      "text/plain": [
       "<IPython.core.display.HTML object>"
      ]
     },
     "metadata": {},
     "output_type": "display_data"
    },
    {
     "name": "stdout",
     "output_type": "stream",
     "text": [
      "https://cf151f9a.ngrok.io/15551563/liver.jpeg\n"
     ]
    },
    {
     "data": {
      "text/html": [
       "<h5>diagnosis: malignant | prediction: benign</h5>"
      ],
      "text/plain": [
       "<IPython.core.display.HTML object>"
      ]
     },
     "metadata": {},
     "output_type": "display_data"
    },
    {
     "name": "stdout",
     "output_type": "stream",
     "text": [
      "https://cf151f9a.ngrok.io/26227303/liver.jpeg\n",
      "https://cf151f9a.ngrok.io/27180434/liver.jpeg\n",
      "https://cf151f9a.ngrok.io/27625401/liver.jpeg\n",
      "https://cf151f9a.ngrok.io/27959725/liver.jpeg\n"
     ]
    },
    {
     "data": {
      "text/html": [
       "<h3>fixed-complete</h3>"
      ],
      "text/plain": [
       "<IPython.core.display.HTML object>"
      ]
     },
     "metadata": {},
     "output_type": "display_data"
    },
    {
     "data": {
      "text/html": [
       "<h5>diagnosis: benign | prediction: benign</h5>"
      ],
      "text/plain": [
       "<IPython.core.display.HTML object>"
      ]
     },
     "metadata": {},
     "output_type": "display_data"
    },
    {
     "name": "stdout",
     "output_type": "stream",
     "text": [
      "https://cf151f9a.ngrok.io/15478991/liver.jpeg\n",
      "https://cf151f9a.ngrok.io/15573577/liver.jpeg\n",
      "https://cf151f9a.ngrok.io/15579240/liver.jpeg\n",
      "https://cf151f9a.ngrok.io/15754818/liver-1.jpeg\n",
      "https://cf151f9a.ngrok.io/15957948/liver.jpeg\n",
      "https://cf151f9a.ngrok.io/15987441/liver.jpeg\n",
      "https://cf151f9a.ngrok.io/26002248/liver.jpeg\n",
      "https://cf151f9a.ngrok.io/26051811/liver-1.jpeg\n",
      "https://cf151f9a.ngrok.io/26051811/liver.jpeg\n",
      "https://cf151f9a.ngrok.io/26168667/liver.jpeg\n",
      "https://cf151f9a.ngrok.io/26183842/liver.jpeg\n",
      "https://cf151f9a.ngrok.io/26213342/liver-1.jpeg\n",
      "https://cf151f9a.ngrok.io/26213342/liver-2.jpeg\n",
      "https://cf151f9a.ngrok.io/26255625/liver.jpeg\n",
      "https://cf151f9a.ngrok.io/26401332/liver.jpeg\n",
      "https://cf151f9a.ngrok.io/26420409/liver.jpeg\n",
      "https://cf151f9a.ngrok.io/26424962/liver.jpeg\n",
      "https://cf151f9a.ngrok.io/26436176/liver.jpeg\n",
      "https://cf151f9a.ngrok.io/26616867/liver.jpeg\n",
      "https://cf151f9a.ngrok.io/26765562/liver.jpeg\n",
      "https://cf151f9a.ngrok.io/26864409/liver.jpeg\n",
      "https://cf151f9a.ngrok.io/26894020/liver.jpeg\n",
      "https://cf151f9a.ngrok.io/26971610/liver.jpeg\n",
      "https://cf151f9a.ngrok.io/27046391/liver.jpeg\n",
      "https://cf151f9a.ngrok.io/27068562/liver.jpeg\n",
      "https://cf151f9a.ngrok.io/27115175/liver-1.jpeg\n",
      "https://cf151f9a.ngrok.io/27115175/liver-2.jpeg\n",
      "https://cf151f9a.ngrok.io/27115175/liver-3.jpeg\n",
      "https://cf151f9a.ngrok.io/27115175/liver-4.jpeg\n",
      "https://cf151f9a.ngrok.io/27115175/liver.jpeg\n",
      "https://cf151f9a.ngrok.io/27217389/liver-2.jpeg\n",
      "https://cf151f9a.ngrok.io/27217389/liver.jpeg\n",
      "https://cf151f9a.ngrok.io/27223584/liver.jpeg\n",
      "https://cf151f9a.ngrok.io/27244981/liver.jpeg\n",
      "https://cf151f9a.ngrok.io/27403964/liver-2.jpeg\n",
      "https://cf151f9a.ngrok.io/27403964/liver.jpeg\n",
      "https://cf151f9a.ngrok.io/27491517/liver.jpeg\n",
      "https://cf151f9a.ngrok.io/27687435/liver.jpeg\n",
      "https://cf151f9a.ngrok.io/27857314/liver.jpeg\n",
      "https://cf151f9a.ngrok.io/27906762/liver.jpeg\n",
      "https://cf151f9a.ngrok.io/27924981/liver.jpeg\n",
      "https://cf151f9a.ngrok.io/27952285/liver-2.jpeg\n",
      "https://cf151f9a.ngrok.io/27952285/liver.jpeg\n",
      "https://cf151f9a.ngrok.io/28058418/liver-2.jpeg\n",
      "https://cf151f9a.ngrok.io/28058418/liver.jpeg\n",
      "https://cf151f9a.ngrok.io/28164768/liver.jpeg\n",
      "https://cf151f9a.ngrok.io/28188798/liver.jpeg\n",
      "https://cf151f9a.ngrok.io/28278606/liver.jpeg\n",
      "https://cf151f9a.ngrok.io/28302542/liver-2.jpeg\n",
      "https://cf151f9a.ngrok.io/28302542/liver.jpeg\n",
      "https://cf151f9a.ngrok.io/28322447/liver-2.jpeg\n",
      "https://cf151f9a.ngrok.io/28322447/liver.jpeg\n",
      "https://cf151f9a.ngrok.io/28435796/liver-2.jpeg\n",
      "https://cf151f9a.ngrok.io/28435796/liver-3.jpeg\n",
      "https://cf151f9a.ngrok.io/28435796/liver.jpeg\n",
      "https://cf151f9a.ngrok.io/28441895/liver.jpeg\n",
      "https://cf151f9a.ngrok.io/28443862/liver.jpeg\n",
      "https://cf151f9a.ngrok.io/28645215/liver.jpeg\n",
      "https://cf151f9a.ngrok.io/28678358/liver.jpeg\n",
      "https://cf151f9a.ngrok.io/28699569/liver.jpeg\n",
      "https://cf151f9a.ngrok.io/28714262/liver.jpeg\n",
      "https://cf151f9a.ngrok.io/29066826/liver.jpeg\n",
      "https://cf151f9a.ngrok.io/29242270/liver.jpeg\n",
      "https://cf151f9a.ngrok.io/29343576/liver.jpeg\n",
      "https://cf151f9a.ngrok.io/29401749/liver.jpeg\n",
      "https://cf151f9a.ngrok.io/29488541/liver.jpeg\n",
      "https://cf151f9a.ngrok.io/29800047/liver.jpeg\n",
      "https://cf151f9a.ngrok.io/29848352/liver.jpeg\n",
      "https://cf151f9a.ngrok.io/30047885/liver.jpeg\n"
     ]
    },
    {
     "data": {
      "text/html": [
       "<h5>diagnosis: malignant | prediction: malignant</h5>"
      ],
      "text/plain": [
       "<IPython.core.display.HTML object>"
      ]
     },
     "metadata": {},
     "output_type": "display_data"
    },
    {
     "name": "stdout",
     "output_type": "stream",
     "text": [
      "https://cf151f9a.ngrok.io/26115783/liver.jpeg\n",
      "https://cf151f9a.ngrok.io/26758017/liver.jpeg\n",
      "https://cf151f9a.ngrok.io/27411400/liver.jpeg\n",
      "https://cf151f9a.ngrok.io/28357978/liver-3.jpeg\n",
      "https://cf151f9a.ngrok.io/28646314/liver.jpeg\n",
      "https://cf151f9a.ngrok.io/30019459/liver.jpeg\n"
     ]
    },
    {
     "data": {
      "text/html": [
       "<h5>diagnosis: benign | prediction: malignant</h5>"
      ],
      "text/plain": [
       "<IPython.core.display.HTML object>"
      ]
     },
     "metadata": {},
     "output_type": "display_data"
    },
    {
     "name": "stdout",
     "output_type": "stream",
     "text": [
      "https://cf151f9a.ngrok.io/28878239/liver.jpeg\n"
     ]
    },
    {
     "data": {
      "text/html": [
       "<h5>diagnosis: malignant | prediction: benign</h5>"
      ],
      "text/plain": [
       "<IPython.core.display.HTML object>"
      ]
     },
     "metadata": {},
     "output_type": "display_data"
    },
    {
     "name": "stdout",
     "output_type": "stream",
     "text": [
      "https://cf151f9a.ngrok.io/15488160/liver.jpeg\n",
      "https://cf151f9a.ngrok.io/15909347/liver.jpeg\n",
      "https://cf151f9a.ngrok.io/26115783/liver-2.jpeg\n",
      "https://cf151f9a.ngrok.io/26588978/liver.jpeg\n",
      "https://cf151f9a.ngrok.io/26758017/liver-2.jpeg\n",
      "https://cf151f9a.ngrok.io/26864712/liver.jpeg\n",
      "https://cf151f9a.ngrok.io/26868773/liver-2.jpeg\n",
      "https://cf151f9a.ngrok.io/26868773/liver.jpeg\n",
      "https://cf151f9a.ngrok.io/27293940/liver.jpeg\n",
      "https://cf151f9a.ngrok.io/27735290/liver.jpeg\n",
      "https://cf151f9a.ngrok.io/27959725/liver.jpeg\n",
      "https://cf151f9a.ngrok.io/28246550/liver.jpeg\n",
      "https://cf151f9a.ngrok.io/28357978/liver-2.jpeg\n",
      "https://cf151f9a.ngrok.io/28357978/liver-4.jpeg\n",
      "https://cf151f9a.ngrok.io/28357978/liver.jpeg\n",
      "https://cf151f9a.ngrok.io/28445913/liver.jpeg\n",
      "https://cf151f9a.ngrok.io/28610471/liver.jpeg\n",
      "https://cf151f9a.ngrok.io/28664237/liver.jpeg\n",
      "https://cf151f9a.ngrok.io/28746483/liver-2.jpeg\n",
      "https://cf151f9a.ngrok.io/28746483/liver.jpeg\n",
      "https://cf151f9a.ngrok.io/29086364/liver-2.jpeg\n",
      "https://cf151f9a.ngrok.io/29086364/liver.jpeg\n",
      "https://cf151f9a.ngrok.io/29340376/liver.jpeg\n",
      "https://cf151f9a.ngrok.io/29399341/liver.jpeg\n",
      "https://cf151f9a.ngrok.io/29437707/liver-2.jpeg\n",
      "https://cf151f9a.ngrok.io/29437707/liver.jpeg\n",
      "https://cf151f9a.ngrok.io/29622852/liver.jpeg\n",
      "https://cf151f9a.ngrok.io/30143837/liver.jpeg\n"
     ]
    },
    {
     "data": {
      "text/html": [
       "<h3>fixed-uncertain</h3>"
      ],
      "text/plain": [
       "<IPython.core.display.HTML object>"
      ]
     },
     "metadata": {},
     "output_type": "display_data"
    },
    {
     "data": {
      "text/html": [
       "<h5>diagnosis: benign | prediction: benign</h5>"
      ],
      "text/plain": [
       "<IPython.core.display.HTML object>"
      ]
     },
     "metadata": {},
     "output_type": "display_data"
    },
    {
     "name": "stdout",
     "output_type": "stream",
     "text": [
      "https://cf151f9a.ngrok.io/15889706/liver.jpeg\n",
      "https://cf151f9a.ngrok.io/15987441/liver.jpeg\n",
      "https://cf151f9a.ngrok.io/26231700/liver-1.jpeg\n",
      "https://cf151f9a.ngrok.io/26231700/liver-2.jpeg\n",
      "https://cf151f9a.ngrok.io/26252663/liver-1.jpeg\n",
      "https://cf151f9a.ngrok.io/26438501/liver-1.jpeg\n",
      "https://cf151f9a.ngrok.io/26438501/liver-2.jpeg\n",
      "https://cf151f9a.ngrok.io/26438501/liver-3.jpeg\n",
      "https://cf151f9a.ngrok.io/26438501/liver-4.jpeg\n",
      "https://cf151f9a.ngrok.io/26438501/liver-5.jpeg\n",
      "https://cf151f9a.ngrok.io/26438501/liver-6.jpeg\n",
      "https://cf151f9a.ngrok.io/26453970/liver.jpeg\n",
      "https://cf151f9a.ngrok.io/26616867/liver.jpeg\n",
      "https://cf151f9a.ngrok.io/26631175/liver.jpeg\n",
      "https://cf151f9a.ngrok.io/26864409/liver.jpeg\n",
      "https://cf151f9a.ngrok.io/26894020/liver.jpeg\n",
      "https://cf151f9a.ngrok.io/27164560/liver.jpeg\n",
      "https://cf151f9a.ngrok.io/27188709/liver-2.jpeg\n",
      "https://cf151f9a.ngrok.io/27188709/liver.jpeg\n",
      "https://cf151f9a.ngrok.io/27371526/liver.jpeg\n",
      "https://cf151f9a.ngrok.io/27403964/liver-2.jpeg\n",
      "https://cf151f9a.ngrok.io/27403964/liver.jpeg\n",
      "https://cf151f9a.ngrok.io/27463469/liver.jpeg\n",
      "https://cf151f9a.ngrok.io/27545537/liver.jpeg\n",
      "https://cf151f9a.ngrok.io/28058655/liver.jpeg\n",
      "https://cf151f9a.ngrok.io/28119827/liver.jpeg\n",
      "https://cf151f9a.ngrok.io/28383316/liver.jpeg\n",
      "https://cf151f9a.ngrok.io/28435718/liver.jpeg\n",
      "https://cf151f9a.ngrok.io/28796426/liver-2.jpeg\n",
      "https://cf151f9a.ngrok.io/28796426/liver.jpeg\n",
      "https://cf151f9a.ngrok.io/28807038/liver-2.jpeg\n",
      "https://cf151f9a.ngrok.io/28807038/liver.jpeg\n",
      "https://cf151f9a.ngrok.io/28883769/liver-2.jpeg\n",
      "https://cf151f9a.ngrok.io/28883769/liver.jpeg\n"
     ]
    },
    {
     "data": {
      "text/html": [
       "<h5>diagnosis: malignant | prediction: malignant</h5>"
      ],
      "text/plain": [
       "<IPython.core.display.HTML object>"
      ]
     },
     "metadata": {},
     "output_type": "display_data"
    },
    {
     "name": "stdout",
     "output_type": "stream",
     "text": [
      "https://cf151f9a.ngrok.io/26336316/liver.jpeg\n",
      "https://cf151f9a.ngrok.io/27825433/liver-2.jpeg\n",
      "https://cf151f9a.ngrok.io/27825433/liver.jpeg\n",
      "https://cf151f9a.ngrok.io/28746483/liver-2.jpeg\n",
      "https://cf151f9a.ngrok.io/28985749/liver-2.jpeg\n",
      "https://cf151f9a.ngrok.io/28985749/liver.jpeg\n"
     ]
    },
    {
     "data": {
      "text/html": [
       "<h5>diagnosis: benign | prediction: malignant</h5>"
      ],
      "text/plain": [
       "<IPython.core.display.HTML object>"
      ]
     },
     "metadata": {},
     "output_type": "display_data"
    },
    {
     "name": "stdout",
     "output_type": "stream",
     "text": [
      "https://cf151f9a.ngrok.io/27811439/liver.jpeg\n"
     ]
    },
    {
     "data": {
      "text/html": [
       "<h5>diagnosis: malignant | prediction: benign</h5>"
      ],
      "text/plain": [
       "<IPython.core.display.HTML object>"
      ]
     },
     "metadata": {},
     "output_type": "display_data"
    },
    {
     "name": "stdout",
     "output_type": "stream",
     "text": [
      "https://cf151f9a.ngrok.io/15582426/liver.jpeg\n",
      "https://cf151f9a.ngrok.io/26508318/liver.jpeg\n",
      "https://cf151f9a.ngrok.io/26919936/liver.jpeg\n",
      "https://cf151f9a.ngrok.io/27574652/liver.jpeg\n",
      "https://cf151f9a.ngrok.io/27959725/liver.jpeg\n",
      "https://cf151f9a.ngrok.io/28050498/liver.jpeg\n",
      "https://cf151f9a.ngrok.io/28746483/liver.jpeg\n"
     ]
    },
    {
     "data": {
      "image/png": "[encoded data removed]",
      "text/plain": [
       "<Figure size 1296x2808 with 65 Axes>"
      ]
     },
     "metadata": {},
     "output_type": "display_data"
    },
    {
     "data": {
      "image/png": "[encoded data removed]",
      "text/plain": [
       "<Figure size 1296x1080 with 25 Axes>"
      ]
     },
     "metadata": {},
     "output_type": "display_data"
    },
    {
     "data": {
      "image/png": "[encoded data removed]",
      "text/plain": [
       "<Figure size 1296x648 with 15 Axes>"
      ]
     },
     "metadata": {},
     "output_type": "display_data"
    },
    {
     "data": {
      "image/png": "[encoded data removed]",
      "text/plain": [
       "<Figure size 1296x216 with 5 Axes>"
      ]
     },
     "metadata": {},
     "output_type": "display_data"
    },
    {
     "data": {
      "image/png": "[encoded data removed]",
      "text/plain": [
       "<Figure size 1296x1512 with 35 Axes>"
      ]
     },
     "metadata": {},
     "output_type": "display_data"
    },
    {
     "data": {
      "image/png": "[encoded data removed]",
      "text/plain": [
       "<Figure size 1296x432 with 10 Axes>"
      ]
     },
     "metadata": {},
     "output_type": "display_data"
    },
    {
     "data": {
      "image/png": "[encoded data removed]",
      "text/plain": [
       "<Figure size 1296x216 with 5 Axes>"
      ]
     },
     "metadata": {},
     "output_type": "display_data"
    },
    {
     "data": {
      "image/png": "[encoded data removed]",
      "text/plain": [
       "<Figure size 1296x216 with 5 Axes>"
      ]
     },
     "metadata": {},
     "output_type": "display_data"
    },
    {
     "data": {
      "image/png": "[encoded data removed]",
      "text/plain": [
       "<Figure size 1296x3024 with 70 Axes>"
      ]
     },
     "metadata": {},
     "output_type": "display_data"
    },
    {
     "data": {
      "image/png": "[encoded data removed]",
      "text/plain": [
       "<Figure size 1296x432 with 10 Axes>"
      ]
     },
     "metadata": {},
     "output_type": "display_data"
    },
    {
     "data": {
      "image/png": "[encoded data removed]",
      "text/plain": [
       "<Figure size 1296x216 with 5 Axes>"
      ]
     },
     "metadata": {},
     "output_type": "display_data"
    },
    {
     "data": {
      "image/png": "[encoded data removed]",
      "text/plain": [
       "<Figure size 1296x1296 with 30 Axes>"
      ]
     },
     "metadata": {},
     "output_type": "display_data"
    },
    {
     "data": {
      "image/png": "[encoded data removed]",
      "text/plain": [
       "<Figure size 1296x1512 with 35 Axes>"
      ]
     },
     "metadata": {},
     "output_type": "display_data"
    },
    {
     "data": {
      "image/png": "[encoded data removed]",
      "text/plain": [
       "<Figure size 1296x432 with 10 Axes>"
      ]
     },
     "metadata": {},
     "output_type": "display_data"
    },
    {
     "data": {
      "image/png": "[encoded data removed]",
      "text/plain": [
       "<Figure size 1296x216 with 5 Axes>"
      ]
     },
     "metadata": {},
     "output_type": "display_data"
    },
    {
     "data": {
      "image/png": "[encoded data removed]",
      "text/plain": [
       "<Figure size 1296x432 with 10 Axes>"
      ]
     },
     "metadata": {},
     "output_type": "display_data"
    }
   ],
   "source": [
    "COLUMNS = 5\n",
    "for crop in CROPS: \n",
    "    for subset in SUBSETS:\n",
    "        display(HTML(\"<h3>{}-{}</h3>\".format(crop, subset)))\n",
    "        correct_incorrect = CORRECT_INCORRECT[(crop, subset)]\n",
    "        by_correctness = {\n",
    "            (0, 0): list(), \n",
    "            (1, 1): list(), \n",
    "            (0, 1): list(), \n",
    "            (1, 0): list(),\n",
    "        }\n",
    "        dataset = DATASETS[(crop, subset)]\n",
    "        inv_indices = {v: k for k, v in dataset.class_indices.items()}\n",
    "        for k, v in correct_incorrect.items(): \n",
    "            by_correctness[v].append(k)\n",
    "        for k, v in by_correctness.items():\n",
    "            display(HTML(\"<h5>diagnosis: {} | prediction: {}</h5>\".format(inv_indices[k[0]], inv_indices[k[1]])))\n",
    "            rows = int(math.ceil(len(v)/COLUMNS))\n",
    "            f, ax = plt.subplots(rows, COLUMNS, figsize=(18, 3 * rows))\n",
    "            ax = ax.flatten()\n",
    "            for i, filename in enumerate(v): \n",
    "                image_file = \"{}/validation/{}\".format(DATA_FOLDERS[(crop, subset)], filename)\n",
    "                image = load_img(image_file, target_size=(config.IMAGE_SIZE, config.IMAGE_SIZE))\n",
    "                m = filename.split(\"-\")\n",
    "                m.pop(0)\n",
    "                accession = m.pop(0)\n",
    "                accession = accession.split(\"/\")[0]\n",
    "                print(\"https://cf151f9a.ngrok.io/{}/{}\".format(accession, \"-\".join(m)))\n",
    "            #    ax[i].imshow(image)\n",
    "            for a in ax: \n",
    "                a.axis('off')\n",
    "            # plt.show()\n",
    "            "
   ]
  },
  {
   "cell_type": "code",
   "execution_count": 27,
   "metadata": {},
   "outputs": [
    {
     "data": {
      "text/plain": [
       "7"
      ]
     },
     "execution_count": 27,
     "metadata": {},
     "output_type": "execute_result"
    }
   ],
   "source": [
    "int(36/5)"
   ]
  },
  {
   "cell_type": "code",
   "execution_count": 16,
   "metadata": {
    "scrolled": true
   },
   "outputs": [
    {
     "data": {
      "text/html": [
       "<script>\n",
       "code_show=true; \n",
       "function code_toggle() {\n",
       " if (code_show){\n",
       " $('div.input').hide();\n",
       " } else {\n",
       " $('div.input').show();\n",
       " }\n",
       " code_show = !code_show\n",
       "} \n",
       "$( document ).ready(code_toggle);\n",
       "</script>\n",
       "The raw code for this IPython notebook is by default hidden for easier reading.\n",
       "To toggle on/off the raw code, click <a href=\"javascript:code_toggle()\">here</a>."
      ],
      "text/plain": [
       "<IPython.core.display.HTML object>"
      ]
     },
     "execution_count": 16,
     "metadata": {},
     "output_type": "execute_result"
    }
   ],
   "source": [
    "HTML('''<script>\n",
    "code_show=true; \n",
    "function code_toggle() {\n",
    " if (code_show){\n",
    " $('div.input').hide();\n",
    " } else {\n",
    " $('div.input').show();\n",
    " }\n",
    " code_show = !code_show\n",
    "} \n",
    "$( document ).ready(code_toggle);\n",
    "</script>\n",
    "The raw code for this IPython notebook is by default hidden for easier reading.\n",
    "To toggle on/off the raw code, click <a href=\"javascript:code_toggle()\">here</a>.''')"
   ]
  },
  {
   "cell_type": "markdown",
   "metadata": {},
   "source": [
    "# Evaluate all models"
   ]
  },
  {
   "cell_type": "code",
   "execution_count": 15,
   "metadata": {},
   "outputs": [
    {
     "name": "stderr",
     "output_type": "stream",
     "text": [
      "Input Notebook:  evaluate-specific-model.ipynb\n",
      "Output Notebook: evaluate-free-complete.ipynb\n",
      "100%|██████████| 46/46 [00:40<00:00,  1.14it/s]\n",
      "Input Notebook:  evaluate-specific-model.ipynb\n",
      "Output Notebook: evaluate-free-uncertain.ipynb\n",
      "100%|██████████| 46/46 [00:38<00:00,  1.21it/s]\n",
      "Input Notebook:  evaluate-specific-model.ipynb\n",
      "Output Notebook: evaluate-fixed-complete.ipynb\n",
      "100%|██████████| 46/46 [00:40<00:00,  1.13it/s]\n",
      "Input Notebook:  evaluate-specific-model.ipynb\n",
      "Output Notebook: evaluate-fixed-uncertain.ipynb\n",
      "100%|██████████| 46/46 [00:38<00:00,  1.21it/s]\n"
     ]
    }
   ],
   "source": [
    "for crop in CROPS: \n",
    "    for subset in SUBSETS:\n",
    "        pm.execute_notebook(\n",
    "            \"evaluate-specific-model.ipynb\",\n",
    "            \"evaluate-{}-{}.ipynb\".format(crop, subset),\n",
    "            parameters = dict(\n",
    "                DIRECTORY = DATA_FOLDERS[(crop, subset)],\n",
    "                MODEL_UUID = UUIDS[(crop, subset)],\n",
    "                MODEL_TYPE = RESULT[(crop, subset)].model,\n",
    "            ),\n",
    "        )"
   ]
  },
  {
   "cell_type": "code",
   "execution_count": null,
   "metadata": {},
   "outputs": [],
   "source": []
  }
 ],
 "metadata": {
  "kernelspec": {
   "display_name": "Python 3",
   "language": "python",
   "name": "python3"
  },
  "language_info": {
   "codemirror_mode": {
    "name": "ipython",
    "version": 3
   },
   "file_extension": ".py",
   "mimetype": "text/x-python",
   "name": "python",
   "nbconvert_exporter": "python",
   "pygments_lexer": "ipython3",
   "version": "3.6.5"
  }
 },
 "nbformat": 4,
 "nbformat_minor": 2
}
